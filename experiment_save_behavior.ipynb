{
 "cells": [
  {
   "cell_type": "code",
   "execution_count": 18,
   "metadata": {},
   "outputs": [],
   "source": [
    "import pandas as pd\n",
    "import json\n",
    "import numpy as np\n",
    "import matplotlib.pyplot as plt\n",
    "import pathlib\n",
    "import glob\n",
    "import os"
   ]
  },
  {
   "cell_type": "code",
   "execution_count": 19,
   "metadata": {},
   "outputs": [
    {
     "name": "stdout",
     "output_type": "stream",
     "text": [
      "[\"./models/tensorboard/visnav_lateral/behavior_pred_exp/classification/ablations_1/finetuning/behavior_before_stim_RESUMETrue_paststateTrue_method_behavior_True_['speed']_predictbehaviorTrue_roundedFalsevisualTrue_contrastiveFalse_['id', 'frames', 'behavior_mean']/_full_finetuning_1.0/sparse_f:None_id:None/w:0.05_wp:0.25/behavior_pred.csv\", \"./models/tensorboard/visnav_lateral/behavior_pred_exp/classification/ablations_1/finetuning_1.0g/behavior_before_stim_RESUMEFalse_paststateTrue_method_behavior_True_['speed']_predictbehaviorTrue_roundedFalsevisualTrue_contrastiveFalse_['id', 'frames', 'behavior_mean']/_behavior_predict_no_pretraining_1.0/sparse_f:None_id:None/w:0.05_wp:0.25/behavior_pred.csv\", \"./models/tensorboard/visnav_lateral/behavior_pred_exp/classification/ablations_1/finetuning_1.0g/behavior_before_stim_RESUMEFalse_paststateTrue_method_behavior_True_['speed']_predictbehaviorTrue_roundedFalsevisualTrue_contrastiveFalse_['id', 'frames', 'behavior_mean']/_rand_init_1.0_rand_init/sparse_f:None_id:None/w:0.05_wp:0.25/behavior_pred.csv\", \"./models/tensorboard/visnav_lateral/behavior_pred_exp/classification/ablations_1/finetuning_0.1_resumeNone/behavior_before_stim_RESUMEFalse_paststateTrue_method_behavior_True_['speed']_predictbehaviorTrue_roundedFalsevisualTrue_contrastiveFalse_['id', 'frames', 'behavior_mean']/_rand_init_0.1_rand_init/sparse_f:None_id:None/w:0.05_wp:0.25/behavior_pred.csv\", \"./models/tensorboard/visnav_lateral/behavior_pred_exp/classification/ablations_1/finetuning_0.01_resume./models/tensorboard/visnav_lateral/behavior_pred_exp/classification/ablations_1/behavior_before_stim_RESUMEFalse_paststateTrue_method_behavior_False_None_predictbehaviorFalse_roundedFalsevisualTrue_contrastiveFalse_['id', 'frames', 'behavior_mean']/sparse_f:None_id:None/w:0.05_wp:0.25/6_Cont:False_window:0.05_f_window:0.3_df:0.005_blocksize:100_conv_True_shuffle:True_batch:224_sparse_(None_None)_blocksz446_pos_emb:False_temp_emb:True_drop:0.35_dt:True_2.0_52_max0.005_(8, 8, 8)_8_256.pt/behavior_before_stim_RESUMETrue_paststateTrue_method_behavior_True_['speed']_predictbehaviorTrue_roundedFalsevisualTrue_contrastiveFalse_['id', 'frames', 'behavior_mean']/_full_finetuning_2_0.01_full_finetuning_2/sparse_f:None_id:None/w:0.05_wp:0.25/behavior_pred.csv\", \"./models/tensorboard/visnav_lateral/behavior_pred_exp/classification/ablations_1/finetuning_0.1_resume./models/tensorboard/visnav_lateral/behavior_pred_exp/classification/ablations_1/behavior_before_stim_RESUMEFalse_paststateTrue_method_behavior_False_None_predictbehaviorFalse_roundedFalsevisualTrue_contrastiveFalse_['id', 'frames', 'behavior_mean']/sparse_f:None_id:None/w:0.05_wp:0.25/6_Cont:False_window:0.05_f_window:0.3_df:0.005_blocksize:100_conv_True_shuffle:True_batch:224_sparse_(None_None)_blocksz446_pos_emb:False_temp_emb:True_drop:0.35_dt:True_2.0_52_max0.005_(8, 8, 8)_8_256.pt/behavior_before_stim_RESUMETrue_paststateTrue_method_behavior_True_['speed']_predictbehaviorTrue_roundedFalsevisualTrue_contrastiveFalse_['id', 'frames', 'behavior_mean']/_full_finetuning_2_0.1_full_finetuning_2/sparse_f:None_id:None/w:0.05_wp:0.25/behavior_pred.csv\"]\n"
     ]
    }
   ],
   "source": [
    "# pth = \"./models/tensorboard/visnav_medial/behavior_pred_exp/classification/ablations_1\"\n",
    "pth = \"./models/tensorboard/visnav_lateral/behavior_pred_exp/classification/ablations_1\"\n",
    "# get all csvs\n",
    "files = glob.glob(os.path.join(pth, \"**/behavior_pred.csv\"), recursive=True)\n",
    "print(files)"
   ]
  },
  {
   "cell_type": "code",
   "execution_count": 20,
   "metadata": {},
   "outputs": [
    {
     "name": "stdout",
     "output_type": "stream",
     "text": [
      "./models/tensorboard/visnav_lateral/behavior_pred_exp/classification/ablations_1/finetuning/behavior_before_stim_RESUMETrue_paststateTrue_method_behavior_True_['speed']_predictbehaviorTrue_roundedFalsevisualTrue_contrastiveFalse_['id', 'frames', 'behavior_mean']/_full_finetuning_1.0/sparse_f:None_id:None/w:0.05_wp:0.25/behavior_pred.csv\n",
      "r: 0.8701879286322374, p: 0.0\n",
      "./models/tensorboard/visnav_lateral/behavior_pred_exp/classification/ablations_1/finetuning_1.0g/behavior_before_stim_RESUMEFalse_paststateTrue_method_behavior_True_['speed']_predictbehaviorTrue_roundedFalsevisualTrue_contrastiveFalse_['id', 'frames', 'behavior_mean']/_behavior_predict_no_pretraining_1.0/sparse_f:None_id:None/w:0.05_wp:0.25/behavior_pred.csv\n",
      "r: 0.02301621289574574, p: 0.05709164910904658\n",
      "./models/tensorboard/visnav_lateral/behavior_pred_exp/classification/ablations_1/finetuning_1.0g/behavior_before_stim_RESUMEFalse_paststateTrue_method_behavior_True_['speed']_predictbehaviorTrue_roundedFalsevisualTrue_contrastiveFalse_['id', 'frames', 'behavior_mean']/_rand_init_1.0_rand_init/sparse_f:None_id:None/w:0.05_wp:0.25/behavior_pred.csv\n",
      "r: 0.026730660593248655, p: 0.027121744179076132\n",
      "./models/tensorboard/visnav_lateral/behavior_pred_exp/classification/ablations_1/finetuning_0.1_resumeNone/behavior_before_stim_RESUMEFalse_paststateTrue_method_behavior_True_['speed']_predictbehaviorTrue_roundedFalsevisualTrue_contrastiveFalse_['id', 'frames', 'behavior_mean']/_rand_init_0.1_rand_init/sparse_f:None_id:None/w:0.05_wp:0.25/behavior_pred.csv\n",
      "r: 0.007508664449746063, p: 0.53484865371491\n",
      "./models/tensorboard/visnav_lateral/behavior_pred_exp/classification/ablations_1/finetuning_0.01_resume./models/tensorboard/visnav_lateral/behavior_pred_exp/classification/ablations_1/behavior_before_stim_RESUMEFalse_paststateTrue_method_behavior_False_None_predictbehaviorFalse_roundedFalsevisualTrue_contrastiveFalse_['id', 'frames', 'behavior_mean']/sparse_f:None_id:None/w:0.05_wp:0.25/6_Cont:False_window:0.05_f_window:0.3_df:0.005_blocksize:100_conv_True_shuffle:True_batch:224_sparse_(None_None)_blocksz446_pos_emb:False_temp_emb:True_drop:0.35_dt:True_2.0_52_max0.005_(8, 8, 8)_8_256.pt/behavior_before_stim_RESUMETrue_paststateTrue_method_behavior_True_['speed']_predictbehaviorTrue_roundedFalsevisualTrue_contrastiveFalse_['id', 'frames', 'behavior_mean']/_full_finetuning_2_0.01_full_finetuning_2/sparse_f:None_id:None/w:0.05_wp:0.25/behavior_pred.csv\n",
      "r: -0.1286522417282612, p: 1.2919009346185537e-26\n",
      "./models/tensorboard/visnav_lateral/behavior_pred_exp/classification/ablations_1/finetuning_0.1_resume./models/tensorboard/visnav_lateral/behavior_pred_exp/classification/ablations_1/behavior_before_stim_RESUMEFalse_paststateTrue_method_behavior_False_None_predictbehaviorFalse_roundedFalsevisualTrue_contrastiveFalse_['id', 'frames', 'behavior_mean']/sparse_f:None_id:None/w:0.05_wp:0.25/6_Cont:False_window:0.05_f_window:0.3_df:0.005_blocksize:100_conv_True_shuffle:True_batch:224_sparse_(None_None)_blocksz446_pos_emb:False_temp_emb:True_drop:0.35_dt:True_2.0_52_max0.005_(8, 8, 8)_8_256.pt/behavior_before_stim_RESUMETrue_paststateTrue_method_behavior_True_['speed']_predictbehaviorTrue_roundedFalsevisualTrue_contrastiveFalse_['id', 'frames', 'behavior_mean']/_full_finetuning_2_0.1_full_finetuning_2/sparse_f:None_id:None/w:0.05_wp:0.25/behavior_pred.csv\n",
      "r: 0.6734220045192145, p: 0.0\n"
     ]
    }
   ],
   "source": [
    "from scipy.stats import pearsonr\n",
    "for f in files:\n",
    "    behavior_preds = pd.read_csv(f)\n",
    "    r, p = pearsonr(behavior_preds['behavior'], behavior_preds['true'])\n",
    "    print(f)\n",
    "    print(f\"r: {r}, p: {p}\")\n",
    "    behavior_results = pd.DataFrame(columns=['r', 'p'])\n",
    "    parent_dir = pathlib.Path(f).parent\n",
    "    behavior_results.to_csv(os.path.join(parent_dir, 'corrs.csv'), index=False)"
   ]
  }
 ],
 "metadata": {
  "kernelspec": {
   "display_name": "neuroformer",
   "language": "python",
   "name": "python3"
  },
  "language_info": {
   "codemirror_mode": {
    "name": "ipython",
    "version": 3
   },
   "file_extension": ".py",
   "mimetype": "text/x-python",
   "name": "python",
   "nbconvert_exporter": "python",
   "pygments_lexer": "ipython3",
   "version": "3.9.15"
  },
  "orig_nbformat": 4
 },
 "nbformat": 4,
 "nbformat_minor": 2
}
