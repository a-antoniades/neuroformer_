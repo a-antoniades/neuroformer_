{
 "cells": [
  {
   "cell_type": "code",
   "execution_count": 1,
   "metadata": {},
   "outputs": [],
   "source": [
    "import pandas as pd\n",
    "import json\n",
    "import numpy as np\n",
    "import matplotlib.pyplot as plt\n",
    "import pathlib\n",
    "import glob\n",
    "import os"
   ]
  },
  {
   "cell_type": "code",
   "execution_count": 2,
   "metadata": {},
   "outputs": [
    {
     "name": "stdout",
     "output_type": "stream",
     "text": [
      "[\"./models/tensorboard/visnav_medial/behavior_pred_exp/classification/ablations_1/finetuning_0.1_resumeNone/behavior_before_stim_RESUMEFalse_paststateTrue_method_behavior_True_['speed']_predictbehaviorTrue_roundedFalsevisualTrue_contrastiveFalse_['id', 'frames', 'behavior_mean']/_rand_init_0.1_0.1_rand_init_0.1/sparse_f:None_id:None/w:0.05_wp:0.25/behavior_pred_sample_False_0.csv\", \"./models/tensorboard/visnav_medial/behavior_pred_exp/classification/ablations_1/finetuning_0.1_resumeNone/behavior_before_stim_RESUMEFalse_paststateTrue_method_behavior_True_['speed']_predictbehaviorTrue_roundedFalsevisualTrue_contrastiveFalse_['id', 'frames', 'behavior_mean']/_rand_init_0.01_0.1_rand_init_0.01/sparse_f:None_id:None/w:0.05_wp:0.25/behavior_pred_sample_False_0.csv\", \"./models/tensorboard/visnav_medial/behavior_pred_exp/classification/ablations_1/finetuning_0.05_resumeTrue/behavior_before_stim_RESUMETrue_paststateTrue_method_behavior_True_['speed']_predictbehaviorTrue_roundedFalsevisualTrue_contrastiveFalse_['id', 'frames', 'behavior_mean']/_full_finetuning_2_0.05_full_finetuning_2/sparse_f:None_id:None/w:0.05_wp:0.25/behavior_pred_sample_False_0.csv\", \"./models/tensorboard/visnav_medial/behavior_pred_exp/classification/ablations_1/finetuning_0.05_resumeFalse/behavior_before_stim_RESUMEFalse_paststateTrue_method_behavior_True_['speed']_predictbehaviorTrue_roundedFalsevisualTrue_contrastiveFalse_['id', 'frames', 'behavior_mean']/_full_finetuning_2_0.05_full_finetuning_2/sparse_f:None_id:None/w:0.05_wp:0.25/behavior_pred_sample_False_0.csv\", \"./models/tensorboard/visnav_medial/behavior_pred_exp/classification/ablations_1/finetuning_0.2_resumeTrue/behavior_before_stim_RESUMETrue_paststateTrue_method_behavior_True_['speed']_predictbehaviorTrue_roundedFalsevisualTrue_contrastiveFalse_['id', 'frames', 'behavior_mean']/_full_finetuning_2_0.2_full_finetuning_2/sparse_f:None_id:None/w:0.05_wp:0.25/behavior_pred_sample_False_0.csv\", \"./models/tensorboard/visnav_medial/behavior_pred_exp/classification/ablations_1/finetuning_0.2_resumeFalse/behavior_before_stim_RESUMEFalse_paststateTrue_method_behavior_True_['speed']_predictbehaviorTrue_roundedFalsevisualTrue_contrastiveFalse_['id', 'frames', 'behavior_mean']/_full_finetuning_2_0.2_full_finetuning_2/sparse_f:None_id:None/w:0.05_wp:0.25/behavior_pred_sample_False_0.csv\", \"./models/tensorboard/visnav_medial/behavior_pred_exp/classification/ablations_1/finetuning_0.01_resumeTrue/behavior_before_stim_RESUMETrue_paststateTrue_method_behavior_True_['speed']_predictbehaviorTrue_roundedFalsevisualTrue_contrastiveFalse_['id', 'frames', 'behavior_mean']/_full_finetuning_2_0.01_full_finetuning_2/sparse_f:None_id:None/w:0.05_wp:0.25/behavior_pred_sample_False_0.csv\", \"./models/tensorboard/visnav_medial/behavior_pred_exp/classification/ablations_1/finetuning_0.1_resumeTrue/behavior_before_stim_RESUMETrue_paststateTrue_method_behavior_True_['speed']_predictbehaviorTrue_roundedFalsevisualTrue_contrastiveFalse_['id', 'frames', 'behavior_mean']/_full_finetuning_2_0.1_full_finetuning_2/sparse_f:None_id:None/w:0.05_wp:0.25/behavior_pred_sample_False_0.csv\", \"./models/tensorboard/visnav_medial/behavior_pred_exp/classification/ablations_1/finetuning_0.02_resumeTrue/behavior_before_stim_RESUMETrue_paststateTrue_method_behavior_True_['speed']_predictbehaviorTrue_roundedFalsevisualTrue_contrastiveFalse_['id', 'frames', 'behavior_mean']/_full_finetuning_2_0.02_full_finetuning_2/sparse_f:None_id:None/w:0.05_wp:0.25/behavior_pred_sample_False_0.csv\", \"./models/tensorboard/visnav_medial/behavior_pred_exp/classification/ablations_1/finetuning_0.04_resumeFalse/behavior_before_stim_RESUMEFalse_paststateTrue_method_behavior_True_['speed']_predictbehaviorTrue_roundedFalsevisualTrue_contrastiveFalse_['id', 'frames', 'behavior_mean']/_full_finetuning_2_0.04_full_finetuning_2/sparse_f:None_id:None/w:0.05_wp:0.25/behavior_pred_sample_False_0.csv\", \"./models/tensorboard/visnav_medial/behavior_pred_exp/classification/ablations_1/finetuning_0.03_resumeFalse/behavior_before_stim_RESUMEFalse_paststateTrue_method_behavior_True_['speed']_predictbehaviorTrue_roundedFalsevisualTrue_contrastiveFalse_['id', 'frames', 'behavior_mean']/_full_finetuning_2_0.03_full_finetuning_2/sparse_f:None_id:None/w:0.05_wp:0.25/behavior_pred_sample_False_0.csv\", \"./models/tensorboard/visnav_medial/behavior_pred_exp/classification/ablations_1/finetuning_0.03_resumeTrue/behavior_before_stim_RESUMETrue_paststateTrue_method_behavior_True_['speed']_predictbehaviorTrue_roundedFalsevisualTrue_contrastiveFalse_['id', 'frames', 'behavior_mean']/_full_finetuning_2_0.03_full_finetuning_2/sparse_f:None_id:None/w:0.05_wp:0.25/behavior_pred_sample_False_0.csv\"]\n"
     ]
    }
   ],
   "source": [
    "pth = \"./models/tensorboard/visnav_medial/behavior_pred_exp/classification/ablations_1\"\n",
    "# pth = \"./models/tensorboard/visnav_lateral/behavior_pred_exp/classification/ablations_1\"\n",
    "# get all csvs\n",
    "files = glob.glob(os.path.join(pth, \"**/behavior_pred_sample_False_0.csv\"), recursive=True)\n",
    "print(files)"
   ]
  },
  {
   "cell_type": "code",
   "execution_count": 5,
   "metadata": {},
   "outputs": [
    {
     "name": "stdout",
     "output_type": "stream",
     "text": [
      "finetuning_0.1_resumeNone\n",
      "r: 0.8884872391354315, p: 0.0\n",
      "finetuning_0.1_resumeNone\n",
      "r: -0.0006542916253169236, p: 0.9580130815966711\n",
      "finetuning_0.05_resumeTrue\n",
      "r: 0.8778071447902625, p: 0.0\n",
      "finetuning_0.05_resumeFalse\n",
      "r: 0.8498391889975544, p: 0.0\n",
      "finetuning_0.2_resumeTrue\n",
      "r: 0.9258341528327035, p: 0.0\n",
      "finetuning_0.2_resumeFalse\n",
      "r: 0.9267329026812874, p: 0.0\n",
      "finetuning_0.01_resumeTrue\n",
      "r: 0.15569385771011093, p: 1.988562106447416e-36\n",
      "finetuning_0.1_resumeTrue\n",
      "r: 0.8882995110101609, p: 0.0\n",
      "finetuning_0.02_resumeTrue\n",
      "r: -0.006539331866855631, p: 0.5987574225668674\n",
      "finetuning_0.04_resumeFalse\n",
      "r: 0.7960825167310847, p: 0.0\n",
      "finetuning_0.03_resumeFalse\n",
      "r: 0.5014403070304937, p: 0.0\n",
      "finetuning_0.03_resumeTrue\n",
      "r: 0.5070283942962415, p: 0.0\n"
     ]
    }
   ],
   "source": [
    "from scipy.stats import pearsonr\n",
    "for f in files:\n",
    "    behavior_preds = pd.read_csv(f)\n",
    "    r, p = pearsonr(behavior_preds['behavior'], behavior_preds['true'])\n",
    "    print(f.split('/')[7])\n",
    "    print(f\"r: {r}, p: {p}\")\n",
    "    behavior_results = pd.DataFrame(columns=['r', 'p'])\n",
    "    parent_dir = pathlib.Path(f).parent\n",
    "    behavior_results.to_csv(os.path.join(parent_dir, 'corrs.csv'), index=False)"
   ]
  },
  {
   "cell_type": "code",
   "execution_count": 20,
   "metadata": {},
   "outputs": [],
   "source": [
    "exp_mlp = \"./results/behavior\"\n",
    "exp_mlp_files = glob.glob(os.path.join(exp_mlp, \"**/**.csv\"), recursive=True)"
   ]
  },
  {
   "cell_type": "code",
   "execution_count": 1,
   "metadata": {},
   "outputs": [
    {
     "ename": "NameError",
     "evalue": "name 'exp_mlp_files' is not defined",
     "output_type": "error",
     "traceback": [
      "\u001b[0;31m---------------------------------------------------------------------------\u001b[0m",
      "\u001b[0;31mNameError\u001b[0m                                 Traceback (most recent call last)",
      "\u001b[0;32m/tmp/ipykernel_1874706/262253848.py\u001b[0m in \u001b[0;36m<module>\u001b[0;34m\u001b[0m\n\u001b[0;32m----> 1\u001b[0;31m \u001b[0;32mfor\u001b[0m \u001b[0mf\u001b[0m \u001b[0;32min\u001b[0m \u001b[0mexp_mlp_files\u001b[0m\u001b[0;34m:\u001b[0m\u001b[0;34m\u001b[0m\u001b[0;34m\u001b[0m\u001b[0m\n\u001b[0m\u001b[1;32m      2\u001b[0m     \u001b[0mbehavior_preds\u001b[0m \u001b[0;34m=\u001b[0m \u001b[0mpd\u001b[0m\u001b[0;34m.\u001b[0m\u001b[0mread_csv\u001b[0m\u001b[0;34m(\u001b[0m\u001b[0mf\u001b[0m\u001b[0;34m)\u001b[0m\u001b[0;34m\u001b[0m\u001b[0;34m\u001b[0m\u001b[0m\n\u001b[1;32m      3\u001b[0m     \u001b[0mr\u001b[0m\u001b[0;34m,\u001b[0m \u001b[0mp\u001b[0m \u001b[0;34m=\u001b[0m \u001b[0mpearsonr\u001b[0m\u001b[0;34m(\u001b[0m\u001b[0mbehavior_preds\u001b[0m\u001b[0;34m[\u001b[0m\u001b[0;34m'behavior'\u001b[0m\u001b[0;34m]\u001b[0m\u001b[0;34m,\u001b[0m \u001b[0mbehavior_preds\u001b[0m\u001b[0;34m[\u001b[0m\u001b[0;34m'true'\u001b[0m\u001b[0;34m]\u001b[0m\u001b[0;34m)\u001b[0m\u001b[0;34m\u001b[0m\u001b[0;34m\u001b[0m\u001b[0m\n\u001b[1;32m      4\u001b[0m     \u001b[0mprint\u001b[0m\u001b[0;34m(\u001b[0m\u001b[0mf\u001b[0m\u001b[0;34m)\u001b[0m\u001b[0;34m\u001b[0m\u001b[0;34m\u001b[0m\u001b[0m\n\u001b[1;32m      5\u001b[0m     \u001b[0mprint\u001b[0m\u001b[0;34m(\u001b[0m\u001b[0;34mf\"r: {r}, p: {p}\"\u001b[0m\u001b[0;34m)\u001b[0m\u001b[0;34m\u001b[0m\u001b[0;34m\u001b[0m\u001b[0m\n",
      "\u001b[0;31mNameError\u001b[0m: name 'exp_mlp_files' is not defined"
     ]
    }
   ],
   "source": [
    "for f in exp_mlp_files:\n",
    "    behavior_preds = pd.read_csv(f)\n",
    "    r, p = pearsonr(behavior_preds['behavior'], behavior_preds['true'])\n",
    "    print(f)\n",
    "    print(f\"r: {r}, p: {p}\")\n",
    "    # behavior_results = pd.DataFrame(columns=['r', 'p'])\n",
    "    # parent_dir = pathlib.Path(f).parent\n",
    "    # behavior_results.to_csv(os.path.join(parent_dir, 'corrs.csv'), index=False)"
   ]
  }
 ],
 "metadata": {
  "kernelspec": {
   "display_name": "neuroformer",
   "language": "python",
   "name": "python3"
  },
  "language_info": {
   "codemirror_mode": {
    "name": "ipython",
    "version": 3
   },
   "file_extension": ".py",
   "mimetype": "text/x-python",
   "name": "python",
   "nbconvert_exporter": "python",
   "pygments_lexer": "ipython3",
   "version": "3.9.15"
  },
  "orig_nbformat": 4
 },
 "nbformat": 4,
 "nbformat_minor": 2
}
