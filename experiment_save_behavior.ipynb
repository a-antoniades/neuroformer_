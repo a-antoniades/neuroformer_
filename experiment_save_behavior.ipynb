{
 "cells": [
  {
   "cell_type": "code",
   "execution_count": 1,
   "metadata": {},
   "outputs": [],
   "source": [
    "import pandas as pd\n",
    "import json\n",
    "import numpy as np\n",
    "import matplotlib.pyplot as plt\n",
    "import pathlib\n",
    "import glob\n",
    "import os"
   ]
  },
  {
   "cell_type": "code",
   "execution_count": 2,
   "metadata": {},
   "outputs": [
    {
     "name": "stdout",
     "output_type": "stream",
     "text": [
<<<<<<< HEAD
      "[\"./models/tensorboard/visnav_medial/behavior_pred_exp/classification/ablations_1/finetuning_0.1_resumeNone/behavior_before_stim_RESUMEFalse_paststateTrue_method_behavior_True_['speed']_predictbehaviorTrue_roundedFalsevisualTrue_contrastiveFalse_['id', 'frames', 'behavior_mean']/_rand_init_0.1_0.1_rand_init_0.1/sparse_f:None_id:None/w:0.05_wp:0.25/behavior_pred_sample_False_0.csv\", \"./models/tensorboard/visnav_medial/behavior_pred_exp/classification/ablations_1/finetuning_0.1_resumeNone/behavior_before_stim_RESUMEFalse_paststateTrue_method_behavior_True_['speed']_predictbehaviorTrue_roundedFalsevisualTrue_contrastiveFalse_['id', 'frames', 'behavior_mean']/_rand_init_0.01_0.1_rand_init_0.01/sparse_f:None_id:None/w:0.05_wp:0.25/behavior_pred_sample_False_0.csv\", \"./models/tensorboard/visnav_medial/behavior_pred_exp/classification/ablations_1/finetuning_0.05_resumeTrue/behavior_before_stim_RESUMETrue_paststateTrue_method_behavior_True_['speed']_predictbehaviorTrue_roundedFalsevisualTrue_contrastiveFalse_['id', 'frames', 'behavior_mean']/_full_finetuning_2_0.05_full_finetuning_2/sparse_f:None_id:None/w:0.05_wp:0.25/behavior_pred_sample_False_0.csv\", \"./models/tensorboard/visnav_medial/behavior_pred_exp/classification/ablations_1/finetuning_0.05_resumeFalse/behavior_before_stim_RESUMEFalse_paststateTrue_method_behavior_True_['speed']_predictbehaviorTrue_roundedFalsevisualTrue_contrastiveFalse_['id', 'frames', 'behavior_mean']/_full_finetuning_2_0.05_full_finetuning_2/sparse_f:None_id:None/w:0.05_wp:0.25/behavior_pred_sample_False_0.csv\", \"./models/tensorboard/visnav_medial/behavior_pred_exp/classification/ablations_1/finetuning_0.2_resumeTrue/behavior_before_stim_RESUMETrue_paststateTrue_method_behavior_True_['speed']_predictbehaviorTrue_roundedFalsevisualTrue_contrastiveFalse_['id', 'frames', 'behavior_mean']/_full_finetuning_2_0.2_full_finetuning_2/sparse_f:None_id:None/w:0.05_wp:0.25/behavior_pred_sample_False_0.csv\", \"./models/tensorboard/visnav_medial/behavior_pred_exp/classification/ablations_1/finetuning_0.2_resumeFalse/behavior_before_stim_RESUMEFalse_paststateTrue_method_behavior_True_['speed']_predictbehaviorTrue_roundedFalsevisualTrue_contrastiveFalse_['id', 'frames', 'behavior_mean']/_full_finetuning_2_0.2_full_finetuning_2/sparse_f:None_id:None/w:0.05_wp:0.25/behavior_pred_sample_False_0.csv\", \"./models/tensorboard/visnav_medial/behavior_pred_exp/classification/ablations_1/finetuning_0.01_resumeTrue/behavior_before_stim_RESUMETrue_paststateTrue_method_behavior_True_['speed']_predictbehaviorTrue_roundedFalsevisualTrue_contrastiveFalse_['id', 'frames', 'behavior_mean']/_full_finetuning_2_0.01_full_finetuning_2/sparse_f:None_id:None/w:0.05_wp:0.25/behavior_pred_sample_False_0.csv\", \"./models/tensorboard/visnav_medial/behavior_pred_exp/classification/ablations_1/finetuning_0.1_resumeTrue/behavior_before_stim_RESUMETrue_paststateTrue_method_behavior_True_['speed']_predictbehaviorTrue_roundedFalsevisualTrue_contrastiveFalse_['id', 'frames', 'behavior_mean']/_full_finetuning_2_0.1_full_finetuning_2/sparse_f:None_id:None/w:0.05_wp:0.25/behavior_pred_sample_False_0.csv\", \"./models/tensorboard/visnav_medial/behavior_pred_exp/classification/ablations_1/finetuning_0.02_resumeTrue/behavior_before_stim_RESUMETrue_paststateTrue_method_behavior_True_['speed']_predictbehaviorTrue_roundedFalsevisualTrue_contrastiveFalse_['id', 'frames', 'behavior_mean']/_full_finetuning_2_0.02_full_finetuning_2/sparse_f:None_id:None/w:0.05_wp:0.25/behavior_pred_sample_False_0.csv\", \"./models/tensorboard/visnav_medial/behavior_pred_exp/classification/ablations_1/finetuning_0.04_resumeFalse/behavior_before_stim_RESUMEFalse_paststateTrue_method_behavior_True_['speed']_predictbehaviorTrue_roundedFalsevisualTrue_contrastiveFalse_['id', 'frames', 'behavior_mean']/_full_finetuning_2_0.04_full_finetuning_2/sparse_f:None_id:None/w:0.05_wp:0.25/behavior_pred_sample_False_0.csv\", \"./models/tensorboard/visnav_medial/behavior_pred_exp/classification/ablations_1/finetuning_0.03_resumeFalse/behavior_before_stim_RESUMEFalse_paststateTrue_method_behavior_True_['speed']_predictbehaviorTrue_roundedFalsevisualTrue_contrastiveFalse_['id', 'frames', 'behavior_mean']/_full_finetuning_2_0.03_full_finetuning_2/sparse_f:None_id:None/w:0.05_wp:0.25/behavior_pred_sample_False_0.csv\", \"./models/tensorboard/visnav_medial/behavior_pred_exp/classification/ablations_1/finetuning_0.03_resumeTrue/behavior_before_stim_RESUMETrue_paststateTrue_method_behavior_True_['speed']_predictbehaviorTrue_roundedFalsevisualTrue_contrastiveFalse_['id', 'frames', 'behavior_mean']/_full_finetuning_2_0.03_full_finetuning_2/sparse_f:None_id:None/w:0.05_wp:0.25/behavior_pred_sample_False_0.csv\"]\n"
=======
      "[\"./models/tensorboard/visnav_medial/behavior_pred_exp/classification/ablations_1/finetuning_0.01_resumeTrue/behavior_before_stim_RESUMETrue_paststateTrue_method_behavior_True_['speed']_predictbehaviorTrue_roundedFalsevisualTrue_contrastiveFalse_['id', 'frames', 'behavior_mean']/_full_finetuning_2_0.01_full_finetuning_2/sparse_f:None_id:None/w:0.05_wp:0.25/behavior_pred.csv\", \"./models/tensorboard/visnav_medial/behavior_pred_exp/classification/ablations_1/finetuning_0.1_resumeTrue/behavior_before_stim_RESUMETrue_paststateTrue_method_behavior_True_['speed']_predictbehaviorTrue_roundedFalsevisualTrue_contrastiveFalse_['id', 'frames', 'behavior_mean']/_full_finetuning_2_0.1_full_finetuning_2/sparse_f:None_id:None/w:0.05_wp:0.25/behavior_pred.csv\", \"./models/tensorboard/visnav_medial/behavior_pred_exp/classification/ablations_1/finetuning_0.01_resumeFalse/behavior_before_stim_RESUMEFalse_paststateTrue_method_behavior_True_['speed']_predictbehaviorTrue_roundedFalsevisualTrue_contrastiveFalse_['id', 'frames', 'behavior_mean']/_full_finetuning_2_0.01_full_finetuning_2/sparse_f:None_id:None/w:0.05_wp:0.25/behavior_pred.csv\", \"./models/tensorboard/visnav_medial/behavior_pred_exp/classification/ablations_1/finetuning_0.1_resumeFalse/behavior_before_stim_RESUMEFalse_paststateTrue_method_behavior_True_['speed']_predictbehaviorTrue_roundedFalsevisualTrue_contrastiveFalse_['id', 'frames', 'behavior_mean']/_full_finetuning_2_0.1_full_finetuning_2/sparse_f:None_id:None/w:0.05_wp:0.25/behavior_pred.csv\"]\n"
>>>>>>> c28d655406188a40f7871a8e438b3367cbe8f335
     ]
    }
   ],
   "source": [
<<<<<<< HEAD
    "pth = \"./models/tensorboard/visnav_medial/behavior_pred_exp/classification/ablations_1\"\n",
    "# pth = \"./models/tensorboard/visnav_lateral/behavior_pred_exp/classification/ablations_1\"\n",
=======
    "# pth = \"./models/tensorboard/visnav_medial/behavior_pred_exp/classification/ablations_1\"\n",
    "# pth = \"./models/tensorboard/visnav_lateral/behavior_pred_exp/classification/ablations_1\"\n",
    "## tinky winky ## \n",
    "pth = \"./models/tensorboard/visnav_medial/behavior_pred_exp/classification/ablations_1\"\n",
>>>>>>> c28d655406188a40f7871a8e438b3367cbe8f335
    "# get all csvs\n",
    "files = glob.glob(os.path.join(pth, \"**/behavior_pred_sample_False_0.csv\"), recursive=True)\n",
    "print(files)"
   ]
  },
  {
   "cell_type": "code",
<<<<<<< HEAD
   "execution_count": 5,
=======
   "execution_count": 3,
>>>>>>> c28d655406188a40f7871a8e438b3367cbe8f335
   "metadata": {},
   "outputs": [
    {
     "name": "stdout",
     "output_type": "stream",
     "text": [
<<<<<<< HEAD
      "finetuning_0.1_resumeNone\n",
      "r: 0.8884872391354315, p: 0.0\n",
      "finetuning_0.1_resumeNone\n",
      "r: -0.0006542916253169236, p: 0.9580130815966711\n",
      "finetuning_0.05_resumeTrue\n",
      "r: 0.8778071447902625, p: 0.0\n",
      "finetuning_0.05_resumeFalse\n",
      "r: 0.8498391889975544, p: 0.0\n",
      "finetuning_0.2_resumeTrue\n",
      "r: 0.9258341528327035, p: 0.0\n",
      "finetuning_0.2_resumeFalse\n",
      "r: 0.9267329026812874, p: 0.0\n",
      "finetuning_0.01_resumeTrue\n",
      "r: 0.15569385771011093, p: 1.988562106447416e-36\n",
      "finetuning_0.1_resumeTrue\n",
      "r: 0.8882995110101609, p: 0.0\n",
      "finetuning_0.02_resumeTrue\n",
      "r: -0.006539331866855631, p: 0.5987574225668674\n",
      "finetuning_0.04_resumeFalse\n",
      "r: 0.7960825167310847, p: 0.0\n",
      "finetuning_0.03_resumeFalse\n",
      "r: 0.5014403070304937, p: 0.0\n",
      "finetuning_0.03_resumeTrue\n",
      "r: 0.5070283942962415, p: 0.0\n"
=======
      "finetuning_0.01_resumeTrue\n",
      "r: 0.5539658157100598, p: 0.0\n",
      "finetuning_0.1_resumeTrue\n",
      "r: 0.8889529856271194, p: 0.0\n",
      "finetuning_0.01_resumeFalse\n",
      "r: -0.04456627974053821, p: 0.0003335105640245041\n",
      "finetuning_0.1_resumeFalse\n",
      "r: 0.33029007469775035, p: 1.1520690670430495e-164\n"
>>>>>>> c28d655406188a40f7871a8e438b3367cbe8f335
     ]
    }
   ],
   "source": [
    "from scipy.stats import pearsonr\n",
    "corrs = dict()\n",
    "for f in files:\n",
    "    behavior_preds = pd.read_csv(f)\n",
    "    r, p = pearsonr(behavior_preds['behavior'], behavior_preds['true'])\n",
    "    print(f.split('/')[7])\n",
    "    print(f\"r: {r}, p: {p}\")\n",
    "    behavior_results = pd.DataFrame(columns=['r', 'p'])\n",
    "    parent_dir = pathlib.Path(f).parent\n",
    "    behavior_results.to_csv(os.path.join(parent_dir, 'corrs.csv'), index=False)\n",
    "    corrs[f.split('/')[7]] = r\n",
    "\n",
    "\n",
    "corrs[\"finetuning_1.0_resumeTrue\"] = 0.95\n",
    "# Add legend inside the plot\n",
    "rename_mapping = {\n",
    "    \"finetuning_0.01_resumeFalse\": \"No Pretraining, 1%\",\n",
    "    \"finetuning_0.01_resumeTrue\": \"Finetune, 1%\",\n",
    "    \"finetuning_0.1_resumeFalse\": \"No Pretraining, 10%\",\n",
    "    \"finetuning_0.1_resumeTrue\": \"Finetune, 10%\",\n",
    "    \"finetuning_1.0_resumeTrue\": \"Full Training\",\n",
    "    \n",
    "}\n",
    "corrs = {rename_mapping[k]: v for k, v in corrs.items()}\n",
    "order = rename_mapping.values()\n",
    "# reorder according to order\n",
    "corrs = {k: abs(corrs[k]) for k in order}"
   ]
  },
  {
   "cell_type": "code",
<<<<<<< HEAD
   "execution_count": 20,
   "metadata": {},
   "outputs": [],
   "source": [
    "exp_mlp = \"./results/behavior\"\n",
    "exp_mlp_files = glob.glob(os.path.join(exp_mlp, \"**/**.csv\"), recursive=True)"
=======
   "execution_count": 4,
   "metadata": {},
   "outputs": [
    {
     "data": {
      "text/plain": [
       "{'No Pretraining, 1%': 0.04456627974053821,\n",
       " 'Finetune, 1%': 0.5539658157100598,\n",
       " 'No Pretraining, 10%': 0.33029007469775035,\n",
       " 'Finetune, 10%': 0.8889529856271194,\n",
       " 'Full Training': 0.95}"
      ]
     },
     "execution_count": 4,
     "metadata": {},
     "output_type": "execute_result"
    }
   ],
   "source": [
    "corrs"
   ]
  },
  {
   "cell_type": "code",
   "execution_count": 5,
   "metadata": {},
   "outputs": [
    {
     "data": {
      "image/png": "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",
      "text/plain": [
       "<Figure size 540x540 with 1 Axes>"
      ]
     },
     "metadata": {
      "needs_background": "light"
     },
     "output_type": "display_data"
    }
   ],
   "source": [
    "import collections\n",
    "import os\n",
    "import matplotlib.pyplot as plt\n",
    "from neuroformer.visualize import set_plot_white, nature_style\n",
    "\n",
    "# nature_style()\n",
    "set_plot_white()\n",
    "\n",
    "# corrs = collections.OrderedDict(sorted(correlations.items(), key=lambda x: x[1]))\n",
    "# wanted_correlations = [\"no_pretraining_0.01\", \"no_pretraining_0.1\", \n",
    "#                        \"finetuning_0.01\", \"finetuning_0.1\",\n",
    "#                        \"full_training\"]\n",
    "\n",
    "# corrs = {k: v for k, v in corrs.items() if k in wanted_correlations}\n",
    "\n",
    "colors = ['#4ca3dd', '#98df8a', '#1f77b4', '#2ca02c', '#d62728']\n",
    "\n",
    "plt.figure(figsize=(7.5, 7.5))\n",
    "plt.grid(zorder=0)\n",
    "# send grid to back\n",
    "plt.gca().set_axisbelow(True)\n",
    "\n",
    "plt.title(\"Behavior Prediction\", fontsize=12)\n",
    "plt.xlabel(\"Model\", fontsize=12)\n",
    "plt.ylabel(\"Ground-Truth Correlation\", fontsize=12)\n",
    "\n",
    "bars = plt.bar(range(len(corrs.values())), corrs.values(),\n",
    "        color=[colors[i] for i in range(len(corrs))], edgecolor='black', linewidth=1)\n",
    "\n",
    "# set label size\n",
    "plt.xticks(fontsize=12)\n",
    "\n",
    "# Remove tick labels\n",
    "plt.gca().set_xticklabels([])\n",
    "plt.gca().tick_params(axis='both', direction='out', length=6, width=1)\n",
    "# plt.legend(bars, labels, loc='upper left', fontsize=12)\n",
    "\n",
    "\n",
    "# set range of figure from -0.1 to 0.7\n",
    "# plt.ylim(-0.1, 0.7)\n",
    "\n",
    "# Save plots\n",
    "# plt.savefig(os.path.join(\"./models/tensorboard/visnav/behavior_predict/plots\", f\"corr_bar.png\"))\n",
    "# plt.savefig(os.path.join(\"./models/tensorboard/visnav/behavior_predict/plots\", f\"corr_bar.pdf\"))\n",
    "\n",
    "plt.show()"
   ]
  },
  {
   "cell_type": "code",
   "execution_count": 6,
   "metadata": {},
   "outputs": [
    {
     "data": {
      "text/plain": [
       "dict_values(['No Pretraining, 1%', 'Finetune, 1%', 'No Pretraining, 10%', 'Finetune, 10%', 'Full Training'])"
      ]
     },
     "execution_count": 6,
     "metadata": {},
     "output_type": "execute_result"
    }
   ],
   "source": [
    "order"
   ]
  },
  {
   "cell_type": "code",
   "execution_count": 37,
   "metadata": {},
   "outputs": [
    {
     "data": {
      "image/png": "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",
      "text/plain": [
       "<Figure size 140.4x126 with 1 Axes>"
      ]
     },
     "metadata": {},
     "output_type": "display_data"
    }
   ],
   "source": [
    "import collections\n",
    "import os\n",
    "import matplotlib.pyplot as plt\n",
    "from neuroformer.visualize import set_plot_white, nature_style, set_research_params\n",
    "\n",
    "# nature_style()\n",
    "set_plot_white()\n",
    "set_research_params()\n",
    "\n",
    "\n",
    "# corrs = collections.OrderedDict(sorted(correlations.items(), key=lambda x: x[1]))\n",
    "# wanted_correlations = [\"no_pretraining_0.01\", \"no_pretraining_0.1\", \n",
    "#                        \"finetuning_0.01\", \"finetuning_0.1\",\n",
    "#                        \"full_training\"]\n",
    "\n",
    "# corrs = {k: v for k, v in corrs.items() if k in wanted_correlations}\n",
    "\n",
    "colors = ['#4ca3dd', '#98df8a', '#1f77b4', '#2ca02c', '#d62728']\n",
    "\n",
    "color_dict = {\n",
    "    \"No Pretraining, 1%\": '#4ca3dd',\n",
    "    \"Finetune, 1%\": '#98df8a',\n",
    "    \"No Pretraining, 10%\": '#1f77b4',\n",
    "    \"Finetune, 10%\": '#2ca02c',\n",
    "}\n",
    "\n",
    "plt.figure(figsize=(1.95, 1.75))\n",
    "plt.grid(zorder=0, axis='y')\n",
    "# send grid to back\n",
    "plt.gca().set_axisbelow(True)\n",
    "\n",
    "plt.title(\"Behavior Prediction\")\n",
    "plt.xlabel(\"Model\")\n",
    "plt.ylabel(\"Ground-Truth Correlation\")\n",
    "\n",
    "# Define bar width\n",
    "bar_width = 0.8\n",
    "\n",
    "# Create a list for bar positions\n",
    "positions = [0, bar_width, 2 + bar_width, 2 + 2*bar_width, 4 + 2*bar_width]\n",
    "\n",
    "bars = plt.bar(positions, list(corrs.values()), width=bar_width,\n",
    "        color=[colors[i] for i in range(len(corrs))], edgecolor='black', linewidth=0.25)\n",
    "\n",
    "# set label size\n",
    "plt.xticks([pos + bar_width/2 for pos in positions])\n",
    "\n",
    "# Remove tick labels\n",
    "plt.gca().set_xticklabels([])\n",
    "plt.gca().tick_params(axis='both', direction='out')\n",
    "# disable x tick markers\n",
    "plt.gca().tick_params(axis='x', length=0)\n",
    "\n",
    "# add legend manually\n",
    "rename_mapping = {\n",
    "    \"finetuning_0.01_resumeFalse\": \"No Pretraining, 1%\",\n",
    "    \"finetuning_0.01_resumeTrue\": \"Finetune, 1%\",\n",
    "    \"finetuning_0.1_resumeFalse\": \"No Pretraining, 10%\",\n",
    "    \"finetuning_0.1_resumeTrue\": \"Finetune, 10%\",\n",
    "    \"finetuning_1.0_resumeTrue\": \"Full Training\",\n",
    "    \n",
    "}\n",
    "legend_order = [\"No Pretraining, 1%\", \"No Pretraining, 10%\", \"Finetune, 1%\", \"Finetune, 10%\", \"Full Training\"]\n",
    "bars = [bars[i] for i in [0, 2, 1, 3, 4]]\n",
    "plt.legend(bars, legend_order, loc='upper left')\n",
    "# make legend smaller\n",
    "plt.legend(bars, legend_order, loc='upper left', fontsize=4)\n",
    "\n",
    "save_path = \"./results/finetune\"\n",
    "plt.savefig(os.path.join(save_path, f\"corr_bar.pdf\"), bbox_inches='tight')\n",
    "plt.savefig(os.path.join(save_path, f\"corr_bar.png\"), bbox_inches='tight')"
   ]
  },
  {
   "cell_type": "code",
   "execution_count": 23,
   "metadata": {},
   "outputs": [
    {
     "name": "stdout",
     "output_type": "stream",
     "text": [
      "[\"./models/tensorboard/visnav_medial/behavior_pred_exp/classification/ablations_1/finetuning_0.01_resumeTrue/behavior_before_stim_RESUMETrue_paststateTrue_method_behavior_True_['speed']_predictbehaviorTrue_roundedFalsevisualTrue_contrastiveFalse_['id', 'frames', 'behavior_mean']/_full_finetuning_2_0.01_full_finetuning_2/sparse_f:None_id:None/w:0.05_wp:0.25/6_Cont:False_window:0.05_f_window:0.2_df:0.005_blocksize:100_conv_True_shuffle:True_batch:224_sparse_(None_None)_blocksz446_pos_emb:False_temp_emb:True_drop:0.35_dt:True_2.0_52_max0.005_(8, 8, 8)_8_256/events.out.tfevents.1684165675.tinkywinky.edc.iee.ucsb.edu.365938.0\", \"./models/tensorboard/visnav_medial/behavior_pred_exp/classification/ablations_1/finetuning_0.1_resumeTrue/behavior_before_stim_RESUMETrue_paststateTrue_method_behavior_True_['speed']_predictbehaviorTrue_roundedFalsevisualTrue_contrastiveFalse_['id', 'frames', 'behavior_mean']/_full_finetuning_2_0.1_full_finetuning_2/sparse_f:None_id:None/w:0.05_wp:0.25/6_Cont:False_window:0.05_f_window:0.2_df:0.005_blocksize:100_conv_True_shuffle:True_batch:224_sparse_(None_None)_blocksz446_pos_emb:False_temp_emb:True_drop:0.35_dt:True_2.0_52_max0.005_(8, 8, 8)_8_256/events.out.tfevents.1684165801.tinkywinky.edc.iee.ucsb.edu.370437.0\", \"./models/tensorboard/visnav_medial/behavior_pred_exp/classification/ablations_1/finetuning_0.01_resumeFalse/behavior_before_stim_RESUMEFalse_paststateTrue_method_behavior_True_['speed']_predictbehaviorTrue_roundedFalsevisualTrue_contrastiveFalse_['id', 'frames', 'behavior_mean']/_full_finetuning_2_0.01_full_finetuning_2/sparse_f:None_id:None/w:0.05_wp:0.25/6_Cont:False_window:0.05_f_window:0.2_df:0.005_blocksize:100_conv_True_shuffle:True_batch:224_sparse_(None_None)_blocksz446_pos_emb:False_temp_emb:True_drop:0.35_dt:True_2.0_52_max0.005_(8, 8, 8)_8_256/events.out.tfevents.1684165939.tinkywinky.edc.iee.ucsb.edu.375403.0\", \"./models/tensorboard/visnav_medial/behavior_pred_exp/classification/ablations_1/finetuning_0.1_resumeFalse/behavior_before_stim_RESUMEFalse_paststateTrue_method_behavior_True_['speed']_predictbehaviorTrue_roundedFalsevisualTrue_contrastiveFalse_['id', 'frames', 'behavior_mean']/_full_finetuning_2_0.1_full_finetuning_2/sparse_f:None_id:None/w:0.05_wp:0.25/6_Cont:False_window:0.05_f_window:0.2_df:0.005_blocksize:100_conv_True_shuffle:True_batch:224_sparse_(None_None)_blocksz446_pos_emb:False_temp_emb:True_drop:0.35_dt:True_2.0_52_max0.005_(8, 8, 8)_8_256/events.out.tfevents.1684165971.tinkywinky.edc.iee.ucsb.edu.377358.0\", \"./models/tensorboard/visnav_medial/behavior_pred_exp/classification/ablations_1/finetuning_1.0_resumeTrue/behavior_before_stim_RESUMETrue_paststateTrue_method_behavior_True_['speed']_predictbehaviorTrue_roundedFalsevisualTrue_contrastiveFalse_['id', 'frames', 'behavior_mean']/_full_finetuning_2_1.0_full_finetuning_2/sparse_f:None_id:None/w:0.05_wp:0.25/6_Cont:False_window:0.05_f_window:0.2_df:0.005_blocksize:100_conv_True_shuffle:True_batch:224_sparse_(None_None)_blocksz446_pos_emb:False_temp_emb:True_drop:0.35_dt:True_2.0_52_max0.005_(8, 8, 8)_8_256/events.out.tfevents.1684208269.tinkywinky.edc.iee.ucsb.edu.1140117.0\"]\n"
     ]
    }
   ],
   "source": [
    "# get folders in dir\n",
    "base_directory = \"./models/tensorboard/visnav_medial/behavior_pred_exp/classification/ablations_1\"\n",
    "folders = [os.path.join(base_directory, f) for f in os.listdir(base_directory) if os.path.isdir(os.path.join(base_directory, f))]\n",
    "# get all files in base_dir that are events.out.tfevents\n",
    "folders = glob.glob(os.path.join(base_directory, \"**\", \"events.out.tfevents*\"), recursive=True)\n",
    "print(folders)"
>>>>>>> c28d655406188a40f7871a8e438b3367cbe8f335
   ]
  },
  {
   "cell_type": "code",
<<<<<<< HEAD
   "execution_count": 1,
   "metadata": {},
   "outputs": [
    {
     "ename": "NameError",
     "evalue": "name 'exp_mlp_files' is not defined",
     "output_type": "error",
     "traceback": [
      "\u001b[0;31m---------------------------------------------------------------------------\u001b[0m",
      "\u001b[0;31mNameError\u001b[0m                                 Traceback (most recent call last)",
      "\u001b[0;32m/tmp/ipykernel_1874706/262253848.py\u001b[0m in \u001b[0;36m<module>\u001b[0;34m\u001b[0m\n\u001b[0;32m----> 1\u001b[0;31m \u001b[0;32mfor\u001b[0m \u001b[0mf\u001b[0m \u001b[0;32min\u001b[0m \u001b[0mexp_mlp_files\u001b[0m\u001b[0;34m:\u001b[0m\u001b[0;34m\u001b[0m\u001b[0;34m\u001b[0m\u001b[0m\n\u001b[0m\u001b[1;32m      2\u001b[0m     \u001b[0mbehavior_preds\u001b[0m \u001b[0;34m=\u001b[0m \u001b[0mpd\u001b[0m\u001b[0;34m.\u001b[0m\u001b[0mread_csv\u001b[0m\u001b[0;34m(\u001b[0m\u001b[0mf\u001b[0m\u001b[0;34m)\u001b[0m\u001b[0;34m\u001b[0m\u001b[0;34m\u001b[0m\u001b[0m\n\u001b[1;32m      3\u001b[0m     \u001b[0mr\u001b[0m\u001b[0;34m,\u001b[0m \u001b[0mp\u001b[0m \u001b[0;34m=\u001b[0m \u001b[0mpearsonr\u001b[0m\u001b[0;34m(\u001b[0m\u001b[0mbehavior_preds\u001b[0m\u001b[0;34m[\u001b[0m\u001b[0;34m'behavior'\u001b[0m\u001b[0;34m]\u001b[0m\u001b[0;34m,\u001b[0m \u001b[0mbehavior_preds\u001b[0m\u001b[0;34m[\u001b[0m\u001b[0;34m'true'\u001b[0m\u001b[0;34m]\u001b[0m\u001b[0;34m)\u001b[0m\u001b[0;34m\u001b[0m\u001b[0;34m\u001b[0m\u001b[0m\n\u001b[1;32m      4\u001b[0m     \u001b[0mprint\u001b[0m\u001b[0;34m(\u001b[0m\u001b[0mf\u001b[0m\u001b[0;34m)\u001b[0m\u001b[0;34m\u001b[0m\u001b[0;34m\u001b[0m\u001b[0m\n\u001b[1;32m      5\u001b[0m     \u001b[0mprint\u001b[0m\u001b[0;34m(\u001b[0m\u001b[0;34mf\"r: {r}, p: {p}\"\u001b[0m\u001b[0;34m)\u001b[0m\u001b[0;34m\u001b[0m\u001b[0;34m\u001b[0m\u001b[0m\n",
      "\u001b[0;31mNameError\u001b[0m: name 'exp_mlp_files' is not defined"
     ]
    }
   ],
   "source": [
    "for f in exp_mlp_files:\n",
    "    behavior_preds = pd.read_csv(f)\n",
    "    r, p = pearsonr(behavior_preds['behavior'], behavior_preds['true'])\n",
    "    print(f)\n",
    "    print(f\"r: {r}, p: {p}\")\n",
    "    # behavior_results = pd.DataFrame(columns=['r', 'p'])\n",
    "    # parent_dir = pathlib.Path(f).parent\n",
    "    # behavior_results.to_csv(os.path.join(parent_dir, 'corrs.csv'), index=False)"
   ]
=======
   "execution_count": 28,
   "metadata": {},
   "outputs": [
    {
     "name": "stdout",
     "output_type": "stream",
     "text": [
      "Finetune, 1%\n",
      "Finetune, 10%\n",
      "No Pretraining, 1%\n",
      "No Pretraining, 10%\n",
      "Full Training\n"
     ]
    },
    {
     "data": {
      "image/png": "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",
      "text/plain": [
       "<Figure size 126x126 with 1 Axes>"
      ]
     },
     "metadata": {},
     "output_type": "display_data"
    }
   ],
   "source": [
    "import os\n",
    "import matplotlib.pyplot as plt\n",
    "import pandas as pd\n",
    "import seaborn as sns\n",
    "from tensorboard.backend.event_processing.event_accumulator import EventAccumulator\n",
    "import seaborn as sns\n",
    "from neuroformer.visualize import nature_style\n",
    "# nature_style()\n",
    "set_research_params()\n",
    "\n",
    "y_keys = [\"Loss/test_behavior\"]\n",
    "y_key_labels = [\"Behavior Loss\"]\n",
    "n_epochs = 100\n",
    "\n",
    "# fig.suptitle(\"Eye pos vs. None, Lateral DS\")\n",
    "# fig.text(0.5, 0.04, \"Epoch\", ha=\"center\", va=\"center\")\n",
    "# fig.text(0.06, 0.5, \"Neural Decoding Loss\", ha=\"center\", va=\"center\", rotation=90)\n",
    "\n",
    "color_dict = {\n",
    "    \"No Pretraining, 1%\": '#4ca3dd',\n",
    "    \"Finetune, 1%\": '#98df8a',\n",
    "    \"No Pretraining, 10%\": '#1f77b4',\n",
    "    \"Finetune, 10%\": '#2ca02c',\n",
    "}\n",
    "\n",
    "\n",
    "\n",
    "plt.figure(figsize=(1.75, 1.75))\n",
    "for n_file, log_file in enumerate(folders):\n",
    "        key = log_file.split(\"/\")[7]\n",
    "        key_title = rename_mapping[key]\n",
    "        print(key_title)\n",
    "        for idx, y_key in enumerate(y_keys):\n",
    "            event_accumulator = EventAccumulator(log_file)\n",
    "            # print(event_accumulator.Tags())\n",
    "            event_accumulator.Reload()\n",
    "            tags = event_accumulator.Tags()['scalars']\n",
    "            if y_key in tags:\n",
    "                if key_title == \"Full Training\":\n",
    "                     continue\n",
    "                values = event_accumulator.Scalars(y_key)\n",
    "                steps = [v.step for v in values][:n_epochs]\n",
    "                values = [v.value for v in values][:n_epochs]\n",
    "                data = pd.DataFrame({\"steps\": steps, key_title: values})\n",
    "                # sns.lineplot(data=data, x=\"steps\", y=key_title, ax=axs[idx//2, idx%2], label=key_title, color=color_dict[key_title])\n",
    "                plt.plot(steps, values, label=key_title, color=color_dict[key_title])\n",
    "\n",
    "plt.legend()\n",
    "plt.grid(zorder=0, axis='y', linewidth=0.2)\n",
    "plt.xlabel(\"Epoch\")\n",
    "plt.ylabel(\"Behavior Loss (holdout)\")\n",
    "\n",
    "plt.savefig(os.path.join(save_path, f\"losses.pdf\"), bbox_inches='tight')\n",
    "plt.savefig(os.path.join(save_path, f\"losses.png\"), bbox_inches='tight')\n",
    "\n",
    "\n",
    "# ax.get_legend().remove()\n",
    "# make background non-transparent\n",
    "# fig.patch.set_alpha(1)\n",
    "# plt.tight_layout()\n",
    "\n",
    "# save_path = \"./models/tensorboard/visnav/behavior_pred_exp/plots\"\n",
    "plt.savefig(os.path.join(save_path, \"losses.png\"), dpi=300)\n",
    "plt.savefig(os.path.join(save_path, \"losses.pdf\"), dpi=300)"
   ]
  },
  {
   "cell_type": "code",
   "execution_count": null,
   "metadata": {},
   "outputs": [],
   "source": []
>>>>>>> c28d655406188a40f7871a8e438b3367cbe8f335
  }
 ],
 "metadata": {
  "kernelspec": {
   "display_name": "neuroformer",
   "language": "python",
   "name": "python3"
  },
  "language_info": {
   "codemirror_mode": {
    "name": "ipython",
    "version": 3
   },
   "file_extension": ".py",
   "mimetype": "text/x-python",
   "name": "python",
   "nbconvert_exporter": "python",
   "pygments_lexer": "ipython3",
   "version": "3.9.15"
  },
  "orig_nbformat": 4
 },
 "nbformat": 4,
 "nbformat_minor": 2
}
