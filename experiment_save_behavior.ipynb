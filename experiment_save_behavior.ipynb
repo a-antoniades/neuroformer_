{
 "cells": [
  {
   "cell_type": "code",
   "execution_count": 1,
   "metadata": {},
   "outputs": [],
   "source": [
    "import pandas as pd\n",
    "import json\n",
    "import numpy as np\n",
    "import matplotlib.pyplot as plt\n",
    "import pathlib\n",
    "import glob\n",
    "import os"
   ]
  },
  {
   "cell_type": "code",
   "execution_count": 2,
   "metadata": {},
   "outputs": [
    {
     "name": "stdout",
     "output_type": "stream",
     "text": [
      "[\"./models/tensorboard/visnav_medial/behavior_pred_exp/classification/ablations_1/finetuning_0.01_resumeTrue/behavior_before_stim_RESUMETrue_paststateTrue_method_behavior_True_['speed']_predictbehaviorTrue_roundedFalsevisualTrue_contrastiveFalse_['id', 'frames', 'behavior_mean']/_full_finetuning_2_0.01_full_finetuning_2/sparse_f:None_id:None/w:0.05_wp:0.25/behavior_pred.csv\", \"./models/tensorboard/visnav_medial/behavior_pred_exp/classification/ablations_1/finetuning_0.1_resumeTrue/behavior_before_stim_RESUMETrue_paststateTrue_method_behavior_True_['speed']_predictbehaviorTrue_roundedFalsevisualTrue_contrastiveFalse_['id', 'frames', 'behavior_mean']/_full_finetuning_2_0.1_full_finetuning_2/sparse_f:None_id:None/w:0.05_wp:0.25/behavior_pred.csv\", \"./models/tensorboard/visnav_medial/behavior_pred_exp/classification/ablations_1/finetuning_0.01_resumeFalse/behavior_before_stim_RESUMEFalse_paststateTrue_method_behavior_True_['speed']_predictbehaviorTrue_roundedFalsevisualTrue_contrastiveFalse_['id', 'frames', 'behavior_mean']/_full_finetuning_2_0.01_full_finetuning_2/sparse_f:None_id:None/w:0.05_wp:0.25/behavior_pred.csv\", \"./models/tensorboard/visnav_medial/behavior_pred_exp/classification/ablations_1/finetuning_0.1_resumeFalse/behavior_before_stim_RESUMEFalse_paststateTrue_method_behavior_True_['speed']_predictbehaviorTrue_roundedFalsevisualTrue_contrastiveFalse_['id', 'frames', 'behavior_mean']/_full_finetuning_2_0.1_full_finetuning_2/sparse_f:None_id:None/w:0.05_wp:0.25/behavior_pred.csv\"]\n"
     ]
    }
   ],
   "source": [
    "# pth = \"./models/tensorboard/visnav_medial/behavior_pred_exp/classification/ablations_1\"\n",
    "# pth = \"./models/tensorboard/visnav_lateral/behavior_pred_exp/classification/ablations_1\"\n",
    "## tinky winky ## \n",
    "pth = \"./models/tensorboard/visnav_medial/behavior_pred_exp/classification/ablations_1\"\n",
    "# get all csvs\n",
    "files = glob.glob(os.path.join(pth, \"**/behavior_pred_sample_False_0.csv\"), recursive=True)\n",
    "print(files)"
   ]
  },
  {
   "cell_type": "code",
   "execution_count": 3,
   "metadata": {},
   "outputs": [
    {
     "name": "stdout",
     "output_type": "stream",
     "text": [
      "finetuning_0.01_resumeTrue\n",
      "r: 0.5079519507872615, p: 0.0\n",
      "finetuning_0.1_resumeTrue\n",
      "r: 0.8647741656399891, p: 0.0\n",
      "finetuning_0.01_resumeFalse\n",
      "r: -0.04456627974053821, p: 0.0003335105640245041\n",
      "finetuning_0.1_resumeFalse\n",
      "r: 0.33029007469775035, p: 1.1520690670430495e-164\n"
     ]
    }
   ],
   "source": [
    "from scipy.stats import pearsonr\n",
    "corrs = dict()\n",
    "for f in files:\n",
    "    behavior_preds = pd.read_csv(f)\n",
    "    r, p = pearsonr(behavior_preds['behavior'], behavior_preds['true'])\n",
    "    print(f.split('/')[7])\n",
    "    print(f\"r: {r}, p: {p}\")\n",
    "    behavior_results = pd.DataFrame(columns=['r', 'p'])\n",
    "    parent_dir = pathlib.Path(f).parent\n",
    "    behavior_results.to_csv(os.path.join(parent_dir, 'corrs.csv'), index=False)\n",
    "    corrs[f.split('/')[7]] = r\n",
    "\n",
    "\n",
    "corrs[\"finetuning_1.0_resumeTrue\"] = 0.95\n",
    "# Add legend inside the plot\n",
    "rename_mapping = {\n",
    "    \"finetuning_0.01_resumeFalse\": \"No Pretraining, 1%\",\n",
    "    \"finetuning_0.01_resumeTrue\": \"Finetune, 1%\",\n",
    "    \"finetuning_0.1_resumeFalse\": \"No Pretraining, 10%\",\n",
    "    \"finetuning_0.1_resumeTrue\": \"Finetune, 10%\",\n",
    "    \"finetuning_1.0_resumeTrue\": \"Full Training\",\n",
    "    \n",
    "}\n",
    "corrs = {rename_mapping[k]: v for k, v in corrs.items()}\n",
    "order = rename_mapping.values()\n",
    "# reorder according to order\n",
    "corrs = {k: abs(corrs[k]) for k in order}"
   ]
  },
  {
   "cell_type": "code",
   "execution_count": 4,
   "metadata": {},
   "outputs": [
    {
     "data": {
      "text/plain": [
       "{'No Pretraining, 1%': 0.04456627974053821,\n",
       " 'Finetune, 1%': 0.5079519507872615,\n",
       " 'No Pretraining, 10%': 0.33029007469775035,\n",
       " 'Finetune, 10%': 0.8647741656399891,\n",
       " 'Full Training': 0.95}"
      ]
     },
     "execution_count": 4,
     "metadata": {},
     "output_type": "execute_result"
    }
   ],
   "source": [
    "corrs"
   ]
  },
  {
   "cell_type": "code",
   "execution_count": 5,
   "metadata": {},
   "outputs": [
    {
     "data": {
      "image/png": "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",
      "text/plain": [
       "<Figure size 540x540 with 1 Axes>"
      ]
     },
     "metadata": {
      "needs_background": "light"
     },
     "output_type": "display_data"
    }
   ],
   "source": [
    "import collections\n",
    "import os\n",
    "import matplotlib.pyplot as plt\n",
    "from neuroformer.visualize import set_plot_white, nature_style\n",
    "\n",
    "# nature_style()\n",
    "set_plot_white()\n",
    "\n",
    "# corrs = collections.OrderedDict(sorted(correlations.items(), key=lambda x: x[1]))\n",
    "# wanted_correlations = [\"no_pretraining_0.01\", \"no_pretraining_0.1\", \n",
    "#                        \"finetuning_0.01\", \"finetuning_0.1\",\n",
    "#                        \"full_training\"]\n",
    "\n",
    "# corrs = {k: v for k, v in corrs.items() if k in wanted_correlations}\n",
    "\n",
    "colors = ['#4ca3dd', '#98df8a', '#1f77b4', '#2ca02c', '#d62728']\n",
    "\n",
    "plt.figure(figsize=(7.5, 7.5))\n",
    "plt.grid(zorder=0)\n",
    "# send grid to back\n",
    "plt.gca().set_axisbelow(True)\n",
    "\n",
    "plt.title(\"Behavior Prediction\", fontsize=12)\n",
    "plt.xlabel(\"Model\", fontsize=12)\n",
    "plt.ylabel(\"Ground-Truth Correlation\", fontsize=12)\n",
    "\n",
    "bars = plt.bar(range(len(corrs.values())), corrs.values(),\n",
    "        color=[colors[i] for i in range(len(corrs))], edgecolor='black', linewidth=1)\n",
    "\n",
    "# set label size\n",
    "plt.xticks(fontsize=12)\n",
    "\n",
    "# Remove tick labels\n",
    "plt.gca().set_xticklabels([])\n",
    "plt.gca().tick_params(axis='both', direction='out', length=6, width=1)\n",
    "# plt.legend(bars, labels, loc='upper left', fontsize=12)\n",
    "\n",
    "\n",
    "# set range of figure from -0.1 to 0.7\n",
    "# plt.ylim(-0.1, 0.7)\n",
    "\n",
    "# Save plots\n",
    "# plt.savefig(os.path.join(\"./models/tensorboard/visnav/behavior_predict/plots\", f\"corr_bar.png\"))\n",
    "# plt.savefig(os.path.join(\"./models/tensorboard/visnav/behavior_predict/plots\", f\"corr_bar.pdf\"))\n",
    "\n",
    "plt.show()"
   ]
  },
  {
   "cell_type": "code",
   "execution_count": 6,
   "metadata": {},
   "outputs": [
    {
     "data": {
      "text/plain": [
       "dict_values(['No Pretraining, 1%', 'Finetune, 1%', 'No Pretraining, 10%', 'Finetune, 10%', 'Full Training'])"
      ]
     },
     "execution_count": 6,
     "metadata": {},
     "output_type": "execute_result"
    }
   ],
   "source": [
    "order"
   ]
  },
  {
   "cell_type": "code",
   "execution_count": 7,
   "metadata": {},
   "outputs": [
    {
     "data": {
      "image/png": "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",
      "text/plain": [
       "<Figure size 140.4x126 with 1 Axes>"
      ]
     },
     "metadata": {},
     "output_type": "display_data"
    }
   ],
   "source": [
    "import collections\n",
    "import os\n",
    "import matplotlib.pyplot as plt\n",
    "from neuroformer.visualize import set_plot_white, nature_style, set_research_params\n",
    "\n",
    "# nature_style()\n",
    "set_plot_white()\n",
    "set_research_params()\n",
    "\n",
    "\n",
    "# corrs = collections.OrderedDict(sorted(correlations.items(), key=lambda x: x[1]))\n",
    "# wanted_correlations = [\"no_pretraining_0.01\", \"no_pretraining_0.1\", \n",
    "#                        \"finetuning_0.01\", \"finetuning_0.1\",\n",
    "#                        \"full_training\"]\n",
    "\n",
    "# corrs = {k: v for k, v in corrs.items() if k in wanted_correlations}\n",
    "\n",
    "colors = ['#4ca3dd', '#98df8a', '#1f77b4', '#2ca02c', '#d62728']\n",
    "\n",
    "color_dict = {\n",
    "    \"No Pretraining, 1%\": '#4ca3dd',\n",
    "    \"Finetune, 1%\": '#98df8a',\n",
    "    \"No Pretraining, 10%\": '#1f77b4',\n",
    "    \"Finetune, 10%\": '#2ca02c',\n",
    "}\n",
    "\n",
    "plt.figure(figsize=(1.95, 1.75))\n",
    "plt.grid(zorder=0, axis='y')\n",
    "# send grid to back\n",
    "plt.gca().set_axisbelow(True)\n",
    "\n",
    "plt.title(\"Behavior Prediction\")\n",
    "plt.xlabel(\"Model\")\n",
    "plt.ylabel(\"Ground-Truth Correlation\")\n",
    "\n",
    "# Define bar width\n",
    "bar_width = 0.8\n",
    "\n",
    "# Create a list for bar positions\n",
    "positions = [0, bar_width, 2 + bar_width, 2 + 2*bar_width, 4 + 2*bar_width]\n",
    "\n",
    "bars = plt.bar(positions, list(corrs.values()), width=bar_width,\n",
    "        color=[colors[i] for i in range(len(corrs))], edgecolor='black', linewidth=0.25)\n",
    "\n",
    "# set label size\n",
    "plt.xticks([pos + bar_width/2 for pos in positions])\n",
    "\n",
    "# Remove tick labels\n",
    "plt.gca().set_xticklabels([])\n",
    "plt.gca().tick_params(axis='both', direction='out')\n",
    "# disable x tick markers\n",
    "plt.gca().tick_params(axis='x', length=0)\n",
    "\n",
    "# add legend manually\n",
    "rename_mapping = {\n",
    "    \"finetuning_0.01_resumeFalse\": \"No Pretraining, 1%\",\n",
    "    \"finetuning_0.01_resumeTrue\": \"Finetune, 1%\",\n",
    "    \"finetuning_0.1_resumeFalse\": \"No Pretraining, 10%\",\n",
    "    \"finetuning_0.1_resumeTrue\": \"Finetune, 10%\",\n",
    "    \"finetuning_1.0_resumeTrue\": \"Full Training\",\n",
    "    \n",
    "}\n",
    "legend_order = [\"No Pretraining, 1%\", \"No Pretraining, 10%\", \"Finetune, 1%\", \"Finetune, 10%\", \"Full Training\"]\n",
    "bars = [bars[i] for i in [0, 2, 1, 3, 4]]\n",
    "plt.legend(bars, legend_order, loc='upper left')\n",
    "# make legend smaller\n",
    "plt.legend(bars, legend_order, loc='upper left', fontsize=4)\n",
    "\n",
    "save_path = \"./results/finetune\"\n",
    "plt.savefig(os.path.join(save_path, f\"corr_bar.pdf\"), bbox_inches='tight')\n",
    "plt.savefig(os.path.join(save_path, f\"corr_bar.png\"), bbox_inches='tight')"
   ]
  },
  {
   "cell_type": "code",
   "execution_count": 8,
   "metadata": {},
   "outputs": [
    {
     "name": "stdout",
     "output_type": "stream",
     "text": [
      "[\"./models/tensorboard/visnav_medial/behavior_pred_exp/classification/ablations_1/finetuning_0.01_resumeTrue/behavior_before_stim_RESUMETrue_paststateTrue_method_behavior_True_['speed']_predictbehaviorTrue_roundedFalsevisualTrue_contrastiveFalse_['id', 'frames', 'behavior_mean']/_full_finetuning_2_0.01_full_finetuning_2/sparse_f:None_id:None/w:0.05_wp:0.25/6_Cont:False_window:0.05_f_window:0.2_df:0.005_blocksize:100_conv_True_shuffle:True_batch:224_sparse_(None_None)_blocksz446_pos_emb:False_temp_emb:True_drop:0.35_dt:True_2.0_52_max0.005_(8, 8, 8)_8_256/events.out.tfevents.1684165675.tinkywinky.edc.iee.ucsb.edu.365938.0\", \"./models/tensorboard/visnav_medial/behavior_pred_exp/classification/ablations_1/finetuning_0.1_resumeTrue/behavior_before_stim_RESUMETrue_paststateTrue_method_behavior_True_['speed']_predictbehaviorTrue_roundedFalsevisualTrue_contrastiveFalse_['id', 'frames', 'behavior_mean']/_full_finetuning_2_0.1_full_finetuning_2/sparse_f:None_id:None/w:0.05_wp:0.25/6_Cont:False_window:0.05_f_window:0.2_df:0.005_blocksize:100_conv_True_shuffle:True_batch:224_sparse_(None_None)_blocksz446_pos_emb:False_temp_emb:True_drop:0.35_dt:True_2.0_52_max0.005_(8, 8, 8)_8_256/events.out.tfevents.1684165801.tinkywinky.edc.iee.ucsb.edu.370437.0\", \"./models/tensorboard/visnav_medial/behavior_pred_exp/classification/ablations_1/finetuning_0.01_resumeFalse/behavior_before_stim_RESUMEFalse_paststateTrue_method_behavior_True_['speed']_predictbehaviorTrue_roundedFalsevisualTrue_contrastiveFalse_['id', 'frames', 'behavior_mean']/_full_finetuning_2_0.01_full_finetuning_2/sparse_f:None_id:None/w:0.05_wp:0.25/6_Cont:False_window:0.05_f_window:0.2_df:0.005_blocksize:100_conv_True_shuffle:True_batch:224_sparse_(None_None)_blocksz446_pos_emb:False_temp_emb:True_drop:0.35_dt:True_2.0_52_max0.005_(8, 8, 8)_8_256/events.out.tfevents.1684165939.tinkywinky.edc.iee.ucsb.edu.375403.0\", \"./models/tensorboard/visnav_medial/behavior_pred_exp/classification/ablations_1/finetuning_0.1_resumeFalse/behavior_before_stim_RESUMEFalse_paststateTrue_method_behavior_True_['speed']_predictbehaviorTrue_roundedFalsevisualTrue_contrastiveFalse_['id', 'frames', 'behavior_mean']/_full_finetuning_2_0.1_full_finetuning_2/sparse_f:None_id:None/w:0.05_wp:0.25/6_Cont:False_window:0.05_f_window:0.2_df:0.005_blocksize:100_conv_True_shuffle:True_batch:224_sparse_(None_None)_blocksz446_pos_emb:False_temp_emb:True_drop:0.35_dt:True_2.0_52_max0.005_(8, 8, 8)_8_256/events.out.tfevents.1684165971.tinkywinky.edc.iee.ucsb.edu.377358.0\", \"./models/tensorboard/visnav_medial/behavior_pred_exp/classification/ablations_1/finetuning_1.0_resumeTrue/behavior_before_stim_RESUMETrue_paststateTrue_method_behavior_True_['speed']_predictbehaviorTrue_roundedFalsevisualTrue_contrastiveFalse_['id', 'frames', 'behavior_mean']/_full_finetuning_2_1.0_full_finetuning_2/sparse_f:None_id:None/w:0.05_wp:0.25/6_Cont:False_window:0.05_f_window:0.2_df:0.005_blocksize:100_conv_True_shuffle:True_batch:224_sparse_(None_None)_blocksz446_pos_emb:False_temp_emb:True_drop:0.35_dt:True_2.0_52_max0.005_(8, 8, 8)_8_256/events.out.tfevents.1684208269.tinkywinky.edc.iee.ucsb.edu.1140117.0\"]\n"
     ]
    }
   ],
   "source": [
    "# get folders in dir\n",
    "base_directory = \"./models/tensorboard/visnav_medial/behavior_pred_exp/classification/ablations_1\"\n",
    "folders = [os.path.join(base_directory, f) for f in os.listdir(base_directory) if os.path.isdir(os.path.join(base_directory, f))]\n",
    "# get all files in base_dir that are events.out.tfevents\n",
    "folders = glob.glob(os.path.join(base_directory, \"**\", \"events.out.tfevents*\"), recursive=True)\n",
    "print(folders)"
   ]
  },
  {
   "cell_type": "code",
   "execution_count": 11,
   "execution_count": 1,
   "metadata": {},
   "outputs": [
    {
     "ename": "NameError",
     "evalue": "name 'exp_mlp_files' is not defined",
     "output_type": "error",
     "traceback": [
      "\u001b[0;31m---------------------------------------------------------------------------\u001b[0m",
      "\u001b[0;31mNameError\u001b[0m                                 Traceback (most recent call last)",
      "\u001b[0;32m/tmp/ipykernel_1874706/262253848.py\u001b[0m in \u001b[0;36m<module>\u001b[0;34m\u001b[0m\n\u001b[0;32m----> 1\u001b[0;31m \u001b[0;32mfor\u001b[0m \u001b[0mf\u001b[0m \u001b[0;32min\u001b[0m \u001b[0mexp_mlp_files\u001b[0m\u001b[0;34m:\u001b[0m\u001b[0;34m\u001b[0m\u001b[0;34m\u001b[0m\u001b[0m\n\u001b[0m\u001b[1;32m      2\u001b[0m     \u001b[0mbehavior_preds\u001b[0m \u001b[0;34m=\u001b[0m \u001b[0mpd\u001b[0m\u001b[0;34m.\u001b[0m\u001b[0mread_csv\u001b[0m\u001b[0;34m(\u001b[0m\u001b[0mf\u001b[0m\u001b[0;34m)\u001b[0m\u001b[0;34m\u001b[0m\u001b[0;34m\u001b[0m\u001b[0m\n\u001b[1;32m      3\u001b[0m     \u001b[0mr\u001b[0m\u001b[0;34m,\u001b[0m \u001b[0mp\u001b[0m \u001b[0;34m=\u001b[0m \u001b[0mpearsonr\u001b[0m\u001b[0;34m(\u001b[0m\u001b[0mbehavior_preds\u001b[0m\u001b[0;34m[\u001b[0m\u001b[0;34m'behavior'\u001b[0m\u001b[0;34m]\u001b[0m\u001b[0;34m,\u001b[0m \u001b[0mbehavior_preds\u001b[0m\u001b[0;34m[\u001b[0m\u001b[0;34m'true'\u001b[0m\u001b[0;34m]\u001b[0m\u001b[0;34m)\u001b[0m\u001b[0;34m\u001b[0m\u001b[0;34m\u001b[0m\u001b[0m\n\u001b[1;32m      4\u001b[0m     \u001b[0mprint\u001b[0m\u001b[0;34m(\u001b[0m\u001b[0mf\u001b[0m\u001b[0;34m)\u001b[0m\u001b[0;34m\u001b[0m\u001b[0;34m\u001b[0m\u001b[0m\n\u001b[1;32m      5\u001b[0m     \u001b[0mprint\u001b[0m\u001b[0;34m(\u001b[0m\u001b[0;34mf\"r: {r}, p: {p}\"\u001b[0m\u001b[0;34m)\u001b[0m\u001b[0;34m\u001b[0m\u001b[0;34m\u001b[0m\u001b[0m\n",
      "\u001b[0;31mNameError\u001b[0m: name 'exp_mlp_files' is not defined"
     ]
    }
   ],
   "source": [
    "for f in exp_mlp_files:\n",
    "    behavior_preds = pd.read_csv(f)\n",
    "    r, p = pearsonr(behavior_preds['behavior'], behavior_preds['true'])\n",
    "    print(f)\n",
    "    print(f\"r: {r}, p: {p}\")\n",
    "    # behavior_results = pd.DataFrame(columns=['r', 'p'])\n",
    "    # parent_dir = pathlib.Path(f).parent\n",
    "    # behavior_results.to_csv(os.path.join(parent_dir, 'corrs.csv'), index=False)"
   ]
   "execution_count": 28,
   "metadata": {},
   "outputs": [
    {
     "data": {
      "image/png": "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",
      "text/plain": [
       "<Figure size 126x126 with 1 Axes>"
      ]
     },
     "metadata": {},
     "output_type": "display_data"
    }
   ],
   "source": [
    "import os\n",
    "import matplotlib.pyplot as plt\n",
    "import pandas as pd\n",
    "import seaborn as sns\n",
    "from tensorboard.backend.event_processing.event_accumulator import EventAccumulator\n",
    "import seaborn as sns\n",
    "from neuroformer.visualize import nature_style\n",
    "# nature_style()\n",
    "set_research_params()\n",
    "\n",
    "y_keys = [\"Loss/test_behavior\"]\n",
    "y_key_labels = [\"Behavior Loss\"]\n",
    "n_epochs = 100\n",
    "\n",
    "# fig.suptitle(\"Eye pos vs. None, Lateral DS\")\n",
    "# fig.text(0.5, 0.04, \"Epoch\", ha=\"center\", va=\"center\")\n",
    "# fig.text(0.06, 0.5, \"Neural Decoding Loss\", ha=\"center\", va=\"center\", rotation=90)\n",
    "\n",
    "color_dict = {\n",
    "    \"No Pretraining, 1%\": '#4ca3dd',\n",
    "    \"Finetune, 1%\": '#98df8a',\n",
    "    \"No Pretraining, 10%\": '#1f77b4',\n",
    "    \"Finetune, 10%\": '#2ca02c',\n",
    "    \"Full Training\": '#d62728',\n",
    "}\n",
    "\n",
    "\n",
    "\n",
    "plt.figure(figsize=(1.75, 1.75))\n",
    "for n_file, log_file in enumerate(folders):\n",
    "        key = log_file.split(\"/\")[7]\n",
    "        key_title = rename_mapping[key]\n",
    "        for idx, y_key in enumerate(y_keys):\n",
    "            event_accumulator = EventAccumulator(log_file)\n",
    "            # print(event_accumulator.Tags())\n",
    "            event_accumulator.Reload()\n",
    "            tags = event_accumulator.Tags()['scalars']\n",
    "            if y_key in tags:\n",
    "                values = event_accumulator.Scalars(y_key)\n",
    "                steps = [v.step for v in values][:n_epochs]\n",
    "                values = [v.value for v in values][:n_epochs]\n",
    "                data = pd.DataFrame({\"steps\": steps, key_title: values})\n",
    "                # sns.lineplot(data=data, x=\"steps\", y=key_title, ax=axs[idx//2, idx%2], label=key_title, color=color_dict[key_title])\n",
    "                plt.plot(steps, values, label=key_title, color=color_dict[key_title])\n",
    "\n",
    "plt.legend()\n",
    "plt.grid(zorder=0, axis='y', linewidth=0.2)\n",
    "plt.xlabel(\"Epoch\")\n",
    "plt.ylabel(\"Behavior Loss (holdout)\")\n",
    "\n",
    "plt.savefig(os.path.join(save_path, f\"losses.pdf\"), bbox_inches='tight')\n",
    "plt.savefig(os.path.join(save_path, f\"losses.png\"), bbox_inches='tight')\n",
    "\n",
    "\n",
    "# ax.get_legend().remove()\n",
    "# make background non-transparent\n",
    "# fig.patch.set_alpha(1)\n",
    "# plt.tight_layout()\n",
    "\n",
    "# save_path = \"./models/tensorboard/visnav/behavior_pred_exp/plots\"\n",
    "plt.savefig(os.path.join(save_path, \"losses.png\"), dpi=300)\n",
    "plt.savefig(os.path.join(save_path, \"losses.pdf\"), dpi=300)"
   ]
  },
  {
   "cell_type": "code",
   "execution_count": null,
   "metadata": {},
   "outputs": [],
   "source": []
  }
 ],
 "metadata": {
  "kernelspec": {
   "display_name": "neuroformer",
   "language": "python",
   "name": "python3"
  },
  "language_info": {
   "codemirror_mode": {
    "name": "ipython",
    "version": 3
   },
   "file_extension": ".py",
   "mimetype": "text/x-python",
   "name": "python",
   "nbconvert_exporter": "python",
   "pygments_lexer": "ipython3",
   "version": "3.9.15"
  },
  "orig_nbformat": 4
 },
 "nbformat": 4,
 "nbformat_minor": 2
}
