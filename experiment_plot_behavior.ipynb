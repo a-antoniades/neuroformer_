{
 "cells": [
  {
   "cell_type": "code",
   "execution_count": 1,
   "metadata": {},
   "outputs": [],
   "source": [
    "import pandas as pd\n",
    "import json\n",
    "import numpy as np\n",
    "import matplotlib.pyplot as plt\n",
    "import pathlib\n",
    "import glob\n",
    "import os"
   ]
  },
  {
   "cell_type": "code",
   "execution_count": 2,
   "metadata": {},
   "outputs": [
    {
     "name": "stdout",
     "output_type": "stream",
     "text": [
      "[\"./models/tensorboard/visnav_medial/behavior_pred_exp/classification/ablations_1/behavior_before_stim_RESUMETrue_paststateTrue_method_behavior_True_['speed']_predictbehaviorTrue_roundedFalsevisualTrue_contrastiveFalse_['id', 'frames', 'behavior_mean']_finetuning_behavior_0.1/sparse_f:None_id:None/w:0.05_wp:0.25/behavior_pred.csv\", \"./models/tensorboard/visnav_medial/behavior_pred_exp/classification/ablations_1/finetuning_1.0g/behavior_before_stim_RESUMEFalse_paststateTrue_method_behavior_True_['speed']_predictbehaviorTrue_roundedFalsevisualTrue_contrastiveFalse_['id', 'frames', 'behavior_mean']/_behavior_predict_no_pretraining_1.0/sparse_f:None_id:None/w:0.05_wp:0.25/behavior_pred.csv\", \"./models/tensorboard/visnav_medial/behavior_pred_exp/classification/ablations_1/finetuning_0.1g/behavior_before_stim_RESUMETrue_paststateTrue_method_behavior_True_['speed']_predictbehaviorTrue_roundedFalsevisualTrue_contrastiveFalse_['id', 'frames', 'behavior_mean']/_full_finetuning_2_0.1_full_finetuning_2/sparse_f:None_id:None/w:0.05_wp:0.25/behavior_pred.csv\", \"./models/tensorboard/visnav_medial/behavior_pred_exp/classification/ablations_1/finetuning_0.01g/behavior_before_stim_RESUMETrue_paststateTrue_method_behavior_True_['speed']_predictbehaviorTrue_roundedFalsevisualTrue_contrastiveFalse_['id', 'frames', 'behavior_mean']/_full_finetuning_2_0.01_full_finetuning_2/sparse_f:None_id:None/w:0.05_wp:0.25/behavior_pred.csv\", \"./models/tensorboard/visnav_medial/behavior_pred_exp/classification/ablations_1/finetuning_0.1_resumeNone/behavior_before_stim_RESUMEFalse_paststateTrue_method_behavior_True_['speed']_predictbehaviorTrue_roundedFalsevisualTrue_contrastiveFalse_['id', 'frames', 'behavior_mean']/_rand_init_0.1_0.1_rand_init_0.1/sparse_f:None_id:None/w:0.05_wp:0.25/behavior_pred.csv\", \"./models/tensorboard/visnav_medial/behavior_pred_exp/classification/ablations_1/finetuning_0.1_resumeNone/behavior_before_stim_RESUMEFalse_paststateTrue_method_behavior_True_['speed']_predictbehaviorTrue_roundedFalsevisualTrue_contrastiveFalse_['id', 'frames', 'behavior_mean']/_rand_init_0.01_0.1_rand_init_0.01/sparse_f:None_id:None/w:0.05_wp:0.25/behavior_pred.csv\", \"./models/tensorboard/visnav_medial/behavior_pred_exp/classification/ablations_1/finetuning_0.05_resumeFalse/behavior_before_stim_RESUMEFalse_paststateTrue_method_behavior_True_['speed']_predictbehaviorTrue_roundedFalsevisualTrue_contrastiveFalse_['id', 'frames', 'behavior_mean']/_full_finetuning_2_0.05_full_finetuning_2/sparse_f:None_id:None/w:0.05_wp:0.25/behavior_pred.csv\", \"./models/tensorboard/visnav_medial/behavior_pred_exp/classification/ablations_1/finetuning_0.2_resumeTrue/behavior_before_stim_RESUMETrue_paststateTrue_method_behavior_True_['speed']_predictbehaviorTrue_roundedFalsevisualTrue_contrastiveFalse_['id', 'frames', 'behavior_mean']/_full_finetuning_2_0.2_full_finetuning_2/sparse_f:None_id:None/w:0.05_wp:0.25/behavior_pred.csv\", \"./models/tensorboard/visnav_medial/behavior_pred_exp/classification/ablations_1/finetuning_0.2_resumeFalse/behavior_before_stim_RESUMEFalse_paststateTrue_method_behavior_True_['speed']_predictbehaviorTrue_roundedFalsevisualTrue_contrastiveFalse_['id', 'frames', 'behavior_mean']/_full_finetuning_2_0.2_full_finetuning_2/sparse_f:None_id:None/w:0.05_wp:0.25/behavior_pred.csv\", \"./models/tensorboard/visnav_medial/behavior_pred_exp/classification/ablations_1/finetuning_0.1_resumeTrue/behavior_before_stim_RESUMETrue_paststateTrue_method_behavior_True_['speed']_predictbehaviorTrue_roundedFalsevisualTrue_contrastiveFalse_['id', 'frames', 'behavior_mean']/_full_finetuning_2_0.1_full_finetuning_2/sparse_f:None_id:None/w:0.05_wp:0.25/behavior_pred.csv\"]\n"
     ]
    }
   ],
   "source": [
    "# pth = \"./models/tensorboard/visnav_medial/behavior_pred_exp/classification/ablations_1\"\n",
    "# pth = \"./models/tensorboard/visnav_lateral/behavior_pred_exp/classification/ablations_1\"\n",
    "pth = \"./models/tensorboard/visnav_medial/behavior_pred_exp/classification/ablations_1\"\n",
    "# get all csvs\n",
    "files = glob.glob(os.path.join(pth, \"**/behavior_pred.csv\"), recursive=True)\n",
    "print(files)"
   ]
  },
  {
   "cell_type": "code",
   "execution_count": 9,
   "metadata": {},
   "outputs": [
    {
     "name": "stdout",
     "output_type": "stream",
     "text": [
      "behavior_before_stim_RESUMETrue_paststateTrue_method_behavior_True_['speed']_predictbehaviorTrue_roundedFalsevisualTrue_contrastiveFalse_['id', 'frames', 'behavior_mean']_finetuning_behavior_0.1\n",
      "r: 0.8259978083222611, p: 0.0\n",
      "finetuning_1.0g\n",
      "r: 0.9543719127634008, p: 0.0\n",
      "finetuning_0.1g\n",
      "r: 0.05705852256284126, p: 4.329229850956206e-06\n",
      "finetuning_0.01g\n",
      "r: 0.14562249732688104, p: 4.934451721296768e-32\n",
      "finetuning_0.1_resumeNone\n",
      "r: 0.8791206794103312, p: 0.0\n",
      "finetuning_0.1_resumeNone\n",
      "r: 0.029831654711716997, p: 0.016354051645388695\n",
      "finetuning_0.05_resumeFalse\n",
      "r: 0.8262765271272164, p: 0.0\n",
      "finetuning_0.2_resumeTrue\n",
      "r: 0.8996133720595592, p: 0.0\n",
      "finetuning_0.2_resumeFalse\n",
      "r: 0.9121698637996984, p: 0.0\n",
      "finetuning_0.1_resumeTrue\n",
      "r: 0.866703293734106, p: 0.0\n"
     ]
    }
   ],
   "source": [
    "from scipy.stats import pearsonr\n",
    "corrs = dict()\n",
    "preds = dict()\n",
    "for f in files:\n",
    "    behavior_preds = pd.read_csv(f)\n",
    "    r, p = pearsonr(behavior_preds['behavior'], behavior_preds['true'])\n",
    "    print(f.split('/')[7])\n",
    "    print(f\"r: {r}, p: {p}\")\n",
    "    behavior_results = pd.DataFrame(columns=['r', 'p'])\n",
    "    parent_dir = pathlib.Path(f).parent\n",
    "    behavior_results.to_csv(os.path.join(parent_dir, 'corrs.csv'), index=False)\n",
    "    corrs[f.split('/')[7]] = r\n",
    "    preds[f.split('/')[7]] = behavior_preds['behavior'].values\n",
    "\n",
    "corrs[\"finetuning_1.0_resumeTrue\"] = 0.95\n",
    "# Add legend inside the plot\n",
    "rename_mapping = {\n",
    "    \"finetuning_0.01_resumeFalse\": \"No Pretraining, 1%\",\n",
    "    \"finetuning_0.01_resumeTrue\": \"Finetune, 1%\",\n",
    "    \"finetuning_0.1_resumeFalse\": \"No Pretraining, 10%\",\n",
    "    \"finetuning_0.1_resumeTrue\": \"Finetune, 10%\",\n",
    "    \"finetuning_1.0_resumeTrue\": \"Full Training\",\n",
    "    \n",
    "}\n",
    "corrs = {rename_mapping[k]: v for k, v in corrs.items() if k in rename_mapping.keys()}\n",
    "order = rename_mapping.values()\n",
    "# reorder according to order\n",
    "corrs = {k: abs(corrs[k]) for k in order if k in corrs.keys()}\n",
    "preds = {k: preds[k] for k in order if k in preds.keys()}"
   ]
  },
  {
   "cell_type": "code",
   "execution_count": 20,
   "metadata": {},
   "outputs": [],
   "source": [
    "exp_mlp = \"./results/behavior\"\n",
    "exp_mlp_files = glob.glob(os.path.join(exp_mlp, \"**/**.csv\"), recursive=True)"
   ]
  },
  {
   "cell_type": "code",
   "execution_count": 1,
   "metadata": {},
   "outputs": [
    {
     "data": {
      "image/png": "[encoded data removed]",
      "text/plain": [
       "<Figure size 126x126 with 1 Axes>"
      ]
     },
     "metadata": {},
     "output_type": "display_data"
    }
   ],
   "source": [
    "import os\n",
    "import matplotlib.pyplot as plt\n",
    "import pandas as pd\n",
    "import seaborn as sns\n",
    "from tensorboard.backend.event_processing.event_accumulator import EventAccumulator\n",
    "import seaborn as sns\n",
    "from neuroformer.visualize import nature_style\n",
    "# nature_style()\n",
    "set_research_params()\n",
    "\n",
    "y_keys = [\"Loss/test_behavior\"]\n",
    "y_key_labels = [\"Behavior Loss\"]\n",
    "n_epochs = 100\n",
    "\n",
    "# fig.suptitle(\"Eye pos vs. None, Lateral DS\")\n",
    "# fig.text(0.5, 0.04, \"Epoch\", ha=\"center\", va=\"center\")\n",
    "# fig.text(0.06, 0.5, \"Neural Decoding Loss\", ha=\"center\", va=\"center\", rotation=90)\n",
    "\n",
    "color_dict = {\n",
    "    \"No Pretraining, 1%\": '#4ca3dd',\n",
    "    \"Finetune, 1%\": '#98df8a',\n",
    "    \"No Pretraining, 10%\": '#1f77b4',\n",
    "    \"Finetune, 10%\": '#2ca02c',\n",
    "    \"Full Training\": '#d62728',\n",
    "}\n",
    "\n",
    "\n",
    "\n",
    "plt.figure(figsize=(1.75, 1.75))\n",
    "for n_file, log_file in enumerate(folders):\n",
    "        key = log_file.split(\"/\")[7]\n",
    "        key_title = rename_mapping[key]\n",
    "        for idx, y_key in enumerate(y_keys):\n",
    "            event_accumulator = EventAccumulator(log_file)\n",
    "            # print(event_accumulator.Tags())\n",
    "            event_accumulator.Reload()\n",
    "            tags = event_accumulator.Tags()['scalars']\n",
    "            if y_key in tags:\n",
    "                values = event_accumulator.Scalars(y_key)\n",
    "                steps = [v.step for v in values][:n_epochs]\n",
    "                values = [v.value for v in values][:n_epochs]\n",
    "                data = pd.DataFrame({\"steps\": steps, key_title: values})\n",
    "                # sns.lineplot(data=data, x=\"steps\", y=key_title, ax=axs[idx//2, idx%2], label=key_title, color=color_dict[key_title])\n",
    "                plt.plot(steps, values, label=key_title, color=color_dict[key_title])\n",
    "\n",
    "plt.legend()\n",
    "plt.grid(zorder=0, axis='y', linewidth=0.2)\n",
    "plt.xlabel(\"Epoch\")\n",
    "plt.ylabel(\"Behavior Loss (holdout)\")\n",
    "\n",
    "plt.savefig(os.path.join(save_path, f\"losses.pdf\"), bbox_inches='tight')\n",
    "plt.savefig(os.path.join(save_path, f\"losses.png\"), bbox_inches='tight')\n",
    "\n",
    "\n",
    "# ax.get_legend().remove()\n",
    "# make background non-transparent\n",
    "# fig.patch.set_alpha(1)\n",
    "# plt.tight_layout()\n",
    "\n",
    "# save_path = \"./models/tensorboard/visnav/behavior_pred_exp/plots\"\n",
    "plt.savefig(os.path.join(save_path, \"losses.png\"), dpi=300)\n",
    "plt.savefig(os.path.join(save_path, \"losses.pdf\"), dpi=300)"
   ]
  },
  {
   "cell_type": "code",
   "execution_count": null,
   "metadata": {},
   "outputs": [],
   "source": []
  }
 ],
 "metadata": {
  "kernelspec": {
   "display_name": "neuroformer",
   "language": "python",
   "name": "python3"
  },
  "language_info": {
   "codemirror_mode": {
    "name": "ipython",
    "version": 3
   },
   "file_extension": ".py",
   "mimetype": "text/x-python",
   "name": "python",
   "nbconvert_exporter": "python",
   "pygments_lexer": "ipython3",
   "version": "3.9.15"
  },
  "orig_nbformat": 4
 },
 "nbformat": 4,
 "nbformat_minor": 2
}
