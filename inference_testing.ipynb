{
 "cells": [
  {
   "cell_type": "code",
   "execution_count": 2,
   "metadata": {},
   "outputs": [
    {
     "ename": "ModuleNotFoundError",
     "evalue": "No module named 'utils'",
     "output_type": "error",
     "traceback": [
      "\u001b[0;31m---------------------------------------------------------------------------\u001b[0m",
      "\u001b[0;31mModuleNotFoundError\u001b[0m                       Traceback (most recent call last)",
      "\u001b[0;32m/tmp/ipykernel_1840851/1161884821.py\u001b[0m in \u001b[0;36m<module>\u001b[0;34m\u001b[0m\n\u001b[1;32m      1\u001b[0m \u001b[0;32mimport\u001b[0m \u001b[0mnumpy\u001b[0m \u001b[0;32mas\u001b[0m \u001b[0mnp\u001b[0m\u001b[0;34m\u001b[0m\u001b[0;34m\u001b[0m\u001b[0m\n\u001b[1;32m      2\u001b[0m \u001b[0;32mimport\u001b[0m \u001b[0mpandas\u001b[0m \u001b[0;32mas\u001b[0m \u001b[0mpd\u001b[0m\u001b[0;34m\u001b[0m\u001b[0;34m\u001b[0m\u001b[0m\n\u001b[0;32m----> 3\u001b[0;31m \u001b[0;32mfrom\u001b[0m \u001b[0mutils\u001b[0m \u001b[0;32mimport\u001b[0m \u001b[0mset_seed\u001b[0m\u001b[0;34m\u001b[0m\u001b[0;34m\u001b[0m\u001b[0m\n\u001b[0m\u001b[1;32m      4\u001b[0m \u001b[0;32mfrom\u001b[0m \u001b[0mneuroformer\u001b[0m\u001b[0;34m.\u001b[0m\u001b[0mSpikeVidUtils\u001b[0m \u001b[0;32mimport\u001b[0m \u001b[0mset_intervals\u001b[0m\u001b[0;34m\u001b[0m\u001b[0;34m\u001b[0m\u001b[0m\n\u001b[1;32m      5\u001b[0m \u001b[0;32mfrom\u001b[0m \u001b[0mneuroformer\u001b[0m\u001b[0;34m.\u001b[0m\u001b[0manalysis\u001b[0m \u001b[0;32mimport\u001b[0m \u001b[0mget_rates_trial\u001b[0m\u001b[0;34m,\u001b[0m \u001b[0mcalc_corr_psth\u001b[0m\u001b[0;34m\u001b[0m\u001b[0;34m\u001b[0m\u001b[0m\n",
      "\u001b[0;31mModuleNotFoundError\u001b[0m: No module named 'utils'"
     ]
    }
   ],
   "source": [
    "import numpy as np\n",
    "import pandas as pd\n",
    "from neuroformer.utils import set_seed\n",
    "from neuroformer.SpikeVidUtils import set_intervals\n",
    "from neuroformer.analysis import get_rates_trial, calc_corr_psth\n",
    "\n",
    "set_seed(25)\n",
    "\n",
    "window = 0.05\n",
    "window_prev = 0.25\n",
    "\n",
    "TRUE_PATH = \"./models/tensorboard/visnav_medial/behavior_pred_exp/classification/1/behavior_before_stim_RESUMEFalse_paststateFalse_method_behavior_False_None_predictbehaviorFalse_roundedFalsevisualFalse_contrastiveFalse_['id', 'frames', 'behavior_mean']/sparse_f:None_id:None/w:0.05_wp:0.25/df_pred_.csv\"\n",
    "PRED_PATH = \"./models/tensorboard/visnav_medial/behavior_pred_exp/classification/1/behavior_before_stim_RESUMEFalse_paststateFalse_method_behavior_False_None_predictbehaviorFalse_roundedFalsevisualFalse_contrastiveFalse_['id', 'frames', 'behavior_mean']/sparse_f:None_id:None/w:0.05_wp:0.25/df_pred__top_p0_.csv\"\n",
    "\n",
    "df_1 = pd.read_csv(TRUE_PATH)\n",
    "df_pred_full = pd.read_csv(PRED_PATH)\n",
    "\n",
    "window_pred = 1\n",
    "window_pred = window if window_pred is None else window_pred\n",
    "df_pred_full = set_intervals(df_pred_full, window, window_prev, window_pred)\n",
    "df_1 = set_intervals(df_1, window, window_prev, window_pred)\n",
    "\n",
    "intervals = np.array(sorted(set(df['Interval'].unique()) & set(df['Interval'].unique())))\n",
    "labels = np.array([round(window_pred + window_pred*n, 2) for n in range(0, int(max(df_pred_full['Interval']) / window_pred))])\n",
    "ids = sorted(set(df['ID'].unique()) & set(df['ID'].unique()))\n",
    "\n",
    "rates_pred = get_rates_trial(df_pred_full, labels)\n",
    "rates_1 = get_rates_trial(df_1, labels)\n",
    "\n",
    "top_corr_pred = calc_corr_psth(rates_pred, rates_1)\n"
   ]
  },
  {
   "cell_type": "code",
   "execution_count": null,
   "metadata": {},
   "outputs": [],
   "source": []
  }
 ],
 "metadata": {
  "kernelspec": {
   "display_name": "neuroformer",
   "language": "python",
   "name": "python3"
  },
  "language_info": {
   "codemirror_mode": {
    "name": "ipython",
    "version": 3
   },
   "file_extension": ".py",
   "mimetype": "text/x-python",
   "name": "python",
   "nbconvert_exporter": "python",
   "pygments_lexer": "ipython3",
   "version": "3.9.15"
  },
  "orig_nbformat": 4
 },
 "nbformat": 4,
 "nbformat_minor": 2
}
