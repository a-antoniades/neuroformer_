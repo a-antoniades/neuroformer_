{
 "cells": [
  {
   "cell_type": "code",
   "execution_count": 2,
   "metadata": {},
   "outputs": [],
   "source": [
    "import glob\n",
    "import os\n",
    "import collections\n",
    "\n",
    "import pickle\n",
    "import sys\n",
    "import glob\n",
    "from pathlib import Path, PurePath\n",
    "path = Path.cwd()\n",
    "parent_path = path.parents[1]\n",
    "sys.path.append(str(PurePath(parent_path, 'neuroformer')))\n",
    "sys.path.append('neuroformer')\n",
    "sys.path.append('.')\n",
    "sys.path.append('../')\n",
    "\n",
    "\n",
    "import pandas as pd\n",
    "import numpy as np\n",
    "from einops import rearrange\n",
    "\n",
    "from tqdm import tqdm\n",
    "import numpy as np\n",
    "import torch\n",
    "import torch.nn as nn\n",
    "from torch.nn import functional as F\n",
    "import pandas as pd\n",
    "from torch.utils.data.dataloader import DataLoader\n",
    "\n",
    "import math\n",
    "from torch.utils.data import Dataset\n",
    "\n",
    "from trainer import Trainer, TrainerConfig\n",
    "from utils import set_seed\n",
    "\n",
    "\n",
    "from scipy import io as scipyio\n",
    "from scipy.special import softmax\n",
    "import skimage\n",
    "import skvideo.io\n",
    "from utils import print_full\n",
    "from scipy.ndimage import gaussian_filter, uniform_filter\n",
    "\n",
    "\n",
    "import matplotlib.pyplot as plt\n",
    "from utils import *\n",
    "from visualize import *\n",
    "set_plot_params()\n",
    "parent_path = os.path.dirname(os.path.dirname(os.getcwd())) + \"/\"\n",
    "\n",
    "\n",
    "from model_neuroformer import GPT, GPTConfig, neuralGPTConfig, Decoder\n",
    "from trainer import Trainer, TrainerConfig\n",
    "\n",
    "\n",
    "import json\n",
    "# for i in {1..10}; do python3 -m gather_atts.py; done"
   ]
  },
  {
   "cell_type": "code",
   "execution_count": 3,
   "metadata": {},
   "outputs": [],
   "source": [
    "from neuroformer.prepare_data import load_LRN\n",
    "\n",
    "df, stimulus = load_LRN()"
   ]
  },
  {
   "cell_type": "code",
   "execution_count": 4,
   "metadata": {},
   "outputs": [],
   "source": [
    "# set up logging\n",
    "import logging\n",
    "logging.basicConfig(\n",
    "        format=\"%(asctime)s - %(levelname)s - %(name)s -   %(message)s\",\n",
    "        datefmt=\"%m/%d/%Y %H:%M:%S\",\n",
    "        level=logging.INFO,\n",
    ")"
   ]
  },
  {
   "cell_type": "code",
   "execution_count": 5,
   "metadata": {},
   "outputs": [],
   "source": [
    "from utils import set_seed\n",
    "n_seed = 25\n",
    "set_seed(n_seed)"
   ]
  },
  {
   "cell_type": "code",
   "execution_count": 6,
   "metadata": {},
   "outputs": [],
   "source": [
    "# load config files\n",
    "\n",
    "import yaml\n",
    "\n",
    "base_path = \"models/tensorboard/LRN/EOSPAD/window:0.5_prev:19.5_smooth/sparse_f:None_id:None/w:0.5_wp:19.5\"\n",
    "\n",
    "with open(os.path.join(base_path, 'mconf.yaml'), 'r') as stream:\n",
    "    mconf = yaml.full_load(stream)\n",
    "\n",
    "with open(os.path.join(base_path, 'tconf.yaml'), 'r') as stream:\n",
    "    tconf = yaml.full_load(stream)\n",
    "\n",
    "with open(os.path.join(base_path, 'dconf.yaml'), 'r') as stream:\n",
    "    dconf = yaml.full_load(stream)\n",
    "\n",
    "import omegaconf\n",
    "from omegaconf import OmegaConf\n",
    "\n",
    "# open yaml as omegacong\n",
    "mconf = OmegaConf.create(mconf)\n",
    "tconf = OmegaConf.create(tconf)\n",
    "dconf = OmegaConf.create(dconf)"
   ]
  },
  {
   "cell_type": "code",
   "execution_count": 7,
   "metadata": {},
   "outputs": [],
   "source": [
    "# df = pd.read_csv(parent_path + \"code/data/OneCombo3/Combo3_all_stim.csv\")\n",
    "w_mult = 3\n",
    "frame_window = dconf.frame_window\n",
    "window = dconf.window\n",
    "window_prev = dconf.window_prev\n",
    "dt = dconf.dt\n",
    "dt_frames = dconf.dt_frames\n",
    "# p_window = window / (window + window_prev)\n",
    "# intervals = np.load(os.path.join(base_path, \"intervals.npy\"))\n",
    "intervals = None\n",
    "\n",
    "\n",
    "from SpikeVidUtils import make_intervals\n",
    "\n",
    "df['real_interval'] = make_intervals(df, dt)\n",
    "df['Interval'] = make_intervals(df, window)\n",
    "df['Interval_2'] = make_intervals(df, window_prev)\n",
    "df = df.reset_index(drop=True)\n",
    "\n",
    "# n_dt = sorted((df['Interval_dt'].unique()).round(2)) \n",
    "max_window = max(window, window_prev)\n",
    "dt_range = math.ceil(max_window / dt) + 1  # add first / last interval for SOS / EOS'\n",
    "n_dt = [round(dt * n, 2) for n in range(dt_range)] + ['EOS'] + ['PAD']"
   ]
  },
  {
   "cell_type": "code",
   "execution_count": 8,
   "metadata": {},
   "outputs": [
    {
     "name": "stdout",
     "output_type": "stream",
     "text": [
      "9.68422611538335\n"
     ]
    }
   ],
   "source": [
    "int_trials = df.groupby(['Interval', 'Trial']).size()\n",
    "print(int_trials.mean())\n",
    "# df.groupby(['Interval', 'Trial']).agg(['nunique'])model_path\n",
    "# var_group = 'Interval_2'\n",
    "# n_unique = len(df.groupby([var_group, 'Trial']).size())\n",
    "# df.groupby([var_group, 'Trial']).size().nlargest(int(0.2 * n_unique))\n",
    "# df.groupby(['Interval_2', 'Trial']).size().mean()\n"
   ]
  },
  {
   "cell_type": "code",
   "execution_count": 9,
   "metadata": {},
   "outputs": [],
   "source": [
    "from SpikeVidUtils import SpikeTimeVidData2\n",
    "\n",
    "## resnet3d feats\n",
    "n_embd = mconf.n_embd\n",
    "frame_feats = torch.tensor(stimulus, dtype=torch.float32).transpose(1, 0)\n",
    "frame_block_size = mconf.frame_block_size  # math.ceil(frame_feats.shape[-1] * frame_window)\n",
    "n_embd_frames = mconf.n_embd_frames\n",
    "\n",
    "prev_id_block_size = mconf.prev_id_block_size    # math.ceil(frame_block_size * (1 - p_window))\n",
    "id_block_size = mconf.id_block_size           # math.ceil(frame_block_size * p_window)\n",
    "block_size = frame_block_size + id_block_size + prev_id_block_size # frame_block_size * 2  # small window for faster training\n",
    "frame_memory = dconf.frame_memory   # how many frames back does model see\n",
    "\n",
    "neurons = sorted(list(set(df['ID'])))\n",
    "id_stoi = { ch:i for i,ch in enumerate(neurons) }\n",
    "id_itos = { i:ch for i,ch in enumerate(neurons) }\n",
    "\n",
    "# translate neural embeddings to separate them from ID embeddings\n",
    "neurons = sorted(list(set(df['ID'].unique())))\n",
    "trial_tokens = [f\"Trial {n}\" for n in df['Trial'].unique()]\n",
    "feat_encodings = neurons + ['SOS'] + ['EOS'] + ['PAD']  # + pixels \n",
    "stoi = { ch:i for i,ch in enumerate(feat_encodings) }\n",
    "itos = { i:ch for i,ch in enumerate(feat_encodings) }\n",
    "stoi_dt = { ch:i for i,ch in enumerate(n_dt) }\n",
    "itos_dt = { i:ch for i,ch in enumerate(n_dt) }\n"
   ]
  },
  {
   "cell_type": "code",
   "execution_count": 10,
   "metadata": {},
   "outputs": [],
   "source": [
    "r_split = 0.8\n",
    "train_trials = sorted(df['Trial'].unique())[:int(len(df['Trial'].unique()) * r_split)]\n",
    "train_data = df[df['Trial'].isin(train_trials)]\n",
    "test_data = df[~df['Trial'].isin(train_trials)]\n",
    "\n"
   ]
  },
  {
   "cell_type": "code",
   "execution_count": 11,
   "metadata": {},
   "outputs": [
    {
     "name": "stdout",
     "output_type": "stream",
     "text": [
      "Length: 705418 Neurons: 1003 Pixels: 0.\n",
      "id block size: 150\n",
      "frames: 200, id: 150\n",
      "Length: 177367 Neurons: 1003 Pixels: 0.\n",
      "id block size: 150\n",
      "frames: 200, id: 150\n",
      "train: 58888, test: 14725\n"
     ]
    }
   ],
   "source": [
    "from SpikeVidUtils import SpikeTimeVidData2\n",
    "\n",
    "# train_dat1aset = spikeTimeData(spikes, block_size, dt, stoi, itos)\n",
    "\n",
    "\n",
    "train_dataset = SpikeTimeVidData2(train_data, None, block_size, id_block_size, frame_block_size, prev_id_block_size, \n",
    "                                  window, dt, frame_memory, stoi, itos, neurons, stoi_dt, itos_dt, frame_feats,\n",
    "                                  pred=False, window_prev=window_prev, frame_window=frame_window,\n",
    "                                  dt_frames=dt_frames, intervals=intervals)\n",
    "test_dataset = SpikeTimeVidData2(test_data, None, block_size, id_block_size, frame_block_size, prev_id_block_size, \n",
    "                                 window, dt, frame_memory, stoi, itos, neurons, stoi_dt, itos_dt, frame_feats, \n",
    "                                 pred=False, window_prev=window_prev, frame_window=frame_window,\n",
    "                                 dt_frames=dt_frames, intervals=intervals)\n",
    "\n",
    "print(f'train: {len(train_dataset)}, test: {len(test_dataset)}')"
   ]
  },
  {
   "cell_type": "code",
   "execution_count": 12,
   "metadata": {},
   "outputs": [],
   "source": [
    "# from utils import get_class_weights\n",
    "# class_weights = get_class_weights(train_dataset, stoi, stoi_dt)"
   ]
  },
  {
   "cell_type": "code",
   "execution_count": 13,
   "metadata": {},
   "outputs": [
    {
     "name": "stdout",
     "output_type": "stream",
     "text": [
      "51200\n"
     ]
    },
    {
     "name": "stderr",
     "output_type": "stream",
     "text": [
      "02/15/2023 12:52:35 - INFO - model_neuroformer_LRN -   number of parameters: 1.201178e+08\n"
     ]
    }
   ],
   "source": [
    "from model_neuroformer_LRN import GPT, GPTConfig\n",
    "# initialize config class and model (holds hyperparameters)\n",
    "   \n",
    "conv_layer = False\n",
    "mconf = GPTConfig(train_dataset.population_size, block_size,    # frame_block_size\n",
    "                        id_vocab_size=train_dataset.id_population_size,\n",
    "                        frame_block_size=frame_block_size,\n",
    "                        id_block_size=id_block_size,  # frame_block_size\n",
    "                        prev_id_block_size=prev_id_block_size,\n",
    "                        sparse_mask=False, p_sparse=0.25, \n",
    "                        sparse_topk_frame=None, sparse_topk_id=None, sparse_topk_prev_id=None,\n",
    "                        n_dt=len(n_dt),\n",
    "                        data_size=train_dataset.size,\n",
    "                        class_weights=None,\n",
    "                        pretrain=False,\n",
    "                        n_state_layers=mconf.n_state_layers, n_state_history_layers=mconf.n_state_history_layers,\n",
    "                        n_stimulus_layers=mconf.n_stimulus_layers, self_att_layers=mconf.self_att_layers,\n",
    "                        n_head=mconf.n_head, n_embd=mconf.n_embd, \n",
    "                        contrastive=True, clip_emb=1024, clip_temp=0.5,\n",
    "                        temp_emb=True, pos_emb=False,\n",
    "                        id_drop=0.35, im_drop=0.35,\n",
    "                        window=window, window_prev=window_prev, frame_window=frame_window, dt=dt,\n",
    "                        neurons=neurons, stoi_dt=stoi_dt, itos_dt=itos_dt, n_embd_frames=n_embd_frames,\n",
    "                        ignore_index_id=stoi['PAD'], ignore_index_dt=stoi_dt['PAD'])  # 0.35\n",
    "model = GPT(mconf)\n"
   ]
  },
  {
   "cell_type": "code",
   "execution_count": 14,
   "metadata": {},
   "outputs": [],
   "source": [
    "layers = (mconf.n_state_layers, mconf.n_state_history_layers, mconf.n_stimulus_layers)\n",
    "max_epochs = 125\n",
    "batch_size = round((16))\n",
    "shuffle = True\n",
    "\n",
    "weighted = True if mconf.class_weights is not None else False\n",
    "title =  f'window:{window}_prev:{window_prev}_smooth'\n",
    "model_path = f\"\"\"./models/tensorboard/LRN/ignore_index/{title}/sparse_f:{mconf.sparse_topk_frame}_id:{mconf.sparse_topk_id}/w:{window}_wp:{window_prev}/{6}_Cont:{mconf.contrastive}_window:{window}_f_window:{frame_window}_df:{dt}_blocksize:{id_block_size}_conv_{conv_layer}_shuffle:{shuffle}_batch:{batch_size}_sparse_({mconf.sparse_topk_frame}_{mconf.sparse_topk_id})_blocksz{block_size}_pos_emb:{mconf.pos_emb}_temp_emb:{mconf.temp_emb}_drop:{mconf.id_drop}_dt:{shuffle}_2.0_{max(stoi_dt.values())}_max{dt}_{layers}_{mconf.n_head}_{mconf.n_embd}.pt\"\"\"\n",
    "\n",
    "tconf = TrainerConfig(max_epochs=max_epochs, batch_size=batch_size, learning_rate=1e-4, \n",
    "                    num_workers=4, lr_decay=True, patience=3, warmup_tokens=8e7, \n",
    "                    decay_weights=True, weight_decay=0.2, shuffle=shuffle,\n",
    "                    final_tokens=len(train_dataset)*(id_block_size) * (max_epochs),\n",
    "                    clip_norm=1.0, grad_norm_clip=1.0,\n",
    "                    dataset='higher_order', mode='predict',\n",
    "                    block_size=train_dataset.block_size,\n",
    "                    id_block_size=train_dataset.id_block_size,\n",
    "                    show_grads=False, plot_raster=False,\n",
    "                    ckpt_path=model_path, no_pbar=False, \n",
    "                    dist=False, save_every=1000)\n",
    "\n",
    "# trainer = Trainer(model, train_dataset, test_dataset, tconf, mconf)\n",
    "# trainer.train()"
   ]
  },
  {
   "cell_type": "code",
   "execution_count": 15,
   "metadata": {},
   "outputs": [],
   "source": [
    "loader = DataLoader(train_dataset, batch_size=32 * 8, shuffle=shuffle, num_workers=4, pin_memory=True)\n",
    "iterable = iter(loader)\n"
   ]
  },
  {
   "cell_type": "code",
   "execution_count": 16,
   "metadata": {},
   "outputs": [],
   "source": [
    "x, y = next(iterable)"
   ]
  },
  {
   "cell_type": "code",
   "execution_count": 17,
   "metadata": {},
   "outputs": [
    {
     "data": {
      "text/plain": [
       "<All keys matched successfully>"
      ]
     },
     "execution_count": 17,
     "metadata": {},
     "output_type": "execute_result"
    }
   ],
   "source": [
    "\"\"\"\n",
    "\n",
    "RUN SIMULATION\n",
    "\n",
    "\"\"\"\n",
    "\n",
    "from utils import *\n",
    "from IPython.utils import io\n",
    "# top_p=0.25, top_p_t=0.9, temp=2.\n",
    "\n",
    "model_weights = glob.glob(os.path.join(base_path, '**/**.pt'), recursive=True)\n",
    "model_weights = sorted(model_weights, key=os.path.getmtime, reverse=True)\n",
    "assert len(model_weights) > 0, \"No model weights found\"\n",
    "\n",
    "if model_path in model_weights:\n",
    "    load_weights = model_path\n",
    "else:\n",
    "    load_weights = model_weights[0]\n",
    "\n",
    "model.load_state_dict(torch.load(load_weights, map_location=torch.device('cpu')))"
   ]
  },
  {
   "cell_type": "code",
   "execution_count": 47,
   "metadata": {},
   "outputs": [
    {
     "name": "stdout",
     "output_type": "stream",
     "text": [
      "Trial: 401\n",
      "Length: 1494 Neurons: 1003 Pixels: 0.\n",
      "id block size: 150\n",
      "frames: 200, id: 150\n"
     ]
    },
    {
     "name": "stderr",
     "output_type": "stream",
     "text": [
      "len pred: 1625, len true: 1488: 100%|██████████| 149/149 [06:17<00:00,  2.53s/it]\n"
     ]
    },
    {
     "name": "stdout",
     "output_type": "stream",
     "text": [
      "SOS fouuuund: 0\n",
      "EOS fouuuund: 149\n",
      "pred: (1583, 5), true: (1339, 2)\n",
      "Trial: 402\n",
      "Length: 1842 Neurons: 1003 Pixels: 0.\n",
      "id block size: 150\n",
      "frames: 200, id: 150\n"
     ]
    },
    {
     "name": "stderr",
     "output_type": "stream",
     "text": [
      "len pred: 1972, len true: 1809: 100%|██████████| 150/150 [06:37<00:00,  2.65s/it]\n"
     ]
    },
    {
     "name": "stdout",
     "output_type": "stream",
     "text": [
      "SOS fouuuund: 0\n",
      "EOS fouuuund: 150\n",
      "pred: (1943, 5), true: (1659, 2)\n",
      "Trial: 403\n",
      "Length: 1905 Neurons: 1003 Pixels: 0.\n",
      "id block size: 150\n",
      "frames: 200, id: 150\n"
     ]
    },
    {
     "name": "stderr",
     "output_type": "stream",
     "text": [
      "len pred: 1982, len true: 1924: 100%|██████████| 144/144 [04:59<00:00,  2.08s/it]\n"
     ]
    },
    {
     "name": "stdout",
     "output_type": "stream",
     "text": [
      "SOS fouuuund: 0\n",
      "EOS fouuuund: 144\n",
      "pred: (1951, 5), true: (1780, 2)\n",
      "Trial: 404\n",
      "Length: 1606 Neurons: 1003 Pixels: 0.\n",
      "id block size: 150\n",
      "frames: 200, id: 150\n"
     ]
    },
    {
     "name": "stderr",
     "output_type": "stream",
     "text": [
      "len pred: 1829, len true: 1683: 100%|██████████| 152/152 [04:40<00:00,  1.85s/it]\n"
     ]
    },
    {
     "name": "stdout",
     "output_type": "stream",
     "text": [
      "SOS fouuuund: 0\n",
      "EOS fouuuund: 152\n",
      "pred: (1791, 5), true: (1531, 2)\n",
      "defaultdict(<class 'list'>, {'precision': 0.043900198623553544, 'recall': 0.039103438259784365, 'F1': 0.03616738384374672})\n",
      "pred: 7268, true: 6309\n"
     ]
    }
   ],
   "source": [
    "from utils import predict_raster_recursive_time_auto\n",
    "\n",
    "trials = test_data['Trial'].unique()[:4]\n",
    "results_dict = dict()\n",
    "df_pred = None\n",
    "df_true = None\n",
    "\n",
    "top_p = 0.75\n",
    "top_p_t = 0.75\n",
    "temp = 1.2\n",
    "temp_t = 1.2\n",
    "\n",
    "for trial in trials:    # test_data['Trial'].unique():\n",
    "    # with io.capture_output() as captured:\n",
    "        print(f\"Trial: {trial}\")\n",
    "        df_trial = df[df['Trial'] == trial]\n",
    "        trial_dataset = SpikeTimeVidData2(df_trial,  None, block_size, id_block_size, frame_block_size, prev_id_block_size, \n",
    "                                  window, dt, frame_memory, stoi, itos, neurons, stoi_dt, itos_dt, frame_feats, \n",
    "                                  pred=False, window_prev=window_prev, frame_window=frame_window, start_interval=20,\n",
    "                                  dt_frames=dt_frames)\n",
    "        trial_loader = DataLoader(trial_dataset, shuffle=False, pin_memory=False)\n",
    "        results_trial = predict_raster_recursive_time_auto(model, trial_dataset, window, window_prev, stoi, itos_dt, itos=itos, \n",
    "                                                           sample=True, top_p=top_p, top_p_t=top_p_t, temp=temp, temp_t=temp_t, frame_end=0, get_dt=True, gpu=False, pred_dt=True)\n",
    "        # results_trial = predict_raster_hungarian(model, loader, itos_dt, top_p=0.75, temp=1)\n",
    "        # print(f\"MAX ID ---- {sorted(results_trial['ID'].unique()[-10])}\")\n",
    "        df_trial_pred, df_trial_true = process_predictions(results_trial, stoi, itos, window)\n",
    "        print(f\"pred: {df_trial_pred.shape}, true: {df_trial_true.shape}\" )\n",
    "        if df_pred is None:\n",
    "            df_pred = df_trial_pred\n",
    "            df_true = df_trial_true\n",
    "        else:\n",
    "            df_pred = pd.concat([df_pred, df_trial_pred])\n",
    "            df_true = pd.concat([df_true, df_trial_true])\n",
    "\n",
    "\n",
    "from analysis import compute_scores\n",
    "scores = compute_scores(df[df['Trial'].isin(trials)], df_pred)\n",
    "print(scores)\n",
    "print(f\"pred: {len(df_pred)}, true: {len(df_true)}\" )"
   ]
  },
  {
   "cell_type": "code",
   "execution_count": 48,
   "metadata": {},
   "outputs": [
    {
     "name": "stdout",
     "output_type": "stream",
     "text": [
      "\n",
      "\n",
      "\n",
      "\n"
     ]
    }
   ],
   "source": [
    "from SpikeVidUtils import set_intevals\n",
    "from analysis import get_rates_trial, calc_corr_psth\n",
    "\n",
    "df_3 = df[df['Trial'].isin(trials + 2)]\n",
    "df_1 = df[df['Trial'].isin(trials)]\n",
    "df_2 = df[df['Trial'].isin(trials + 1)]\n",
    "\n",
    "df_pred_full = df_pred\n",
    "df_list = [df_pred_full, df_1, df_2, df_3]\n",
    "\n",
    "window_pred = 5\n",
    "min_window = df_pred_full['Interval'].min()\n",
    "max_window = df['Interval'].max() - (window)\n",
    "df_pred_full = set_intevals(df_pred_full, window, window_prev, max_window, window_pred, min_window)\n",
    "df_1 = set_intevals(df_1, window, window_prev, max_window, window_pred, min_window)\n",
    "df_2 = set_intevals(df_2, window, window_prev, max_window, window_pred, min_window)\n",
    "df_3 = set_intevals(df_3, window, window_prev, max_window, window_pred, min_window)\n",
    "\n",
    "window_pred = window if window_pred is None else window_pred\n",
    "intervals = np.array(sorted(set(df['Interval'].unique()) & set(df['Interval'].unique())))\n",
    "labels = np.array([round(window_pred + window_pred*n, 2) for n in range(0, int(max(df_pred_full['Interval']) / window_pred))])\n",
    "ids = sorted(set(df['ID'].unique()) & set(df['ID'].unique()))\n",
    "\n",
    "# labels = sorted(set(df_pred_full['Interval'].unique()))\n",
    "rates_pred = get_rates_trial(df_pred_full, labels)\n",
    "rates_1 = get_rates_trial(df_1, labels)\n",
    "rates_2 = get_rates_trial(df_2, labels)\n",
    "rates_3 = get_rates_trial(df_3, labels)\n",
    "\n",
    "top_corr_pred = calc_corr_psth(rates_pred, rates_1)\n",
    "top_corr_real = calc_corr_psth(rates_1, rates_2)\n",
    "top_corr_real_2 = calc_corr_psth(rates_1, rates_3)"
   ]
  },
  {
   "cell_type": "code",
   "execution_count": 49,
   "metadata": {},
   "outputs": [
    {
     "name": "stdout",
     "output_type": "stream",
     "text": [
      "id_pred: 942, id_true_1: 967, id_true_2: 981\n",
      "len_pred: 6907, len_true: 6050\n",
      "real: defaultdict(<class 'list'>, {'precision': 0.75, 'recall': 0.75, 'F1': 0.75})\n",
      "pred: defaultdict(<class 'list'>, {'precision': 0.3248734035269866, 'recall': 0.2251314066890905, 'F1': 0.2584862526896076})\n"
     ]
    },
    {
     "data": {
      "image/png": "[encoded data removed]",
      "text/plain": [
       "<Figure size 720x720 with 1 Axes>"
      ]
     },
     "metadata": {},
     "output_type": "display_data"
    },
    {
     "name": "stdout",
     "output_type": "stream",
     "text": [
      "967\n"
     ]
    },
    {
     "data": {
      "text/plain": [
       "<Figure size 432x288 with 0 Axes>"
      ]
     },
     "metadata": {},
     "output_type": "display_data"
    },
    {
     "data": {
      "image/png": "[encoded data removed]",
      "text/plain": [
       "<Figure size 2160x1440 with 1 Axes>"
      ]
     },
     "metadata": {},
     "output_type": "display_data"
    },
    {
     "name": "stdout",
     "output_type": "stream",
     "text": [
      "model: window:0.5_prev:19.5_smooth_top_p0.75_top_p0.75\n"
     ]
    }
   ],
   "source": [
    "\"\"\"\n",
    "\n",
    "Evaluate results\n",
    "\n",
    "\"\"\"\n",
    "\n",
    "from visualize import *\n",
    "\n",
    "# df_2['Trial'] -= 2\n",
    "id_pred, id_true_1, id_true_2 = len(df_pred_full['ID'].unique()), len(df_1['ID'].unique()), len(df_2['ID'].unique())\n",
    "print(f\"id_pred: {id_pred}, id_true_1: {id_true_1}, id_true_2: {id_true_2}\")\n",
    "\n",
    "len_pred, len_true = len(df_pred_full), len(df_1)\n",
    "print(f\"len_pred: {len_pred}, len_true: {len_true}\")\n",
    "\n",
    "accuracy = get_accuracy(df_pred, df_2)\n",
    "\n",
    "scores = compute_scores(df_1, df_2)\n",
    "pred_scores = compute_scores(df_1, df_pred_full)\n",
    "print(f\"real: {scores}\")\n",
    "print(f\"pred: {pred_scores}\")\n",
    "\n",
    "set_plot_white()\n",
    "plt.figure(figsize=(10, 10), facecolor='white')\n",
    "plt.title(f'PSTH Correlations (V1 + AL) {title}', fontsize=25)\n",
    "plt.ylabel('Count (n)', fontsize=25)\n",
    "plt.xlabel('Pearson r', fontsize=25)\n",
    "plt.hist(top_corr_real, label='real - real2', alpha=0.6)\n",
    "# plt.hist(top_corr_real_2, label='real - real3', alpha=0.6)\n",
    "plt.hist(top_corr_pred, label='real - simulated', alpha=0.6)\n",
    "plt.legend(fontsize=20)\n",
    "plt.show()\n",
    "\n",
    "dir_name = os.path.dirname(model_path)\n",
    "model_name = os.path.basename(model_path)\n",
    "\n",
    "title = title + f'_top_p{top_p}'\n",
    "plt.savefig(os.path.join(dir_name, F'psth_corr_{title}_.svg'))\n",
    "df_pred.to_csv(os.path.join(dir_name, F'df_pred_{title}_.csv'))\n",
    "\n",
    "plot_distribution(df_1, df_pred, save_path=os.path.join(dir_name, F'psth_dist_.svg'))\n",
    "\n",
    "total_scores = dict()\n",
    "total_scores['real'] = scores\n",
    "total_scores['pred'] = pred_scores\n",
    "\n",
    "print(f\"model: {title}\")"
   ]
  },
  {
   "cell_type": "code",
   "execution_count": 50,
   "metadata": {},
   "outputs": [
    {
     "data": {
      "text/plain": [
       "4"
      ]
     },
     "execution_count": 50,
     "metadata": {},
     "output_type": "execute_result"
    }
   ],
   "source": [
    "len(df_pred_full['ID'].unique())\n",
    "len(df_1['ID'].unique())\n",
    "\n",
    "len(df_pred_full['Trial'].unique())\n",
    "len(df_1['Trial'].unique())"
   ]
  },
  {
   "cell_type": "code",
   "execution_count": 51,
   "metadata": {},
   "outputs": [],
   "source": [
    "loader = DataLoader(train_dataset, batch_size=5, shuffle=False, pin_memory=False)\n",
    "iterable = iter(train_dataset)"
   ]
  },
  {
   "cell_type": "code",
   "execution_count": 52,
   "metadata": {},
   "outputs": [
    {
     "name": "stdout",
     "output_type": "stream",
     "text": [
      "iv: 20.5, ix+window: 21.0 pid: tensor([ 1.0000, 20.5000]) cid: tensor([20.5000, 21.0000])\n",
      "x: ['SOS', 'EOS']\n",
      "xid_prev: ['SOS', 855.0, 959.0, 922.0, 972.0, 142.0, 892.0, 889.0, 904.0, 919.0, 69.0, 91.0, 878.0, 912.0, 931.0, 11.0, 998.0, 987.0, 946.0, 906.0, 984.0, 868.0, 43.0, 952.0, 26.0, 960.0, 39.0, 909.0, 961.0, 853.0, 943.0, 982.0, 95.0, 4.0, 973.0, 971.0, 966.0, 944.0, 951.0, 718.0, 750.0, 937.0, 983.0, 893.0, 874.0, 887.0, 977.0, 928.0, 814.0, 933.0, 892.0, 902.0, 845.0, 866.0, 13.0, 827.0, 950.0, 10.0, 940.0, 877.0, 883.0, 829.0, 856.0, 865.0, 84.0, 768.0, 917.0, 909.0, 925.0, 979.0, 825.0, 904.0, 793.0, 930.0, 811.0, 832.0, 806.0, 884.0, 805.0, 836.0, 875.0, 908.0, 9.0, 834.0, 880.0, 881.0, 888.0, 901.0, 949.0, 841.0, 873.0, 15.0, 852.0, 863.0, 869.0, 833.0, 857.0, 858.0, 872.0, 882.0, 922.0, 763.0, 784.0, 846.0, 860.0, 867.0, 871.0, 903.0, 913.0, 916.0, 920.0, 942.0, 785.0, 804.0, 837.0, 838.0, 843.0, 847.0, 878.0, 899.0, 924.0, 927.0, 944.0, 752.0, 779.0, 812.0, 818.0, 820.0, 821.0, 895.0, 898.0, 900.0, 912.0, 947.0, 948.0, 755.0, 761.0, 769.0, 782.0, 810.0, 826.0, 850.0, 859.0, 864.0, 870.0, 876.0, 891.0, 894.0, 905.0, 907.0, 918.0, 936.0, 946.0, 772.0, 790.0, 791.0, 798.0, 808.0, 819.0, 828.0, 830.0, 831.0, 835.0, 844.0, 853.0, 855.0, 862.0, 868.0, 885.0, 886.0, 896.0, 906.0, 937.0, 955.0, 976.0, 760.0, 765.0, 770.0, 774.0, 780.0, 783.0, 795.0, 807.0, 809.0, 813.0, 823.0, 842.0, 851.0, 854.0, 879.0, 889.0, 897.0, 929.0, 932.0, 941.0, 957.0, 963.0, 968.0, 985.0, 739.0, 744.0, 749.0, 754.0, 758.0, 764.0, 767.0, 771.0, 773.0, 775.0, 778.0, 788.0, 796.0, 799.0, 800.0, 816.0, 817.0, 893.0, 910.0, 935.0, 939.0, 945.0, 954.0, 958.0, 959.0, 964.0, 972.0, 984.0, 703.0, 725.0, 740.0, 750.0, 776.0, 777.0, 794.0, 801.0, 802.0, 839.0, 840.0, 848.0, 849.0, 861.0, 887.0, 911.0, 951.0, 952.0, 980.0, 706.0, 756.0, 781.0, 789.0, 797.0, 803.0, 815.0, 824.0, 874.0, 914.0, 931.0, 934.0, 960.0, 973.0, 975.0, 654.0, 733.0, 735.0, 762.0, 822.0, 919.0, 938.0, 970.0, 971.0, 983.0, 986.0, 704.0, 710.0, 734.0, 747.0, 748.0, 753.0, 757.0, 890.0, 915.0, 926.0, 956.0, 967.0, 990.0, 993.0, 996.0, 718.0, 724.0, 726.0, 751.0, 786.0, 787.0, 921.0, 953.0, 981.0, 995.0, 711.0, 715.0, 717.0, 722.0, 728.0, 738.0, 741.0, 736.0, 742.0, 759.0, 719.0, 721.0, 730.0, 923.0, 716.0, 723.0, 792.0, 707.0, 41.0, 684.0, 943.0, 766.0, 678.0, 982.0, 49.0, 705.0, 679.0, 'EOS', 'PAD', 'PAD', 'PAD']\n"
     ]
    },
    {
     "data": {
      "text/html": [
       "<div>\n",
       "<style scoped>\n",
       "    .dataframe tbody tr th:only-of-type {\n",
       "        vertical-align: middle;\n",
       "    }\n",
       "\n",
       "    .dataframe tbody tr th {\n",
       "        vertical-align: top;\n",
       "    }\n",
       "\n",
       "    .dataframe thead th {\n",
       "        text-align: right;\n",
       "    }\n",
       "</style>\n",
       "<table border=\"1\" class=\"dataframe\">\n",
       "  <thead>\n",
       "    <tr style=\"text-align: right;\">\n",
       "      <th></th>\n",
       "      <th>Time</th>\n",
       "      <th>ID</th>\n",
       "      <th>Trial</th>\n",
       "      <th>real_interval</th>\n",
       "      <th>Interval</th>\n",
       "      <th>Interval_2</th>\n",
       "    </tr>\n",
       "  </thead>\n",
       "  <tbody>\n",
       "    <tr>\n",
       "      <th>322</th>\n",
       "      <td>20.5</td>\n",
       "      <td>679.0</td>\n",
       "      <td>1</td>\n",
       "      <td>20.5</td>\n",
       "      <td>20.5</td>\n",
       "      <td>39.0</td>\n",
       "    </tr>\n",
       "  </tbody>\n",
       "</table>\n",
       "</div>"
      ],
      "text/plain": [
       "     Time     ID  Trial  real_interval  Interval  Interval_2\n",
       "322  20.5  679.0      1           20.5      20.5        39.0"
      ]
     },
     "execution_count": 52,
     "metadata": {},
     "output_type": "execute_result"
    }
   ],
   "source": [
    "x, y = next(iterable)\n",
    "\n",
    "T = len(x['id'])\n",
    "P = x['pad'] - 1\n",
    "T_prev = len(x['id_prev'])\n",
    "P_prev = x['pad_prev'] - 4\n",
    "\n",
    "iv = float(x['interval'])\n",
    "\n",
    "xid = x['id'][: T - P]\n",
    "xid = [itos[int(i)] for i in xid]\n",
    "\n",
    "xid_prev = x['id_prev'][: T_prev - P_prev]\n",
    "xid_prev = [itos[int(i)] for i in xid_prev]\n",
    "\n",
    "print(f\"iv: {iv}, ix+window: {iv + window} pid: {x['pid']} cid: {x['cid']}\")\n",
    "print(f\"x: {xid}\")\n",
    "\n",
    "print(f\"xid_prev: {xid_prev}\")\n",
    "\n",
    "tdiff = 0.1\n",
    "t_var = 'Time' # 'Interval'\n",
    "int_var = 'cid'\n",
    "# df[(df[t_var] >= iv - tdiff) & (df[t_var] <= iv + (window + tdiff)) & (df['Trial'] == int(x['trial']))]\n",
    "# df[(df[t_var] >= float(x[int_var][0]) - tdiff) & (df[t_var] <= float(x[int_var][1] + tdiff)) & (df['Trial'] == int(x['trial']))]\n",
    "df[(df[t_var] > float(x[int_var][0]) - tdiff) & (df[t_var] <= float(x['cid'][1] + tdiff)) & (df['Trial'] == int(x['trial']))]\n",
    "\n",
    "# t_var = 'Time' # 'Interval'\n",
    "# int_var = 'pid'\n",
    "# df[(df[t_var] > round(float(x[int_var][0]), 2) - tdiff) & (df[t_var] <= round(float(x[int_var][1]), 2)) & (df['Trial'] == int(x['trial']))]"
   ]
  },
  {
   "cell_type": "code",
   "execution_count": 53,
   "metadata": {},
   "outputs": [],
   "source": [
    "loader = DataLoader(train_dataset, batch_size=5, shuffle=False, pin_memory=False)\n",
    "iterable = iter(loader)"
   ]
  },
  {
   "cell_type": "code",
   "execution_count": 54,
   "metadata": {},
   "outputs": [],
   "source": [
    "x, y = next(iterable)"
   ]
  },
  {
   "cell_type": "code",
   "execution_count": null,
   "metadata": {},
   "outputs": [],
   "source": [
    "model.cpu()\n",
    "preds, features, loss = model(x, y)"
   ]
  }
 ],
 "metadata": {
  "kernelspec": {
   "display_name": "neuroformer",
   "language": "python",
   "name": "python3"
  },
  "language_info": {
   "codemirror_mode": {
    "name": "ipython",
    "version": 3
   },
   "file_extension": ".py",
   "mimetype": "text/x-python",
   "name": "python",
   "nbconvert_exporter": "python",
   "pygments_lexer": "ipython3",
   "version": "3.9.15"
  },
  "orig_nbformat": 4,
  "vscode": {
   "interpreter": {
    "hash": "d081bc067bf79be810ce3d13e0a50750de639b750af8f2c90615b4772e48a538"
   }
  }
 },
 "nbformat": 4,
 "nbformat_minor": 2
}
