{
 "cells": [
  {
   "cell_type": "code",
   "execution_count": 2,
   "metadata": {},
   "outputs": [],
   "source": [
    "import glob\n",
    "import os\n",
    "import collections\n",
    "\n",
    "import pickle\n",
    "import sys\n",
    "import glob\n",
    "from pathlib import Path, PurePath\n",
    "path = Path.cwd()\n",
    "parent_path = path.parents[1]\n",
    "sys.path.append(str(PurePath(parent_path, 'neuroformer')))\n",
    "sys.path.append('neuroformer')\n",
    "sys.path.append('.')\n",
    "sys.path.append('../')\n",
    "\n",
    "\n",
    "import pandas as pd\n",
    "import numpy as np\n",
    "from einops import rearrange\n",
    "\n",
    "from tqdm import tqdm\n",
    "import numpy as np\n",
    "import torch\n",
    "import torch.nn as nn\n",
    "from torch.nn import functional as F\n",
    "import pandas as pd\n",
    "from torch.utils.data.dataloader import DataLoader\n",
    "\n",
    "import math\n",
    "from torch.utils.data import Dataset\n",
    "\n",
    "from trainer import Trainer, TrainerConfig\n",
    "from utils import set_seed\n",
    "\n",
    "\n",
    "from scipy import io as scipyio\n",
    "from scipy.special import softmax\n",
    "import skimage\n",
    "import skvideo.io\n",
    "from utils import print_full\n",
    "from scipy.ndimage import gaussian_filter, uniform_filter\n",
    "\n",
    "\n",
    "import matplotlib.pyplot as plt\n",
    "from utils import *\n",
    "from visualize import *\n",
    "set_plot_params()\n",
    "parent_path = os.path.dirname(os.path.dirname(os.getcwd())) + \"/\"\n",
    "\n",
    "\n",
    "from model_neuroformer import GPT, GPTConfig, neuralGPTConfig, Decoder\n",
    "from trainer import Trainer, TrainerConfig\n",
    "\n",
    "\n",
    "import json\n",
    "# for i in {1..10}; do python3 -m gather_atts.py; done"
   ]
  },
  {
   "cell_type": "code",
   "execution_count": 2,
   "metadata": {},
   "outputs": [],
   "source": [
    "base_path = \"data/LargeRandNet/\"\n",
    "stim_path = \"data/LargeRandNet/LargeRandNet_cosinput.csv\"\n",
    "response_path = \"data/LargeRandNet/LargeRandNet_SpikeTime.csv\"\n",
    "\n",
    "if not os.path.exists(response_path):\n",
    "    print(\"Downloading data...\")\n",
    "    import gdown\n",
    "    url = \"https://drive.google.com/drive/folders/1vxHg7FaFQDjQZUNMgvo5wAOlFIcZ2uv-?usp=share_link\"\n",
    "    gdown.download_folder(id=url, quiet=False, use_cookies=False, output=\"data/LargeRandNet/\")\n",
    "\n",
    "\n",
    "# Load Data\n",
    "stimulus = np.loadtxt(stim_path, delimiter=',')\n",
    "df = pd.read_csv(response_path, names=['Time', 'ID'])\n",
    "df['Time'] = df['Time'].round(4)\n",
    "df['Trial'] = df['Time'].apply(lambda x: x // 100 + 1).astype(int)\n",
    "df['Time'] = df['Time'].apply(lambda x: x - ((x // 100) * 100)).round(2)\n",
    "\n",
    "\n"
   ]
  },
  {
   "cell_type": "code",
   "execution_count": 3,
   "metadata": {},
   "outputs": [],
   "source": [
    "# set up logging\n",
    "import logging\n",
    "logging.basicConfig(\n",
    "        format=\"%(asctime)s - %(levelname)s - %(name)s -   %(message)s\",\n",
    "        datefmt=\"%m/%d/%Y %H:%M:%S\",\n",
    "        level=logging.INFO,\n",
    ")\n",
    "\n",
    "\n"
   ]
  },
  {
   "cell_type": "code",
   "execution_count": 4,
   "metadata": {},
   "outputs": [],
   "source": [
    "from utils import set_seed\n",
    "n_seed = 25\n",
    "set_seed(n_seed)\n",
    "\n",
    "\n"
   ]
  },
  {
   "cell_type": "code",
   "execution_count": 5,
   "metadata": {},
   "outputs": [
    {
     "data": {
      "text/plain": [
       "(1000, 1000)"
      ]
     },
     "execution_count": 5,
     "metadata": {},
     "output_type": "execute_result"
    }
   ],
   "source": [
    "stimulus.shape\n",
    "\n"
   ]
  },
  {
   "cell_type": "code",
   "execution_count": 6,
   "metadata": {},
   "outputs": [
    {
     "data": {
      "text/plain": [
       "[<matplotlib.lines.Line2D at 0x7f16ccf0e280>]"
      ]
     },
     "execution_count": 6,
     "metadata": {},
     "output_type": "execute_result"
    },
    {
     "data": {
      "image/png": "[encoded data removed]",
      "text/plain": [
       "<Figure size 432x288 with 1 Axes>"
      ]
     },
     "metadata": {
      "needs_background": "dark"
     },
     "output_type": "display_data"
    }
   ],
   "source": [
    "plt.plot(stimulus[0, :])\n",
    "\n"
   ]
  },
  {
   "cell_type": "code",
   "execution_count": 7,
   "metadata": {},
   "outputs": [
    {
     "data": {
      "text/plain": [
       "[<matplotlib.lines.Line2D at 0x7f16cf0bdd90>]"
      ]
     },
     "execution_count": 7,
     "metadata": {},
     "output_type": "execute_result"
    },
    {
     "data": {
      "image/png": "[encoded data removed]",
      "text/plain": [
       "<Figure size 432x288 with 1 Axes>"
      ]
     },
     "metadata": {
      "needs_background": "dark"
     },
     "output_type": "display_data"
    }
   ],
   "source": [
    "plt.plot(stimulus[:, 0])\n",
    "\n"
   ]
  },
  {
   "cell_type": "code",
   "execution_count": 8,
   "metadata": {},
   "outputs": [],
   "source": [
    "# df = pd.read_csv(parent_path + \"code/data/OneCombo3/Combo3_all_stim.csv\")\n",
    "frame_window = 20\n",
    "window = 1\n",
    "window_prev = 10 - window\n",
    "dt = 0.1\n",
    "dt_frames = 1/10\n",
    "p_window = window / (window + window_prev)\n",
    "# intervals = np.load(os.path.join(base_path, \"intervals.npy\"))\n",
    "intervals = None\n",
    "\n",
    "\n",
    "from SpikeVidUtils import make_intervals\n",
    "\n",
    "df['real_interval'] = make_intervals(df, dt)\n",
    "df['Interval'] = make_intervals(df, window)\n",
    "df['Interval_2'] = make_intervals(df, window_prev)\n",
    "df = df.reset_index(drop=True)\n",
    "\n",
    "# n_dt = sorted((df['Interval_dt'].unique()).round(2)) \n",
    "max_window = max(window, window_prev)\n",
    "dt_range = math.ceil(max_window / dt) + 1  # add first / last interval for SOS / EOS'\n",
    "n_dt = [round(dt * n, 2) for n in range(dt_range)]\n"
   ]
  },
  {
   "cell_type": "code",
   "execution_count": 10,
   "metadata": {},
   "outputs": [
    {
     "name": "stdout",
     "output_type": "stream",
     "text": [
      "17.92966528556341\n"
     ]
    }
   ],
   "source": [
    "int_trials = df.groupby(['Interval', 'Trial']).size()\n",
    "print(int_trials.mean())\n",
    "# df.groupby(['Interval', 'Trial']).agg(['nunique'])model_path\n",
    "# var_group = 'Interval_2'\n",
    "# n_unique = len(df.groupby([var_group, 'Trial']).size())\n",
    "# df.groupby([var_group, 'Trial']).size().nlargest(int(0.2 * n_unique))\n",
    "# df.groupby(['Interval_2', 'Trial']).size().mean()\n",
    "\n",
    "\n",
    "\n"
   ]
  },
  {
   "cell_type": "code",
   "execution_count": 11,
   "metadata": {},
   "outputs": [
    {
     "data": {
      "text/plain": [
       "9.0"
      ]
     },
     "execution_count": 11,
     "metadata": {},
     "output_type": "execute_result"
    }
   ],
   "source": [
    "from SpikeVidUtils import SpikeTimeVidData2\n",
    "\n",
    "## resnet3d feats\n",
    "n_embd = 256\n",
    "frame_feats = torch.tensor(stimulus, dtype=torch.float32).transpose(1, 0)\n",
    "frame_block_size = 200  # math.ceil(frame_feats.shape[-1] * frame_window)\n",
    "n_embd_frames = 1000\n",
    "\n",
    "prev_id_block_size = 800    # math.ceil(frame_block_size * (1 - p_window))\n",
    "id_block_size = 150           # math.ceil(frame_block_size * p_window)\n",
    "block_size = frame_block_size + id_block_size + prev_id_block_size # frame_block_size * 2  # small window for faster training\n",
    "frame_memory = 20   # how many frames back does model see\n",
    "window = window\n",
    "\n",
    "neurons = sorted(list(set(df['ID'])))\n",
    "id_stoi = { ch:i for i,ch in enumerate(neurons) }\n",
    "id_itos = { i:ch for i,ch in enumerate(neurons) }\n",
    "\n",
    "\n",
    "# translate neural embeddings to separate them from ID embeddings\n",
    "neurons = sorted(list(set(df['ID'].unique())))\n",
    "trial_tokens = [f\"Trial {n}\" for n in df['Trial'].unique()]\n",
    "feat_encodings = neurons + ['SOS'] + ['EOS'] + ['PAD']  # + pixels \n",
    "stoi = { ch:i for i,ch in enumerate(feat_encodings) }\n",
    "itos = { i:ch for i,ch in enumerate(feat_encodings) }\n",
    "stoi_dt = { ch:i for i,ch in enumerate(n_dt) }\n",
    "itos_dt = { i:ch for i,ch in enumerate(n_dt) }\n",
    "max(list(itos_dt.values()))\n"
   ]
  },
  {
   "cell_type": "code",
   "execution_count": 12,
   "metadata": {},
   "outputs": [],
   "source": [
    "r_split = 0.8\n",
    "train_trials = sorted(df['Trial'].unique())[:int(len(df['Trial'].unique()) * r_split)]\n",
    "train_data = df[df['Trial'].isin(train_trials)]\n",
    "test_data = df[~df['Trial'].isin(train_trials)]\n",
    "\n"
   ]
  },
  {
   "cell_type": "code",
   "execution_count": 13,
   "metadata": {},
   "outputs": [
    {
     "name": "stdout",
     "output_type": "stream",
     "text": [
      "Length: 705418 Neurons: 1003 Pixels: 0.\n",
      "id block size: 150\n",
      "frames: 200, id: 150\n",
      "Length: 177367 Neurons: 1003 Pixels: 0.\n",
      "id block size: 150\n",
      "frames: 200, id: 150\n",
      "train: 35721, test: 8923\n"
     ]
    }
   ],
   "source": [
    "from SpikeVidUtils import SpikeTimeVidData2\n",
    "\n",
    "# train_dat1aset = spikeTimeData(spikes, block_size, dt, stoi, itos)\n",
    "\n",
    "\n",
    "train_dataset = SpikeTimeVidData2(train_data, None, block_size, id_block_size, frame_block_size, prev_id_block_size, \n",
    "                                  window, dt, frame_memory, stoi, itos, neurons, stoi_dt, itos_dt, frame_feats,\n",
    "                                  pred=False, window_prev=window_prev, frame_window=frame_window, start_interval=20,\n",
    "                                  dt_frames=dt_frames, intervals=intervals)\n",
    "test_dataset = SpikeTimeVidData2(test_data, None, block_size, id_block_size, frame_block_size, prev_id_block_size, \n",
    "                                 window, dt, frame_memory, stoi, itos, neurons, stoi_dt, itos_dt, frame_feats, \n",
    "                                 pred=False, window_prev=window_prev, frame_window=frame_window, start_interval=20,\n",
    "                                 dt_frames=dt_frames, intervals=intervals)\n",
    "\n",
    "print(f'train: {len(train_dataset)}, test: {len(test_dataset)}')\n",
    "\n",
    "\n",
    "\n"
   ]
  },
  {
   "cell_type": "code",
   "execution_count": 14,
   "metadata": {},
   "outputs": [],
   "source": [
    "# from utils import get_class_weights\n",
    "# class_weights = get_class_weights(train_dataset, stoi, stoi_dt)\n",
    "\n",
    "\n"
   ]
  },
  {
   "cell_type": "code",
   "execution_count": 15,
   "metadata": {},
   "outputs": [
    {
     "name": "stdout",
     "output_type": "stream",
     "text": [
      "51200\n"
     ]
    },
    {
     "name": "stderr",
     "output_type": "stream",
     "text": [
      "02/12/2023 16:04:56 - INFO - model_neuroformer_LRN -   number of parameters: 1.121877e+08\n"
     ]
    }
   ],
   "source": [
    "from model_neuroformer_LRN import GPT, GPTConfig\n",
    "# initialize config class and model (holds hyperparameters)\n",
    "# for is_conv in [True, False]:    \n",
    "conv_layer = False\n",
    "mconf = GPTConfig(train_dataset.population_size, block_size,    # frame_block_size\n",
    "                        id_vocab_size=train_dataset.id_population_size,\n",
    "                        frame_block_size=frame_block_size,\n",
    "                        id_block_size=id_block_size,  # frame_block_size\n",
    "                        prev_id_block_size=prev_id_block_size,\n",
    "                        sparse_mask=False, p_sparse=0.25, \n",
    "                        sparse_topk_frame=None, sparse_topk_id=None, sparse_topk_prev_id=None,\n",
    "                        n_dt=len(n_dt),\n",
    "                        data_size=train_dataset.size,\n",
    "                        class_weights=None,\n",
    "                        pretrain=False,\n",
    "                        n_state_layers=6, n_state_history_layers=4, n_stimulus_layers=4, self_att_layers=8,\n",
    "                        n_layer=10, n_head=8, n_embd=n_embd, \n",
    "                        contrastive=True, clip_emb=1024, clip_temp=0.5,\n",
    "                        temp_emb=True, pos_emb=False,\n",
    "                        id_drop=0.35, im_drop=0.35,\n",
    "                        window=window, window_prev=window_prev, frame_window=frame_window, dt=dt,\n",
    "                        neurons=neurons, stoi_dt=stoi_dt, itos_dt=itos_dt, n_embd_frames=n_embd_frames)  # 0.35\n",
    "model = GPT(mconf)\n"
   ]
  },
  {
   "cell_type": "code",
   "execution_count": 16,
   "metadata": {},
   "outputs": [],
   "source": [
    "layers = (mconf.n_state_layers, mconf.n_state_history_layers, mconf.n_stimulus_layers)\n",
    "max_epochs = 125\n",
    "batch_size = round((32 * 7))\n",
    "shuffle = True\n",
    "\n",
    "## first run\n",
    "# model_path = f\"../models/tensorboard/LRN/w:{window}_wp:{window_prev}/{6}_Cont:{mconf.contrastive}_window:{window}_f_window:{frame_window}_df:{dt}_blocksize:{id_block_size}_sparse{mconf.sparse_mask}_conv_{conv_layer}_shuffle:{shuffle}_batch:{batch_size}_sparse_({mconf.sparse_topk_frame}_{mconf.sparse_topk_id})_blocksz{block_size}_pos_emb:{mconf.pos_emb}_temp_emb:{mconf.temp_emb}_drop:{mconf.id_drop}_dt:{shuffle}_2.0_{max(n_dt)}_max{dt}_{layers}_{mconf.n_head}_{mconf.n_embd}.pt\"\n",
    "# model_path = \"/local/home/antonis/neuroformer/models/tensorboard/LRN/w:10_wp:10/6_Cont:True_window:10_f_window:20_df:0.1_blocksize:30_sparseFalse_conv_True_shuffle:True_batch:128_sparse_(200_200)_blocksz1060_pos_emb:False_temp_emb:True_drop:0.35_dt:True_2.0_10.0_max0.1_(6, 4, 10)_2_200.pt\"\n",
    "## weighted\n",
    "weighted = True if mconf.class_weights is not None else False\n",
    "title =  f'window:{window}_prev:{window_prev}'\n",
    "model_path = f\"\"\"./models/tensorboard/LRN/stimulus_fixed/{title}/sparse_f:{mconf.sparse_topk_frame}_id:{mconf.sparse_topk_id}/w:{window}_wp:{window_prev}/{6}_Cont:{mconf.contrastive}_window:{window}_f_window:{frame_window}_df:{dt}_blocksize:{id_block_size}_conv_{conv_layer}_shuffle:{shuffle}_batch:{batch_size}_sparse_({mconf.sparse_topk_frame}_{mconf.sparse_topk_id})_blocksz{block_size}_pos_emb:{mconf.pos_emb}_temp_emb:{mconf.temp_emb}_drop:{mconf.id_drop}_dt:{shuffle}_2.0_{max(n_dt)}_max{dt}_{layers}_{mconf.n_head}_{mconf.n_embd}.pt\"\"\"\n",
    "# model_path = \"./models/tensorboard/LRN/weighted_False/0.5_window_CORRECTCONTRASTIVE_smoothinterval/sparse_f:None_id:None/w:0.5_wp:19.5/6_Cont:True_window:0.5_f_window:20_df:0.1_blocksize:200_conv_False_shuffle:True_batch:192_sparse_(None_None)_blocksz2000_pos_emb:False_temp_emb:True_drop:0.35_dt:True_2.0_19.5_max0.1_(6, 4, 4)_8_200.pt\"\n",
    "\n",
    "tconf = TrainerConfig(max_epochs=max_epochs, batch_size=batch_size, learning_rate=1e-4, \n",
    "                    num_workers=4, lr_decay=True, patience=3, warmup_tokens=8e7, \n",
    "                    decay_weights=True, weight_decay=0.2, shuffle=shuffle,\n",
    "                    final_tokens=len(train_dataset)*(id_block_size) * (max_epochs),\n",
    "                    clip_norm=1.0, grad_norm_clip=1.0,\n",
    "                    dataset='higher_order', mode='predict',\n",
    "                    block_size=train_dataset.block_size,\n",
    "                    id_block_size=train_dataset.id_block_size,\n",
    "                    show_grads=False, plot_raster=False,\n",
    "                    ckpt_path=model_path, no_pbar=False, \n",
    "                    dist=False, save_epoch=False, save_every=500)\n",
    "# f\"/home/antonis/projects/slab/git/neuroformer/models/model_sim_weighted_shuffle_decay:{shuffle}_perceiver_2.0_dt:{dt}_eos_{mconf.n_layer}_{mconf.n_head}_{mconf.n_embd}.pt\")\n",
    "\n",
    "\n",
    "trainer = Trainer(model, train_dataset, test_dataset, tconf, mconf)\n",
    "# trainer.train()"
   ]
  },
  {
   "cell_type": "code",
   "execution_count": null,
   "metadata": {},
   "outputs": [],
   "source": [
    "loader = DataLoader(train_dataset, batch_size=32 * 8, shuffle=shuffle, num_workers=4, pin_memory=True)\n",
    "iterable = iter(loader)\n"
   ]
  },
  {
   "cell_type": "code",
   "execution_count": null,
   "metadata": {},
   "outputs": [],
   "source": [
    "x, y = next(iterable)\n"
   ]
  },
  {
   "cell_type": "code",
   "execution_count": 19,
   "metadata": {},
   "outputs": [],
   "source": [
    "\"\"\"\n",
    "\n",
    "RUN SIMULATION\n",
    "\n",
    "\"\"\"\n",
    "\n",
    "from utils import *\n",
    "from IPython.utils import io\n",
    "# top_p=0.25, top_p_t=0.9, temp=2.\n",
    "\n",
    "model.load_state_dict(torch.load(model_path))\n",
    "# trials = np.random.choice(train_data['Trial'].unique(), size=12)\n",
    "trials = test_data['Trial'].unique()[:4]\n",
    "results_dict = dict()\n",
    "\n",
    "df_pred = None\n",
    "df_true = None\n",
    "n_p = 0.3   # (n + 1) * 0.05\n",
    "temp = 2\n",
    "# stoi['SOS'] = 2000\n"
   ]
  },
  {
   "cell_type": "code",
   "execution_count": null,
   "metadata": {},
   "outputs": [],
   "source": [
    "for trial in trials:    # test_data['Trial'].unique():\n",
    "    # with io.capture_output() as captured:\n",
    "        print(f\"Trial: {trial}\")\n",
    "        df_trial = df[df['Trial'] == trial]\n",
    "        trial_dataset = SpikeTimeVidData2(df_trial,  None, block_size, id_block_size, frame_block_size, prev_id_block_size, \n",
    "                                  window, dt, frame_memory, stoi, itos, neurons, stoi_dt, itos_dt, frame_feats, \n",
    "                                  pred=False, window_prev=window_prev, frame_window=frame_window, start_interval=20,\n",
    "                                  dt_frames=dt_frames)\n",
    "        trial_loader = DataLoader(trial_dataset, shuffle=False, pin_memory=False)\n",
    "        results_trial = predict_raster_recursive_time_auto(model, trial_loader, window, window_prev, stoi, itos_dt, itos=itos, \n",
    "                                                           sample=True, top_p=0.75, top_p_t=0.75, temp=1.2, temp_t=1.2, frame_end=0, get_dt=True, gpu=False, pred_dt=True)\n",
    "        # results_trial = predict_raster_hungarian(model, loader, itos_dt, top_p=0.75, temp=1)\n",
    "        # print(f\"MAX ID ---- {sorted(results_trial['ID'].unique()[-10])}\")\n",
    "        df_trial_pred, df_trial_true = process_predictions(results_trial, stoi, itos, window)\n",
    "        print(f\"pred: {df_trial_pred.shape}, true: {df_trial_true.shape}\" )\n",
    "        if df_pred is None:\n",
    "            df_pred = df_trial_pred\n",
    "            df_true = df_trial_true\n",
    "        else:\n",
    "            df_pred = pd.concat([df_pred, df_trial_pred])\n",
    "            df_true = pd.concat([df_true, df_trial_true])\n",
    "\n",
    "# df_preds[n] = df_pred\n",
    "# print(f\"--- n: {n}, n_p: {n_p}, temp: {temp} ---\")\n",
    "scores = compute_scores(df[df['Trial'].isin(trials)], df_pred)\n",
    "print(scores)\n",
    "print(f\"pred: {len(df_pred)}, true: {len(df_true)}\" )\n",
    "# results_dict[n] = (scores)\n"
   ]
  },
  {
   "cell_type": "code",
   "execution_count": null,
   "metadata": {},
   "outputs": [],
   "source": [
    "df_3 = df[df['Trial'].isin(trials + 2)]\n",
    "df_1 = df[df['Trial'].isin(trials)]\n",
    "df_2 = df[df['Trial'].isin(trials + 1)]\n"
   ]
  },
  {
   "cell_type": "code",
   "execution_count": 3,
   "metadata": {},
   "outputs": [
    {
     "ename": "NameError",
     "evalue": "name 'df_pred' is not defined",
     "output_type": "error",
     "traceback": [
      "\u001b[0;31m---------------------------------------------------------------------------\u001b[0m",
      "\u001b[0;31mNameError\u001b[0m                                 Traceback (most recent call last)",
      "\u001b[0;32m/tmp/ipykernel_828237/3382506310.py\u001b[0m in \u001b[0;36m<module>\u001b[0;34m\u001b[0m\n\u001b[1;32m      2\u001b[0m \u001b[0;32mfrom\u001b[0m \u001b[0manalysis\u001b[0m \u001b[0;32mimport\u001b[0m \u001b[0mget_rates_trial\u001b[0m\u001b[0;34m,\u001b[0m \u001b[0mcalc_corr_psth\u001b[0m\u001b[0;34m\u001b[0m\u001b[0;34m\u001b[0m\u001b[0m\n\u001b[1;32m      3\u001b[0m \u001b[0;34m\u001b[0m\u001b[0m\n\u001b[0;32m----> 4\u001b[0;31m \u001b[0mdf_pred_full\u001b[0m \u001b[0;34m=\u001b[0m \u001b[0mdf_pred\u001b[0m\u001b[0;34m\u001b[0m\u001b[0;34m\u001b[0m\u001b[0m\n\u001b[0m\u001b[1;32m      5\u001b[0m \u001b[0mdf_list\u001b[0m \u001b[0;34m=\u001b[0m \u001b[0;34m[\u001b[0m\u001b[0mdf_pred_full\u001b[0m\u001b[0;34m,\u001b[0m \u001b[0mdf_1\u001b[0m\u001b[0;34m,\u001b[0m \u001b[0mdf_2\u001b[0m\u001b[0;34m,\u001b[0m \u001b[0mdf_3\u001b[0m\u001b[0;34m]\u001b[0m\u001b[0;34m\u001b[0m\u001b[0;34m\u001b[0m\u001b[0m\n\u001b[1;32m      6\u001b[0m \u001b[0;34m\u001b[0m\u001b[0m\n",
      "\u001b[0;31mNameError\u001b[0m: name 'df_pred' is not defined"
     ]
    }
   ],
   "source": [
    "from SpikeVidUtils import set_intevals\n",
    "from analysis import get_rates_trial, calc_corr_psth\n",
    "\n",
    "df_pred_full = df_pred\n",
    "df_list = [df_pred_full, df_1, df_2, df_3]\n",
    "\n",
    "window_pred = 5\n",
    "min_window = df_pred_full['Interval'].min()\n",
    "max_window = df['Interval'].max() - (window)\n",
    "df_pred_full = set_intevals(df_pred_full, window, window_prev, max_window, window_pred, min_window)\n",
    "df_1 = set_intevals(df_1, window, window_prev, max_window, window_pred, min_window)\n",
    "df_2 = set_intevals(df_2, window, window_prev, max_window, window_pred, min_window)\n",
    "df_3 = set_intevals(df_3, window, window_prev, max_window, window_pred, min_window)\n",
    "\n",
    "window_pred = window if window_pred is None else window_pred\n",
    "intervals = np.array(sorted(set(df['Interval'].unique()) & set(df['Interval'].unique())))\n",
    "labels = np.array([round(window_pred + window_pred*n, 2) for n in range(0, int(max(df_pred_full['Interval']) / window_pred))])\n",
    "ids = sorted(set(df['ID'].unique()) & set(df['ID'].unique()))\n",
    "\n",
    "\n",
    "# labels = sorted(set(df_pred_full['Interval'].unique()))\n",
    "rates_pred = get_rates_trial(df_pred_full, labels)\n",
    "rates_1 = get_rates_trial(df_1, labels)\n",
    "rates_2 = get_rates_trial(df_2, labels)\n",
    "rates_3 = get_rates_trial(df_3, labels)\n",
    "\n",
    "top_corr_pred = calc_corr_psth(rates_pred, rates_1)\n",
    "top_corr_real = calc_corr_psth(rates_1, rates_2)\n",
    "top_corr_real_2 = calc_corr_psth(rates_1, rates_3)\n",
    "\n"
   ]
  },
  {
   "cell_type": "code",
   "execution_count": null,
   "metadata": {},
   "outputs": [],
   "source": [
    "\n",
    "\"\"\"\n",
    "\n",
    "Evaluate results\n",
    "\n",
    "\"\"\"\n",
    "\n",
    "from visualize import *\n",
    "\n",
    "# df_2['Trial'] -= 2\n",
    "id_pred, id_true_1, id_true_2 = len(df_pred_full['ID'].unique()), len(df_1['ID'].unique()), len(df_2['ID'].unique())\n",
    "print(f\"id_pred: {id_pred}, id_true_1: {id_true_1}, id_true_2: {id_true_2}\")\n",
    "\n",
    "len_pred, len_true = len(df_pred_full), len(df_1)\n",
    "print(f\"len_pred: {len_pred}, len_true: {len_true}\")\n",
    "\n",
    "accuracy = get_accuracy(df_pred, df_2)\n",
    "\n",
    "scores = compute_scores(df_1, df_2)\n",
    "pred_scores = compute_scores(df_1, df_pred_full)\n",
    "print(f\"real: {scores}\")\n",
    "print(f\"pred: {pred_scores}\")\n",
    "\n",
    "set_plot_white()\n",
    "plt.figure(figsize=(10, 10), facecolor='white')\n",
    "plt.title(f'PSTH Correlations (V1 + AL) bin {window_pred}', fontsize=25)\n",
    "plt.ylabel('Count (n)', fontsize=25)\n",
    "plt.xlabel('Pearson r', fontsize=25)\n",
    "plt.hist(top_corr_real, label='real - real2', alpha=0.6)\n",
    "# plt.hist(top_corr_real_2, label='real - real3', alpha=0.6)\n",
    "plt.hist(top_corr_pred, label='real - simulated', alpha=0.6)\n",
    "plt.legend(fontsize=20)\n",
    "plt.show()\n",
    "\n",
    "dir_name = os.path.dirname(model_path)\n",
    "model_name = os.path.basename(model_path)\n",
    "print(f\"title: {title}\")\n",
    "title = title.replace('.', '_')\n",
    "# count how many svg and csv files are in the directory\n",
    "n_svg = len([name for name in os.listdir(dir_name) if name.endswith('.svg')])\n",
    "n_csv = len([name for name in os.listdir(dir_name) if name.endswith('.csv')])\n",
    "plt.savefig(os.path.join(dir_name, F'psth_corr_{title}_{n_svg}.svg'))\n",
    "df_pred.to_csv(os.path.join(dir_name, F'df_pred_{title}_{n_csv}.csv'))\n",
    "\n",
    "plot_distribution(df_1, df_pred, save_path=os.path.join(dir_name, F'psth_dist_{title}.svg'))\n",
    "\n",
    "total_scores = dict()\n",
    "total_scores['real'] = scores\n",
    "total_scores['pred'] = pred_scores\n"
   ]
  },
  {
   "cell_type": "code",
   "execution_count": null,
   "metadata": {},
   "outputs": [],
   "source": [
    "len(df_pred_full['ID'].unique())\n",
    "len(df_1['ID'].unique())\n",
    "\n",
    "len(df_pred_full['Trial'].unique())\n",
    "len(df_1['Trial'].unique())"
   ]
  },
  {
   "cell_type": "code",
   "execution_count": 17,
   "metadata": {},
   "outputs": [],
   "source": [
    "loader = DataLoader(train_dataset, batch_size=5, shuffle=False, pin_memory=False)\n",
    "iterable = iter(train_dataset)"
   ]
  },
  {
   "cell_type": "code",
   "execution_count": 23,
   "metadata": {},
   "outputs": [
    {
     "name": "stdout",
     "output_type": "stream",
     "text": [
      "iv: 10.0, ix+window: 11.0 pid: tensor([ 2., 11.]) cid: tensor([11., 12.])\n",
      "x: ['SOS', 977.0, 928.0, 814.0, 933.0, 'EOS']\n",
      "xid_prev: ['SOS', 855.0, 959.0, 922.0, 972.0, 142.0, 892.0, 889.0, 904.0, 919.0, 69.0, 91.0, 878.0, 912.0, 931.0, 11.0, 998.0, 987.0, 946.0, 906.0, 984.0, 868.0, 43.0, 952.0, 26.0, 960.0, 39.0, 909.0, 961.0, 853.0, 943.0, 982.0, 95.0, 4.0, 973.0, 971.0, 966.0, 944.0, 951.0, 718.0, 750.0, 937.0, 983.0, 893.0, 874.0, 887.0, 'EOS', 'PAD', 'PAD', 'PAD']\n"
     ]
    },
    {
     "data": {
      "text/html": [
       "<div>\n",
       "<style scoped>\n",
       "    .dataframe tbody tr th:only-of-type {\n",
       "        vertical-align: middle;\n",
       "    }\n",
       "\n",
       "    .dataframe tbody tr th {\n",
       "        vertical-align: top;\n",
       "    }\n",
       "\n",
       "    .dataframe thead th {\n",
       "        text-align: right;\n",
       "    }\n",
       "</style>\n",
       "<table border=\"1\" class=\"dataframe\">\n",
       "  <thead>\n",
       "    <tr style=\"text-align: right;\">\n",
       "      <th></th>\n",
       "      <th>Time</th>\n",
       "      <th>ID</th>\n",
       "      <th>Trial</th>\n",
       "      <th>real_interval</th>\n",
       "      <th>Interval</th>\n",
       "      <th>Interval_2</th>\n",
       "    </tr>\n",
       "  </thead>\n",
       "  <tbody>\n",
       "    <tr>\n",
       "      <th>45</th>\n",
       "      <td>11.3</td>\n",
       "      <td>977.0</td>\n",
       "      <td>1</td>\n",
       "      <td>11.3</td>\n",
       "      <td>12.0</td>\n",
       "      <td>18.0</td>\n",
       "    </tr>\n",
       "    <tr>\n",
       "      <th>46</th>\n",
       "      <td>11.8</td>\n",
       "      <td>928.0</td>\n",
       "      <td>1</td>\n",
       "      <td>11.8</td>\n",
       "      <td>12.0</td>\n",
       "      <td>18.0</td>\n",
       "    </tr>\n",
       "    <tr>\n",
       "      <th>47</th>\n",
       "      <td>12.0</td>\n",
       "      <td>814.0</td>\n",
       "      <td>1</td>\n",
       "      <td>12.0</td>\n",
       "      <td>12.0</td>\n",
       "      <td>18.0</td>\n",
       "    </tr>\n",
       "    <tr>\n",
       "      <th>48</th>\n",
       "      <td>12.0</td>\n",
       "      <td>933.0</td>\n",
       "      <td>1</td>\n",
       "      <td>12.0</td>\n",
       "      <td>12.0</td>\n",
       "      <td>18.0</td>\n",
       "    </tr>\n",
       "    <tr>\n",
       "      <th>49</th>\n",
       "      <td>12.1</td>\n",
       "      <td>892.0</td>\n",
       "      <td>1</td>\n",
       "      <td>12.1</td>\n",
       "      <td>13.0</td>\n",
       "      <td>18.0</td>\n",
       "    </tr>\n",
       "    <tr>\n",
       "      <th>50</th>\n",
       "      <td>12.1</td>\n",
       "      <td>902.0</td>\n",
       "      <td>1</td>\n",
       "      <td>12.1</td>\n",
       "      <td>13.0</td>\n",
       "      <td>18.0</td>\n",
       "    </tr>\n",
       "  </tbody>\n",
       "</table>\n",
       "</div>"
      ],
      "text/plain": [
       "    Time     ID  Trial  real_interval  Interval  Interval_2\n",
       "45  11.3  977.0      1           11.3      12.0        18.0\n",
       "46  11.8  928.0      1           11.8      12.0        18.0\n",
       "47  12.0  814.0      1           12.0      12.0        18.0\n",
       "48  12.0  933.0      1           12.0      12.0        18.0\n",
       "49  12.1  892.0      1           12.1      13.0        18.0\n",
       "50  12.1  902.0      1           12.1      13.0        18.0"
      ]
     },
     "execution_count": 23,
     "metadata": {},
     "output_type": "execute_result"
    }
   ],
   "source": [
    "x, y = next(iterable)\n",
    "\n",
    "T = len(x['id'])\n",
    "P = x['pad'] - 1\n",
    "T_prev = len(x['id_prev'])\n",
    "P_prev = x['pad_prev'] - 4\n",
    "\n",
    "iv = float(x['interval'])\n",
    "\n",
    "xid = x['id'][: T - P]\n",
    "xid = [itos[int(i)] for i in xid]\n",
    "\n",
    "xid_prev = x['id_prev'][: T_prev - P_prev]\n",
    "xid_prev = [itos[int(i)] for i in xid_prev]\n",
    "\n",
    "print(f\"iv: {iv}, ix+window: {iv + window} pid: {x['pid']} cid: {x['cid']}\")\n",
    "print(f\"x: {xid}\")\n",
    "\n",
    "print(f\"xid_prev: {xid_prev}\")\n",
    "\n",
    "tdiff = 0.1\n",
    "t_var = 'Time' # 'Interval'\n",
    "int_var = 'cid'\n",
    "# df[(df[t_var] >= iv - tdiff) & (df[t_var] <= iv + (window + tdiff)) & (df['Trial'] == int(x['trial']))]\n",
    "# df[(df[t_var] >= float(x[int_var][0]) - tdiff) & (df[t_var] <= float(x[int_var][1] + tdiff)) & (df['Trial'] == int(x['trial']))]\n",
    "df[(df[t_var] > float(x[int_var][0]) - tdiff) & (df[t_var] <= float(x['cid'][1] + tdiff)) & (df['Trial'] == int(x['trial']))]\n",
    "\n",
    "# t_var = 'Time' # 'Interval'\n",
    "# int_var = 'pid'\n",
    "# df[(df[t_var] > round(float(x[int_var][0]), 2) - tdiff) & (df[t_var] <= round(float(x[int_var][1]), 2)) & (df['Trial'] == int(x['trial']))]"
   ]
  },
  {
   "cell_type": "code",
   "execution_count": 26,
   "metadata": {},
   "outputs": [],
   "source": [
    "il = iter(loader)"
   ]
  },
  {
   "cell_type": "code",
   "execution_count": 27,
   "metadata": {},
   "outputs": [
    {
     "data": {
      "text/plain": [
       "tensor([[1000,  937,  983,  893,  874,  887, 1001, 1002, 1002, 1002, 1002, 1002,\n",
       "         1002, 1002, 1002, 1002, 1002, 1002, 1002, 1002, 1002, 1002, 1002, 1002,\n",
       "         1002, 1002, 1002, 1002, 1002, 1002, 1002, 1002, 1002, 1002, 1002, 1002,\n",
       "         1002, 1002, 1002, 1002, 1002, 1002, 1002, 1002, 1002, 1002, 1002, 1002,\n",
       "         1002, 1002, 1002, 1002, 1002, 1002, 1002, 1002, 1002, 1002, 1002, 1002,\n",
       "         1002, 1002, 1002, 1002, 1002, 1002, 1002, 1002, 1002, 1002, 1002, 1002,\n",
       "         1002, 1002, 1002, 1002, 1002, 1002, 1002, 1002, 1002, 1002, 1002, 1002,\n",
       "         1002, 1002, 1002, 1002, 1002, 1002, 1002, 1002, 1002, 1002, 1002, 1002,\n",
       "         1002, 1002, 1002, 1002, 1002, 1002, 1002, 1002, 1002, 1002, 1002, 1002,\n",
       "         1002, 1002, 1002, 1002, 1002, 1002, 1002, 1002, 1002, 1002, 1002, 1002,\n",
       "         1002, 1002, 1002, 1002, 1002, 1002, 1002, 1002, 1002, 1002, 1002, 1002,\n",
       "         1002, 1002, 1002, 1002, 1002, 1002, 1002, 1002, 1002, 1002, 1002, 1002,\n",
       "         1002, 1002, 1002, 1002, 1002, 1002],\n",
       "        [1000,  977,  928,  814,  933, 1001, 1002, 1002, 1002, 1002, 1002, 1002,\n",
       "         1002, 1002, 1002, 1002, 1002, 1002, 1002, 1002, 1002, 1002, 1002, 1002,\n",
       "         1002, 1002, 1002, 1002, 1002, 1002, 1002, 1002, 1002, 1002, 1002, 1002,\n",
       "         1002, 1002, 1002, 1002, 1002, 1002, 1002, 1002, 1002, 1002, 1002, 1002,\n",
       "         1002, 1002, 1002, 1002, 1002, 1002, 1002, 1002, 1002, 1002, 1002, 1002,\n",
       "         1002, 1002, 1002, 1002, 1002, 1002, 1002, 1002, 1002, 1002, 1002, 1002,\n",
       "         1002, 1002, 1002, 1002, 1002, 1002, 1002, 1002, 1002, 1002, 1002, 1002,\n",
       "         1002, 1002, 1002, 1002, 1002, 1002, 1002, 1002, 1002, 1002, 1002, 1002,\n",
       "         1002, 1002, 1002, 1002, 1002, 1002, 1002, 1002, 1002, 1002, 1002, 1002,\n",
       "         1002, 1002, 1002, 1002, 1002, 1002, 1002, 1002, 1002, 1002, 1002, 1002,\n",
       "         1002, 1002, 1002, 1002, 1002, 1002, 1002, 1002, 1002, 1002, 1002, 1002,\n",
       "         1002, 1002, 1002, 1002, 1002, 1002, 1002, 1002, 1002, 1002, 1002, 1002,\n",
       "         1002, 1002, 1002, 1002, 1002, 1002],\n",
       "        [1000,  892,  902,  845,  866,   13,  827,  950,   10,  940,  877, 1001,\n",
       "         1002, 1002, 1002, 1002, 1002, 1002, 1002, 1002, 1002, 1002, 1002, 1002,\n",
       "         1002, 1002, 1002, 1002, 1002, 1002, 1002, 1002, 1002, 1002, 1002, 1002,\n",
       "         1002, 1002, 1002, 1002, 1002, 1002, 1002, 1002, 1002, 1002, 1002, 1002,\n",
       "         1002, 1002, 1002, 1002, 1002, 1002, 1002, 1002, 1002, 1002, 1002, 1002,\n",
       "         1002, 1002, 1002, 1002, 1002, 1002, 1002, 1002, 1002, 1002, 1002, 1002,\n",
       "         1002, 1002, 1002, 1002, 1002, 1002, 1002, 1002, 1002, 1002, 1002, 1002,\n",
       "         1002, 1002, 1002, 1002, 1002, 1002, 1002, 1002, 1002, 1002, 1002, 1002,\n",
       "         1002, 1002, 1002, 1002, 1002, 1002, 1002, 1002, 1002, 1002, 1002, 1002,\n",
       "         1002, 1002, 1002, 1002, 1002, 1002, 1002, 1002, 1002, 1002, 1002, 1002,\n",
       "         1002, 1002, 1002, 1002, 1002, 1002, 1002, 1002, 1002, 1002, 1002, 1002,\n",
       "         1002, 1002, 1002, 1002, 1002, 1002, 1002, 1002, 1002, 1002, 1002, 1002,\n",
       "         1002, 1002, 1002, 1002, 1002, 1002],\n",
       "        [1000,  883,  829,  856,  865,   84,  768, 1001, 1002, 1002, 1002, 1002,\n",
       "         1002, 1002, 1002, 1002, 1002, 1002, 1002, 1002, 1002, 1002, 1002, 1002,\n",
       "         1002, 1002, 1002, 1002, 1002, 1002, 1002, 1002, 1002, 1002, 1002, 1002,\n",
       "         1002, 1002, 1002, 1002, 1002, 1002, 1002, 1002, 1002, 1002, 1002, 1002,\n",
       "         1002, 1002, 1002, 1002, 1002, 1002, 1002, 1002, 1002, 1002, 1002, 1002,\n",
       "         1002, 1002, 1002, 1002, 1002, 1002, 1002, 1002, 1002, 1002, 1002, 1002,\n",
       "         1002, 1002, 1002, 1002, 1002, 1002, 1002, 1002, 1002, 1002, 1002, 1002,\n",
       "         1002, 1002, 1002, 1002, 1002, 1002, 1002, 1002, 1002, 1002, 1002, 1002,\n",
       "         1002, 1002, 1002, 1002, 1002, 1002, 1002, 1002, 1002, 1002, 1002, 1002,\n",
       "         1002, 1002, 1002, 1002, 1002, 1002, 1002, 1002, 1002, 1002, 1002, 1002,\n",
       "         1002, 1002, 1002, 1002, 1002, 1002, 1002, 1002, 1002, 1002, 1002, 1002,\n",
       "         1002, 1002, 1002, 1002, 1002, 1002, 1002, 1002, 1002, 1002, 1002, 1002,\n",
       "         1002, 1002, 1002, 1002, 1002, 1002],\n",
       "        [1000,  917,  909,  925,  979,  825,  904,  793,  930,  811,  832, 1001,\n",
       "         1002, 1002, 1002, 1002, 1002, 1002, 1002, 1002, 1002, 1002, 1002, 1002,\n",
       "         1002, 1002, 1002, 1002, 1002, 1002, 1002, 1002, 1002, 1002, 1002, 1002,\n",
       "         1002, 1002, 1002, 1002, 1002, 1002, 1002, 1002, 1002, 1002, 1002, 1002,\n",
       "         1002, 1002, 1002, 1002, 1002, 1002, 1002, 1002, 1002, 1002, 1002, 1002,\n",
       "         1002, 1002, 1002, 1002, 1002, 1002, 1002, 1002, 1002, 1002, 1002, 1002,\n",
       "         1002, 1002, 1002, 1002, 1002, 1002, 1002, 1002, 1002, 1002, 1002, 1002,\n",
       "         1002, 1002, 1002, 1002, 1002, 1002, 1002, 1002, 1002, 1002, 1002, 1002,\n",
       "         1002, 1002, 1002, 1002, 1002, 1002, 1002, 1002, 1002, 1002, 1002, 1002,\n",
       "         1002, 1002, 1002, 1002, 1002, 1002, 1002, 1002, 1002, 1002, 1002, 1002,\n",
       "         1002, 1002, 1002, 1002, 1002, 1002, 1002, 1002, 1002, 1002, 1002, 1002,\n",
       "         1002, 1002, 1002, 1002, 1002, 1002, 1002, 1002, 1002, 1002, 1002, 1002,\n",
       "         1002, 1002, 1002, 1002, 1002, 1002]])"
      ]
     },
     "execution_count": 27,
     "metadata": {},
     "output_type": "execute_result"
    }
   ],
   "source": [
    "x, y = next(il)\n",
    "x['id']"
   ]
  },
  {
   "cell_type": "code",
   "execution_count": 31,
   "metadata": {},
   "outputs": [
    {
     "ename": "",
     "evalue": "",
     "output_type": "error",
     "traceback": [
      "\u001b[1;31mThe Kernel crashed while executing code in the the current cell or a previous cell. Please review the code in the cell(s) to identify a possible cause of the failure. Click <a href='https://aka.ms/vscodeJupyterKernelCrash'>here</a> for more info. View Jupyter <a href='command:jupyter.viewOutput'>log</a> for further details."
     ]
    }
   ],
   "source": [
    "model.cpu()\n",
    "logits, features, loss = model(x, y)"
   ]
  },
  {
   "cell_type": "code",
   "execution_count": null,
   "metadata": {},
   "outputs": [],
   "source": []
  }
 ],
 "metadata": {
  "kernelspec": {
   "display_name": "neuroformer",
   "language": "python",
   "name": "python3"
  },
  "language_info": {
   "codemirror_mode": {
    "name": "ipython",
    "version": 3
   },
   "file_extension": ".py",
   "mimetype": "text/x-python",
   "name": "python",
   "nbconvert_exporter": "python",
   "pygments_lexer": "ipython3",
   "version": "3.9.15"
  },
  "orig_nbformat": 4,
  "vscode": {
   "interpreter": {
    "hash": "d081bc067bf79be810ce3d13e0a50750de639b750af8f2c90615b4772e48a538"
   }
  }
 },
 "nbformat": 4,
 "nbformat_minor": 2
}
