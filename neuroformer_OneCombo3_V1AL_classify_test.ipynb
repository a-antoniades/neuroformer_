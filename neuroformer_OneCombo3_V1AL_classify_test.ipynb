{
 "cells": [
  {
   "cell_type": "code",
   "execution_count": 1,
   "metadata": {},
   "outputs": [
    {
     "name": "stdout",
     "output_type": "stream",
     "text": [
      "running_jupyter: True\n",
      "Running in Jupyter\n",
      "CONTRASTIUVEEEEEEE False\n",
      "VISUAL: True\n",
      "PAST_STATE: True\n"
     ]
    }
   ],
   "source": [
    "import pathlib\n",
    "import glob\n",
    "import os\n",
    "import json\n",
    "\n",
    "import sys\n",
    "import glob\n",
    "from pathlib import Path, PurePath\n",
    "path = Path.cwd()\n",
    "parent_path = path.parents[1]\n",
    "sys.path.append(str(PurePath(parent_path, 'neuroformer')))\n",
    "sys.path.append('neuroformer')\n",
    "sys.path.append('.')\n",
    "sys.path.append('../')\n",
    "\n",
    "import pandas as pd\n",
    "import numpy as np\n",
    "\n",
    "import numpy as np\n",
    "import torch\n",
    "import pandas as pd\n",
    "import matplotlib.pyplot as plt\n",
    "\n",
    "from torch.utils.data.dataloader import DataLoader\n",
    "\n",
    "import math\n",
    "\n",
    "from neuroformer.model_neuroformer import GPT, GPTConfig\n",
    "from neuroformer.trainer import Trainer, TrainerConfig\n",
    "from neuroformer.utils import set_seed, update_object, check_common_attrs, running_jupyter\n",
    "from neuroformer.visualize import set_plot_params\n",
    "from neuroformer.SpikeVidUtils import round_n\n",
    "import gdown\n",
    "set_plot_params()\n",
    "\n",
    "parent_path = os.path.dirname(os.path.dirname(os.getcwd())) + \"/\"\n",
    "\n",
    "import argparse\n",
    "from neuroformer.SpikeVidUtils import round_n\n",
    "\n",
    "# set up logging\n",
    "import logging\n",
    "logging.basicConfig(\n",
    "        format=\"%(asctime)s - %(levelname)s - %(name)s -   %(message)s\",\n",
    "        datefmt=\"%m/%d/%Y %H:%M:%S\",\n",
    "        level=logging.INFO,\n",
    ")\n",
    "\n",
    "def parse_args():\n",
    "    parser = argparse.ArgumentParser()\n",
    "    # parser.add_argument(\"--infer\", action=\"store_true\", help=\"Inference mode\")\n",
    "    parser.add_argument(\"--train\", action=\"store_true\", default=False, help=\"Train mode\")\n",
    "    parser.add_argument(\"--seed\", type=int, default=25, help=\"Random seed\")\n",
    "    parser.add_argument(\"--resume\", type=str, default=None, help=\"Resume from checkpoint\")\n",
    "    parser.add_argument(\"--rand_perm\", action=\"store_true\", default=False, help=\"Randomly permute the ID column\")\n",
    "    parser.add_argument(\"--mconf\", type=str, default=None, help=\"Path to model config file\")\n",
    "    parser.add_argument(\"--eos_loss\", action=\"store_true\", default=False, help=\"Use EOS loss\")\n",
    "    parser.add_argument(\"--downstream\", action=\"store_true\", default=False, help=\"Downstream task\")\n",
    "    parser.add_argument(\"--freeze_model\", action=\"store_true\", default=False, help=\"Freeze model\")\n",
    "    parser.add_argument(\"--title\", type=str, default=None)\n",
    "    parser.add_argument(\"--dataset\", type=str, default=\"Combo3_V1AL\")\n",
    "    parser.add_argument(\"--behavior\", action=\"store_true\", default=False, help=\"Behavior task\")\n",
    "    parser.add_argument(\"--pred_behavior\", action=\"store_true\", default=False, help=\"Predict behavior\")\n",
    "    parser.add_argument(\"--past_state\", action=\"store_true\", default=False, help=\"Input past state\")\n",
    "    parser.add_argument(\"--visual\", action=\"store_true\", default=False, help=\"Visualize\")\n",
    "    parser.add_argument(\"--contrastive\", action=\"store_true\", default=False, help=\"Contrastive\")\n",
    "    parser.add_argument(\"--clip_loss\", action=\"store_true\", default=False, help=\"Clip loss\")\n",
    "    parser.add_argument(\"--clip_vars\", nargs=\"+\", default=['id','frames'], help=\"Clip variables\")\n",
    "    parser.add_argument(\"--class_weights\", action=\"store_true\", default=False, help=\"Class weights\")\n",
    "    parser.add_argument(\"--resample\", action=\"store_true\", default=False, help=\"Resample\")\n",
    "    return parser.parse_args()\n",
    "\n",
    "print(f\"running_jupyter: {running_jupyter()}\")\n",
    "if running_jupyter(): # or __name__ == \"__main__\":\n",
    "    print(\"Running in Jupyter\")\n",
    "    INFERENCE = True\n",
    "    SEED = 25\n",
    "    DOWNSTREAM = False\n",
    "    TITLE = None\n",
    "    RESUME = \"./models/tensorboard/Combo3_V1AL/inference_test/no_clip/sparse_f:None_id:None/w:0.1_wp:0.25/Cont:True_window:0.1_f_window:0.1_df:0.01_blocksize:55_conv_True_shuffle:True_batch:128_sparse_(None_None)_blocksz110_pos_emb:False_temp_emb:True_drop:0.35_dt:True_2.0_27_max0.01_(4, 4, 4)_4_256.pt\"\n",
    "    # RESUME = \"./models/tensorboard/Combo3_V1AL/inference_test/ablations_2/69/RESUMEFalse_paststateTrue_visualTrue_contrastiveFalse/sparse_f:None_id:None/w:0.1_wp:0.25/Cont:True_window:0.1_f_window:0.1_df:0.01_blocksize:55_conv_True_shuffle:True_batch:160_sparse_(None_None)_blocksz110_pos_emb:False_temp_emb:True_drop:0.35_dt:True_2.0_27_max0.01_(8, 8, 8)_8_256.pt\"\n",
    "    RAND_PERM = False\n",
    "    MCONF = \"./models/tensorboard/Combo3_V1AL/inference_test/no_clip/sparse_f:None_id:None/w:0.1_wp:0.25/mconf.yaml\"\n",
    "    EOS_LOSS = False\n",
    "    FREEZE_MODEL = False\n",
    "    TITLE = None\n",
    "    DATASET = \"Combo3_V1AL\"\n",
    "    BEHAVIOR = False\n",
    "    PREDICT_BEHAVIOR = False\n",
    "    VISUAL = True\n",
    "    PAST_STATE = True\n",
    "    CONTRASTIVE = False\n",
    "    CLIP_LOSS = True\n",
    "    CLIP_VARS = None # ['id','frames']\n",
    "    CLASS_WEIGHTS = False\n",
    "    RESAMPLE_DATA = True\n",
    "else:\n",
    "    print(\"Running in terminal\")\n",
    "    args = parse_args()\n",
    "    INFERENCE = not args.train\n",
    "    SEED = args.seed\n",
    "    DOWNSTREAM = args.downstream\n",
    "    TITLE = args.title\n",
    "    RESUME = args.resume\n",
    "    RAND_PERM = args.rand_perm\n",
    "    MCONF = args.mconf\n",
    "    FREEZE_MODEL = args.freeze_model\n",
    "    DATASET = args.dataset\n",
    "    BEHAVIOR = args.behavior\n",
    "    PREDICT_BEHAVIOR = args.pred_behavior\n",
    "    VISUAL = args.visual\n",
    "    PAST_STATE = args.past_state\n",
    "    CONTRASTIVE = args.contrastive\n",
    "    CLIP_LOSS = args.clip_loss\n",
    "    CLIP_VARS = args.clip_vars\n",
    "    CLASS_WEIGHTS = args.class_weights\n",
    "    RESAMPLE_DATA = args.resample\n",
    "\n",
    "# SET SEED - VERY IMPORTANT\n",
    "set_seed(SEED)\n",
    "\n",
    "print(f\"CONTRASTIUVEEEEEEE {CONTRASTIVE}\")\n",
    "print(f\"VISUAL: {VISUAL}\")\n",
    "print(f\"PAST_STATE: {PAST_STATE}\")\n",
    "\n"
   ]
  },
  {
   "cell_type": "code",
   "execution_count": 2,
   "metadata": {},
   "outputs": [],
   "source": [
    "\"\"\" \n",
    "\n",
    "-- DATA --\n",
    "neuroformer/data/OneCombo3_V1AL/\n",
    "df = response\n",
    "video_stack = stimulus\n",
    "DOWNLOAD DATA URL = https://drive.google.com/drive/folders/1jNvA4f-epdpRmeG9s2E-2Sfo-pwYbjeY?usp=sharing\n",
    "\n",
    "\n",
    "\"\"\"\n",
    "\n",
    "if DATASET == \"Combo3_V1AL\":\n",
    "    RESPONSE_PATH = \"./data/Combo3_V1AL/Combo3_V1AL_response.csv\"\n",
    "    STIMULUS_PATH = \"./data/Combo3_V1AL/Combo3_V1AL_stimulus.pt\"\n",
    "\n",
    "if not os.path.exists(RESPONSE_PATH):\n",
    "    print(\"Downloading data...\")\n",
    "    url = \"https://drive.google.com/drive/folders/1jNvA4f-epdpRmeG9s2E-2Sfo-pwYbjeY?usp=share_link\"\n",
    "    gdown.download_folder(id=url, quiet=False, use_cookies=False, output=os.path.dirname(RESPONSE_PATH))\n",
    "else:\n",
    "    from neuroformer.prepare_data import DataLinks\n",
    "    DataLinkDS = getattr(DataLinks, DATASET)\n",
    "    url = DataLinkDS['url']\n",
    "    RESPONSE_PATH = DataLinkDS['RESPONSE_PATH']\n",
    "    STIMULUS_PATH = DataLinkDS['STIMULUS_PATH']\n",
    "    # gdown.download_folder(id=url)\n",
    "\n",
    "\n",
    "df = pd.read_csv(RESPONSE_PATH)\n",
    "video_stack = torch.load(STIMULUS_PATH)\n",
    "stimulus = video_stack[:, :, 0]\n",
    "\n"
   ]
  },
  {
   "cell_type": "code",
   "execution_count": 3,
   "metadata": {},
   "outputs": [
    {
     "name": "stdout",
     "output_type": "stream",
     "text": [
      "torch.Size([3, 640, 1, 64, 112])\n"
     ]
    },
    {
     "data": {
      "image/png": "[encoded data removed]",
      "text/plain": [
       "<Figure size 1080x360 with 3 Axes>"
      ]
     },
     "metadata": {},
     "output_type": "display_data"
    }
   ],
   "source": [
    "print(video_stack.shape)\n",
    "\n",
    "fig, ax = plt.subplots(1, 3, figsize=(15, 5))\n",
    "for i in range(3):\n",
    "    ax[i].imshow(video_stack[i, 1, 0].permute(0, 1))\n",
    "\n"
   ]
  },
  {
   "cell_type": "code",
   "execution_count": 4,
   "metadata": {},
   "outputs": [
    {
     "name": "stdout",
     "output_type": "stream",
     "text": [
      "Common attributes: {'block_size': (446, [{'batch_size': 128, 'betas': [0.9, 0.95], 'block_size': 446, 'ckpt_path': './models/tensorboard/Combo3_V1AL/inference_test/no_clip/sparse_f:None_id:None/w:0.1_wp:0.25/Cont:True_window:0.1_f_window:0.1_df:0.01_blocksize:55_conv_True_shuffle:True_batch:128_sparse_(None_None)_blocksz110_pos_emb:False_temp_emb:True_drop:0.35_dt:True_2.0_27_max0.01_(4, 4, 4)_4_256.pt', 'clip_norm': 1.0, 'dataset': 'Combo3_V1AL', 'decay_weights': True, 'dist': False, 'final_tokens': 70268000, 'get_latents': False, 'grad_norm_clip': 1.0, 'id_block_size': 55, 'learning_rate': 0.0001, 'loss_bprop': None, 'lr_decay': True, 'max_epochs': 100, 'mode': 'predict', 'no_pbar': False, 'num_workers': 4, 'patience': 3, 'plot_raster': False, 'save_every': 20, 'show_grads': False, 'shuffle': True, 'warmup_tokens': 80000.0, 'weight_decay': 0.1}, {'_is_protocol': False, 'behavior_block_size': 0, 'behavior_feats': None, 'behavior_vars': None, 'block_size': 446, 'data_dict': None, 'dataset': 'Combo3_V1AL', 'dt': 0.01, 'dt_frames': 0.05, 'dt_max': 27, 'dt_population_size': 28, 'dt_speed': 0.2, 'dt_vars': 0.05, 'frame_block_size': 46, 'frame_memory': 2.0, 'frame_window': 0.1, 'id_block_size': 55, 'id_population_size': 389, 'id_prev_block_size': 100, 'idx': 0, 'interval': 0, 'intervals': None, 'itos_speed': None, 'labels': True, 'min_interval': 0.35, 'population_size': 389, 'pred': False, 'predict_behavior': False, 'samples_per_behavior': 0, 'stoi_speed': None, 'window': 0.1, 'window_behavior': None, 'window_prev': 0.25}]), 'frame_block_size': (46, [{'_is_protocol': False, 'behavior_block_size': 0, 'behavior_feats': None, 'behavior_vars': None, 'block_size': 446, 'data_dict': None, 'dataset': 'Combo3_V1AL', 'dt': 0.01, 'dt_frames': 0.05, 'dt_max': 27, 'dt_population_size': 28, 'dt_speed': 0.2, 'dt_vars': 0.05, 'frame_block_size': 46, 'frame_memory': 2.0, 'frame_window': 0.1, 'id_block_size': 55, 'id_population_size': 389, 'id_prev_block_size': 100, 'idx': 0, 'interval': 0, 'intervals': None, 'itos_speed': None, 'labels': True, 'min_interval': 0.35, 'population_size': 389, 'pred': False, 'predict_behavior': False, 'samples_per_behavior': 0, 'stoi_speed': None, 'window': 0.1, 'window_behavior': None, 'window_prev': 0.25}]), 'id_prev_block_size': (100, [{'_is_protocol': False, 'behavior_block_size': 0, 'behavior_feats': None, 'behavior_vars': None, 'block_size': 446, 'data_dict': None, 'dataset': 'Combo3_V1AL', 'dt': 0.01, 'dt_frames': 0.05, 'dt_max': 27, 'dt_population_size': 28, 'dt_speed': 0.2, 'dt_vars': 0.05, 'frame_block_size': 46, 'frame_memory': 2.0, 'frame_window': 0.1, 'id_block_size': 55, 'id_population_size': 389, 'id_prev_block_size': 100, 'idx': 0, 'interval': 0, 'intervals': None, 'itos_speed': None, 'labels': True, 'min_interval': 0.35, 'population_size': 389, 'pred': False, 'predict_behavior': False, 'samples_per_behavior': 0, 'stoi_speed': None, 'window': 0.1, 'window_behavior': None, 'window_prev': 0.25}])}\n"
     ]
    }
   ],
   "source": [
    "# load config files\n",
    "import yaml\n",
    "\n",
    "# base_path = \"configs/visnav/predict_behavior\"\n",
    "if MCONF is not None:\n",
    "    base_path = os.path.dirname(MCONF)\n",
    "elif RESUME is not None:\n",
    "    base_path = os.path.dirname(RESUME)\n",
    "else:\n",
    "    base_path = \"./models/tensorboard/V1_AL/downstream/learnt_temporal_embeddings/sparse_f:None_id:None/w:0.05_wp:0.25\"\n",
    "    \n",
    "\n",
    "with open(os.path.join(base_path, 'mconf.yaml'), 'r') as stream:\n",
    "    mconf = yaml.full_load(stream)\n",
    "\n",
    "with open(os.path.join(base_path, 'tconf.yaml'), 'r') as stream:\n",
    "    tconf = yaml.full_load(stream)\n",
    "\n",
    "with open(os.path.join(base_path, 'dconf.yaml'), 'r') as stream:\n",
    "    dconf = yaml.full_load(stream)\n",
    "\n",
    "import omegaconf\n",
    "from omegaconf import OmegaConf\n",
    "\n",
    "# open yaml as omegacong\n",
    "mconf = OmegaConf.create(mconf)\n",
    "tconf = OmegaConf.create(tconf)\n",
    "dconf = OmegaConf.create(dconf)\n",
    "\n",
    "# set attrs that are not equal\n",
    "common_attrs = check_common_attrs(mconf, tconf, dconf)\n",
    "print(f\"Common attributes: {common_attrs}\")\n",
    "\n"
   ]
  },
  {
   "cell_type": "code",
   "execution_count": 5,
   "metadata": {},
   "outputs": [],
   "source": [
    "\n",
    "if INFERENCE or mconf:\n",
    "    frame_window = mconf.frame_window\n",
    "    window = mconf.window\n",
    "    window_prev = mconf.window_prev\n",
    "    window_behavior = mconf.window_behavior if hasattr(mconf, 'window_behavior') else None\n",
    "    dt = mconf.dt\n",
    "    dt_frames = mconf.dt_frames if hasattr(mconf, 'dt_frames') else 0.05\n",
    "    dt_vars = mconf.dt_vars if hasattr(mconf, 'dt_vars') else 0.05\n",
    "    dt_speed = mconf.dt_speed if hasattr(mconf, 'dt_speed') else 0.2\n",
    "    intervals = None\n",
    "else:\n",
    "    frame_window = 0.25\n",
    "    window = 0.05\n",
    "    window_prev = 0.25\n",
    "    window_behavior = window\n",
    "    dt = 0.01\n",
    "    dt_frames = 0.05\n",
    "    dt_vars = 0.05\n",
    "    dt_speed = 0.2\n",
    "    intervals = None\n",
    "\n",
    "# randomly permute 'id' column\n",
    "if RAND_PERM:\n",
    "    df['ID'] = df['ID'].sample(frac=1, random_state=25).reset_index(drop=True)\n",
    "\n"
   ]
  },
  {
   "cell_type": "code",
   "execution_count": 6,
   "metadata": {},
   "outputs": [],
   "source": [
    "## choose modalities ##\n",
    "\n",
    "# behavior\n",
    "behavior = BEHAVIOR\n",
    "behavior_vars = ['eyerad', 'phi', 'speed', 'th']\n",
    "# behavior_vars = ['speed']\n",
    "n_behavior = len(behavior_vars)\n",
    "predict_behavior = PREDICT_BEHAVIOR\n",
    "# stimulus\n",
    "visual_stim = VISUAL\n",
    "\n",
    "\n",
    "\n"
   ]
  },
  {
   "cell_type": "code",
   "execution_count": 7,
   "metadata": {},
   "outputs": [],
   "source": [
    "from neuroformer.SpikeVidUtils import trial_df, get_df_visnav, make_intervals\n",
    "\n",
    "\n",
    "if behavior is True:\n",
    "    behavior = pd.DataFrame({k: data[k] for k in behavior_vars + ['t']})\n",
    "    # rename t to time\n",
    "    behavior = behavior.rename(columns={'t': 'Time'}) if behavior is not None else None\n",
    "    behavior['Interval'] = make_intervals(behavior, window)\n",
    "    behavior['Interval_2'] = make_intervals(behavior, window_prev)\n",
    "\n",
    "    # prepare speed variables\n",
    "    behavior['speed'] = behavior['speed'].apply(lambda x: round_n(x, dt_speed))\n",
    "    dt_range_speed = behavior['speed'].min(), behavior['speed'].max()\n",
    "    dt_range_speed = np.arange(dt_range_speed[0], dt_range_speed[1] + dt_speed, dt_speed)\n",
    "    n_behavior = len(dt_range_speed)\n",
    "\n",
    "    stoi_speed = { round_n(ch, dt_speed):i for i,ch in enumerate(dt_range_speed) }\n",
    "    itos_speed = { i:round_n(ch, dt_speed) for i,ch in enumerate(dt_range_speed) }\n",
    "    assert (window_behavior) % dt_vars < 1e-5, \"window + window_prev must be divisible by dt_vars\"\n",
    "    samples_per_behavior = int((window + window_prev) // dt_vars)\n",
    "    behavior_block_size = int((window + window_prev) // dt_vars) * (len(behavior.columns) - 1)\n",
    "else:\n",
    "    behavior = None\n",
    "    behavior_vars = None\n",
    "    behavior_block_size = 0\n",
    "    samples_per_behavior = 0\n",
    "    stoi_speed = None\n",
    "    itos_speed = None\n",
    "    dt_range_speed = None\n",
    "    n_behavior = None\n",
    "\n",
    "if predict_behavior:\n",
    "    loss_bprop = ['behavior']\n",
    "else:\n",
    "    loss_bprop = None\n",
    "\n",
    "\n",
    "\n",
    "\n"
   ]
  },
  {
   "cell_type": "code",
   "execution_count": 8,
   "metadata": {},
   "outputs": [],
   "source": [
    "from SpikeVidUtils import make_intervals\n",
    "\n",
    "df['Interval'] = make_intervals(df, window)\n",
    "df['real_interval'] = make_intervals(df, 0.05)\n",
    "df['Interval_2'] = make_intervals(df, window_prev)\n",
    "df = df.reset_index(drop=True)\n",
    "\n",
    "# randomly permute 'id' column\n",
    "if RAND_PERM:\n",
    "    print('// randomly permuting ID column //')\n",
    "    df['ID'] = df['ID'].sample(frac=1, random_state=25).reset_index(drop=True)\n",
    "\n",
    "max_window = max(window, window_prev)\n",
    "dt_range = math.ceil(max_window / dt) + 1  # add first / last interval for SOS / EOS'\n",
    "n_dt = [round(dt * n, 2) for n in range(dt_range)] + ['EOS'] + ['PAD']\n",
    "\n"
   ]
  },
  {
   "cell_type": "code",
   "execution_count": 9,
   "metadata": {},
   "outputs": [
    {
     "name": "stderr",
     "output_type": "stream",
     "text": [
      "/tmp/ipykernel_1132433/4070223165.py:13: UserWarning: To copy construct from a tensor, it is recommended to use sourceTensor.clone().detach() or sourceTensor.clone().detach().requires_grad_(True), rather than torch.tensor(sourceTensor).\n",
      "  frame_feats = torch.tensor(stimulus, dtype=torch.float32)\n"
     ]
    }
   ],
   "source": [
    "from neuroformer.SpikeVidUtils import SpikeTimeVidData2\n",
    "\n",
    "## resnet3d feats\n",
    "n_frames = round(frame_window * 1/dt_frames)\n",
    "# kernel_size = (n_frames, 4, 4)\n",
    "kernel_size = [n_frames, 8, 8]\n",
    "stride_size = [n_frames, 4, 4]\n",
    "padding_size = 0\n",
    "n_embd = 256\n",
    "n_embd_frames = 64\n",
    "frame_feats = stimulus\n",
    "frame_block_size = 0\n",
    "frame_feats = torch.tensor(stimulus, dtype=torch.float32)\n",
    "conv_layer = True\n",
    "\n",
    "prev_id_block_size = 55\n",
    "id_block_size = 55   #\n",
    "block_size = frame_block_size + id_block_size + prev_id_block_size\n",
    "frame_memory = frame_window // dt_frames\n",
    "window = window\n",
    "\n",
    "neurons = sorted(list(set(df['ID'])))\n",
    "id_stoi = { ch:i for i,ch in enumerate(neurons) }\n",
    "id_itos = { i:ch for i,ch in enumerate(neurons) }\n",
    "\n",
    "neurons = sorted(list(set(df['ID'].unique())))\n",
    "trial_tokens = [f\"Trial {n}\" for n in df['Trial'].unique()]\n",
    "feat_encodings = neurons + ['SOS'] + ['EOS'] + ['PAD']  # + pixels \n",
    "stoi = { ch:i for i,ch in enumerate(feat_encodings) }\n",
    "itos = { i:ch for i,ch in enumerate(feat_encodings) }\n",
    "stoi_dt = { ch:i for i,ch in enumerate(n_dt) }\n",
    "itos_dt = { i:ch for i,ch in enumerate(n_dt) }\n",
    "\n"
   ]
  },
  {
   "cell_type": "code",
   "execution_count": 10,
   "metadata": {},
   "outputs": [],
   "source": [
    "import random\n",
    "\n",
    "r_split = 0.8\n",
    "all_trials = sorted(df['Trial'].unique())\n",
    "train_trials = random.sample(all_trials, int(len(all_trials) * r_split))\n",
    "\n",
    "train_data = df[df['Trial'].isin(train_trials)]\n",
    "test_data = df[~df['Trial'].isin(train_trials)]\n",
    "\n",
    "# r_split_ft = np.arange(0, 1, 0.25)\n",
    "r_split_ft = 0.1\n",
    "finetune_trials = train_trials[:int(len(train_trials) * r_split_ft)]\n",
    "finetune_data = df[df['Trial'].isin(finetune_trials)]\n",
    "\n",
    "n = []\n",
    "n_trial = [2, 8, 14, 19]\n",
    "for n_stim in range(df['Trial'].max() // 20):\n",
    "    # n_trial = [2, 4, 6, 8, 10, 12, 14, 18]\n",
    "    for n_t in n_trial:\n",
    "        trial = (n_stim + 1) * 20 - (n_t)\n",
    "        n.append(trial)\n",
    "train_data = df[~df['Trial'].isin(n)].reset_index(drop=True)\n",
    "test_data = df[df['Trial'].isin(n)].reset_index(drop=True)\n",
    "small_data = df[df['Trial'].isin([5])].reset_index(drop=True)\n"
   ]
  },
  {
   "cell_type": "code",
   "execution_count": 11,
   "metadata": {},
   "outputs": [],
   "source": [
    "if CLASS_WEIGHTS:\n",
    "    class_weights = {}\n",
    "    class_weights['id'] = torch.ones(len(stoi.keys()), dtype=torch.float32)\n",
    "    class_weights['id'][stoi['PAD']] = 0\n",
    "    class_weights['id'][stoi['EOS']] = 1 / 10\n",
    "    class_weights['dt'] = torch.ones(len(stoi_dt.keys()), dtype=torch.float32)\n",
    "    class_weights['dt'][stoi_dt['PAD']] = 0\n",
    "else:\n",
    "    class_weights = None\n",
    "\n"
   ]
  },
  {
   "cell_type": "code",
   "execution_count": 12,
   "metadata": {},
   "outputs": [
    {
     "name": "stdout",
     "output_type": "stream",
     "text": [
      "Population Size:  389\n",
      "ID Population Size:  389\n",
      "DT Population Size:  28\n",
      "Min Interval: 0.35\n",
      "train: 289787, test: 3296\n"
     ]
    }
   ],
   "source": [
    "from neuroformer.SpikeVidUtils import SpikeTimeVidData2\n",
    "\n",
    "train_dataset = SpikeTimeVidData2(train_data, None, block_size, id_block_size, frame_block_size, prev_id_block_size, \n",
    "                                  window, dt, frame_memory, stoi, itos, neurons, stoi_dt, itos_dt, frame_feats,\n",
    "                                  pred=False, window_prev=window_prev, frame_window=frame_window,\n",
    "                                  dt_frames=dt_frames, intervals=None, dataset=DATASET,\n",
    "                                  behavior=behavior, behavior_vars=behavior_vars, dt_vars=dt_vars,\n",
    "                                  behavior_block_size=behavior_block_size, samples_per_behavior=samples_per_behavior,\n",
    "                                  window_behavior=window_behavior, predict_behavior=predict_behavior,\n",
    "                                  stoi_speed=stoi_speed, itos_speed=itos_speed, dt_speed=dt_speed, labels=True,\n",
    "                                  resample_data=RESAMPLE_DATA)\n",
    "\n",
    "# update_object(train_dataset, dconf)\n",
    "train_dataset = train_dataset.copy(train_data)\n",
    "test_dataset = train_dataset.copy(test_data, resample_data=False)\n",
    "finetune_dataset = train_dataset.copy(finetune_data, resample_data=False)\n",
    "    \n",
    "print(f'train: {len(train_dataset)}, test: {len(test_dataset)}')\n",
    "\n"
   ]
  },
  {
   "cell_type": "code",
   "execution_count": 13,
   "metadata": {},
   "outputs": [
    {
     "name": "stderr",
     "output_type": "stream",
     "text": [
      "06/14/2023 16:07:23 - INFO - neuroformer.model_neuroformer -   number of parameters: 1.604582e+07\n"
     ]
    },
    {
     "name": "stdout",
     "output_type": "stream",
     "text": [
      "256 28\n"
     ]
    }
   ],
   "source": [
    "\n",
    "layers = (mconf.n_state_layers, mconf.n_state_history_layers, mconf.n_stimulus_layers)   \n",
    "max_epochs = 1000\n",
    "batch_size = round((32 * 4))\n",
    "shuffle = True\n",
    "\n",
    "model_conf = GPTConfig(train_dataset.population_size, block_size,    # frame_block_size\n",
    "                        id_vocab_size=train_dataset.id_population_size,\n",
    "                        frame_block_size=frame_block_size,\n",
    "                        id_block_size=id_block_size,  # frame_block_size\n",
    "                        prev_id_block_size=prev_id_block_size,\n",
    "                        behavior_block_size=behavior_block_size,\n",
    "                        sparse_mask=False, p_sparse=None, \n",
    "                        sparse_topk_frame=None, sparse_topk_id=None, sparse_topk_prev_id=None,\n",
    "                        n_dt=len(n_dt),\n",
    "                        pretrain=False,\n",
    "                        n_state_layers=4, n_state_history_layers=2,\n",
    "                        n_stimulus_layers=8, self_att_layers=0,\n",
    "                        n_behavior_layers=0, predict_behavior=predict_behavior, n_behavior=n_behavior,\n",
    "                        n_head=4, n_embd=n_embd, \n",
    "                        contrastive=mconf.contrastive, clip_emb=1024, clip_temp=mconf.clip_temp,\n",
    "                        conv_layer=conv_layer, kernel_size=kernel_size, stride_size=stride_size, padding_size=padding_size,\n",
    "                        temp_emb=mconf.temp_emb, pos_emb=False,\n",
    "                        id_drop=0.35, im_drop=0.35, b_drop=0.45,\n",
    "                        window=window, window_prev=window_prev, frame_window=frame_window, dt=dt,\n",
    "                        neurons=neurons, stoi_dt=stoi_dt, itos_dt=itos_dt, n_embd_frames=n_embd_frames,\n",
    "                        ignore_index_id=stoi['PAD'], ignore_index_dt=stoi_dt['PAD'],\n",
    "                        class_weights=class_weights, contrastive_vars=CLIP_VARS)  # 0.35\n",
    "\n",
    "if INFERENCE or MCONF is not None:\n",
    "    update_object(model_conf, mconf)\n",
    "\n",
    "if not INFERENCE:\n",
    "    if PAST_STATE is False:\n",
    "        print(f\"// -- No past state, layers=0 -- //\")\n",
    "        model_conf.n_state_history_layers = 0\n",
    "\n",
    "    if CONTRASTIVE or CLIP_LOSS is True:\n",
    "        print(f\"// -- contrastive objective clip{CLIP_LOSS} -- //\")\n",
    "        model_conf.contrastive = True\n",
    "        model_conf.clip_loss = CLIP_LOSS\n",
    "    else:\n",
    "        print(f\"// -- no contrastive objective -- //\")\n",
    "        model_conf.contrastive = False\n",
    "    if VISUAL is False:\n",
    "        print(f\"// -- No visual, layers=0 -- //\")\n",
    "        model_conf.n_stimulus_layers = 0\n",
    "\n",
    "model = GPT(model_conf)\n",
    "\n"
   ]
  },
  {
   "cell_type": "code",
   "execution_count": 14,
   "metadata": {},
   "outputs": [],
   "source": [
    "loader = DataLoader(train_dataset, batch_size=1, shuffle=False, num_workers=4, pin_memory=True)\n",
    "iterable = iter(loader)\n",
    "\n"
   ]
  },
  {
   "cell_type": "code",
   "execution_count": 15,
   "metadata": {},
   "outputs": [
    {
     "name": "stdout",
     "output_type": "stream",
     "text": [
      "id_prev torch.Size([1, 55])\n",
      "dt_prev torch.Size([1, 55])\n",
      "pad_prev torch.Size([1])\n",
      "id torch.Size([1, 55])\n",
      "dt torch.Size([1, 55])\n",
      "pad torch.Size([1])\n",
      "interval torch.Size([1])\n",
      "trial torch.Size([1])\n",
      "frames torch.Size([1, 1, 2, 64, 112])\n",
      "stimulus torch.Size([1])\n",
      "f_idx torch.Size([1, 2])\n",
      "cid torch.Size([1, 2])\n",
      "pid torch.Size([1, 2])\n",
      "y: id, torch.Size([1, 55])\n",
      "y: dt, torch.Size([1, 55])\n"
     ]
    }
   ],
   "source": [
    "x, y = next(iterable)\n",
    "# print(x['behavior'].shape, x['behavior_dt'].shape)\n",
    "for k in x.keys():\n",
    "    print(k, x[k].shape)\n",
    "for k in y.keys():\n",
    "    print(f\"y: {k}, {y[k].shape}\")\n",
    "\n",
    "\n",
    "# epoch250_rand{RAND_PERM}_downstream:{DOWNSTREAM}\n",
    "# title =  f'3/4prop_{CLASS_WEIGHTS}/past_state_{PAST_STATE}_visual{VISUAL}_contrastive_{CONTRASTIVE}_clip_loss{CLIP_LOSS}t{mconf.clip_temp}_freeze_{FREEZE_MODEL}_class_weights{CLASS_WEIGHTS}/randperm_{RAND_PERM}/Big_fixed_noself-att'\n",
    "# title = f'ablations_2/{SEED}/RESUME{RESUME != None}_paststate{PAST_STATE}_visual{VISUAL}_contrastive{model_conf.contrastive}'\n",
    "# model_path = f\"\"\"./models/tensorboard/{DATASET}/ablations_small/{title}_2/sparse_f:{mconf.sparse_topk_frame}_id:{mconf.sparse_topk_id}/w:{mconf.window}_wp:{mconf.window_prev}/Cont:{mconf.contrastive}_window:{mconf.window}_f_window:{mconf.frame_window}_df:{mconf.dt}_blocksize:{mconf.id_block_size}_conv_{mconf.conv_layer}_shuffle:{shuffle}_batch:{batch_size}_sparse_({mconf.sparse_topk_frame}_{mconf.sparse_topk_id})_blocksz{block_size}_pos_emb:{mconf.pos_emb}_temp_emb:{mconf.temp_emb}_drop:{mconf.id_drop}_dt:{shuffle}_2.0_{max(stoi_dt.values())}_max{dt}_{layers}_{mconf.n_head}_{mconf.n_embd}.pt\"\"\"\n",
    "model_path = f\"\"\"./models/tensorboard/{DATASET}/{TITLE}/sparse_f:{mconf.sparse_topk_frame}_id:{mconf.sparse_topk_id}/w:{mconf.window}_wp:{mconf.window_prev}/Cont:{mconf.contrastive}_window:{mconf.window}_f_window:{mconf.frame_window}_df:{mconf.dt}_blocksize:{mconf.id_block_size}_conv_{mconf.conv_layer}_shuffle:{shuffle}_batch:{batch_size}_sparse_({mconf.sparse_topk_frame}_{mconf.sparse_topk_id})_blocksz{block_size}_pos_emb:{mconf.pos_emb}_temp_emb:{mconf.temp_emb}_drop:{mconf.id_drop}_dt:{shuffle}_2.0_{max(stoi_dt.values())}_max{dt}_{layers}_{mconf.n_head}_{mconf.n_embd}.pt\"\"\"\n",
    "# model_path = RESUME\n",
    "\n",
    "\n"
   ]
  },
  {
   "cell_type": "code",
   "execution_count": 16,
   "metadata": {},
   "outputs": [],
   "source": [
    "features, preds, loss = model(x, y)\n"
   ]
  },
  {
   "cell_type": "code",
   "execution_count": 17,
   "metadata": {},
   "outputs": [
    {
     "name": "stdout",
     "output_type": "stream",
     "text": [
      "MODEL_PATH ---->: ./models/tensorboard/Combo3_V1AL/None/sparse_f:None_id:None/w:0.1_wp:0.25/Cont:False_window:0.1_f_window:0.1_df:0.01_blocksize:55_conv_True_shuffle:True_batch:128_sparse_(None_None)_blocksz110_pos_emb:False_temp_emb:True_drop:0.35_dt:True_2.0_27_max0.01_(4, 4, 4)_4_256.pt\n"
     ]
    }
   ],
   "source": [
    "\n",
    "if DOWNSTREAM:\n",
    "    print(f\"// Downstream Objective: {DOWNSTREAM} //\")\n",
    "    \"\"\"\n",
    "    image indexes\n",
    "\n",
    "    (140, 260)\n",
    "    (339, 424)\n",
    "    (500, 620)\n",
    "    (680, 840) \n",
    "    (960, 1050)\n",
    "\n",
    "    \"\"\"\n",
    "    import tifffile\n",
    "    from neuroformer.SpikeVidUtils import get_interval_idx\n",
    "    from neuroformer.modules import ClassifierWrapper\n",
    "\n",
    "    stim2_path = \"./data/Combo3_V1AL/stimuli/Combined Stimuli 3-Movie2.tif\"\n",
    "    stimulus_2 = tifffile.imread(stim2_path)\n",
    "\n",
    "    stim3_path = \"./data/Combo3_V1AL/stimuli/Combined Stimuli 3-Movie3.tif\"\n",
    "    stimulus_3 = tifffile.imread(stim3_path)\n",
    "\n",
    "    mouse_indexes = [(140, 260), (339, 424), (500, 620), (680, 840), (960, 1050)]\n",
    "    stimulus_mice = np.concatenate([stimulus_2[i[0]:i[1]] for i in mouse_indexes])\n",
    "    stimulus_control = np.concatenate([stimulus_3[i[0]:i[1]] for i in mouse_indexes])\n",
    "    assert stimulus_mice.shape == stimulus_control.shape, \"stimulus shapes must be equal\"\n",
    "\n",
    "    control_labels = np.zeros(stimulus_control.shape[0])\n",
    "    mice_labels = np.ones(stimulus_mice.shape[0])\n",
    "    stimulus_task = np.concatenate([stimulus_control, stimulus_mice])\n",
    "    labels_task = np.concatenate([control_labels, mice_labels])\n",
    "    mouse_indexes_downsampled = [tuple(map(lambda x: x // 3, i)) for i in mouse_indexes]\n",
    "    stim_2_ds = stimulus[1]\n",
    "    stim_2_ds_mice = np.concatenate([stim_2_ds[i[0]:i[1]] for i in mouse_indexes_downsampled])\n",
    "    mouse_indexes_intervals = [tuple(map(lambda x: get_interval_idx(x, 0.05), i)) for i in mouse_indexes_downsampled]\n",
    "    intervals_cls = np.concatenate([np.arange(i[0], i[1], window) for i in mouse_indexes_intervals])\n",
    "    # don't use same intervals for training and testing (because images will be the same)\n",
    "    train_interval_cls = np.random.choice(intervals_cls, size=int(len(intervals_cls) * 0.8), replace=False)\n",
    "    test_interval_cls = np.setdiff1d(intervals_cls, train_interval_cls)\n",
    "    train_trial_cls = train_data[train_data['Trial'] > 20]['Trial'].unique()\n",
    "    test_trial_cls = test_data[test_data['Trial'] > 20]['Trial'].unique()\n",
    "    train_interval_trial_cls = np.array(np.meshgrid(train_interval_cls, train_trial_cls)).T.reshape(-1, 2)\n",
    "    test_interval_trial_cls = np.array(np.meshgrid(test_interval_cls, test_trial_cls)).T.reshape(-1, 2)\n",
    "    train_dataset = train_dataset.copy(train_data, t=train_interval_trial_cls)\n",
    "    test_dataset = test_dataset.copy(test_data, t=test_interval_trial_cls)\n",
    "\n",
    "\n",
    "print(f\"MODEL_PATH ---->: {model_path}\")\n"
   ]
  },
  {
   "cell_type": "code",
   "execution_count": 18,
   "metadata": {},
   "outputs": [
    {
     "name": "stdout",
     "output_type": "stream",
     "text": [
      "Loading model from ./models/tensorboard/Combo3_V1AL/inference_test/no_clip/sparse_f:None_id:None/w:0.1_wp:0.25/Cont:True_window:0.1_f_window:0.1_df:0.01_blocksize:55_conv_True_shuffle:True_batch:128_sparse_(None_None)_blocksz110_pos_emb:False_temp_emb:True_drop:0.35_dt:True_2.0_27_max0.01_(4, 4, 4)_4_256.pt\n"
     ]
    }
   ],
   "source": [
    "tconf = TrainerConfig(max_epochs=max_epochs, batch_size=batch_size, learning_rate=1e-4, \n",
    "                    num_workers=4, lr_decay=True, patience=3, warmup_tokens=8e4, \n",
    "                    decay_weights=True, weight_decay=0.1, shuffle=shuffle,\n",
    "                    final_tokens=len(train_dataset)*(id_block_size) * (max_epochs),\n",
    "                    clip_norm=1.0, grad_norm_clip=1.0,\n",
    "                    dataset='Combo3_V1AL', mode='predict',\n",
    "                    block_size=train_dataset.block_size,\n",
    "                    id_block_size=train_dataset.id_block_size,\n",
    "                    show_grads=False, plot_raster=False,\n",
    "                    ckpt_path=model_path, no_pbar=False, \n",
    "                    dist=False, save_every=20, loss_bprop=loss_bprop)\n",
    "\n",
    "if not INFERENCE:\n",
    "    if DOWNSTREAM:\n",
    "        mconf.__setattr__('freeze_model', FREEZE_MODEL)\n",
    "        tconf.__setattr__('warmup_tokens', 100)\n",
    "        N_CLASSES = 2\n",
    "        classifier = ClassifierWrapper(model, mconf, N_CLASSES)\n",
    "        train_model = classifier\n",
    "\n",
    "    else:\n",
    "        train_model = model\n",
    "    trainer = Trainer(train_model, train_dataset, test_dataset, tconf, model_conf)\n",
    "    trainer.train()\n",
    "else:\n",
    "    if RESUME is not None:\n",
    "        model_path = RESUME\n",
    "    else:\n",
    "        model_path = glob.glob(os.path.join(base_path, '**.pt'), recursive=True)[0]\n",
    "    print(f\"Loading model from {model_path}\")\n",
    "    model.load_state_dict(torch.load(model_path, map_location='cpu'), strict=False)\n",
    "\n"
   ]
  },
  {
   "cell_type": "code",
   "execution_count": 19,
   "metadata": {},
   "outputs": [],
   "source": [
    "# model.eval()\n",
    "# # model.train()\n",
    "# for i in range(1):\n",
    "#     x, y = next(iterable)\n",
    "#     x_1 = x['id'][0].detach().cpu().numpy()\n",
    "#     x_pad = x['pad']\n",
    "#     x_1 = x['id'][:len(x_1) - int(x_pad[0])]\n",
    "#     preds, features, loss = model(x, y)\n",
    "\n",
    "#     step_choices = random.sample(range(len(x_1)), min(5, len(x_1)))\n",
    "#     fig, ax = plt.subplots(1, len(step_choices), figsize=(50, 5))\n",
    "#     for step in step_choices:\n",
    "#         step_preds = preds['id'][0, step].detach().cpu().numpy()\n",
    "#         x_axis = np.arange(0, len(step_preds))\n",
    "#         ax_step = ax[step]\n",
    "#         ax_step.scatter(x_axis, step_preds)\n",
    "#         ax_step.set_title(f\"\"\"{step}\"\"\", fontsize=20)\n",
    "\n",
    "\n"
   ]
  },
  {
   "cell_type": "code",
   "execution_count": 20,
   "metadata": {},
   "outputs": [
    {
     "name": "stdout",
     "output_type": "stream",
     "text": [
      "id_prev torch.Size([1, 55])\n",
      "dt_prev torch.Size([1, 55])\n",
      "pad_prev torch.Size([1])\n",
      "id torch.Size([1, 55])\n",
      "dt torch.Size([1, 55])\n",
      "pad torch.Size([1])\n",
      "interval torch.Size([1])\n",
      "trial torch.Size([1])\n",
      "frames torch.Size([1, 1, 2, 64, 112])\n",
      "stimulus torch.Size([1])\n",
      "f_idx torch.Size([1, 2])\n",
      "cid torch.Size([1, 2])\n",
      "pid torch.Size([1, 2])\n"
     ]
    }
   ],
   "source": [
    "x, y = next(iterable)\n",
    "for k in x.keys():\n",
    "    print(k, x[k].shape)\n",
    "\n"
   ]
  },
  {
   "cell_type": "code",
   "execution_count": 21,
   "metadata": {},
   "outputs": [
    {
     "data": {
      "text/html": [
       "<div>\n",
       "<style scoped>\n",
       "    .dataframe tbody tr th:only-of-type {\n",
       "        vertical-align: middle;\n",
       "    }\n",
       "\n",
       "    .dataframe tbody tr th {\n",
       "        vertical-align: top;\n",
       "    }\n",
       "\n",
       "    .dataframe thead th {\n",
       "        text-align: right;\n",
       "    }\n",
       "</style>\n",
       "<table border=\"1\" class=\"dataframe\">\n",
       "  <thead>\n",
       "    <tr style=\"text-align: right;\">\n",
       "      <th></th>\n",
       "      <th>Unnamed: 0</th>\n",
       "      <th>Time</th>\n",
       "      <th>ID</th>\n",
       "      <th>Trial</th>\n",
       "      <th>Interval</th>\n",
       "      <th>real_interval</th>\n",
       "      <th>Interval_2</th>\n",
       "    </tr>\n",
       "  </thead>\n",
       "  <tbody>\n",
       "    <tr>\n",
       "      <th>0</th>\n",
       "      <td>0</td>\n",
       "      <td>0.104882</td>\n",
       "      <td>484</td>\n",
       "      <td>1</td>\n",
       "      <td>0.2</td>\n",
       "      <td>0.15</td>\n",
       "      <td>0.25</td>\n",
       "    </tr>\n",
       "    <tr>\n",
       "      <th>1</th>\n",
       "      <td>1</td>\n",
       "      <td>0.113316</td>\n",
       "      <td>309</td>\n",
       "      <td>1</td>\n",
       "      <td>0.2</td>\n",
       "      <td>0.15</td>\n",
       "      <td>0.25</td>\n",
       "    </tr>\n",
       "    <tr>\n",
       "      <th>2</th>\n",
       "      <td>2</td>\n",
       "      <td>0.118826</td>\n",
       "      <td>440</td>\n",
       "      <td>1</td>\n",
       "      <td>0.2</td>\n",
       "      <td>0.15</td>\n",
       "      <td>0.25</td>\n",
       "    </tr>\n",
       "    <tr>\n",
       "      <th>3</th>\n",
       "      <td>3</td>\n",
       "      <td>0.136037</td>\n",
       "      <td>241</td>\n",
       "      <td>1</td>\n",
       "      <td>0.2</td>\n",
       "      <td>0.15</td>\n",
       "      <td>0.25</td>\n",
       "    </tr>\n",
       "    <tr>\n",
       "      <th>4</th>\n",
       "      <td>4</td>\n",
       "      <td>0.137907</td>\n",
       "      <td>328</td>\n",
       "      <td>1</td>\n",
       "      <td>0.2</td>\n",
       "      <td>0.15</td>\n",
       "      <td>0.25</td>\n",
       "    </tr>\n",
       "    <tr>\n",
       "      <th>5</th>\n",
       "      <td>5</td>\n",
       "      <td>0.138035</td>\n",
       "      <td>433</td>\n",
       "      <td>1</td>\n",
       "      <td>0.2</td>\n",
       "      <td>0.15</td>\n",
       "      <td>0.25</td>\n",
       "    </tr>\n",
       "    <tr>\n",
       "      <th>6</th>\n",
       "      <td>6</td>\n",
       "      <td>0.145569</td>\n",
       "      <td>322</td>\n",
       "      <td>1</td>\n",
       "      <td>0.2</td>\n",
       "      <td>0.15</td>\n",
       "      <td>0.25</td>\n",
       "    </tr>\n",
       "    <tr>\n",
       "      <th>7</th>\n",
       "      <td>7</td>\n",
       "      <td>0.160574</td>\n",
       "      <td>477</td>\n",
       "      <td>1</td>\n",
       "      <td>0.2</td>\n",
       "      <td>0.20</td>\n",
       "      <td>0.25</td>\n",
       "    </tr>\n",
       "    <tr>\n",
       "      <th>8</th>\n",
       "      <td>8</td>\n",
       "      <td>0.164429</td>\n",
       "      <td>239</td>\n",
       "      <td>1</td>\n",
       "      <td>0.2</td>\n",
       "      <td>0.20</td>\n",
       "      <td>0.25</td>\n",
       "    </tr>\n",
       "    <tr>\n",
       "      <th>9</th>\n",
       "      <td>9</td>\n",
       "      <td>0.180962</td>\n",
       "      <td>86</td>\n",
       "      <td>1</td>\n",
       "      <td>0.2</td>\n",
       "      <td>0.20</td>\n",
       "      <td>0.25</td>\n",
       "    </tr>\n",
       "    <tr>\n",
       "      <th>10</th>\n",
       "      <td>10</td>\n",
       "      <td>0.180976</td>\n",
       "      <td>11</td>\n",
       "      <td>1</td>\n",
       "      <td>0.2</td>\n",
       "      <td>0.20</td>\n",
       "      <td>0.25</td>\n",
       "    </tr>\n",
       "    <tr>\n",
       "      <th>11</th>\n",
       "      <td>11</td>\n",
       "      <td>0.189109</td>\n",
       "      <td>451</td>\n",
       "      <td>1</td>\n",
       "      <td>0.2</td>\n",
       "      <td>0.20</td>\n",
       "      <td>0.25</td>\n",
       "    </tr>\n",
       "    <tr>\n",
       "      <th>12</th>\n",
       "      <td>12</td>\n",
       "      <td>0.195042</td>\n",
       "      <td>477</td>\n",
       "      <td>1</td>\n",
       "      <td>0.2</td>\n",
       "      <td>0.20</td>\n",
       "      <td>0.25</td>\n",
       "    </tr>\n",
       "  </tbody>\n",
       "</table>\n",
       "</div>"
      ],
      "text/plain": [
       "    Unnamed: 0      Time   ID  Trial  Interval  real_interval  Interval_2\n",
       "0            0  0.104882  484      1       0.2           0.15        0.25\n",
       "1            1  0.113316  309      1       0.2           0.15        0.25\n",
       "2            2  0.118826  440      1       0.2           0.15        0.25\n",
       "3            3  0.136037  241      1       0.2           0.15        0.25\n",
       "4            4  0.137907  328      1       0.2           0.15        0.25\n",
       "5            5  0.138035  433      1       0.2           0.15        0.25\n",
       "6            6  0.145569  322      1       0.2           0.15        0.25\n",
       "7            7  0.160574  477      1       0.2           0.20        0.25\n",
       "8            8  0.164429  239      1       0.2           0.20        0.25\n",
       "9            9  0.180962   86      1       0.2           0.20        0.25\n",
       "10          10  0.180976   11      1       0.2           0.20        0.25\n",
       "11          11  0.189109  451      1       0.2           0.20        0.25\n",
       "12          12  0.195042  477      1       0.2           0.20        0.25"
      ]
     },
     "execution_count": 21,
     "metadata": {},
     "output_type": "execute_result"
    }
   ],
   "source": [
    "df[(df['Interval'] == 0.2) & (df['Trial'] == 1)]\n"
   ]
  },
  {
   "cell_type": "code",
   "execution_count": 22,
   "metadata": {},
   "outputs": [
    {
     "data": {
      "text/plain": [
       "12"
      ]
     },
     "execution_count": 22,
     "metadata": {},
     "output_type": "execute_result"
    }
   ],
   "source": [
    "len(test_data['Trial'].unique())\n"
   ]
  },
  {
   "cell_type": "code",
   "execution_count": 24,
   "metadata": {},
   "outputs": [
    {
     "name": "stdout",
     "output_type": "stream",
     "text": [
      "-- No. [18, 12, 6, 1, 38, 32, 26, 21, 58, 52, 46, 41] Trial: 1 --\n"
     ]
    },
    {
     "name": "stderr",
     "output_type": "stream",
     "text": [
      "  0%|          | 0/286 [00:00<?, ?it/s]"
     ]
    },
    {
     "name": "stdout",
     "output_type": "stream",
     "text": [
      "-- No. [18, 12, 6, 1, 38, 32, 26, 21, 58, 52, 46, 41] Trial: 6 --\n"
     ]
    },
    {
     "name": "stderr",
     "output_type": "stream",
     "text": [
      "  0%|          | 0/261 [00:00<?, ?it/s]"
     ]
    },
    {
     "name": "stdout",
     "output_type": "stream",
     "text": [
      "-- No. [18, 12, 6, 1, 38, 32, 26, 21, 58, 52, 46, 41] Trial: 12 --\n"
     ]
    },
    {
     "name": "stderr",
     "output_type": "stream",
     "text": [
      "  0%|          | 0/251 [00:00<?, ?it/s]"
     ]
    },
    {
     "name": "stdout",
     "output_type": "stream",
     "text": [
      "-- No. [18, 12, 6, 1, 38, 32, 26, 21, 58, 52, 46, 41] Trial: 18 --\n"
     ]
    },
    {
     "name": "stderr",
     "output_type": "stream",
     "text": [
      "  0%|          | 0/246 [00:00<?, ?it/s]"
     ]
    },
    {
     "name": "stdout",
     "output_type": "stream",
     "text": [
      "-- No. [18, 12, 6, 1, 38, 32, 26, 21, 58, 52, 46, 41] Trial: 21 --\n"
     ]
    },
    {
     "name": "stderr",
     "output_type": "stream",
     "text": [
      "  0%|          | 0/297 [00:00<?, ?it/s]"
     ]
    },
    {
     "name": "stdout",
     "output_type": "stream",
     "text": [
      "-- No. [18, 12, 6, 1, 38, 32, 26, 21, 58, 52, 46, 41] Trial: 26 --\n",
      "-- No. [18, 12, 6, 1, 38, 32, 26, 21, 58, 52, 46, 41] Trial: 32 --\n"
     ]
    },
    {
     "name": "stderr",
     "output_type": "stream",
     "text": [
      "len pred: 1, len true: 11:   0%|          | 1/286 [00:02<12:37,  2.66s/it]"
     ]
    },
    {
     "name": "stdout",
     "output_type": "stream",
     "text": [
      "-- No. [18, 12, 6, 1, 38, 32, 26, 21, 58, 52, 46, 41] Trial: 38 --\n"
     ]
    },
    {
     "name": "stderr",
     "output_type": "stream",
     "text": [
      "  0%|          | 0/277 [00:00<?, ?it/s]"
     ]
    },
    {
     "name": "stdout",
     "output_type": "stream",
     "text": [
      "-- No. [18, 12, 6, 1, 38, 32, 26, 21, 58, 52, 46, 41] Trial: 41 --\n"
     ]
    },
    {
     "name": "stderr",
     "output_type": "stream",
     "text": [
      "  0%|          | 0/283 [00:00<?, ?it/s]   | 3/286 [00:03<05:03,  1.07s/it]"
     ]
    },
    {
     "name": "stdout",
     "output_type": "stream",
     "text": [
      "-- No. [18, 12, 6, 1, 38, 32, 26, 21, 58, 52, 46, 41] Trial: 46 --\n"
     ]
    },
    {
     "name": "stderr",
     "output_type": "stream",
     "text": [
      "len pred: 6, len true: 25:   2%|▏         | 4/261 [00:03<02:40,  1.60it/s]"
     ]
    },
    {
     "name": "stdout",
     "output_type": "stream",
     "text": [
      "-- No. [18, 12, 6, 1, 38, 32, 26, 21, 58, 52, 46, 41] Trial: 52 --\n"
     ]
    },
    {
     "name": "stderr",
     "output_type": "stream",
     "text": [
      "len pred: 7, len true: 27:   2%|▏         | 5/261 [00:04<02:05,  2.05it/s]"
     ]
    },
    {
     "name": "stdout",
     "output_type": "stream",
     "text": [
      "-- No. [18, 12, 6, 1, 38, 32, 26, 21, 58, 52, 46, 41] Trial: 58 --\n"
     ]
    },
    {
     "name": "stderr",
     "output_type": "stream",
     "text": [
      "len pred: 48, len true: 875: 100%|██████████| 246/246 [00:37<00:00,  6.48it/s]s]\n",
      "len pred: 111, len true: 955:  66%|██████▌   | 191/290 [00:36<00:16,  6.00it/s]]"
     ]
    },
    {
     "name": "stdout",
     "output_type": "stream",
     "text": [
      "pred: (38, 5), true: (875, 2)\n"
     ]
    },
    {
     "name": "stderr",
     "output_type": "stream",
     "text": [
      "len pred: 55, len true: 885: 100%|██████████| 251/251 [00:39<00:00,  6.42it/s]]]\n",
      "len pred: 73, len true: 948:  74%|███████▍  | 205/276 [00:35<00:08,  8.21it/s]]"
     ]
    },
    {
     "name": "stdout",
     "output_type": "stream",
     "text": [
      "pred: (35, 5), true: (885, 2)\n"
     ]
    },
    {
     "name": "stderr",
     "output_type": "stream",
     "text": [
      "len pred: 58, len true: 911: 100%|██████████| 261/261 [00:40<00:00,  6.38it/s]s]\n",
      "len pred: 75, len true: 1056:  89%|████████▉ | 254/286 [00:41<00:04,  7.28it/s]]"
     ]
    },
    {
     "name": "stdout",
     "output_type": "stream",
     "text": [
      "pred: (41, 5), true: (911, 2)\n"
     ]
    },
    {
     "name": "stderr",
     "output_type": "stream",
     "text": [
      "len pred: 86, len true: 1179: 100%|██████████| 286/286 [00:46<00:00,  6.17it/s]]\n",
      "len pred: 100, len true: 1068:  86%|████████▋ | 239/277 [00:43<00:08,  4.29it/s]"
     ]
    },
    {
     "name": "stdout",
     "output_type": "stream",
     "text": [
      "pred: (70, 5), true: (1179, 2)\n"
     ]
    },
    {
     "name": "stderr",
     "output_type": "stream",
     "text": [
      "len pred: 97, len true: 1225: 100%|██████████| 276/276 [00:46<00:00,  5.96it/s]]\n"
     ]
    },
    {
     "name": "stdout",
     "output_type": "stream",
     "text": [
      "pred: (78, 5), true: (1225, 2)\n",
      "pred: (71, 5), true: (1068, 2)\n"
     ]
    },
    {
     "name": "stderr",
     "output_type": "stream",
     "text": [
      "len pred: 96, len true: 1068: 100%|██████████| 268/268 [00:46<00:00,  5.81it/s]]\n",
      "len pred: 122, len true: 1450: 100%|██████████| 281/281 [00:48<00:00,  5.78it/s]\n",
      "len pred: 93, len true: 1361: 100%|██████████| 280/280 [00:47<00:00,  5.86it/s]]\n",
      "len pred: 119, len true: 1245:  90%|████████▉ | 254/283 [00:47<00:04,  5.81it/s]"
     ]
    },
    {
     "name": "stdout",
     "output_type": "stream",
     "text": [
      "pred: (85, 5), true: (1450, 2)\n",
      "pred: (70, 5), true: (1361, 2)\n"
     ]
    },
    {
     "name": "stderr",
     "output_type": "stream",
     "text": [
      "len pred: 125, len true: 1274: 100%|██████████| 277/277 [00:50<00:00,  5.45it/s]\n",
      "len pred: 155, len true: 1367:  96%|█████████▌| 277/290 [00:51<00:02,  4.91it/s]"
     ]
    },
    {
     "name": "stdout",
     "output_type": "stream",
     "text": [
      "pred: (107, 5), true: (1274, 2)\n"
     ]
    },
    {
     "name": "stderr",
     "output_type": "stream",
     "text": [
      "len pred: 124, len true: 1399: 100%|██████████| 283/283 [00:51<00:00,  5.53it/s]\n",
      "len pred: 157, len true: 1426:  99%|█████████▉| 288/290 [00:52<00:00,  7.82it/s]"
     ]
    },
    {
     "name": "stdout",
     "output_type": "stream",
     "text": [
      "pred: (100, 5), true: (1399, 2)\n"
     ]
    },
    {
     "name": "stderr",
     "output_type": "stream",
     "text": [
      "len pred: 157, len true: 1431: 100%|██████████| 290/290 [00:53<00:00,  5.46it/s]\n",
      "len pred: 153, len true: 2453:  94%|█████████▍| 280/297 [00:53<00:03,  4.78it/s]"
     ]
    },
    {
     "name": "stdout",
     "output_type": "stream",
     "text": [
      "pred: (128, 5), true: (1431, 2)\n"
     ]
    },
    {
     "name": "stderr",
     "output_type": "stream",
     "text": [
      "len pred: 160, len true: 2532: 100%|██████████| 297/297 [00:56<00:00,  5.25it/s]\n"
     ]
    },
    {
     "name": "stdout",
     "output_type": "stream",
     "text": [
      "pred: (128, 5), true: (2532, 2)\n",
      "-- No. 0 Trial --\n",
      "-- No. 1 Trial --\n",
      "-- No. 2 Trial --\n",
      "-- No. 3 Trial --\n",
      "-- No. 4 Trial --\n",
      "-- No. 5 Trial --\n",
      "-- No. 6 Trial --\n",
      "-- No. 7 Trial --\n",
      "-- No. 8 Trial --\n",
      "-- No. 9 Trial --\n",
      "-- No. 10 Trial --\n",
      "-- No. 11 Trial --\n",
      "defaultdict(<class 'list'>, {'precision': 0.0007272544889156384, 'recall': 0.0006147629078715446, 'F1': 0.0006582527045963699})\n",
      "ID unique: pred: 194, true: 386\n",
      "len pred: 951, len true: 12420\n"
     ]
    }
   ],
   "source": [
    "from neuroformer.utils import predict_raster_recursive_time_auto, process_predictions\n",
    "\n",
    "PARALLEL = True\n",
    "# df_pred_paths = list(pathlib.Path(base_path).glob('*.csv'))\n",
    "df_pred_paths = []\n",
    "df_pred = pd.read_csv(df_pred_paths[0]) if len(df_pred_paths) > 0 else None\n",
    "# df_pred = None\n",
    "results_dict = dict()\n",
    "# sample = False\n",
    "\n",
    "top_p = 0.75\n",
    "top_p_t = 1.45\n",
    "temp = 0.75\n",
    "temp_t = 1.45\n",
    "true_past = False\n",
    "\n",
    "\n",
    "# trials = sorted(train_data['Trial'].unique())[::4]\n",
    "trials = sorted(test_data['Trial'].unique())\n",
    "\n",
    "# model_path = RESUME\n",
    "# model_path = \"./models/tensorboard/Combo3_V1AL/inference_test/no_clip/sparse_f:None_id:None/w:0.1_wp:0.25/Cont:True_window:0.1_f_window:0.1_df:0.01_blocksize:55_conv_True_shuffle:True_batch:128_sparse_(None_None)_blocksz110_pos_emb:False_temp_emb:True_drop:0.35_dt:True_2.0_27_max0.01_(4, 4, 4)_4_256/_epoch_decoder.pt\"\n",
    "model.load_state_dict(torch.load(model_path, map_location='cpu'), strict=True)\n",
    "\n",
    "if df_pred is None:\n",
    "    from joblib import Parallel, delayed\n",
    "    # Define a function to process each trial\n",
    "    def process_trial(model, train_dataset, df, stoi, itos_dt, itos, window, window_prev, top_p, top_p_t, temp, temp_t, trial):\n",
    "        print(f\"-- No. {n} Trial: {trial} --\")\n",
    "        df_trial = df[df['Trial'] == trial]\n",
    "        trial_dataset = test_dataset.copy(df_trial)\n",
    "        results_trial = predict_raster_recursive_time_auto(model, trial_dataset, window, window_prev, stoi, itos_dt, itos=itos, \n",
    "                                                        sample=True, top_p=top_p, top_p_t=top_p_t, temp=temp, temp_t=temp_t, \n",
    "                                                        frame_end=0, get_dt=True, gpu=False, pred_dt=True, plot_probs=False,\n",
    "                                                        true_past=true_past)\n",
    "        df_trial_pred, df_trial_true = process_predictions(results_trial, stoi, itos, window)\n",
    "        print(f\"pred: {df_trial_pred.shape}, true: {df_trial_true.shape}\" )\n",
    "        return df_trial_pred, df_trial_true\n",
    "\n",
    "    if PARALLEL:\n",
    "        # Process each trial in parallel\n",
    "        results = Parallel(n_jobs=-1)(delayed(process_trial)(model, train_dataset, df, stoi, itos_dt, \n",
    "                                                            itos, window, window_prev, top_p, top_p_t, \n",
    "                                                            temp, temp_t, trial) for trial in trials)\n",
    "    else:\n",
    "        # Process each trial sequentially\n",
    "        results = []\n",
    "        for trial in trials:\n",
    "            results.append(process_trial(model, train_dataset, df, stoi, itos_dt, \n",
    "                                            itos, window, window_prev, top_p, top_p_t, \n",
    "                                            temp, temp_t, trial))\n",
    "    # Combine the results from each trial\n",
    "    for n, (df_trial_pred, df_trial_true) in enumerate(results):   \n",
    "        print(f\"-- No. {n} Trial --\")\n",
    "        if df_pred is None:\n",
    "            df_pred = df_trial_pred\n",
    "            df_true = df_trial_true\n",
    "        else:\n",
    "            df_pred = pd.concat([df_pred, df_trial_pred])\n",
    "            df_true = pd.concat([df_true, df_trial_true])\n",
    "\n",
    "from neuroformer.analysis import compute_scores\n",
    "df_true = df[df['Trial'].isin(trials)]\n",
    "scores = compute_scores(df_true, df_pred)\n",
    "print(scores)\n",
    "print(f\"ID unique: pred: {len(df_pred['ID'].unique())}, true: {len(df_true['ID'].unique())}\")\n",
    "print(f\"len pred: {len(df_pred)}, len true: {len(df_true)}\")\n",
    "\n",
    "title = F\"top_p: {top_p}, top_p_t: {top_p_t}, temp: {temp}, temp_t: {temp_t}/true_past:{true_past}\"\n",
    "dir_name = os.path.dirname(model_path)\n",
    "save_path = os.path.join(dir_name, F\"predictions_{title}.csv\")\n",
    "# model_name = os.path.basename(model_path)\n",
    "# df_pred.to_csv(os.path.join(dir_name, F'df_pred_.csv'))\n",
    "# df_true.to_csv(os.path.join(dir_name, F'df_true_.csv'))\n"
   ]
  },
  {
   "cell_type": "code",
   "execution_count": null,
   "metadata": {},
   "outputs": [],
   "source": [
    "# def process_trial(model, train_dataset, df, stoi, itos_dt, itos, window, window_prev, top_p, top_p_t, temp, temp_t, trial, true_past):\n",
    "#     print(f\"-- Processing Trial: {trial} --\")\n",
    "#     df_trial = df[df['Trial'] == trial]\n",
    "#     trial_dataset = train_dataset.copy(df_trial)\n",
    "    \n",
    "#     results_trial = predict_raster_recursive_time_auto(\n",
    "#         model, trial_dataset, window, window_prev, stoi, itos_dt, itos=itos,\n",
    "#         sample=True, top_p=top_p, top_p_t=top_p_t, temp=temp, temp_t=temp_t,\n",
    "#         frame_end=0, get_dt=True, gpu=False, pred_dt=True, plot_probs=False,\n",
    "#         true_past=true_past\n",
    "#     )\n",
    "    \n",
    "#     df_trial_pred, df_trial_true = process_predictions(results_trial, stoi, itos, window)\n",
    "#     print(f\"pred: {df_trial_pred.shape}, true: {df_trial_true.shape}\" )\n",
    "#     return df_trial_pred, df_trial_true\n",
    "\n",
    "# def predict_and_analyze(model_path, test_data, train_dataset, df, stoi, itos_dt, itos, window, window_prev, parallel=False, true_past=True, top_p=0.95, top_p_t=1.0, temp=0.95, temp_t=1.0):\n",
    "#     model = torch.nn.Module()  # Initialize your model here, if needed\n",
    "#     model.load_state_dict(torch.load(model_path, map_location='cpu'), strict=True)\n",
    "\n",
    "#     trials = sorted(test_data['Trial'].unique())\n",
    "\n",
    "#     if parallel:\n",
    "#         results = Parallel(n_jobs=-1)(delayed(process_trial)(\n",
    "#             model, train_dataset, df, stoi, itos_dt,\n",
    "#             itos, window, window_prev, top_p, top_p_t,\n",
    "#             temp, temp_t, trial, true_past\n",
    "#         ) for trial in trials)\n",
    "#     else:\n",
    "#         results = [process_trial(model, train_dataset, df, stoi, itos_dt, itos, window, window_prev, top_p, top_p_t, temp, temp_t, trial, true_past) for trial in trials]\n",
    "\n",
    "#     df_pred = pd.concat([df_trial_pred for df_trial_pred, _ in results])\n",
    "#     df_true = pd.concat([df_trial_true for _, df_trial_true in results])\n",
    "\n",
    "#     scores = compute_scores(df_true, df_pred)\n",
    "    \n",
    "#     print(scores)\n",
    "#     print(f\"ID unique: pred: {len(df_pred['ID'].unique())}, true: {len(df_true['ID'].unique())}\")\n",
    "#     print(f\"len pred: {len(df_pred)}, len true: {len(df_true)}\")\n",
    "\n",
    "#     title = f\"top_p: {top_p}, top_p_t: {top_p_t}, temp: {temp}, temp_t: {temp_t}/true_past:{true_past}\"\n",
    "#     dir_name = os.path.dirname(model_path)\n",
    "#     save_path = os.path.join(dir_name, f\"predictions_{title}.csv\")\n",
    "    \n",
    "#     # Save the results to csv files if needed\n",
    "#     df_pred.to_csv(os.path.join(save_path, 'df_pred.csv'))\n",
    "#     df_true.to_csv(os.path.join(save_path, 'df_true.csv'))\n",
    "\n",
    "#     return scores, df_pred, df_true\n",
    "\n",
    "\n",
    "# PARALLEL = False\n",
    "# # df_pred_paths = list(pathlib.Path(base_path).glob('*.csv'))\n",
    "# df_pred_paths = []\n",
    "# df_pred = pd.read_csv(df_pred_paths[0]) if len(df_pred_paths) > 0 else None\n",
    "# # df_pred = None\n",
    "# results_dict = dict()\n",
    "# # sample = False\n",
    "\n",
    "# top_p = 0.95\n",
    "# top_p_t = 1.\n",
    "# temp = 0.95\n",
    "# temp_t = 1.\n",
    "# true_past = False\n",
    "\n",
    "# # Make sure to pass all the required parameters to the function\n",
    "# scores, df_pred, df_true = predict_and_analyze(model_path, test_data, train_dataset, df, stoi, itos_dt, itos, window, window_prev,\n",
    "#                                                top_p=top_p, top_p_t=top_p_t, temp=temp, temp_t=temp_t, true_past=true_past, parallel=PARALLEL)\n",
    "\n"
   ]
  },
  {
   "cell_type": "code",
   "execution_count": null,
   "metadata": {},
   "outputs": [],
   "source": [
    "\"\"\"\n",
    "\n",
    "Split data into full-stimulus trials\n",
    "\n",
    "\"\"\"\n",
    "# dir_name = os.path.dirname(model_path)\n",
    "# df_pred = pd.read_csv(os.path.join(dir_name, F'df_pred_.csv'))\n",
    "\n",
    "from neuroformer.analysis import get_rates_trial, calc_corr_psth, get_accuracy, compute_scores\n",
    "from neuroformer.SpikeVidUtils import create_full_trial, set_intervals\n",
    "\n",
    "t_1, t_2 = 35, 36\n",
    "trial_data_1 = df[df['Trial'] == t_1]\n",
    "trial_dataset_1 = SpikeTimeVidData2(train_data, None, block_size, id_block_size, frame_block_size, prev_id_block_size, window, dt, frame_memory, stoi, itos, neurons, stoi_dt, itos_dt, frame_feats, pred=False, window_prev=window_prev)\n",
    "trial_loader_1 = DataLoader(trial_dataset_1, shuffle=False, pin_memory=False)\n",
    "\n",
    "def loader_trial(df, n_trial):\n",
    "    trial_data = df[df['Trial'] == n_trial]\n",
    "    trial_dataset = SpikeTimeVidData2(trial_data, None, block_size, id_block_size, frame_block_size, prev_id_block_size, window, dt, frame_memory, stoi, itos, neurons, stoi_dt, itos_dt, frame_feats, pred=False, window_prev=window_prev)\n",
    "    trial_loader = DataLoader(trial_dataset, shuffle=False, pin_memory=False)\n",
    "    return trial_loader\n",
    "\n",
    "trial_data_1 = loader_trial(df, t_1)\n",
    "trial_data_2 = loader_trial(df, t_2)\n",
    "\n",
    "iterable1 = iter(trial_data_1)\n",
    "iterable2 = iter(trial_data_2)\n",
    "\n",
    "n_1 = test_data['Trial'].unique() - 1\n",
    "n_2 = test_data['Trial'].unique() + 1\n",
    "\n",
    "df_pred_full = create_full_trial(df_pred)\n",
    "df_1 = create_full_trial(df, trials)\n",
    "df_2 = create_full_trial(df, n_1)\n",
    "df_3 = create_full_trial(df, n_2)\n",
    "\n",
    "# sort by interval, trial\n",
    "window_pred = 1\n",
    "min_window = window_prev + window\n",
    "df_pred_full = set_intervals(df_pred_full, window, window_prev, window_pred)\n",
    "df_1 = set_intervals(df_1, window, window_prev, window_pred)\n",
    "df_2 = set_intervals(df_2, window, window_prev, window_pred)\n",
    "df_3 = set_intervals(df_3, window, window_prev, window_pred)\n",
    "\n",
    "window_pred = window if window_pred is None else window_pred\n",
    "# intervals = np.array(sorted(set(df['Interval'].unique()) & set(df['Interval'].unique())))\n",
    "intervals = np.array(sorted(set(df_pred_full['Interval'].unique())))\n",
    "labels = np.array([round(window_pred + window_pred*n, 2) for n in range(0, int(max(df_pred_full['Interval']) / window_pred))])\n",
    "ids = sorted(set(df['ID'].unique()) & set(df['ID'].unique()))\n",
    "\n",
    "# labels = sorted(set(df_pred_full['Interval'].unique()))\n",
    "rates_pred = get_rates_trial(df_pred_full, labels)\n",
    "rates_1 = get_rates_trial(df_1, labels)\n",
    "rates_2 = get_rates_trial(df_2, labels)\n",
    "rates_3 = get_rates_trial(df_3, labels)\n",
    "\n",
    "neurons = df['ID'].unique()\n",
    "top_corr_pred = calc_corr_psth(rates_pred, rates_1, neurons=neurons)\n",
    "top_corr_real = calc_corr_psth(rates_1, rates_2, neurons=neurons)\n",
    "top_corr_real_2 = calc_corr_psth(rates_1, rates_3, neurons=neurons)\n",
    "\n",
    "\n"
   ]
  },
  {
   "cell_type": "code",
   "execution_count": null,
   "metadata": {},
   "outputs": [],
   "source": [
    "\"\"\"\n",
    "\n",
    "Evaluate results\n",
    "\n",
    "\"\"\"\n",
    "\n",
    "\n",
    "from neuroformer.visualize import set_plot_white, plot_distribution\n",
    "from neuroformer.analysis import compute_scores_scikit\n",
    "# df_2['Trial'] -= 2\n",
    "id_pred, id_true_1, id_true_2 = len(df_pred_full['ID'].unique()), len(df_1['ID'].unique()), len(df_2['ID'].unique())\n",
    "print(f\"id_pred: {id_pred}, id_true_1: {id_true_1}, id_true_2: {id_true_2}\")\n",
    "\n",
    "len_pred, len_true = len(df_pred_full), len(df_1)\n",
    "print(f\"len_pred: {len_pred}, len_true: {len_true}\")\n",
    "\n",
    "accuracy = get_accuracy(df_pred, df_2)\n",
    "\n",
    "scores = compute_scores(df_1, df_2)\n",
    "pred_scores = compute_scores(df_1, df_pred_full)\n",
    "scores_scikit = compute_scores_scikit(df_1, df_2)\n",
    "pred_scores_scikit = compute_scores_scikit(df_1, df_pred_full)\n",
    "\n",
    "print(f\"real: {scores}\")\n",
    "print(f\"pred: {pred_scores}\")\n",
    "# save scores to json\n",
    "\n",
    "score_dict = {'true': scores, 'pred': pred_scores}\n",
    "score_dict_scikit = {'true': scores_scikit, 'pred': pred_scores_scikit}\n",
    "n_score_paths = len(glob.glob(os.path.join(dir_name, F'scores*.json')))\n",
    "with open(os.path.join(dir_name, F'scores_{n}_top:{top_p}_{temp}_{top_p_t}_{temp_t}.json'), 'w') as f:\n",
    "    json.dump(score_dict, f)\n",
    "with open(os.path.join(dir_name, F'scores_scikit_{n}_top:{top_p}_{temp}_{top_p_t}_{temp_t}.json'), 'w') as f:\n",
    "    json.dump(score_dict_scikit, f)\n",
    "\n",
    "# dir_name = os.path.dirname(model_path)\n",
    "save_dir = os.path.dirname(model_path)\n",
    "df_pred.to_csv(os.path.join(save_dir, F'df_pred.csv'))\n",
    "\n",
    "set_plot_white()\n",
    "plt.figure(figsize=(10, 10), facecolor='white')\n",
    "plt.title(f'PSTH Correlations (V1 + AL) bin {window_pred}', fontsize=25)\n",
    "plt.ylabel('Count (n)', fontsize=25)\n",
    "plt.xlabel('Pearson r', fontsize=25)\n",
    "plt.hist(top_corr_real, label='real - real2', alpha=0.6)\n",
    "# plt.hist(top_corr_real_2, label='real - real3', alpha=0.6)\n",
    "plt.hist(top_corr_pred, label='real - simulated', alpha=0.6)\n",
    "plt.legend(fontsize=20)\n",
    "plt.savefig(os.path.join(dir_name, F'psth_corr.svg'))\n",
    "plt.show()\n",
    "\n",
    "plot_distribution(df_1, df_pred, save_path=os.path.join(dir_name, F'psth_dist.svg'))\n",
    "\n",
    "total_scores = dict()\n",
    "total_scores['real'] = scores\n",
    "total_scores['pred'] = pred_scores\n",
    "\n",
    "# # %%\n",
    "# loader = DataLoader(test_dataset, shuffle=False, pin_memory=False)\n",
    "# iterable = iter(test_dataset)\n",
    "\n",
    "\n",
    "\n",
    "# # %%\n",
    "# var_group = 'Interval'\n",
    "# int_trials = df.groupby([var_group, 'Trial']).size()\n",
    "# print(int_trials.mean())\n",
    "# # df.groupby(['Interval', 'Trial']).agg(['nunique'])\n",
    "# n_unique = len(df.groupby([var_group, 'Trial']).size())\n",
    "# df.groupby([var_group, 'Trial']).size().nlargest(int(0.2 * n_unique))\n",
    "# # df.groupby(['Interval_2', 'Trial']).size().mean()\n",
    "\n",
    "\n",
    "\n",
    "# # %%\n",
    "# # while iv < 1.95:\n",
    "# x, y = next(iterable)\n",
    "\n",
    "# T = len(x['id'])\n",
    "# P = x['pad']\n",
    "# T_prev = len(x['id_prev'])\n",
    "# P_prev = x['pad_prev'] - 4\n",
    "\n",
    "# T_y = len(y['id'])\n",
    "# P_y = x['pad']\n",
    "\n",
    "# iv = float(x['interval'])\n",
    "\n",
    "# xid = x['id'][: T - P]\n",
    "# xid = [itos[int(i)] for i in xid]\n",
    "# xdt = x['dt'][: T - P]\n",
    "\n",
    "# yid = y['id'][: T_y - P_y]\n",
    "# yid = [itos[int(i)] for i in yid]\n",
    "# ydt = y['dt'][: T - P]\n",
    "\n",
    "# xid_prev = x['id_prev'][: T_prev - P_prev]\n",
    "# xid_prev = [itos[int(i)] for i in xid_prev]\n",
    "\n",
    "# print(f\"iv: {iv}, ix+window: {iv + window} pid: {x['pid']} cid: {x['cid']}\")\n",
    "# print(f\"x: {xid}\")\n",
    "# print(f\"xdt: {xdt}\")\n",
    "# print(f\"y: {yid}\")\n",
    "# print(f\"ydt: {ydt}\")\n",
    "\n",
    "# print(f\"xid_prev: {xid_prev}\")\n",
    "\n",
    "# tdiff = 0\n",
    "# t_var = 'Time' # 'Interval'\n",
    "# int_var = 'cid'\n",
    "# # df[(df[t_var] >= iv - tdiff) & (df[t_var] <= iv + (window + tdiff)) & (df['Trial'] == int(x['trial']))]\n",
    "# # df[(df[t_var] >= float(x[int_var][0]) - tdiff) & (df[t_var] <= float(x[int_var][1] + tdiff)) & (df['Trial'] == int(x['trial']))]\n",
    "# df[(df[t_var] > float(x[int_var][0]) - tdiff) & (df[t_var] <= float(x['cid'][1] + tdiff)) & (df['Trial'] == int(x['trial']))]\n",
    "\n",
    "# # t_var = 'Time' # 'Interval'\n",
    "# # int_var = 'pid'\n",
    "# # df[(df[t_var] > round(float(x[int_var][0]), 2) - tdiff) & (df[t_var] <= round(float(x[int_var][1]), 2)) & (df['Trial'] == int(x['trial']))\n",
    "\n",
    "# # print(f\"trial: {x['trial']}, pid: {x['pid']}, cid: {x['cid']}\")\n",
    "\n",
    "# # plt.imshow(x['frames'][0, 0])\n",
    "\n",
    "# # %%\n",
    "# itos_dt\n",
    "\n",
    "\n",
    "# # %%\n",
    "# loader = DataLoader(test_dataset, shuffle=True, pin_memory=False)\n",
    "# iterable = iter(loader)\n",
    "\n",
    "\n",
    "# # %%\n",
    "# x, y = next(iterable)\n",
    "# preds, features, loss = model(x, y\n",
    "\n",
    "\n",
    "\"\"\"\n",
    "\n",
    "from utils import all_device\n",
    "from tqdm import tqdm\n",
    "\n",
    "def collect_preds(model, loader, n_iter, device=\"cpu\"):\n",
    "    preds = []\n",
    "    features = []\n",
    "    pbar = tqdm(enumerate(loader), total=n_iter)\n",
    "    for i, (x, y) in pbar:\n",
    "        if i > n_iter:\n",
    "            break\n",
    "        x = all_device(x, device)\n",
    "        y = all_device(y, device)\n",
    "        with torch.no_grad():\n",
    "            pred, feature, loss = model(x, y)\n",
    "            preds.append(pred['probs_id'])\n",
    "            features.append(feature)\n",
    "    preds = torch.cat(preds, dim=0)\n",
    "    return preds\n",
    "\n",
    "preds = collect_preds(model, loader, n_iter=100, device=\"cpu\")\n",
    "\n",
    "preds_mean = preds.mean(dim=0)\n",
    "preds_std = preds.std(dim=0)\n",
    "\n",
    "# plot the mean and std of the predictions\n",
    "plt.plot(preds_mean)\n",
    "plt.fill_between(np.arange(preds_mean.shape[0]), preds_mean - preds_std, preds_mean + preds_std, alpha=0.5)\n",
    "plt.grid()\n",
    "plt.scatter(389, 0.0025)\n",
    "\n",
    "plt.savefig(os.path.join(base_path, 'preds_mean_std.png'))\n",
    "np.save(os.path.join(base_path, 'preds_mean.npy'), preds_mean)\n",
    "\n",
    "\"\"\"\n",
    "\n",
    "\n",
    "\n",
    "\n"
   ]
  },
  {
   "cell_type": "code",
   "execution_count": null,
   "metadata": {},
   "outputs": [],
   "source": [
    "iterable = iter(test_dataset)\n",
    "\n"
   ]
  },
  {
   "cell_type": "code",
   "execution_count": null,
   "metadata": {},
   "outputs": [],
   "source": [
    "# while iv < 1.95:\n",
    "x, y = next(iterable)\n",
    "\n",
    "T = len(x['id'])\n",
    "P = x['pad']\n",
    "T_prev = len(x['id_prev'])\n",
    "P_prev = x['pad_prev'] - 4\n",
    "\n",
    "T_y = len(y['id'])\n",
    "P_y = x['pad']\n",
    "\n",
    "iv = float(x['interval'])\n",
    "\n",
    "xid = x['id'][: T - P]\n",
    "xid = [itos[int(i)] for i in xid]\n",
    "xdt = x['dt'][: T - P]\n",
    "\n",
    "yid = y['id'][: T_y - P_y]\n",
    "yid = [itos[int(i)] for i in yid]\n",
    "ydt = y['dt'][: T - P]\n",
    "\n",
    "xid_prev = x['id_prev'][: T_prev - P_prev]\n",
    "xid_prev = [itos[int(i)] for i in xid_prev]\n",
    "\n",
    "print(f\"iv: {iv}, ix+window: {iv + window} pid: {x['pid']} cid: {x['cid']}\")\n",
    "print(f\"x: {xid}\")\n",
    "print(f\"xdt: {xdt}\")\n",
    "print(f\"y: {yid}\")\n",
    "print(f\"ydt: {ydt}\")\n",
    "\n",
    "print(f\"xid_prev: {xid_prev}\")\n",
    "\n",
    "tdiff = 0\n",
    "t_var = 'Time' # 'Interval'\n",
    "int_var = 'cid'\n",
    "# df[(df[t_var] >= iv - tdiff) & (df[t_var] <= iv + (window + tdiff)) & (df['Trial'] == int(x['trial']))]\n",
    "# df[(df[t_var] >= float(x[int_var][0]) - tdiff) & (df[t_var] <= float(x[int_var][1] + tdiff)) & (df['Trial'] == int(x['trial']))]\n",
    "df[(df[t_var] > float(x[int_var][0]) - tdiff) & (df[t_var] <= float(x['cid'][1] + tdiff)) & (df['Trial'] == int(x['trial']))]\n",
    "\n",
    "# t_var = 'Time' # 'Interval'\n",
    "# int_var = 'pid'\n",
    "# df[(df[t_var] > round(float(x[int_var][0]), 2) - tdiff) & (df[t_var] <= round(float(x[int_var][1]), 2)) & (df['Trial'] == int(x['trial']))\n",
    "\n",
    "# print(f\"trial: {x['trial']}, pid: {x['pid']}, cid: {x['cid']}\")\n",
    "\n"
   ]
  },
  {
   "cell_type": "code",
   "execution_count": null,
   "metadata": {},
   "outputs": [],
   "source": []
  }
 ],
 "metadata": {
  "kernelspec": {
   "display_name": "neuroformer",
   "language": "python",
   "name": "python3"
  },
  "language_info": {
   "codemirror_mode": {
    "name": "ipython",
    "version": 3
   },
   "file_extension": ".py",
   "mimetype": "text/x-python",
   "name": "python",
   "nbconvert_exporter": "python",
   "pygments_lexer": "ipython3",
   "version": "3.9.15"
  },
  "orig_nbformat": 4
 },
 "nbformat": 4,
 "nbformat_minor": 2
}
