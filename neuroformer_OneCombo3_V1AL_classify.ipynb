{
 "cells": [
  {
   "cell_type": "code",
   "execution_count": 31,
   "metadata": {},
   "outputs": [
    {
     "name": "stdout",
     "output_type": "stream",
     "text": [
      "Running in Jupyter notebook\n",
      "CONTRASTIUVEEEEEEE False\n",
      "VISUAL: True\n",
      "PAST_STATE: True\n"
     ]
    }
   ],
   "source": [
    "import glob\n",
    "import os\n",
    "import collections\n",
    "\n",
    "import pickle\n",
    "import sys\n",
    "import glob\n",
    "from pathlib import Path, PurePath\n",
    "path = Path.cwd()\n",
    "parent_path = path.parents[1]\n",
    "sys.path.append(str(PurePath(parent_path, 'neuroformer')))\n",
    "sys.path.append('neuroformer')\n",
    "sys.path.append('.')\n",
    "sys.path.append('../')\n",
    "\n",
    "import pandas as pd\n",
    "import numpy as np\n",
    "from einops import rearrange\n",
    "\n",
    "from tqdm import tqdm\n",
    "import numpy as np\n",
    "import torch\n",
    "import torch.nn as nn\n",
    "from torch.nn import functional as F\n",
    "import pandas as pd\n",
    "import matplotlib.pyplot as plt\n",
    "\n",
    "from torch.utils.data.dataloader import DataLoader\n",
    "\n",
    "import math\n",
    "from torch.utils.data import Dataset\n",
    "\n",
    "from neuroformer.model_neuroformer import GPT, GPTConfig, neuralGPTConfig\n",
    "from neuroformer.trainer import Trainer, TrainerConfig\n",
    "from neuroformer.utils import set_seed, update_object\n",
    "from neuroformer.visualize import set_plot_params\n",
    "from neuroformer.SpikeVidUtils import round_n\n",
    "set_plot_params()\n",
    "\n",
    "from scipy import io as scipyio\n",
    "from scipy.special import softmax\n",
    "import skimage\n",
    "import skvideo.io\n",
    "from scipy.ndimage import gaussian_filter, uniform_filter\n",
    "\n",
    "parent_path = os.path.dirname(os.path.dirname(os.getcwd())) + \"/\"\n",
    "\n",
    "import argparse\n",
    "from neuroformer.SpikeVidUtils import round_n\n",
    "import gdown\n",
    "\n",
    "\n",
    "# set up logging\n",
    "import logging\n",
    "logging.basicConfig(\n",
    "        format=\"%(asctime)s - %(levelname)s - %(name)s -   %(message)s\",\n",
    "        datefmt=\"%m/%d/%Y %H:%M:%S\",\n",
    "        level=logging.INFO,\n",
    ")\n",
    "\n",
    "set_seed(25)\n",
    "\n",
    "def parse_args():\n",
    "    parser = argparse.ArgumentParser()\n",
    "    # parser.add_argument(\"--infer\", action=\"store_true\", help=\"Inference mode\")\n",
    "    parser.add_argument(\"--train\", action=\"store_true\", default=False, help=\"Train mode\")\n",
    "    parser.add_argument(\"--resume\", type=str, default=None, help=\"Resume from checkpoint\")\n",
    "    parser.add_argument(\"--rand_perm\", action=\"store_true\", default=False, help=\"Randomly permute the ID column\")\n",
    "    parser.add_argument(\"--mconf\", type=str, default=None, help=\"Path to model config file\")\n",
    "    parser.add_argument(\"--downstream\", action=\"store_true\", default=False, help=\"Downstream task\")\n",
    "    parser.add_argument(\"--freeze_model\", action=\"store_true\", default=False, help=\"Freeze model\")\n",
    "    parser.add_argument(\"--title\", type=str, default=None)\n",
    "    parser.add_argument(\"--dataset\", type=str, default=\"Combo3_V1AL\")\n",
    "    parser.add_argument(\"--behavior\", action=\"store_true\", default=False, help=\"Behavior task\")\n",
    "    parser.add_argument(\"--pred_behavior\", action=\"store_true\", default=False, help=\"Predict behavior\")\n",
    "    parser.add_argument(\"--past_state\", action=\"store_true\", default=False, help=\"Input past state\")\n",
    "    parser.add_argument(\"--visual\", action=\"store_true\", default=False, help=\"Visualize\")\n",
    "    parser.add_argument(\"--contrastive\", action=\"store_true\", default=False, help=\"Contrastive\")\n",
    "    parser.add_argument(\"--clip\", action=\"store_true\", default=False, help=\"Clip loss\")\n",
    "    return parser.parse_args()\n",
    "\n",
    "# if __name__ == \"__main__\":\n",
    "#     args = parse_args()\n",
    "#     INFERENCE = not args.train\n",
    "# else:\n",
    "#     INFERENCE = True\n",
    "\n",
    "# check if jupyter notebook\n",
    "try:\n",
    "    shell = get_ipython().__class__.__name__\n",
    "    print(\"Running in Jupyter notebook\")\n",
    "    INFERENCE = True\n",
    "    DOWNSTREAM = False\n",
    "    RESUME = None\n",
    "    RAND_PERM = False\n",
    "    MCONF = \"./models/tensorboard/Combo3_V1AL/ablations/downstream:False/past_state_True_visualTrue_contrastive_False_freeze_False/randperm_False/Big_fixed_noself-att_2/sparse_f:None_id:None/w:0.05_wp:0.25/mconf.yaml\"\n",
    "    FREEZE_MODEL = False\n",
    "    TITLE = None\n",
    "    DATASET = \"Combo3_V1AL\"\n",
    "    BEHAVIOR = False\n",
    "    PREDICT_BEHAVIOR = False\n",
    "    VISUAL = True\n",
    "    PAST_STATE = True\n",
    "    CONTRASTIVE = False\n",
    "    CLIP = False\n",
    "except:\n",
    "    print(\"Running in terminal\")\n",
    "    args = parse_args()\n",
    "    INFERENCE = not args.train\n",
    "    DOWNSTREAM = args.downstream\n",
    "    RESUME = args.resume\n",
    "    RAND_PERM = args.rand_perm\n",
    "    MCONF = args.mconf\n",
    "    FREEZE_MODEL = args.freeze_model\n",
    "    DATASET = args.dataset\n",
    "    BEHAVIOR = args.behavior\n",
    "    PREDICT_BEHAVIOR = args.pred_behavior\n",
    "    VISUAL = args.visual\n",
    "    PAST_STATE = args.past_state\n",
    "    CONTRASTIVE = args.contrastive\n",
    "    CLIP = args.clip\n",
    "\n",
    "print(f\"CONTRASTIUVEEEEEEE {CONTRASTIVE}\")\n",
    "print(f\"VISUAL: {VISUAL}\")\n",
    "print(f\"PAST_STATE: {PAST_STATE}\")"
   ]
  },
  {
   "cell_type": "code",
   "execution_count": 32,
   "metadata": {},
   "outputs": [],
   "source": [
    "\"\"\" \n",
    "\n",
    "-- DATA --\n",
    "neuroformer/data/OneCombo3_V1AL/\n",
    "df = response\n",
    "video_stack = stimulus\n",
    "DOWNLOAD DATA URL = https://drive.google.com/drive/folders/1jNvA4f-epdpRmeG9s2E-2Sfo-pwYbjeY?usp=sharing\n",
    "\n",
    "\n",
    "\"\"\"\n",
    "\n",
    "if DATASET == \"Combo3_V1AL\":\n",
    "    RESPONSE_PATH = \"data/Combo3_V1AL/Combo3_V1AL_response.csv\"\n",
    "    STIMULUS_PATH = \"data/Combo3_V1AL/Combo3_V1AL_stimulus.pt\"\n",
    "\n",
    "# if not os.path.exists(RESPONSE_PATH):\n",
    "#     print(\"Downloading data...\")\n",
    "#     url = \"https://drive.google.com/drive/folders/1jNvA4f-epdpRmeG9s2E-2Sfo-pwYbjeY?usp=share_link\"\n",
    "#     gdown.download_folder(id=url, quiet=False, use_cookies=False, output=os.path.dirname(RESPONSE_PATH))\n",
    "# else:\n",
    "from neuroformer.prepare_data import DataLinks\n",
    "DataLinkDS = getattr(DataLinks, DATASET)\n",
    "url = DataLinkDS['url']\n",
    "RESPONSE_PATH = DataLinkDS['RESPONSE_PATH']\n",
    "STIMULUS_PATH = DataLinkDS['STIMULUS_PATH']\n",
    "# gdown.download_folder(id=url)\n",
    "\n",
    "\n",
    "df = pd.read_csv(RESPONSE_PATH)\n",
    "video_stack = torch.load(STIMULUS_PATH)\n",
    "stimulus = video_stack[:, :, 0]"
   ]
  },
  {
   "cell_type": "code",
   "execution_count": 33,
   "metadata": {},
   "outputs": [
    {
     "name": "stdout",
     "output_type": "stream",
     "text": [
      "torch.Size([3, 640, 1, 64, 112])\n"
     ]
    },
    {
     "data": {
      "image/png": "[encoded data removed]",
      "text/plain": [
       "<Figure size 1500x500 with 3 Axes>"
      ]
     },
     "metadata": {},
     "output_type": "display_data"
    }
   ],
   "source": [
    "print(video_stack.shape)\n",
    "\n",
    "fig, ax = plt.subplots(1, 3, figsize=(15, 5))\n",
    "for i in range(3):\n",
    "    ax[i].imshow(video_stack[i, 1, 0].permute(0, 1))\n",
    "\n",
    "\n"
   ]
  },
  {
   "cell_type": "code",
   "execution_count": 34,
   "metadata": {},
   "outputs": [],
   "source": [
    "# load config files\n",
    "import yaml\n",
    "\n",
    "# base_path = \"configs/visnav/predict_behavior\"\n",
    "if MCONF is not None:\n",
    "    base_path = os.path.dirname(MCONF)\n",
    "elif RESUME is not None:\n",
    "    base_path = os.path.dirname(RESUME)\n",
    "else:\n",
    "    base_path = \"./models/tensorboard/V1_AL/downstream/learnt_temporal_embeddings/sparse_f:None_id:None/w:0.05_wp:0.25\"\n",
    "    \n",
    "\n",
    "with open(os.path.join(base_path, 'mconf.yaml'), 'r') as stream:\n",
    "    mconf = yaml.full_load(stream)\n",
    "\n",
    "with open(os.path.join(base_path, 'tconf.yaml'), 'r') as stream:\n",
    "    tconf = yaml.full_load(stream)\n",
    "\n",
    "with open(os.path.join(base_path, 'dconf.yaml'), 'r') as stream:\n",
    "    dconf = yaml.full_load(stream)\n",
    "\n",
    "import omegaconf\n",
    "from omegaconf import OmegaConf\n",
    "\n",
    "# open yaml as omegacong\n",
    "mconf = OmegaConf.create(mconf)\n",
    "tconf = OmegaConf.create(tconf)\n",
    "dconf = OmegaConf.create(dconf)\n"
   ]
  },
  {
   "cell_type": "code",
   "execution_count": 35,
   "metadata": {},
   "outputs": [],
   "source": [
    "\n",
    "if INFERENCE:\n",
    "    frame_window = mconf.frame_window\n",
    "    window = mconf.window\n",
    "    window_prev = mconf.window_prev\n",
    "    window_behavior = mconf.window_behavior if hasattr(mconf, 'window_behavior') else None\n",
    "    dt = mconf.dt\n",
    "    dt_frames = mconf.dt_frames if hasattr(mconf, 'dt_frames') else 0.05\n",
    "    dt_vars = mconf.dt_vars if hasattr(mconf, 'dt_vars') else 0.05\n",
    "    dt_speed = mconf.dt_speed if hasattr(mconf, 'dt_speed') else 0.2\n",
    "    intervals = None\n",
    "else:\n",
    "    frame_window = 0.25\n",
    "    window = 0.05\n",
    "    window_prev = 0.25\n",
    "    window_behavior = window\n",
    "    dt = 0.01\n",
    "    dt_frames = 0.05\n",
    "    dt_vars = 0.05\n",
    "    dt_speed = 0.2\n",
    "    intervals = None\n",
    "\n",
    "# randomly permute 'id' column\n",
    "if RAND_PERM:\n",
    "    df['ID'] = df['ID'].sample(frac=1, random_state=25).reset_index(drop=True)\n",
    "\n"
   ]
  },
  {
   "cell_type": "code",
   "execution_count": 36,
   "metadata": {},
   "outputs": [],
   "source": [
    "## choose modalities ##\n",
    "\n",
    "# behavior\n",
    "behavior = BEHAVIOR\n",
    "behavior_vars = ['eyerad', 'phi', 'speed', 'th']\n",
    "# behavior_vars = ['speed']\n",
    "n_behavior = len(behavior_vars)\n",
    "predict_behavior = PREDICT_BEHAVIOR\n",
    "# stimulus\n",
    "visual_stim = VISUAL\n",
    "\n"
   ]
  },
  {
   "cell_type": "code",
   "execution_count": 37,
   "metadata": {},
   "outputs": [],
   "source": [
    "from neuroformer.SpikeVidUtils import trial_df, get_df_visnav, make_intervals\n",
    "\n",
    "\n",
    "if behavior is True:\n",
    "    behavior = pd.DataFrame({k: data[k] for k in behavior_vars + ['t']})\n",
    "    # rename t to time\n",
    "    behavior = behavior.rename(columns={'t': 'Time'}) if behavior is not None else None\n",
    "    behavior['Interval'] = make_intervals(behavior, window)\n",
    "    behavior['Interval_2'] = make_intervals(behavior, window_prev)\n",
    "\n",
    "    # prepare speed variables\n",
    "    behavior['speed'] = behavior['speed'].apply(lambda x: round_n(x, dt_speed))\n",
    "    dt_range_speed = behavior['speed'].min(), behavior['speed'].max()\n",
    "    dt_range_speed = np.arange(dt_range_speed[0], dt_range_speed[1] + dt_speed, dt_speed)\n",
    "    n_behavior = len(dt_range_speed)\n",
    "\n",
    "    stoi_speed = { round_n(ch, dt_speed):i for i,ch in enumerate(dt_range_speed) }\n",
    "    itos_speed = { i:round_n(ch, dt_speed) for i,ch in enumerate(dt_range_speed) }\n",
    "    assert (window_behavior) % dt_vars < 1e-5, \"window + window_prev must be divisible by dt_vars\"\n",
    "    samples_per_behavior = int((window + window_prev) // dt_vars)\n",
    "    behavior_block_size = int((window + window_prev) // dt_vars) * (len(behavior.columns) - 1)\n",
    "else:\n",
    "    behavior = None\n",
    "    behavior_vars = None\n",
    "    behavior_block_size = 0\n",
    "    samples_per_behavior = 0\n",
    "    stoi_speed = None\n",
    "    itos_speed = None\n",
    "    dt_range_speed = None\n",
    "    n_behavior = None\n",
    "\n",
    "if predict_behavior:\n",
    "    loss_bprop = ['behavior']\n",
    "else:\n",
    "    loss_bprop = None\n",
    "\n",
    "\n"
   ]
  },
  {
   "cell_type": "code",
   "execution_count": 38,
   "metadata": {},
   "outputs": [],
   "source": [
    "from SpikeVidUtils import make_intervals\n",
    "\n",
    "df['Interval'] = make_intervals(df, window)\n",
    "df['real_interval'] = make_intervals(df, 0.05)\n",
    "df['Interval_2'] = make_intervals(df, window_prev)\n",
    "df = df.reset_index(drop=True)\n",
    "\n",
    "# randomly permute 'id' column\n",
    "if RAND_PERM:\n",
    "    print('// randomly permuting ID column //')\n",
    "    df['ID'] = df['ID'].sample(frac=1, random_state=25).reset_index(drop=True)\n",
    "\n",
    "max_window = max(window, window_prev)\n",
    "dt_range = math.ceil(max_window / dt) + 1  # add first / last interval for SOS / EOS'\n",
    "n_dt = [round(dt * n, 2) for n in range(dt_range)] + ['EOS'] + ['PAD']\n",
    "\n",
    "\n"
   ]
  },
  {
   "cell_type": "code",
   "execution_count": 39,
   "metadata": {},
   "outputs": [
    {
     "name": "stderr",
     "output_type": "stream",
     "text": [
      "/tmp/ipykernel_150726/1000346883.py:13: UserWarning: To copy construct from a tensor, it is recommended to use sourceTensor.clone().detach() or sourceTensor.clone().detach().requires_grad_(True), rather than torch.tensor(sourceTensor).\n",
      "  frame_feats = torch.tensor(stimulus, dtype=torch.float32)\n"
     ]
    }
   ],
   "source": [
    "from neuroformer.SpikeVidUtils import SpikeTimeVidData2\n",
    "\n",
    "## resnet3d feats\n",
    "n_frames = round(frame_window * 1/dt_frames)\n",
    "# kernel_size = (n_frames, 4, 4)\n",
    "kernel_size = [n_frames, 8, 8]\n",
    "stride_size = [n_frames, 4, 4]\n",
    "padding_size = 0\n",
    "n_embd = 256\n",
    "n_embd_frames = 64\n",
    "frame_feats = stimulus if visual_stim else None\n",
    "frame_block_size = 0\n",
    "frame_feats = torch.tensor(stimulus, dtype=torch.float32)\n",
    "conv_layer = True\n",
    "\n",
    "prev_id_block_size = 55\n",
    "id_block_size = 55   #\n",
    "block_size = frame_block_size + id_block_size + prev_id_block_size\n",
    "frame_memory = frame_window // dt_frames\n",
    "window = window\n",
    "\n",
    "neurons = sorted(list(set(df['ID'])))\n",
    "id_stoi = { ch:i for i,ch in enumerate(neurons) }\n",
    "id_itos = { i:ch for i,ch in enumerate(neurons) }\n",
    "\n",
    "neurons = sorted(list(set(df['ID'].unique())))\n",
    "trial_tokens = [f\"Trial {n}\" for n in df['Trial'].unique()]\n",
    "feat_encodings = neurons + ['SOS'] + ['EOS'] + ['PAD']  # + pixels \n",
    "stoi = { ch:i for i,ch in enumerate(feat_encodings) }\n",
    "itos = { i:ch for i,ch in enumerate(feat_encodings) }\n",
    "stoi_dt = { ch:i for i,ch in enumerate(n_dt) }\n",
    "itos_dt = { i:ch for i,ch in enumerate(n_dt) }\n",
    "\n"
   ]
  },
  {
   "cell_type": "code",
   "execution_count": 63,
   "metadata": {},
   "outputs": [
    {
     "data": {
      "text/plain": [
       "array([ 0.25,  0.5 ,  0.75,  1.  ,  1.25,  1.5 ,  1.75,  2.  ,  2.25,\n",
       "        2.5 ,  2.75,  3.  ,  3.25,  3.5 ,  3.75,  4.  ,  4.25,  4.5 ,\n",
       "        4.75,  5.  ,  5.25,  5.5 ,  5.75,  6.  ,  6.25,  6.5 ,  6.75,\n",
       "        7.  ,  7.25,  7.5 ,  7.75,  8.  ,  8.25,  8.5 ,  8.75,  9.  ,\n",
       "        9.25,  9.5 ,  9.75, 10.  , 10.25, 10.5 , 10.75, 11.  , 11.25,\n",
       "       11.5 , 11.75, 12.  , 12.25, 12.5 , 12.75, 13.  , 13.25, 13.5 ,\n",
       "       13.75, 14.  , 14.25, 14.5 , 14.75, 15.  , 15.25, 15.5 , 15.75,\n",
       "       16.  , 16.25, 16.5 , 16.75, 17.  , 17.25, 17.5 , 17.75, 18.  ,\n",
       "       18.25, 18.5 , 18.75, 19.  , 19.25, 19.5 , 19.75, 20.  , 20.25,\n",
       "       20.5 , 20.75, 21.  , 21.25, 21.5 , 21.75, 22.  , 22.25, 22.5 ,\n",
       "       22.75, 23.  , 23.25, 23.5 , 23.75, 24.  , 24.25, 24.5 , 24.75,\n",
       "       25.  , 25.25, 25.5 , 25.75, 26.  , 26.25, 26.5 , 26.75, 27.  ,\n",
       "       27.25, 27.5 , 28.  , 28.25, 28.5 , 28.75, 29.  , 29.25, 29.5 ,\n",
       "       29.75, 30.  , 30.25, 30.5 , 30.75, 31.  , 31.25, 31.5 , 31.75,\n",
       "       32.  , 27.75])"
      ]
     },
     "execution_count": 63,
     "metadata": {},
     "output_type": "execute_result"
    }
   ],
   "source": [
    "df['Interval_2'].unique()"
   ]
  },
  {
   "cell_type": "code",
   "execution_count": 40,
   "metadata": {},
   "outputs": [],
   "source": [
    "import random\n",
    "\n",
    "r_split = 0.8\n",
    "all_trials = sorted(df['Trial'].unique())\n",
    "train_trials = random.sample(all_trials, int(len(all_trials) * r_split))\n",
    "\n",
    "train_data = df[df['Trial'].isin(train_trials)]\n",
    "test_data = df[~df['Trial'].isin(train_trials)]\n",
    "\n",
    "# r_split_ft = np.arange(0, 1, 0.25)\n",
    "r_split_ft = 0.1\n",
    "finetune_trials = train_trials[:int(len(train_trials) * r_split_ft)]\n",
    "finetune_data = df[df['Trial'].isin(finetune_trials)]\n",
    "\n",
    "n = []\n",
    "n_trial = [2, 8, 14, 19]\n",
    "for n_stim in range(df['Trial'].max() // 20):\n",
    "    # n_trial = [2, 4, 6, 8, 10, 12, 14, 18]\n",
    "    for n_t in n_trial:\n",
    "        trial = (n_stim + 1) * 20 - (n_t)\n",
    "        n.append(trial)\n",
    "train_data = df[~df['Trial'].isin(n)].reset_index(drop=True)\n",
    "test_data = df[df['Trial'].isin(n)].reset_index(drop=True)\n",
    "small_data = df[df['Trial'].isin([5])].reset_index(drop=True)\n",
    "\n"
   ]
  },
  {
   "cell_type": "code",
   "execution_count": 41,
   "metadata": {},
   "outputs": [
    {
     "name": "stdout",
     "output_type": "stream",
     "text": [
      "Population Size:  389\n",
      "ID Population Size:  389\n",
      "DT Population Size:  28\n",
      "train: 20316, test: 5334\n"
     ]
    }
   ],
   "source": [
    "from neuroformer.SpikeVidUtils import SpikeTimeVidData2\n",
    "\n",
    "train_dataset = SpikeTimeVidData2(train_data, None, block_size, id_block_size, frame_block_size, prev_id_block_size, \n",
    "                                  window, dt, frame_memory, stoi, itos, neurons, stoi_dt, itos_dt, frame_feats,\n",
    "                                  pred=False, window_prev=window_prev, frame_window=frame_window,\n",
    "                                  dt_frames=dt_frames, intervals=None, dataset=DATASET,\n",
    "                                  behavior=behavior, behavior_vars=behavior_vars, dt_vars=dt_vars,\n",
    "                                  behavior_block_size=behavior_block_size, samples_per_behavior=samples_per_behavior,\n",
    "                                  window_behavior=window_behavior, predict_behavior=predict_behavior,\n",
    "                                  stoi_speed=stoi_speed, itos_speed=itos_speed, dt_speed=dt_speed, labels=True)\n",
    "\n",
    "if INFERENCE:\n",
    "    update_object(train_dataset, dconf)\n",
    "    train_dataset = train_dataset.copy(train_data)\n",
    "    test_dataset = train_dataset.copy(test_data)\n",
    "    finetune_dataset = train_dataset.copy(finetune_data)\n",
    "    \n",
    "print(f'train: {len(train_dataset)}, test: {len(test_dataset)}')\n",
    "\n"
   ]
  },
  {
   "cell_type": "code",
   "execution_count": 42,
   "metadata": {},
   "outputs": [
    {
     "name": "stdout",
     "output_type": "stream",
     "text": [
      "// -- no contrastive objective -- //\n",
      "256 28\n"
     ]
    },
    {
     "name": "stderr",
     "output_type": "stream",
     "text": [
      "04/27/2023 01:48:08 - INFO - neuroformer.model_neuroformer -   number of parameters: 3.200077e+07\n"
     ]
    }
   ],
   "source": [
    "\n",
    "layers = (mconf.n_state_layers, mconf.n_state_history_layers, mconf.n_stimulus_layers)   \n",
    "max_epochs = 250\n",
    "batch_size = round((32 * 2))\n",
    "shuffle = True\n",
    "\n",
    "model_conf = GPTConfig(train_dataset.population_size, block_size,    # frame_block_size\n",
    "                        id_vocab_size=train_dataset.id_population_size,\n",
    "                        frame_block_size=frame_block_size,\n",
    "                        id_block_size=id_block_size,  # frame_block_size\n",
    "                        prev_id_block_size=prev_id_block_size,\n",
    "                        behavior_block_size=behavior_block_size,\n",
    "                        sparse_mask=False, p_sparse=None, \n",
    "                        sparse_topk_frame=None, sparse_topk_id=None, sparse_topk_prev_id=None,\n",
    "                        n_dt=len(n_dt),\n",
    "                        class_weights=None,\n",
    "                        pretrain=False,\n",
    "                        n_state_layers=8, n_state_history_layers=8,\n",
    "                        n_stimulus_layers=8, self_att_layers=0,\n",
    "                        n_behavior_layers=0, predict_behavior=predict_behavior, n_behavior=n_behavior,\n",
    "                        n_head=4, n_embd=n_embd, \n",
    "                        contrastive=False, clip_emb=1024, clip_temp=mconf.clip_temp,\n",
    "                        conv_layer=conv_layer, kernel_size=kernel_size, stride_size=stride_size, padding_size=padding_size,\n",
    "                        temp_emb=mconf.temp_emb, pos_emb=False,\n",
    "                        id_drop=0.35, im_drop=0.35, b_drop=0.45,\n",
    "                        window=window, window_prev=window_prev, frame_window=frame_window, dt=dt,\n",
    "                        neurons=neurons, stoi_dt=stoi_dt, itos_dt=itos_dt, n_embd_frames=n_embd_frames,\n",
    "                        ignore_index_id=stoi['PAD'], ignore_index_dt=stoi_dt['PAD'])  # 0.35\n",
    "\n",
    "if INFERENCE or MCONF is not None:\n",
    "    update_object(model_conf, mconf)\n",
    "\n",
    "if PAST_STATE is False:\n",
    "    print(f\"// -- No past state, layers=0 -- //\")\n",
    "    model_conf.n_state_history_layers = 0\n",
    "\n",
    "if CONTRASTIVE is True:\n",
    "    print(f\"// -- contrastive objective -- //\")\n",
    "    model_conf.contrastive = True\n",
    "else:\n",
    "    print(f\"// -- no contrastive objective -- //\")\n",
    "    model_conf.contrastive = False\n",
    "\n",
    "if VISUAL is False:\n",
    "    print(f\"// -- No visual, layers=0 -- //\")\n",
    "    model_conf.n_stimulus_layers = 0\n",
    "\n",
    "model = GPT(model_conf)\n",
    "\n",
    "if RESUME is not None:\n",
    "    # update_object(model_conf, mconf)\n",
    "    print(f\"// -- Loading model from {RESUME} -- //\")\n",
    "    model.load_state_dict(torch.load(RESUME), strict=False)\n",
    "    if not DOWNSTREAM:\n",
    "        model_path = f\"{RESUME[:-3]}_resume.pt\"\n",
    "\n",
    "\n",
    "title =  f'epoch250_rand{RAND_PERM}_downstream:{DOWNSTREAM}/past_state_{PAST_STATE}_visual{VISUAL}_contrastive_{CONTRASTIVE}_freeze_{FREEZE_MODEL}/randperm_{RAND_PERM}/Big_fixed_noself-att'\n",
    "\n",
    "if INFERENCE:\n",
    "    model_path = glob.glob(os.path.join(base_path, '**.pt'), recursive=True)[0]\n",
    "else:\n",
    "    model_path = f\"\"\"./models/tensorboard/{DATASET}/pretrain/{title}_2/sparse_f:{mconf.sparse_topk_frame}_id:{mconf.sparse_topk_id}/w:{mconf.window}_wp:{mconf.window_prev}/Cont:{mconf.contrastive}_window:{mconf.window}_f_window:{mconf.frame_window}_df:{mconf.dt}_blocksize:{mconf.id_block_size}_conv_{mconf.conv_layer}_shuffle:{shuffle}_batch:{batch_size}_sparse_({mconf.sparse_topk_frame}_{mconf.sparse_topk_id})_blocksz{block_size}_pos_emb:{mconf.pos_emb}_temp_emb:{mconf.temp_emb}_drop:{mconf.id_drop}_dt:{shuffle}_2.0_{max(stoi_dt.values())}_max{dt}_{layers}_{mconf.n_head}_{mconf.n_embd}.pt\"\"\"\n"
   ]
  },
  {
   "cell_type": "code",
   "execution_count": 43,
   "metadata": {},
   "outputs": [],
   "source": [
    "\n",
    "if DOWNSTREAM:\n",
    "    print(f\"// Downstream Objective: {DOWNSTREAM} //\")\n",
    "    \"\"\"\n",
    "    image indexes\n",
    "\n",
    "    (140, 260)\n",
    "    (339, 424)\n",
    "    (500, 620)\n",
    "    (680, 840) \n",
    "    (960, 1050)\n",
    "\n",
    "    \"\"\"\n",
    "    import tifffile\n",
    "    from neuroformer.SpikeVidUtils import get_interval_idx\n",
    "    from neuroformer.modules import ClassifierWrapper\n",
    "\n",
    "    stim2_path = \"./data/Combo3_V1AL/stimuli/Combined Stimuli 3-Movie2.tif\"\n",
    "    stimulus_2 = tifffile.imread(stim2_path)\n",
    "\n",
    "    stim3_path = \"./data/Combo3_V1AL/stimuli/Combined Stimuli 3-Movie3.tif\"\n",
    "    stimulus_3 = tifffile.imread(stim3_path)\n",
    "\n",
    "    mouse_indexes = [(140, 260), (339, 424), (500, 620), (680, 840), (960, 1050)]\n",
    "    stimulus_mice = np.concatenate([stimulus_2[i[0]:i[1]] for i in mouse_indexes])\n",
    "    stimulus_control = np.concatenate([stimulus_3[i[0]:i[1]] for i in mouse_indexes])\n",
    "    assert stimulus_mice.shape == stimulus_control.shape, \"stimulus shapes must be equal\"\n",
    "\n",
    "    control_labels = np.zeros(stimulus_control.shape[0])\n",
    "    mice_labels = np.ones(stimulus_mice.shape[0])\n",
    "    stimulus_task = np.concatenate([stimulus_control, stimulus_mice])\n",
    "    labels_task = np.concatenate([control_labels, mice_labels])\n",
    "    mouse_indexes_downsampled = [tuple(map(lambda x: x // 3, i)) for i in mouse_indexes]\n",
    "    stim_2_ds = stimulus[1]\n",
    "    stim_2_ds_mice = np.concatenate([stim_2_ds[i[0]:i[1]] for i in mouse_indexes_downsampled])\n",
    "    mouse_indexes_intervals = [tuple(map(lambda x: get_interval_idx(x, 0.05), i)) for i in mouse_indexes_downsampled]\n",
    "    intervals_cls = np.concatenate([np.arange(i[0], i[1], window) for i in mouse_indexes_intervals])\n",
    "    # don't use same intervals for training and testing (because images will be the same)\n",
    "    train_interval_cls = np.random.choice(intervals_cls, size=int(len(intervals_cls) * 0.8), replace=False)\n",
    "    test_interval_cls = np.setdiff1d(intervals_cls, train_interval_cls)\n",
    "    train_trial_cls = train_data[train_data['Trial'] > 20]['Trial'].unique()\n",
    "    test_trial_cls = test_data[test_data['Trial'] > 20]['Trial'].unique()\n",
    "    train_interval_trial_cls = np.array(np.meshgrid(train_interval_cls, train_trial_cls)).T.reshape(-1, 2)\n",
    "    test_interval_trial_cls = np.array(np.meshgrid(test_interval_cls, test_trial_cls)).T.reshape(-1, 2)\n",
    "    train_dataset = train_dataset.copy(train_data, t=train_interval_trial_cls)\n",
    "    test_dataset = test_dataset.copy(test_data, t=test_interval_trial_cls)\n",
    "\n"
   ]
  },
  {
   "cell_type": "code",
   "execution_count": 44,
   "metadata": {},
   "outputs": [
    {
     "name": "stdout",
     "output_type": "stream",
     "text": [
      "Loading model from ./models/tensorboard/Combo3_V1AL/ablations/downstream:False/past_state_True_visualTrue_contrastive_False_freeze_False/randperm_False/Big_fixed_noself-att_2/sparse_f:None_id:None/w:0.05_wp:0.25/Cont:False_window:0.05_f_window:0.25_df:0.01_blocksize:55_conv_True_shuffle:True_batch:64_sparse_(None_None)_blocksz110_pos_emb:False_temp_emb:True_drop:0.1_dt:True_2.0_27_max0.01_(8, 8, 8)_8_256.pt\n"
     ]
    }
   ],
   "source": [
    "tconf = TrainerConfig(max_epochs=max_epochs, batch_size=batch_size, learning_rate=1e-4, \n",
    "                    num_workers=4, lr_decay=True, patience=3, warmup_tokens=8e4, \n",
    "                    decay_weights=True, weight_decay=0.1, shuffle=shuffle,\n",
    "                    final_tokens=len(train_dataset)*(id_block_size) * (max_epochs),\n",
    "                    clip_norm=1.0, grad_norm_clip=1.0,\n",
    "                    dataset='higher_order', mode='predict',\n",
    "                    block_size=train_dataset.block_size,\n",
    "                    id_block_size=train_dataset.id_block_size,\n",
    "                    show_grads=False, plot_raster=False,\n",
    "                    ckpt_path=model_path, no_pbar=False, \n",
    "                    dist=False, save_every=20, loss_bprop=loss_bprop)\n",
    "\n",
    "if not INFERENCE:\n",
    "    trainer = Trainer(model, train_dataset, test_dataset, tconf, model_conf)\n",
    "    if DOWNSTREAM:\n",
    "        mconf.__setattr__('freeze_model', FREEZE_MODEL)\n",
    "        trainer.config.__setattr__('warmup_tokens', 100)\n",
    "        N_CLASSES = 2\n",
    "        classifier = ClassifierWrapper(model, mconf, N_CLASSES)\n",
    "        train_model = classifier\n",
    "\n",
    "    else:\n",
    "        train_model = model\n",
    "    trainer = Trainer(train_model, train_dataset, test_dataset, tconf, model_conf)\n",
    "    trainer.train()\n",
    "else:\n",
    "    model_path = glob.glob(os.path.join(base_path, '**.pt'), recursive=True)[0]\n",
    "    print(f\"Loading model from {model_path}\")\n",
    "    model.load_state_dict(torch.load(model_path), strict=False)\n"
   ]
  },
  {
   "cell_type": "code",
   "execution_count": 45,
   "metadata": {},
   "outputs": [],
   "source": [
    "loader = DataLoader(train_dataset, batch_size=1, shuffle=False, num_workers=4, pin_memory=True)\n",
    "iterable = iter(loader)\n",
    "\n"
   ]
  },
  {
   "cell_type": "code",
   "execution_count": 46,
   "metadata": {},
   "outputs": [],
   "source": [
    "# model.eval()\n",
    "# # model.train()\n",
    "# for i in range(1):\n",
    "#     x, y = next(iterable)\n",
    "#     x_1 = x['id'][0].detach().cpu().numpy()\n",
    "#     x_pad = x['pad']\n",
    "#     x_1 = x['id'][:len(x_1) - int(x_pad[0])]\n",
    "#     preds, features, loss = model(x, y)\n",
    "\n",
    "#     step_choices = random.sample(range(len(x_1)), min(5, len(x_1)))\n",
    "#     fig, ax = plt.subplots(1, len(step_choices), figsize=(50, 5))\n",
    "#     for step in step_choices:\n",
    "#         step_preds = preds['id'][0, step].detach().cpu().numpy()\n",
    "#         x_axis = np.arange(0, len(step_preds))\n",
    "#         ax_step = ax[step]\n",
    "#         ax_step.scatter(x_axis, step_preds)\n",
    "#         ax_step.set_title(f\"\"\"{step}\"\"\", fontsize=20)\n"
   ]
  },
  {
   "cell_type": "code",
   "execution_count": 47,
   "metadata": {},
   "outputs": [
    {
     "name": "stdout",
     "output_type": "stream",
     "text": [
      "id_prev torch.Size([1, 55])\n",
      "dt_prev torch.Size([1, 55])\n",
      "pad_prev torch.Size([1])\n",
      "id torch.Size([1, 55])\n",
      "dt torch.Size([1, 55])\n",
      "pad torch.Size([1])\n",
      "interval torch.Size([1])\n",
      "trial torch.Size([1])\n",
      "frames torch.Size([1, 1, 5, 64, 112])\n",
      "stimulus torch.Size([1])\n",
      "cid torch.Size([1, 2])\n",
      "pid torch.Size([1, 2])\n",
      "f_idx torch.Size([1, 2])\n"
     ]
    }
   ],
   "source": [
    "x, y = next(iterable)\n",
    "for k in x.keys():\n",
    "    print(k, x[k].shape)"
   ]
  },
  {
   "cell_type": "code",
   "execution_count": 57,
   "metadata": {},
   "outputs": [],
   "source": [
    "preds, features, loss = model(x, y)"
   ]
  },
  {
   "cell_type": "code",
   "execution_count": 65,
   "metadata": {},
   "outputs": [
    {
     "name": "stderr",
     "output_type": "stream",
     "text": [
      "/opt/conda/envs/neuroformer/lib/python3.9/site-packages/torchvision/io/image.py:13: UserWarning: Failed to load image Python extension: libjpeg.so.8: cannot open shared object file: No such file or directory\n",
      "  warn(f\"Failed to load image Python extension: {e}\")\n"
     ]
    },
    {
     "name": "stdout",
     "output_type": "stream",
     "text": [
      "-- No. 11 Trial: 2 --\n"
     ]
    },
    {
     "name": "stderr",
     "output_type": "stream",
     "text": [
      "len pred: 20, len true: 35:   2%|▏         | 9/391 [00:07<05:52,  1.08it/s]/opt/conda/envs/neuroformer/lib/python3.9/site-packages/torchvision/io/image.py:13: UserWarning: Failed to load image Python extension: libjpeg.so.8: cannot open shared object file: No such file or directory\n",
      "  warn(f\"Failed to load image Python extension: {e}\")\n",
      "/opt/conda/envs/neuroformer/lib/python3.9/site-packages/torchvision/io/image.py:13: UserWarning: Failed to load image Python extension: libjpeg.so.8: cannot open shared object file: No such file or directory\n",
      "  warn(f\"Failed to load image Python extension: {e}\")\n",
      "len pred: 23, len true: 37:   3%|▎         | 10/391 [00:08<05:57,  1.06it/s]"
     ]
    },
    {
     "name": "stdout",
     "output_type": "stream",
     "text": [
      "-- No. 11 Trial: 7 --\n"
     ]
    },
    {
     "name": "stderr",
     "output_type": "stream",
     "text": [
      "  0%|          | 0/412 [00:00<?, ?it/s]/opt/conda/envs/neuroformer/lib/python3.9/site-packages/torchvision/io/image.py:13: UserWarning: Failed to load image Python extension: libjpeg.so.8: cannot open shared object file: No such file or directory\n",
      "  warn(f\"Failed to load image Python extension: {e}\")\n",
      "  0%|          | 0/372 [00:00<?, ?it/s]    | 11/391 [00:08<05:05,  1.25it/s]"
     ]
    },
    {
     "name": "stdout",
     "output_type": "stream",
     "text": [
      "-- No. 11 Trial: 11 --\n"
     ]
    },
    {
     "name": "stderr",
     "output_type": "stream",
     "text": [
      "/opt/conda/envs/neuroformer/lib/python3.9/site-packages/torchvision/io/image.py:13: UserWarning: Failed to load image Python extension: libjpeg.so.8: cannot open shared object file: No such file or directory\n",
      "  warn(f\"Failed to load image Python extension: {e}\")\n",
      "  0%|          | 0/410 [00:00<?, ?it/s]  | 1/412 [00:00<03:37,  1.89it/s]"
     ]
    },
    {
     "name": "stdout",
     "output_type": "stream",
     "text": [
      "-- No. 11 Trial: 16 --\n"
     ]
    },
    {
     "name": "stderr",
     "output_type": "stream",
     "text": [
      "len pred: 1, len true: 9:   0%|          | 1/372 [00:00<03:07,  1.98it/s]/opt/conda/envs/neuroformer/lib/python3.9/site-packages/torchvision/io/image.py:13: UserWarning: Failed to load image Python extension: libjpeg.so.8: cannot open shared object file: No such file or directory\n",
      "  warn(f\"Failed to load image Python extension: {e}\")\n",
      "  0%|          | 0/514 [00:00<?, ?it/s]/opt/conda/envs/neuroformer/lib/python3.9/site-packages/torchvision/io/image.py:13: UserWarning: Failed to load image Python extension: libjpeg.so.8: cannot open shared object file: No such file or directory\n",
      "  warn(f\"Failed to load image Python extension: {e}\")\n"
     ]
    },
    {
     "name": "stdout",
     "output_type": "stream",
     "text": [
      "-- No. 11 Trial: 22 --\n"
     ]
    },
    {
     "name": "stderr",
     "output_type": "stream",
     "text": [
      "  0%|          | 0/418 [00:00<?, ?it/s]/opt/conda/envs/neuroformer/lib/python3.9/site-packages/torchvision/io/image.py:13: UserWarning: Failed to load image Python extension: libjpeg.so.8: cannot open shared object file: No such file or directory\n",
      "  warn(f\"Failed to load image Python extension: {e}\")\n"
     ]
    },
    {
     "name": "stdout",
     "output_type": "stream",
     "text": [
      "-- No. 11 Trial: 27 --\n",
      "-- No. 11 Trial: 31 --\n"
     ]
    },
    {
     "name": "stderr",
     "output_type": "stream",
     "text": [
      "len pred: 29, len true: 50:   3%|▎         | 13/391 [00:10<05:24,  1.17it/s]/opt/conda/envs/neuroformer/lib/python3.9/site-packages/torchvision/io/image.py:13: UserWarning: Failed to load image Python extension: libjpeg.so.8: cannot open shared object file: No such file or directory\n",
      "  warn(f\"Failed to load image Python extension: {e}\")\n",
      "  0%|          | 0/420 [00:00<?, ?it/s]"
     ]
    },
    {
     "name": "stdout",
     "output_type": "stream",
     "text": [
      "-- No. 11 Trial: 36 --\n"
     ]
    },
    {
     "name": "stderr",
     "output_type": "stream",
     "text": [
      "len pred: 4, len true: 19:   1%|          | 3/410 [00:01<03:41,  1.84it/s]/opt/conda/envs/neuroformer/lib/python3.9/site-packages/torchvision/io/image.py:13: UserWarning: Failed to load image Python extension: libjpeg.so.8: cannot open shared object file: No such file or directory\n",
      "  warn(f\"Failed to load image Python extension: {e}\")\n",
      "len pred: 7, len true: 17:   1%|          | 3/412 [00:02<06:09,  1.11it/s]"
     ]
    },
    {
     "name": "stdout",
     "output_type": "stream",
     "text": [
      "-- No. 11 Trial: 42 --\n"
     ]
    },
    {
     "name": "stderr",
     "output_type": "stream",
     "text": [
      "len pred: 4, len true: 7:   0%|          | 1/418 [00:01<09:33,  1.37s/it]/opt/conda/envs/neuroformer/lib/python3.9/site-packages/torchvision/io/image.py:13: UserWarning: Failed to load image Python extension: libjpeg.so.8: cannot open shared object file: No such file or directory\n",
      "  warn(f\"Failed to load image Python extension: {e}\")\n",
      "len pred: 6, len true: 21:   1%|          | 4/410 [00:02<04:10,  1.62it/s]s]"
     ]
    },
    {
     "name": "stdout",
     "output_type": "stream",
     "text": [
      "-- No. 11 Trial: 47 --\n"
     ]
    },
    {
     "name": "stderr",
     "output_type": "stream",
     "text": [
      "len pred: 3, len true: 14:   1%|          | 3/512 [00:01<04:09,  2.04it/s]/opt/conda/envs/neuroformer/lib/python3.9/site-packages/torchvision/io/image.py:13: UserWarning: Failed to load image Python extension: libjpeg.so.8: cannot open shared object file: No such file or directory\n",
      "  warn(f\"Failed to load image Python extension: {e}\")\n",
      "len pred: 6, len true: 9:   0%|          | 2/418 [00:02<06:53,  1.01it/s]s]]"
     ]
    },
    {
     "name": "stdout",
     "output_type": "stream",
     "text": [
      "-- No. 11 Trial: 51 --\n"
     ]
    },
    {
     "name": "stderr",
     "output_type": "stream",
     "text": [
      "len pred: 34, len true: 59:   4%|▍         | 16/391 [00:12<04:16,  1.46it/s]"
     ]
    },
    {
     "name": "stdout",
     "output_type": "stream",
     "text": [
      "-- No. 11 Trial: 56 --\n"
     ]
    },
    {
     "name": "stderr",
     "output_type": "stream",
     "text": [
      "len pred: 642, len true: 1147: 100%|██████████| 391/391 [04:12<00:00,  1.55it/s]\n",
      "len pred: 625, len true: 1040:  87%|████████▋ | 366/421 [04:00<00:32,  1.72it/s]"
     ]
    },
    {
     "name": "stdout",
     "output_type": "stream",
     "text": [
      "pred: (574, 5), true: (1147, 2)\n"
     ]
    },
    {
     "name": "stderr",
     "output_type": "stream",
     "text": [
      "len pred: 603, len true: 1058: 100%|██████████| 372/372 [04:08<00:00,  1.49it/s]\n",
      "len pred: 683, len true: 1151:  66%|██████▌   | 337/512 [04:07<02:04,  1.41it/s]"
     ]
    },
    {
     "name": "stdout",
     "output_type": "stream",
     "text": [
      "pred: (534, 5), true: (1058, 2)\n"
     ]
    },
    {
     "name": "stderr",
     "output_type": "stream",
     "text": [
      "len pred: 686, len true: 1297: 100%|██████████| 412/412 [04:26<00:00,  1.54it/s]\n"
     ]
    },
    {
     "name": "stdout",
     "output_type": "stream",
     "text": [
      "pred: (607, 5), true: (1297, 2)\n"
     ]
    },
    {
     "name": "stderr",
     "output_type": "stream",
     "text": [
      "len pred: 716, len true: 1241: 100%|██████████| 428/428 [04:36<00:00,  1.55it/s]\n",
      "len pred: 722, len true: 1206:  99%|█████████▉| 418/421 [04:36<00:02,  1.30it/s]"
     ]
    },
    {
     "name": "stdout",
     "output_type": "stream",
     "text": [
      "pred: (606, 5), true: (1241, 2)\n"
     ]
    },
    {
     "name": "stderr",
     "output_type": "stream",
     "text": [
      "len pred: 726, len true: 1212: 100%|██████████| 421/421 [04:37<00:00,  1.52it/s]\n",
      "len pred: 739, len true: 1323:  98%|█████████▊| 411/418 [04:40<00:05,  1.18it/s]"
     ]
    },
    {
     "name": "stdout",
     "output_type": "stream",
     "text": [
      "pred: (618, 5), true: (1212, 2)\n"
     ]
    },
    {
     "name": "stderr",
     "output_type": "stream",
     "text": [
      "len pred: 754, len true: 1344: 100%|██████████| 418/418 [04:45<00:00,  1.46it/s]\n",
      "len pred: 781, len true: 1237:  95%|█████████▌| 401/420 [04:45<00:11,  1.63it/s]"
     ]
    },
    {
     "name": "stdout",
     "output_type": "stream",
     "text": [
      "pred: (637, 5), true: (1344, 2)\n"
     ]
    },
    {
     "name": "stderr",
     "output_type": "stream",
     "text": [
      "len pred: 700, len true: 1207: 100%|██████████| 411/411 [04:50<00:00,  1.42it/s]\n",
      "len pred: 914, len true: 1523:  57%|█████▋    | 294/514 [04:52<03:18,  1.11it/s]"
     ]
    },
    {
     "name": "stdout",
     "output_type": "stream",
     "text": [
      "pred: (599, 5), true: (1207, 2)\n"
     ]
    },
    {
     "name": "stderr",
     "output_type": "stream",
     "text": [
      "len pred: 816, len true: 1393: 100%|██████████| 410/410 [04:56<00:00,  1.38it/s]\n"
     ]
    },
    {
     "name": "stdout",
     "output_type": "stream",
     "text": [
      "pred: (733, 5), true: (1393, 2)\n"
     ]
    },
    {
     "name": "stderr",
     "output_type": "stream",
     "text": [
      "len pred: 810, len true: 1281: 100%|██████████| 420/420 [04:56<00:00,  1.41it/s]\n"
     ]
    },
    {
     "name": "stdout",
     "output_type": "stream",
     "text": [
      "pred: (690, 5), true: (1281, 2)\n"
     ]
    },
    {
     "name": "stderr",
     "output_type": "stream",
     "text": [
      "len pred: 1021, len true: 1655: 100%|██████████| 486/486 [06:04<00:00,  1.33it/s]\n"
     ]
    },
    {
     "name": "stdout",
     "output_type": "stream",
     "text": [
      "pred: (892, 5), true: (1655, 2)\n"
     ]
    },
    {
     "name": "stderr",
     "output_type": "stream",
     "text": [
      "len pred: 1124, len true: 1937: 100%|██████████| 512/512 [06:35<00:00,  1.29it/s]\n",
      "len pred: 1200, len true: 2025:  84%|████████▍ | 434/514 [06:36<00:44,  1.80it/s]"
     ]
    },
    {
     "name": "stdout",
     "output_type": "stream",
     "text": [
      "pred: (972, 5), true: (1937, 2)\n"
     ]
    },
    {
     "name": "stderr",
     "output_type": "stream",
     "text": [
      "len pred: 1375, len true: 2286: 100%|██████████| 514/514 [07:39<00:00,  1.12it/s]\n"
     ]
    },
    {
     "name": "stdout",
     "output_type": "stream",
     "text": [
      "pred: (1223, 5), true: (2286, 2)\n",
      "-- No. 0 Trial --\n",
      "-- No. 1 Trial --\n",
      "-- No. 2 Trial --\n",
      "-- No. 3 Trial --\n",
      "-- No. 4 Trial --\n",
      "-- No. 5 Trial --\n",
      "-- No. 6 Trial --\n",
      "-- No. 7 Trial --\n",
      "-- No. 8 Trial --\n",
      "-- No. 9 Trial --\n",
      "-- No. 10 Trial --\n",
      "-- No. 11 Trial --\n",
      "defaultdict(<class 'list'>, {'precision': 0.00467808028147862, 'recall': 0.004039512438817322, 'F1': 0.004200265418647344})\n",
      "len predL: 8685, len true: 11929\n"
     ]
    }
   ],
   "source": [
    "from neuroformer.utils import predict_raster_recursive_time_auto, process_predictions\n",
    "\n",
    "PARALLEL = True\n",
    "df_pred_path = None\n",
    "\n",
    "model.load_state_dict(torch.load(model_path))\n",
    "\n",
    "results_dict = dict()\n",
    "df_pred = None if df_pred_path is None else pd.read_csv(df_pred_path)\n",
    "df_true = None\n",
    "\n",
    "top_p = 0.75\n",
    "top_p_t = 0.75\n",
    "temp = 1.25\n",
    "temp_t = 1.25\n",
    "\n",
    "trials = sorted(train_data['Trial'].unique())[::4]\n",
    "\n",
    "if df_pred_path is None:\n",
    "    from joblib import Parallel, delayed\n",
    "    # Define a function to process each trial\n",
    "    def process_trial(model, train_dataset, df, stoi, itos_dt, itos, window, window_prev, top_p, top_p_t, temp, temp_t, trial):\n",
    "        print(f\"-- No. {n} Trial: {trial} --\")\n",
    "        df_trial = df[df['Trial'] == trial]\n",
    "        trial_dataset = train_dataset.copy(df_trial)\n",
    "        results_trial = predict_raster_recursive_time_auto(model, trial_dataset, window, window_prev, stoi, itos_dt, itos=itos, \n",
    "                                                        sample=True, top_p=top_p, top_p_t=top_p_t, temp=temp, temp_t=temp_t, \n",
    "                                                        frame_end=0, get_dt=True, gpu=False, pred_dt=True, plot_probs=False)\n",
    "        df_trial_pred, df_trial_true = process_predictions(results_trial, stoi, itos, window)\n",
    "        print(f\"pred: {df_trial_pred.shape}, true: {df_trial_true.shape}\" )\n",
    "        return df_trial_pred, df_trial_true\n",
    "\n",
    "    if PARALLEL:\n",
    "        # Process each trial in parallel\n",
    "        results = Parallel(n_jobs=-1)(delayed(process_trial)(model, train_dataset, df, stoi, itos_dt, \n",
    "                                                            itos, window, window_prev, top_p, top_p_t, \n",
    "                                                            temp, temp_t, trial) for trial in trials)\n",
    "    else:\n",
    "        # Process each trial sequentially\n",
    "        results = []\n",
    "        for trial in trials:\n",
    "            results.append(process_trial(model, train_dataset, df, stoi, itos_dt, \n",
    "                                            itos, window, window_prev, top_p, top_p_t, \n",
    "                                            temp, temp_t, trial))\n",
    "    # Combine the results from each trial\n",
    "    for n, (df_trial_pred, df_trial_true) in enumerate(results):   \n",
    "        print(f\"-- No. {n} Trial --\")\n",
    "        if df_pred is None:\n",
    "            df_pred = df_trial_pred\n",
    "            df_true = df_trial_true\n",
    "        else:\n",
    "            df_pred = pd.concat([df_pred, df_trial_pred])\n",
    "            df_true = pd.concat([df_true, df_trial_true])\n",
    "\n",
    "from neuroformer.analysis import compute_scores\n",
    "df_true = df[df['Trial'].isin(trials)]\n",
    "scores = compute_scores(df_true, df_pred)\n",
    "print(scores)\n",
    "print(f\"len predL: {len(df_pred)}, len true: {len(df_true)}\")\n",
    "\n",
    "dir_name = os.path.dirname(model_path)\n",
    "model_name = os.path.basename(model_path)\n",
    "df_pred.to_csv(os.path.join(dir_name, F'df_pred_.csv'))\n",
    "\n"
   ]
  },
  {
   "cell_type": "code",
   "execution_count": 66,
   "metadata": {},
   "outputs": [
    {
     "name": "stdout",
     "output_type": "stream",
     "text": [
      "Population Size:  389\n",
      "ID Population Size:  389\n",
      "DT Population Size:  28\n",
      "Population Size:  389\n",
      "ID Population Size:  389\n",
      "DT Population Size:  28\n",
      "Population Size:  389\n",
      "ID Population Size:  389\n",
      "DT Population Size:  28\n"
     ]
    }
   ],
   "source": [
    "\"\"\"\n",
    "\n",
    "Split data into full-stimulus trials\n",
    "\n",
    "\"\"\"\n",
    "# dir_name = os.path.dirname(model_path)\n",
    "# df_pred = pd.read_csv(os.path.join(dir_name, F'df_pred_.csv'))\n",
    "\n",
    "from neuroformer.analysis import get_rates_trial, calc_corr_psth, get_accuracy, compute_scores\n",
    "from neuroformer.SpikeVidUtils import create_full_trial, set_intervals\n",
    "\n",
    "\n",
    "t_1, t_2 = 35, 36\n",
    "trial_data_1 = df[df['Trial'] == t_1]\n",
    "trial_dataset_1 = SpikeTimeVidData2(train_data, None, block_size, id_block_size, frame_block_size, prev_id_block_size, window, dt, frame_memory, stoi, itos, neurons, stoi_dt, itos_dt, frame_feats, pred=False, window_prev=window_prev)\n",
    "trial_loader_1 = DataLoader(trial_dataset_1, shuffle=False, pin_memory=False)\n",
    "\n",
    "def loader_trial(df, n_trial):\n",
    "    trial_data = df[df['Trial'] == n_trial]\n",
    "    trial_dataset = SpikeTimeVidData2(trial_data, None, block_size, id_block_size, frame_block_size, prev_id_block_size, window, dt, frame_memory, stoi, itos, neurons, stoi_dt, itos_dt, frame_feats, pred=False, window_prev=window_prev)\n",
    "    trial_loader = DataLoader(trial_dataset, shuffle=False, pin_memory=False)\n",
    "    return trial_loader\n",
    "\n",
    "trial_data_1 = loader_trial(df, t_1)\n",
    "trial_data_2 = loader_trial(df, t_2)\n",
    "\n",
    "iterable1 = iter(trial_data_1)\n",
    "iterable2 = iter(trial_data_2)\n",
    "\n",
    "n_1 = test_data['Trial'].unique()\n",
    "n_2 = test_data['Trial'].unique() + 1\n",
    "\n",
    "df_pred_full = create_full_trial(df_pred)\n",
    "df_1 = create_full_trial(df, trials)\n",
    "df_2 = create_full_trial(df, n_1)\n",
    "df_3 = create_full_trial(df, n_2)\n",
    "\n",
    "# sort by interval, trial\n",
    "window_pred = 1\n",
    "min_window = windosD?L>V<\n",
    "swd;lv,'    ;23lfk4'r135jkl;,,mmmmmmmsefr;'lbmeklrgkjkk   w_prev + window\n",
    "df_pred_full = set_intervals(df_pred_full, window, window_prev, window_pred)\n",
    "df_1 = set_intervals(df_1, window, window_prev, window_pred)\n",
    "df_2 = set_intervals(df_2, window, window_prev, window_pred)\n",
    "df_3 = set_intervals(df_3, window, window_prev, window_pred)\n",
    "\n",
    "window_pred = window if window_pred is None else window_pred\n",
    "intervals = np.array(sorted(set(df['Interval'].unique()) & set(df['Interval'].unique())))\n",
    "labels = np.array([round(window_pred + window_pred*n, 2) for n in range(0, int(max(df_pred_full['Interval']) / window_pred))])\n",
    "ids = sorted(set(df['ID'].unique()) & set(df['ID'].unique()))\n",
    "\n",
    "# labels = sorted(set(df_pred_full['Interval'].unique()))\n",
    "rates_pred = get_rates_trial(df_pred_full, labels)\n",
    "rates_1 = get_rates_trial(df_1, labels)\n",
    "rates_2 = get_rates_trial(df_2, labels)\n",
    "rates_3 = get_rates_trial(df_3, labels)\n",
    "\n",
    "neurons = df['ID'].unique()\n",
    "top_corr_pred = calc_corr_psth(rates_pred, rates_1, neurons=neurons)\n",
    "top_corr_real = calc_corr_psth(rates_1, rates_2, neurons=neurons)\n",
    "top_corr_real_2 = calc_corr_psth(rates_1, rates_3, neurons=neurons)\n",
    "\n"
   ]
  },
  {
   "cell_type": "code",
   "execution_count": 67,
   "metadata": {},
   "outputs": [
    {
     "name": "stdout",
     "output_type": "stream",
     "text": [
      "id_pred: 383, id_true_1: 386, id_true_2: 386\n",
      "len_pred: 8685, len_true: 11929\n",
      "real: defaultdict(<class 'list'>, {'precision': 0.4804736867827446, 'recall': 0.4798990968048198, 'F1': 0.4724738776328552})\n",
      "pred: defaultdict(<class 'list'>, {'precision': 0.5044770340096282, 'recall': 0.3891931528194748, 'F1': 0.4368296694982403})\n"
     ]
    },
    {
     "data": {
      "image/png": "[encoded data removed]",
      "text/plain": [
       "<Figure size 1000x1000 with 1 Axes>"
      ]
     },
     "metadata": {},
     "output_type": "display_data"
    },
    {
     "name": "stdout",
     "output_type": "stream",
     "text": [
      "386\n"
     ]
    },
    {
     "data": {
      "image/png": "[encoded data removed]",
      "text/plain": [
       "<Figure size 3000x2000 with 1 Axes>"
      ]
     },
     "metadata": {},
     "output_type": "display_data"
    },
    {
     "name": "stdout",
     "output_type": "stream",
     "text": [
      "model: epoch250_randFalse_downstream:False/past_state_True_visualTrue_contrastive_False_freeze_False/randperm_False/Big_fixed_noself-att\n"
     ]
    }
   ],
   "source": [
    "\"\"\"\n",
    "\n",
    "Evaluate results\n",
    "\n",
    "\"\"\"\n",
    "\n",
    "\n",
    "from neuroformer.visualize import set_plot_white, plot_distribution\n",
    "\n",
    "# df_2['Trial'] -= 2\n",
    "id_pred, id_true_1, id_true_2 = len(df_pred_full['ID'].unique()), len(df_1['ID'].unique()), len(df_2['ID'].unique())\n",
    "print(f\"id_pred: {id_pred}, id_true_1: {id_true_1}, id_true_2: {id_true_2}\")\n",
    "\n",
    "len_pred, len_true = len(df_pred_full), len(df_1)\n",
    "print(f\"len_pred: {len_pred}, len_true: {len_true}\")\n",
    "\n",
    "accuracy = get_accuracy(df_pred, df_2)\n",
    "\n",
    "scores = compute_scores(df_1, df_2)\n",
    "pred_scores = compute_scores(df_1, df_pred_full)\n",
    "print(f\"real: {scores}\")\n",
    "print(f\"pred: {pred_scores}\")\n",
    "\n",
    "# dir_name = os.path.dirname(model_path)\n",
    "save_dir = os.path.dirname(model_path)\n",
    "df_pred.to_csv(os.path.join(save_dir, F'df_pred.csv'))\n",
    "\n",
    "set_plot_white()\n",
    "plt.figure(figsize=(10, 10), facecolor='white')\n",
    "plt.title(f'PSTH Correlations (V1 + AL) bin {window_pred}', fontsize=25)\n",
    "plt.ylabel('Count (n)', fontsize=25)\n",
    "plt.xlabel('Pearson r', fontsize=25)\n",
    "plt.hist(top_corr_real, label='real - real2', alpha=0.6)\n",
    "# plt.hist(top_corr_real_2, label='real - real3', alpha=0.6)\n",
    "plt.hist(top_corr_pred, label='real - simulated', alpha=0.6)\n",
    "plt.legend(fontsize=20)\n",
    "plt.savefig(os.path.join(dir_name, F'psth_corr.svg'))\n",
    "plt.show()\n",
    "\n",
    "plot_distribution(df_1, df_pred, save_path=os.path.join(dir_name, F'psth_dist.svg'))\n",
    "\n",
    "total_scores = dict()\n",
    "total_scores['real'] = scores\n",
    "total_scores['pred'] = pred_scores\n",
    "\n",
    "print(f\"model: {title}\")\n",
    "\n"
   ]
  },
  {
   "cell_type": "code",
   "execution_count": 51,
   "metadata": {},
   "outputs": [],
   "source": [
    "loader = DataLoader(test_dataset, shuffle=False, pin_memory=False)\n",
    "iterable = iter(test_dataset)\n",
    "\n",
    "\n"
   ]
  },
  {
   "cell_type": "code",
   "execution_count": 52,
   "metadata": {},
   "outputs": [
    {
     "name": "stdout",
     "output_type": "stream",
     "text": [
      "2.2172952440017055\n"
     ]
    },
    {
     "data": {
      "text/plain": [
       "Interval  Trial\n",
       "19.40     21       16\n",
       "0.40      35       15\n",
       "6.65      22       14\n",
       "0.40      34       13\n",
       "0.60      21       13\n",
       "                   ..\n",
       "7.30      20        3\n",
       "          30        3\n",
       "          52        3\n",
       "          54        3\n",
       "7.35      3         3\n",
       "Length: 5159, dtype: int64"
      ]
     },
     "execution_count": 52,
     "metadata": {},
     "output_type": "execute_result"
    }
   ],
   "source": [
    "var_group = 'Interval'\n",
    "int_trials = df.groupby([var_group, 'Trial']).size()\n",
    "print(int_trials.mean())\n",
    "# df.groupby(['Interval', 'Trial']).agg(['nunique'])\n",
    "n_unique = len(df.groupby([var_group, 'Trial']).size())\n",
    "df.groupby([var_group, 'Trial']).size().nlargest(int(0.2 * n_unique))\n",
    "# df.groupby(['Interval_2', 'Trial']).size().mean()\n",
    "\n",
    "\n"
   ]
  },
  {
   "cell_type": "code",
   "execution_count": 53,
   "metadata": {},
   "outputs": [
    {
     "name": "stdout",
     "output_type": "stream",
     "text": [
      "iv: 0.25, ix+window: 0.3 pid: tensor([0.0000, 0.2500]) cid: tensor([0.2500, 0.3000])\n",
      "x: ['SOS', 488, 440, 21]\n",
      "xdt: tensor([0., 0., 5., 5.])\n",
      "y: [488, 440, 21, 'EOS']\n",
      "ydt: tensor([ 0,  5,  5, 26])\n",
      "xid_prev: ['SOS', 484, 309, 440, 241, 328, 433, 322, 477, 239, 86, 11, 451, 477, 277, 451, 509, 380, 'EOS', 'PAD', 'PAD', 'PAD']\n"
     ]
    },
    {
     "data": {
      "text/html": [
       "<div>\n",
       "<style scoped>\n",
       "    .dataframe tbody tr th:only-of-type {\n",
       "        vertical-align: middle;\n",
       "    }\n",
       "\n",
       "    .dataframe tbody tr th {\n",
       "        vertical-align: top;\n",
       "    }\n",
       "\n",
       "    .dataframe thead th {\n",
       "        text-align: right;\n",
       "    }\n",
       "</style>\n",
       "<table border=\"1\" class=\"dataframe\">\n",
       "  <thead>\n",
       "    <tr style=\"text-align: right;\">\n",
       "      <th></th>\n",
       "      <th>Unnamed: 0</th>\n",
       "      <th>Time</th>\n",
       "      <th>ID</th>\n",
       "      <th>Trial</th>\n",
       "      <th>Interval</th>\n",
       "      <th>real_interval</th>\n",
       "      <th>Interval_2</th>\n",
       "    </tr>\n",
       "  </thead>\n",
       "  <tbody>\n",
       "    <tr>\n",
       "      <th>17</th>\n",
       "      <td>17</td>\n",
       "      <td>0.252502</td>\n",
       "      <td>488</td>\n",
       "      <td>1</td>\n",
       "      <td>0.3</td>\n",
       "      <td>0.3</td>\n",
       "      <td>0.5</td>\n",
       "    </tr>\n",
       "    <tr>\n",
       "      <th>18</th>\n",
       "      <td>18</td>\n",
       "      <td>0.295416</td>\n",
       "      <td>440</td>\n",
       "      <td>1</td>\n",
       "      <td>0.3</td>\n",
       "      <td>0.3</td>\n",
       "      <td>0.5</td>\n",
       "    </tr>\n",
       "    <tr>\n",
       "      <th>19</th>\n",
       "      <td>19</td>\n",
       "      <td>0.297087</td>\n",
       "      <td>21</td>\n",
       "      <td>1</td>\n",
       "      <td>0.3</td>\n",
       "      <td>0.3</td>\n",
       "      <td>0.5</td>\n",
       "    </tr>\n",
       "  </tbody>\n",
       "</table>\n",
       "</div>"
      ],
      "text/plain": [
       "    Unnamed: 0      Time   ID  Trial  Interval  real_interval  Interval_2\n",
       "17          17  0.252502  488      1       0.3            0.3         0.5\n",
       "18          18  0.295416  440      1       0.3            0.3         0.5\n",
       "19          19  0.297087   21      1       0.3            0.3         0.5"
      ]
     },
     "execution_count": 53,
     "metadata": {},
     "output_type": "execute_result"
    }
   ],
   "source": [
    "# while iv < 1.95:\n",
    "x, y = next(iterable)\n",
    "\n",
    "T = len(x['id'])\n",
    "P = x['pad']\n",
    "T_prev = len(x['id_prev'])\n",
    "P_prev = x['pad_prev'] - 4\n",
    "\n",
    "T_y = len(y['id'])\n",
    "P_y = x['pad']\n",
    "\n",
    "iv = float(x['interval'])\n",
    "\n",
    "xid = x['id'][: T - P]\n",
    "xid = [itos[int(i)] for i in xid]\n",
    "xdt = x['dt'][: T - P]\n",
    "\n",
    "yid = y['id'][: T_y - P_y]\n",
    "yid = [itos[int(i)] for i in yid]\n",
    "ydt = y['dt'][: T - P]\n",
    "\n",
    "xid_prev = x['id_prev'][: T_prev - P_prev]\n",
    "xid_prev = [itos[int(i)] for i in xid_prev]\n",
    "\n",
    "print(f\"iv: {iv}, ix+window: {iv + window} pid: {x['pid']} cid: {x['cid']}\")\n",
    "print(f\"x: {xid}\")\n",
    "print(f\"xdt: {xdt}\")\n",
    "print(f\"y: {yid}\")\n",
    "print(f\"ydt: {ydt}\")\n",
    "\n",
    "print(f\"xid_prev: {xid_prev}\")\n",
    "\n",
    "tdiff = 0\n",
    "t_var = 'Time' # 'Interval'\n",
    "int_var = 'cid'\n",
    "# df[(df[t_var] >= iv - tdiff) & (df[t_var] <= iv + (window + tdiff)) & (df['Trial'] == int(x['trial']))]\n",
    "# df[(df[t_var] >= float(x[int_var][0]) - tdiff) & (df[t_var] <= float(x[int_var][1] + tdiff)) & (df['Trial'] == int(x['trial']))]\n",
    "df[(df[t_var] > float(x[int_var][0]) - tdiff) & (df[t_var] <= float(x['cid'][1] + tdiff)) & (df['Trial'] == int(x['trial']))]\n",
    "\n",
    "# t_var = 'Time' # 'Interval'\n",
    "# int_var = 'pid'\n",
    "# df[(df[t_var] > round(float(x[int_var][0]), 2) - tdiff) & (df[t_var] <= round(float(x[int_var][1]), 2)) & (df['Trial'] == int(x['trial']))\n",
    "\n",
    "# print(f\"trial: {x['trial']}, pid: {x['pid']}, cid: {x['cid']}\")\n",
    "\n",
    "# plt.imshow(x['frames'][0, 0])\n"
   ]
  },
  {
   "cell_type": "code",
   "execution_count": 54,
   "metadata": {},
   "outputs": [
    {
     "data": {
      "text/plain": [
       "{0: 0.0,\n",
       " 1: 0.01,\n",
       " 2: 0.02,\n",
       " 3: 0.03,\n",
       " 4: 0.04,\n",
       " 5: 0.05,\n",
       " 6: 0.06,\n",
       " 7: 0.07,\n",
       " 8: 0.08,\n",
       " 9: 0.09,\n",
       " 10: 0.1,\n",
       " 11: 0.11,\n",
       " 12: 0.12,\n",
       " 13: 0.13,\n",
       " 14: 0.14,\n",
       " 15: 0.15,\n",
       " 16: 0.16,\n",
       " 17: 0.17,\n",
       " 18: 0.18,\n",
       " 19: 0.19,\n",
       " 20: 0.2,\n",
       " 21: 0.21,\n",
       " 22: 0.22,\n",
       " 23: 0.23,\n",
       " 24: 0.24,\n",
       " 25: 0.25,\n",
       " 26: 'EOS',\n",
       " 27: 'PAD'}"
      ]
     },
     "execution_count": 54,
     "metadata": {},
     "output_type": "execute_result"
    }
   ],
   "source": [
    "itos_dt\n",
    "\n"
   ]
  },
  {
   "cell_type": "code",
   "execution_count": 55,
   "metadata": {},
   "outputs": [],
   "source": [
    "loader = DataLoader(test_dataset, shuffle=True, pin_memory=False)\n",
    "iterable = iter(loader)\n",
    "\n"
   ]
  },
  {
   "cell_type": "code",
   "execution_count": 56,
   "metadata": {},
   "outputs": [],
   "source": [
    "x, y = next(iterable)\n",
    "preds, features, loss = model(x, y)\n",
    "\n",
    "\n",
    "\n",
    "\n",
    "\n"
   ]
  }
 ],
 "metadata": {
  "kernelspec": {
   "display_name": "neuroformer",
   "language": "python",
   "name": "python3"
  },
  "language_info": {
   "codemirror_mode": {
    "name": "ipython",
    "version": 3
   },
   "file_extension": ".py",
   "mimetype": "text/x-python",
   "name": "python",
   "nbconvert_exporter": "python",
   "pygments_lexer": "ipython3",
   "version": "3.9.16"
  },
  "orig_nbformat": 4
 },
 "nbformat": 4,
 "nbformat_minor": 2
}
