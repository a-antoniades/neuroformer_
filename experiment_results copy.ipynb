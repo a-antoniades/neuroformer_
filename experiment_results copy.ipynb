{
 "cells": [
  {
   "cell_type": "code",
   "execution_count": 13,
   "metadata": {},
   "outputs": [],
   "source": [
    "import pandas as pd\n",
    "import json\n",
    "import numpy as np\n",
    "import matplotlib.pyplot as plt\n",
    "import pathlib\n",
    "import glob\n",
    "import os\n",
    "\n",
    "from neuroformer.visualize import set_research_params"
   ]
  },
  {
   "cell_type": "code",
   "execution_count": 3,
   "metadata": {},
   "outputs": [
    {
     "data": {
      "image/png": "[encoded data removed]",
      "text/plain": [
       "<Figure size 252x216 with 1 Axes>"
      ]
     },
     "metadata": {
      "needs_background": "light"
     },
     "output_type": "display_data"
    }
   ],
   "source": [
    "import matplotlib.lines as mlines\n",
    "\n",
    "exp_pth_lat = \"./models/tensorboard/visnav_lateral/behavior_pred_exp/classification/ablations_1\"\n",
    "exp_path_med = \"./models/tensorboard/visnav_medial/behavior_pred_exp/classification/1\"\n",
    "exp_path_v1al = \"./models/tensorboard/Combo3_V1AL/interval_correction/downstream_exp/ablations_2\"\n",
    "\n",
    "# Load your datasets\n",
    "df1 = pd.read_csv(os.path.join(exp_pth_lat, 'f1_results.csv'))\n",
    "df2 = pd.read_csv(os.path.join(exp_path_med, 'f1_results.csv'))\n",
    "df3 = pd.read_csv(os.path.join(exp_path_v1al, 'f1_results.csv'))\n",
    "\n",
    "# set colors\n",
    "model_colors = [\"#4285F4\", \"#FBBC05\", \"#34A853\", \"#EA4335\", \"#9C27B0\"]\n",
    "\n",
    "# # Make sure your dataframes are sorted by model_name to align bars correctly\n",
    "# df1 = df1.sort_values('model', ascending=False)\n",
    "# df2 = df2.sort_values('model', ascending=False)\n",
    "# df3 = df3.sort_values('model', ascending=False)\n",
    "\n",
    "# Define the bar width\n",
    "bar_width = 0.3\n",
    "\n",
    "# Set the positions of the bars on the x-axis\n",
    "r1 = np.arange(len(df1))\n",
    "r2 = np.arange(len(df2)) + bar_width\n",
    "r3 = np.arange(len(df3)) + (2 * bar_width)\n",
    "\n",
    "# Create the bar chart\n",
    "plt.figure(figsize=(3.5, 3))\n",
    "bars = plt.bar(r1, df1['f1'], color=model_colors, width=bar_width, edgecolor='grey', label='Dataset1', hatch='/')\n",
    "plt.bar(r2, df2['f1'], color=model_colors, width=bar_width, edgecolor='grey', label='Dataset2', hatch='\\\\')\n",
    "plt.bar(r3, df3['f1'], color=model_colors, width=bar_width, edgecolor='grey', label='Dataset3', hatch='-')\n",
    "\n",
    "# Add xticks on the middle of the grouped bars\n",
    "plt.xlabel('Components')\n",
    "plt.xticks([r + bar_width for r in range(len(df1))], df1['model']) # rotation=45)\n",
    "\n",
    "# Add xticks on the middle of the grouped bars\n",
    "plt.xlabel('Components')\n",
    "plt.xticks([r + bar_width for r in range(len(df1))], df1['model'])#  rotation=45)\n",
    "# add Yticks\n",
    "plt.ylabel('F1 Score')\n",
    "plt.title('Ablation Study Results', fontweight='bold')\n",
    "\n",
    "# add grid and send back\n",
    "plt.grid(axis='y', linewidth=0.5)\n",
    "plt.gca().set_axisbelow(True)\n",
    "\n",
    "\n",
    "# Create a legend and show the plot\n",
    "# hatch_handles = [plt.Rectangle((2,2),2,2, fill=False, edgecolor='grey', hatch=pattern, linewidth=0.5) for pattern in ['/', '\\\\', '-']]\n",
    "# Increase the thickness of hatch patterns\n",
    "plt.rcParams['hatch.linewidth'] = 0.5  # previous default was 1.0\n",
    "hatch_handles = [plt.Rectangle((0,0),15,1, fill=False, edgecolor='grey', hatch=pattern) for pattern in ['/', '\\\\', '-']]\n",
    "\n",
    "\n",
    "# Add legends for colors and hatches\n",
    "hatch_labels = ['Visnav, Medial', 'Visnav, Lateral', 'Naturalistic, V1, AL']\n",
    "plt.legend(handles=hatch_handles, labels=hatch_labels, loc='upper left',\n",
    "           handlelength=3, handleheight=2.0, title='Dataset', fontsize=5)\n",
    "# how to change the title size of the legend\n",
    "plt.setp(plt.gca().get_legend().get_title(), fontsize=6)\n",
    "plt.tight_layout()\n",
    "# plt.show()\n",
    "# make background non-transparent\n",
    "plt.savefig(\"f1_results.pdf\", bbox_inches='tight', pad_inches=0, dpi=500)\n",
    "plt.savefig(\"f1_results.png\", bbox_inches='tight', pad_inches=0, dpi=500)\n",
    "\n",
    "# turn upper and right axis off\n",
    "plt.gca().spines['top'].set_visible(False)\n",
    "plt.gca().spines['right'].set_visible(False)"
   ]
  },
  {
   "cell_type": "code",
   "execution_count": 9,
   "metadata": {},
   "outputs": [
    {
     "data": {
      "text/html": [
       "<div>\n",
       "<style scoped>\n",
       "    .dataframe tbody tr th:only-of-type {\n",
       "        vertical-align: middle;\n",
       "    }\n",
       "\n",
       "    .dataframe tbody tr th {\n",
       "        vertical-align: top;\n",
       "    }\n",
       "\n",
       "    .dataframe thead th {\n",
       "        text-align: right;\n",
       "    }\n",
       "</style>\n",
       "<table border=\"1\" class=\"dataframe\">\n",
       "  <thead>\n",
       "    <tr style=\"text-align: right;\">\n",
       "      <th></th>\n",
       "      <th>model</th>\n",
       "      <th>f1</th>\n",
       "    </tr>\n",
       "  </thead>\n",
       "  <tbody>\n",
       "    <tr>\n",
       "      <th>0</th>\n",
       "      <td>State</td>\n",
       "      <td>0.268854</td>\n",
       "    </tr>\n",
       "    <tr>\n",
       "      <th>1</th>\n",
       "      <td>+ Past State</td>\n",
       "      <td>0.277016</td>\n",
       "    </tr>\n",
       "    <tr>\n",
       "      <th>2</th>\n",
       "      <td>+ Video</td>\n",
       "      <td>0.255983</td>\n",
       "    </tr>\n",
       "    <tr>\n",
       "      <th>3</th>\n",
       "      <td>+ Behavior</td>\n",
       "      <td>0.313855</td>\n",
       "    </tr>\n",
       "    <tr>\n",
       "      <th>4</th>\n",
       "      <td>+ Contrastive</td>\n",
       "      <td>0.348387</td>\n",
       "    </tr>\n",
       "  </tbody>\n",
       "</table>\n",
       "</div>"
      ],
      "text/plain": [
       "           model        f1\n",
       "0          State  0.268854\n",
       "1   + Past State  0.277016\n",
       "2        + Video  0.255983\n",
       "3     + Behavior  0.313855\n",
       "4  + Contrastive  0.348387"
      ]
     },
     "execution_count": 9,
     "metadata": {},
     "output_type": "execute_result"
    }
   ],
   "source": [
    "df1"
   ]
  },
  {
   "cell_type": "code",
   "execution_count": 47,
   "metadata": {},
   "outputs": [
    {
     "data": {
      "image/png": "[encoded data removed]",
      "text/plain": [
       "<Figure size 360x158.4 with 3 Axes>"
      ]
     },
     "metadata": {
      "needs_background": "light"
     },
     "output_type": "display_data"
    }
   ],
   "source": [
    "import matplotlib.lines as mlines\n",
    "set_research_params()\n",
    "\n",
    "exp_pth_lat = \"./models/tensorboard/visnav_lateral/behavior_pred_exp/classification/ablations_1\"\n",
    "exp_path_med = \"./models/tensorboard/visnav_medial/behavior_pred_exp/classification/1\"\n",
    "exp_path_v1al = \"./models/tensorboard/Combo3_V1AL/interval_correction/downstream_exp/ablations_2\"\n",
    "\n",
    "# Load your datasets\n",
    "df1 = pd.read_csv(os.path.join(exp_path_v1al, 'f1_results.csv')).iloc[:-1]\n",
    "df2 = pd.read_csv(os.path.join(exp_path_med, 'f1_results.csv'))\n",
    "df3 = pd.read_csv(os.path.join(exp_pth_lat, 'f1_results.csv'))\n",
    "\n",
    "# set colors\n",
    "model_colors = [\"#4285F4\", \"#FBBC05\", \"#34A853\", \"#EA4335\", \"#9C27B0\"]\n",
    "\n",
    "# plot labels\n",
    "labels = ['Naturalistic, V1 + AL', 'Visnav, Medial', 'Visnav, Lateral']\n",
    "\n",
    "# # Make sure your dataframes are sorted by model_name to align bars correctly\n",
    "# df1 = df1.sort_values('model', ascending=False)\n",
    "# df2 = df2.sort_values('model', ascending=False)\n",
    "# df3 = df3.sort_values('model', ascending=False)\n",
    "\n",
    "rows = 1\n",
    "cols = 3\n",
    "fig, ax = plt.subplots(figsize=(5, 2.2), nrows=rows, ncols=cols)\n",
    "# Define the bar widt\n",
    "\n",
    "ax[0].plot(df1['model'], df1['f1'], color=model_colors[0], linewidth=1.5, label=labels[0], linestyle='--', marker='o', markersize=3)\n",
    "ax[1].plot(df2['model'], df2['f1'], color=model_colors[1], linewidth=1.5, label=labels[1], linestyle='--', marker='o', markersize=3)\n",
    "ax[2].plot(df3['model'], df3['f1'], color=model_colors[2], linewidth=1.5, label=labels[2], linestyle='--', marker='o', markersize=3)\n",
    "\n",
    "# rotate x labels\n",
    "for n, ax in enumerate(fig.axes):\n",
    "    ax.set_title(labels[n])\n",
    "    ax.set_ylabel('F1')\n",
    "    plt.sca(ax)\n",
    "    plt.xticks(rotation=45)\n",
    "\n",
    "plt.tight_layout()\n",
    "\n",
    "save_path = \"./results\"\n",
    "# make background white\n",
    "plt.savefig(os.path.join(save_path, \"f1_results.pdf\"), bbox_inches='tight', pad_inches=0, dpi=500, facecolor='white')\n",
    "plt.savefig(os.path.join(save_path, \"f1_results.png\"), bbox_inches='tight', pad_inches=0, dpi=500, facecolor='white')"
   ]
  },
  {
   "cell_type": "code",
   "execution_count": null,
   "metadata": {},
   "outputs": [],
   "source": []
  }
 ],
 "metadata": {
  "kernelspec": {
   "display_name": "neuroformer",
   "language": "python",
   "name": "python3"
  },
  "language_info": {
   "codemirror_mode": {
    "name": "ipython",
    "version": 3
   },
   "file_extension": ".py",
   "mimetype": "text/x-python",
   "name": "python",
   "nbconvert_exporter": "python",
   "pygments_lexer": "ipython3",
   "version": "3.9.15"
  },
  "orig_nbformat": 4
 },
 "nbformat": 4,
 "nbformat_minor": 2
}
