{
 "cells": [
  {
   "cell_type": "code",
   "execution_count": 1,
   "metadata": {},
   "outputs": [],
   "source": [
    "import pandas as pd\n",
    "import json\n",
    "import numpy as np\n",
    "import matplotlib.pyplot as plt\n",
    "import pathlib\n",
    "import glob\n",
    "import os"
   ]
  },
  {
   "cell_type": "code",
   "execution_count": 20,
   "metadata": {},
   "outputs": [],
   "source": [
    "pth = \"./results/behavior\"\n",
    "# get all csvs\n",
    "files = glob.glob(os.path.join(pth, \"**/**.csv\"), recursive=True)"
   ]
  },
  {
   "cell_type": "code",
   "execution_count": 23,
   "metadata": {},
   "outputs": [
    {
     "name": "stdout",
     "output_type": "stream",
     "text": [
      "r: 0.8180221196645674, p: 0.0\n",
      "r: 0.9542660880388245, p: 0.0\n",
      "r: 0.9661748713314903, p: 0.0\n",
      "r: 0.7549037447947788, p: 0.0\n"
     ]
    }
   ],
   "source": [
    "from scipy.stats import pearsonr\n",
    "for f in files:\n",
    "    behavior_preds = pd.read_csv(f)\n",
    "    r, p = pearsonr(behavior_preds['behavior'], behavior_preds['true'])\n",
    "    print(f\"r: {r}, p: {p}\")\n",
    "    behavior_results = pd.DataFrame(columns=['r', 'p'])\n",
    "    parent_dir = pathlib.Path(f).parent\n",
    "    behavior_results.to_csv(os.path.join(parent_dir, 'corrs.csv'), index=False)"
   ]
  }
 ],
 "metadata": {
  "kernelspec": {
   "display_name": "neuroformer",
   "language": "python",
   "name": "python3"
  },
  "language_info": {
   "codemirror_mode": {
    "name": "ipython",
    "version": 3
   },
   "file_extension": ".py",
   "mimetype": "text/x-python",
   "name": "python",
   "nbconvert_exporter": "python",
   "pygments_lexer": "ipython3",
   "version": "3.9.15"
  },
  "orig_nbformat": 4
 },
 "nbformat": 4,
 "nbformat_minor": 2
}
