{
 "cells": [
  {
   "cell_type": "code",
   "execution_count": 1,
   "metadata": {},
   "outputs": [],
   "source": [
    "import os\n",
    "import pandas as pd\n",
    "import numpy as np\n",
    "\n",
    "import matplotlib.pyplot as plt\n",
    "\n",
    "from scipy.stats import t\n",
    "import numpy as np\n",
    "\n",
    "mat_path = \"./data/Combo3_V1AL/GLM_GPT_cor.mat\"\n",
    "\n",
    "import scipy.io\n",
    "corr_mat = scipy.io.loadmat(mat_path)\n",
    "\n",
    "def calculate_p_value(r, n):\n",
    "    t_statistic = r * np.sqrt((n - 2) / (1 - r**2))\n",
    "    p_value = 2 * (1 - t.cdf(abs(t_statistic), df=n-2))\n",
    "    return p_value\n",
    "\n",
    "def add_p_values(correlation_data):\n",
    "    for model_name, intervals in correlation_data.items():\n",
    "        for interval, correlation in intervals.items():\n",
    "            pearson_r = correlation['pearson_r']\n",
    "            n = len(pearson_r)\n",
    "            pearson_p = calculate_p_value(pearson_r, n)\n",
    "            correlation['pearson_p'] = pearson_p\n",
    "\n",
    "glm_corr_1 = pd.DataFrame({\"ID\": np.arange(len(corr_mat['GLM_pred_test_cor'])),\n",
    "                           \"pearson_r\": corr_mat['GLM_pred_test_cor'][:, 0]})\n",
    "glm_corr_2 = pd.DataFrame({\"ID\": np.arange(len(corr_mat['GLM_pred_test_cor'])),\n",
    "                           \"pearson_r\": corr_mat['GLM_pred_test_cor'][:, 1]})\n",
    "glm_corr_3 = pd.DataFrame({\"ID\": np.arange(len(corr_mat['GLM_pred_test_cor'])),\n",
    "                           \"pearson_r\": corr_mat['GLM_pred_test_cor'][:, 2]})\n",
    "\n",
    "nf_corr_1 = pd.DataFrame({\"ID\": np.arange(len(corr_mat['GPT_pred_test_cor'])),\n",
    "                          \"pearson_r\": corr_mat['GPT_pred_test_cor'][:, 0]})\n",
    "nf_corr_2 = pd.DataFrame({\"ID\": np.arange(len(corr_mat['GPT_pred_test_cor'])),\n",
    "                          \"pearson_r\": corr_mat['GPT_pred_test_cor'][:, 1]})\n",
    "nf_corr_3 = pd.DataFrame({\"ID\": np.arange(len(corr_mat['GPT_pred_test_cor'])),\n",
    "                          \"pearson_r\": corr_mat['GPT_pred_test_cor'][:, 2]})\n",
    "\n",
    "real_corr_1 = pd.DataFrame({\"ID\": np.arange(len(corr_mat['data_train_test_cor'])),\n",
    "                            \"pearson_r\": corr_mat['data_train_test_cor'][:, 0]})\n",
    "real_corr_2 = pd.DataFrame({\"ID\": np.arange(len(corr_mat['data_train_test_cor'])),\n",
    "                            \"pearson_r\": corr_mat['data_train_test_cor'][:, 1]})\n",
    "real_corr_3 = pd.DataFrame({\"ID\": np.arange(len(corr_mat['data_train_test_cor'])),\n",
    "                            \"pearson_r\": corr_mat['data_train_test_cor'][:, 2]})\n",
    "\n",
    "correlations_by_interval_dict = {\n",
    "    1: {\"GLM\": glm_corr_1, \"Neuroformer\": nf_corr_1, \"Real\": real_corr_1},\n",
    "    2: {\"GLM\": glm_corr_2, \"Neuroformer\": nf_corr_2, \"Real\": real_corr_2},\n",
    "    3: {\"GLM\": glm_corr_3, \"Neuroformer\": nf_corr_3, \"Real\": real_corr_3},\n",
    "}\n",
    "\n",
    "add_p_values(correlations_by_interval_dict)"
   ]
  },
  {
   "cell_type": "code",
   "execution_count": 2,
   "metadata": {},
   "outputs": [
    {
     "name": "stdout",
     "output_type": "stream",
     "text": [
      "GLM\n",
      "Neuroformer\n",
      "Real\n",
      "GLM\n",
      "Neuroformer\n",
      "Real\n",
      "GLM\n",
      "Neuroformer\n",
      "Real\n"
     ]
    },
    {
     "data": {
      "image/png": "[encoded data removed]",
      "text/plain": [
       "<Figure size 720x360 with 1 Axes>"
      ]
     },
     "metadata": {
      "needs_background": "light"
     },
     "output_type": "display_data"
    }
   ],
   "source": [
    "from scipy.stats import ttest_ind, t\n",
    "\n",
    "# Extract average correlation, and standard deviations for each dataset within each interval\n",
    "data = {\n",
    "    'Interval': [],\n",
    "    'Dataset': [],\n",
    "    'Average Correlation': [],\n",
    "}\n",
    "\n",
    "colors = {\n",
    "    \"Real\": 'royalblue',\n",
    "    \"Neuroformer\": 'limegreen',  # Vibrant Green\n",
    "    \"GLM\": 'magenta',  # Magenta (Fuchsia-like)'\n",
    "}\n",
    "\n",
    "glm_neuro_ttest = []\n",
    "glm_neuro_pvalue = []\n",
    "glm_neuro_conf_int = []\n",
    "neuro_real_ttest = []\n",
    "neuro_real_pvalue = []\n",
    "neuro_real_conf_int = []\n",
    "standard_errors = {'GLM': [], 'Neuroformer': [], 'Real': []}\n",
    "\n",
    "\n",
    "for n_stim, (interval, correlation_data) in enumerate(correlations_by_interval_dict.items()):\n",
    "    for model_name, dataset_corr in correlation_data.items():\n",
    "        print(model_name)\n",
    "        data['Interval'].append(str(interval))\n",
    "        data['Dataset'].append(model_name)\n",
    "        avg_corr = round(dataset_corr['pearson_r'].mean(), 3)\n",
    "        avg_p = dataset_corr['pearson_p']\n",
    "        data['Average Correlation'].append(avg_corr)\n",
    "        # data['Average P-value'].append(avg_p)\n",
    "        corr_values = dataset_corr['pearson_r']\n",
    "        standard_error = corr_values.std() / np.sqrt(len(corr_values))\n",
    "        standard_errors[model_name].append(standard_error)\n",
    "        \n",
    "        if model_name == 'Neuroformer':\n",
    "            corr_neur = correlation_data['Neuroformer']['pearson_r']\n",
    "            corr_glm = correlation_data['GLM']['pearson_r']\n",
    "            t_stat, p_value = ttest_ind(corr_neur, corr_glm)\n",
    "            if round(p_value, 3) == 0.0:\n",
    "                p_value = 0.001\n",
    "            glm_neuro_ttest.append(t_stat)\n",
    "            glm_neuro_pvalue.append(p_value)\n",
    "\n",
    "            # Calculate confidence interval\n",
    "            confidence_level = 0.95\n",
    "            degrees_freedom = len(corr_values) - 1\n",
    "            conf_int = t.interval(confidence_level, degrees_freedom, avg_corr, standard_error)\n",
    "            glm_neuro_conf_int.append(conf_int)\n",
    "        \n",
    "        if model_name == 'Real':\n",
    "            corr_neur = correlation_data['Neuroformer']['pearson_r']\n",
    "            corr_real = correlation_data['Real']['pearson_r']\n",
    "            t_stat, p_value = ttest_ind(corr_real, corr_neur)\n",
    "            if round(p_value, 3) == 0.0:\n",
    "                p_value = 0.001\n",
    "            neuro_real_ttest.append(t_stat)\n",
    "            neuro_real_pvalue.append(p_value)\n",
    "\n",
    "            # Calculate confidence interval\n",
    "            confidence_level = 0.95\n",
    "            degrees_freedom = len(corr_values) - 1\n",
    "            conf_int = t.interval(confidence_level, degrees_freedom, avg_corr, standard_error)\n",
    "            neuro_real_conf_int.append(conf_int)\n",
    "\n",
    "\n",
    "\n",
    "df_bar = pd.DataFrame(data)\n",
    "unique_intervals = df_bar['Interval'].unique()\n",
    "\n",
    "\n",
    "plt.figure(figsize=(10, 5))\n",
    "\n",
    "# Define the order of the datasets\n",
    "order = ['GLM', 'Neuroformer', 'Real']\n",
    "\n",
    "# Number of bars per group\n",
    "num_bars = len(colors)\n",
    "offset = 0.4\n",
    "bar_width = 0.15\n",
    "group_separation = 0.15  # Space between the groups of bars\n",
    "bar_positions = np.arange(len(unique_intervals)) * (group_separation + num_bars * bar_width) + offset\n",
    "\n",
    "\n",
    "# Iterate over the intervals and datasets, plotting each bar\n",
    "for i, dataset in enumerate(order):\n",
    "    y_values = df_bar[df_bar['Dataset'] == dataset]['Average Correlation']\n",
    "    y_err_values = standard_errors[dataset] # Get the corresponding standard errors\n",
    "    bars = plt.bar(bar_positions + i * bar_width + offset, y_values, width=bar_width, color=colors[dataset], yerr=y_err_values, capsize=5) # Add yerr parameter\n",
    "    plt.xlim(0, max(bar_positions) + offset + bar_width * 4)\n",
    "\n",
    "plt.xticks(ticks=bar_positions + offset + bar_width * (num_bars - 1) / 2, labels=['Gratings', 'Movie 1', 'Movie 2'])\n",
    "plt.title(\"Average Cross-Trial Correlation by Stimulus\")\n",
    "plt.ylabel('Average Correlation', fontsize=12)\n",
    "plt.xlabel('Stimulus Interval', fontsize=12)\n",
    "plt.legend(title='Model', loc='lower left', labels=order)\n",
    "\n",
    "# Modify the text positioning to place the text between groups of three bars\n",
    "for i, interval in enumerate(unique_intervals):\n",
    "    y_pos = df_bar[df_bar['Interval'] == interval]['Average Correlation'].max() + 0.005\n",
    "    # plt.text(bar_positions[i] + bar_width * (num_bars / 2), y_pos, f't-test GLM-NF p < {glm_neuro_ttest[i]:.3f}', ha='center', bbox=dict(facecolor='white', edgecolor='none', pad=0))\n",
    "    # plt.text(bar_positions[i] + bar_width * (num_bars / 2), y_pos + 0.005, f't-test Real-NF p < {neuro_real_ttest[i]:.3f}', ha='center', bbox=dict(facecolor='white', edgecolor='none', pad=0))\n",
    "\n",
    "for dataset_index, dataset in enumerate(order):\n",
    "    y_values = df_bar[df_bar['Dataset'] == dataset]['Average Correlation']\n",
    "    y_err_values = standard_errors[dataset]  # Get the corresponding standard errors\n",
    "    for bar_index, value in enumerate(y_values):\n",
    "        x_position = bar_positions[bar_index] + dataset_index * bar_width + offset\n",
    "        y_position = value + y_err_values[bar_index] + 0.002  # Adjust this value if needed to position the text above the error bar\n",
    "        # plt.text(x_position, y_position, round(value, 2), ha='center', va='bottom', fontsize=9)\n",
    "\n",
    "save_path = \"./_rebuttal/V1_AL/corrs\"\n",
    "if not os.path.exists(save_path):\n",
    "    os.makedirs(save_path)\n",
    "plt.savefig(os.path.join(save_path, \"corrs_bar.pdf\"), dpi=300, bbox_inches='tight')"
   ]
  },
  {
   "cell_type": "code",
   "execution_count": 3,
   "metadata": {},
   "outputs": [
    {
     "name": "stderr",
     "output_type": "stream",
     "text": [
      "/tmp/ipykernel_2445900/2983069892.py:1: FutureWarning: Dropping of nuisance columns in DataFrame reductions (with 'numeric_only=None') is deprecated; in a future version this will raise TypeError.  Select only valid columns before calling the reduction.\n",
      "  df_bar[df_bar['Dataset'] == 'Real'].mean()\n"
     ]
    },
    {
     "data": {
      "text/plain": [
       "Interval               41.000000\n",
       "Average Correlation     0.425333\n",
       "dtype: float64"
      ]
     },
     "execution_count": 3,
     "metadata": {},
     "output_type": "execute_result"
    }
   ],
   "source": [
    "df_bar[df_bar['Dataset'] == 'Real'].mean()"
   ]
  },
  {
   "cell_type": "code",
   "execution_count": 4,
   "metadata": {},
   "outputs": [
    {
     "data": {
      "text/plain": [
       "0.015308380134061913"
      ]
     },
     "execution_count": 4,
     "metadata": {},
     "output_type": "execute_result"
    }
   ],
   "source": [
    "np.mean(standard_errors['Real'])"
   ]
  },
  {
   "cell_type": "code",
   "execution_count": null,
   "metadata": {},
   "outputs": [],
   "source": []
  }
 ],
 "metadata": {
  "kernelspec": {
   "display_name": "neuroformer",
   "language": "python",
   "name": "python3"
  },
  "language_info": {
   "codemirror_mode": {
    "name": "ipython",
    "version": 3
   },
   "file_extension": ".py",
   "mimetype": "text/x-python",
   "name": "python",
   "nbconvert_exporter": "python",
   "pygments_lexer": "ipython3",
   "version": "3.9.15"
  },
  "orig_nbformat": 4
 },
 "nbformat": 4,
 "nbformat_minor": 2
}
