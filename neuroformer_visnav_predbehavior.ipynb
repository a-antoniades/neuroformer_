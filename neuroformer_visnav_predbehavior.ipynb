{
 "cells": [
  {
   "cell_type": "code",
<<<<<<< HEAD
   "execution_count": 1,
=======
   "execution_count": 11,
>>>>>>> 0709bb7810ec93eb7560c1b57b13e6f0ab46e0af
   "metadata": {},
   "outputs": [
    {
     "name": "stdout",
     "output_type": "stream",
     "text": [
      "Running in Jupyter notebook\n",
      " // CONTRASTIVE: True //\n",
      " // VISUAL: True //\n",
      " // PAST_STATE: True //\n",
      " // PREDICT_BEHAVIOR: True //\n",
      " // BEHAVIOR: False //\n"
     ]
    },
    {
     "ename": "",
     "evalue": "",
     "output_type": "error",
     "traceback": [
      "\u001b[1;31mThe Kernel crashed while executing code in the the current cell or a previous cell. Please review the code in the cell(s) to identify a possible cause of the failure. Click <a href='https://aka.ms/vscodeJupyterKernelCrash'>here</a> for more info. View Jupyter <a href='command:jupyter.viewOutput'>log</a> for further details."
     ]
    }
   ],
   "source": [
    "import glob\n",
    "import os\n",
    "import collections\n",
    "import json\n",
    "from omegaconf import OmegaConf\n",
    "\n",
    "import pickle\n",
    "import sys\n",
    "import glob\n",
    "from pathlib import Path, PurePath\n",
    "path = Path.cwd()\n",
    "parent_path = path.parents[1]\n",
    "sys.path.append(str(PurePath(parent_path, 'neuroformer')))\n",
    "sys.path.append('neuroformer')\n",
    "sys.path.append('.')\n",
    "sys.path.append('../')\n",
    "\n",
    "import pandas as pd\n",
    "import numpy as np\n",
    "from einops import rearrange\n",
    "\n",
    "from tqdm import tqdm\n",
    "import numpy as np\n",
    "import torch\n",
    "import torch.nn as nn\n",
    "from torch.nn import functional as F\n",
    "import pandas as pd\n",
    "import matplotlib.pyplot as plt\n",
    "\n",
    "from torch.utils.data.dataloader import DataLoader\n",
    "\n",
    "import math\n",
    "from torch.utils.data import Dataset\n",
    "\n",
    "from neuroformer.model_neuroformer import GPT, GPTConfig, neuralGPTConfig\n",
    "from neuroformer.trainer import Trainer, TrainerConfig\n",
    "from neuroformer.utils import set_seed, update_object\n",
    "from neuroformer.visualize import set_plot_params\n",
    "from neuroformer.SpikeVidUtils import round_n, set_intervals\n",
    "set_plot_params()\n",
    "\n",
    "from scipy import io as scipyio\n",
    "from scipy.special import softmax\n",
    "import skimage\n",
    "import skvideo.io\n",
    "from scipy.ndimage import gaussian_filter, uniform_filter\n",
    "\n",
    "parent_path = os.path.dirname(os.path.dirname(os.getcwd())) + \"/\"\n",
    "import argparse\n",
    "\n",
    "def parse_args():\n",
    "    parser = argparse.ArgumentParser()\n",
    "    # parser.add_argument(\"--infer\", action=\"store_true\", help=\"Inference mode\")\n",
    "    parser.add_argument(\"--train\", action=\"store_true\", default=False, help=\"Train mode\")\n",
    "    parser.add_argument(\"--dataset\", type=str, default=\"first\", help=\"Dataset\")\n",
    "    parser.add_argument(\"--dist\", action=\"store_true\", default=False, help=\"Distrinuted training\")\n",
    "    parser.add_argument(\"--resume\", type=str, default=None, help=\"Resume from checkpoint\")\n",
    "    parser.add_argument(\"--rand_perm\", action=\"store_true\", default=False, help=\"Randomly permute the ID column\")\n",
    "    parser.add_argument(\"--mconf\", type=str, default=None, help=\"Path to model config file\")\n",
    "    parser.add_argument(\"--downstream\", action=\"store_true\", default=False, help=\"Downstream task\")\n",
    "    parser.add_argument(\"--freeze_model\", action=\"store_true\", default=False, help=\"Freeze model\")\n",
    "    parser.add_argument(\"--title\", type=str, default=None)\n",
    "    parser.add_argument(\"--seed\", type=int, default=25)\n",
    "    parser.add_argument(\"--behavior\", action=\"store_true\", default=False, help=\"Behavior task\")\n",
    "    parser.add_argument(\"--predict_behavior\", action=\"store_true\", default=False, help=\"Predict behavior\")\n",
    "    # parser.add_argument(\"--behavior_vars\", type=str, default=None, help=\"Behavior variables\")\n",
    "    parser.add_argument(\"--behavior_vars\", nargs='+', default=None, help=\"Behavior variables\")\n",
    "    parser.add_argument(\"--past_state\", action=\"store_true\", default=False, help=\"Input past state\")\n",
    "    parser.add_argument(\"--visual\", action=\"store_true\", default=False, help=\"Visualize\")\n",
    "    parser.add_argument(\"--contrastive\", action=\"store_true\", default=False, help=\"Contrastive\")\n",
    "    parser.add_argument(\"--local_rank\", type=int, default=0)\n",
    "    return parser.parse_args()\n",
    "\n",
    "# if __name__ == \"__main__\":\n",
    "#     args = parse_args()\n",
    "#     INFERENCE = not args.train\n",
    "# else:\n",
    "#     INFERENCE = True\n",
    "\n",
    "# check if jupyter notebook\n",
    "try:\n",
    "    shell = get_ipython().__class__.__name__\n",
    "    print(\"Running in Jupyter notebook\")\n",
    "    INFERENCE = True\n",
    "    DATASET = \"medial\"\n",
    "    DIST = False\n",
    "    DOWNSTREAM = False\n",
    "    RESUME = \"./models/visnav/behavior_pred_exp/classification/window:0.05_prev:0.25/sparse_f:None_id:None/w:0.05_wp:0.25/6_Cont:False_window:0.05_f_window:0.2_df:0.005_blocksize:100_conv_True_shuffle:True_batch:224_sparse_(None_None)_blocksz446_pos_emb:False_temp_emb:True_drop:0.35_dt:True_2.0_52_max0.005_(8, 8, 8)_8_256.pt\"\n",
    "    RAND_PERM = False\n",
    "    # MCONF = \"./models/tensorboard/visnav/behavior_pred_exp/classification/window:0.05_prev:0.25/sparse_f:None_id:None/w:0.05_wp:0.25/mconf.yaml\"\n",
<<<<<<< HEAD
    "    MCONF = \"./configs/visnav/predict_behavior/behavior_exp/medial/mconf.yaml\"\n",
=======
    "    MCONF = \"./configs/visnav/lateral_phi_th/mconf.yaml\"\n",
>>>>>>> 0709bb7810ec93eb7560c1b57b13e6f0ab46e0af
    "    FREEZE_MODEL = False\n",
    "    TITLE = None\n",
    "    SEED = 25\n",
    "    BEHAVIOR = False\n",
    "    PREDICT_BEHAVIOR = True\n",
    "    BEHAVIOR_VARS = ['speed']\n",
    "    PAST_STATE = True\n",
    "    VISUAL = True\n",
    "    CONTRASTIVE = True\n",
    "except:\n",
    "    print(\"Running in terminal\")\n",
    "    args = parse_args()\n",
    "    INFERENCE = not args.train\n",
    "    DATASET = args.dataset\n",
    "    DIST = args.dist\n",
    "    DOWNSTREAM = args.downstream\n",
    "    RESUME = args.resume\n",
    "    RAND_PERM = args.rand_perm\n",
    "    MCONF = args.mconf\n",
    "    FREEZE_MODEL = args.freeze_model\n",
    "    TITLE = args.title\n",
    "    SEED = args.seed\n",
    "    BEHAVIOR = args.behavior\n",
    "    PREDICT_BEHAVIOR = args.predict_behavior\n",
    "    BEHAVIOR_VARS = args.behavior_vars\n",
    "    PAST_STATE = args.past_state\n",
    "    VISUAL = args.visual\n",
    "    CONTRASTIVE = args.contrastive\n",
    "\n",
    "set_seed(25)\n",
    "\n",
    "print(f\" // CONTRASTIVE: {CONTRASTIVE} //\")\n",
    "print(f\" // VISUAL: {VISUAL} //\")\n",
    "print(f\" // PAST_STATE: {PAST_STATE} //\")\n",
    "print(f\" // PREDICT_BEHAVIOR: {PREDICT_BEHAVIOR} //\")\n",
    "print(f\" // BEHAVIOR: {BEHAVIOR} //\")\n",
    "# set up logging\n",
    "import logging\n",
    "logging.basicConfig(\n",
    "        format=\"%(asctime)s - %(levelname)s - %(name)s -   %(message)s\",\n",
    "        datefmt=\"%m/%d/%Y %H:%M:%S\",\n",
    "        level=logging.INFO,\n",
    ")\n",
    "\n",
    "os.environ[\"CUDA_VISIBLE_DEVICES\"] = \"3\""
   ]
  },
  {
   "cell_type": "code",
<<<<<<< HEAD
   "execution_count": 2,
=======
   "execution_count": 7,
>>>>>>> 0709bb7810ec93eb7560c1b57b13e6f0ab46e0af
   "metadata": {},
   "outputs": [],
   "source": [
    "from neuroformer.prepare_data import DataLinks\n",
    "\n",
    "ds = \"LateralVRDataset\"\n",
    "ds = \"MedialVRDataset\"\n",
    "ds = \"VisNav_VR_Expt\"\n",
    "data_dir = f\"data/VisNav_VR_Expt/\"\n",
    "DATA_POINTERS = getattr(DataLinks, ds)\n",
    "\n",
    "if not os.path.exists(data_dir):\n",
    "    print(\"Downloading data...\")\n",
    "    import gdown\n",
    "    url = DATA_POINTERS['url']\n",
    "    gdown.download_folder(id=url, quiet=False, use_cookies=False, output=DATA_POINTERS['DIRECTORY'])\n",
    "\n"
   ]
  },
  {
   "cell_type": "code",
<<<<<<< HEAD
   "execution_count": 3,
=======
   "execution_count": 8,
>>>>>>> 0709bb7810ec93eb7560c1b57b13e6f0ab46e0af
   "metadata": {},
   "outputs": [
    {
     "ename": "FileNotFoundError",
     "evalue": "[Errno 2] No such file or directory: './models/visnav/behavior_pred_exp/classification/window:0.05_prev:0.25/sparse_f:None_id:None/w:0.05_wp:0.25/mconf.yaml'",
     "output_type": "error",
     "traceback": [
      "\u001b[0;31m---------------------------------------------------------------------------\u001b[0m",
      "\u001b[0;31mFileNotFoundError\u001b[0m                         Traceback (most recent call last)",
      "\u001b[0;32m/tmp/ipykernel_2149932/1256930110.py\u001b[0m in \u001b[0;36m<module>\u001b[0;34m\u001b[0m\n\u001b[1;32m      5\u001b[0m \u001b[0mbase_path\u001b[0m \u001b[0;34m=\u001b[0m \u001b[0;34m\"./models/tensorboard/visnav_medial\"\u001b[0m \u001b[0;32mif\u001b[0m \u001b[0mMCONF\u001b[0m \u001b[0;32mis\u001b[0m \u001b[0;32mNone\u001b[0m \u001b[0;32melse\u001b[0m \u001b[0mos\u001b[0m\u001b[0;34m.\u001b[0m\u001b[0mpath\u001b[0m\u001b[0;34m.\u001b[0m\u001b[0mdirname\u001b[0m\u001b[0;34m(\u001b[0m\u001b[0mMCONF\u001b[0m\u001b[0;34m)\u001b[0m\u001b[0;34m\u001b[0m\u001b[0;34m\u001b[0m\u001b[0m\n\u001b[1;32m      6\u001b[0m \u001b[0;34m\u001b[0m\u001b[0m\n\u001b[0;32m----> 7\u001b[0;31m \u001b[0;32mwith\u001b[0m \u001b[0mopen\u001b[0m\u001b[0;34m(\u001b[0m\u001b[0mos\u001b[0m\u001b[0;34m.\u001b[0m\u001b[0mpath\u001b[0m\u001b[0;34m.\u001b[0m\u001b[0mjoin\u001b[0m\u001b[0;34m(\u001b[0m\u001b[0mbase_path\u001b[0m\u001b[0;34m,\u001b[0m \u001b[0;34m'mconf.yaml'\u001b[0m\u001b[0;34m)\u001b[0m\u001b[0;34m,\u001b[0m \u001b[0;34m'r'\u001b[0m\u001b[0;34m)\u001b[0m \u001b[0;32mas\u001b[0m \u001b[0mstream\u001b[0m\u001b[0;34m:\u001b[0m\u001b[0;34m\u001b[0m\u001b[0;34m\u001b[0m\u001b[0m\n\u001b[0m\u001b[1;32m      8\u001b[0m     \u001b[0mmconf\u001b[0m \u001b[0;34m=\u001b[0m \u001b[0myaml\u001b[0m\u001b[0;34m.\u001b[0m\u001b[0mfull_load\u001b[0m\u001b[0;34m(\u001b[0m\u001b[0mstream\u001b[0m\u001b[0;34m)\u001b[0m\u001b[0;34m\u001b[0m\u001b[0;34m\u001b[0m\u001b[0m\n\u001b[1;32m      9\u001b[0m \u001b[0;34m\u001b[0m\u001b[0m\n",
      "\u001b[0;31mFileNotFoundError\u001b[0m: [Errno 2] No such file or directory: './models/visnav/behavior_pred_exp/classification/window:0.05_prev:0.25/sparse_f:None_id:None/w:0.05_wp:0.25/mconf.yaml'"
     ]
    }
   ],
   "source": [
    "# load config files\n",
    "import yaml\n",
    "\n",
    "# base_path = \"configs/visnav/predict_behavior\"\n",
    "base_path = \"./models/tensorboard/visnav_medial\" if MCONF is None else os.path.dirname(MCONF)\n",
    "\n",
    "with open(os.path.join(base_path, 'mconf.yaml'), 'r') as stream:\n",
    "    mconf = yaml.full_load(stream)\n",
    "\n",
    "with open(os.path.join(base_path, 'tconf.yaml'), 'r') as stream:\n",
    "    tconf = yaml.full_load(stream)\n",
    "\n",
    "with open(os.path.join(base_path, 'dconf.yaml'), 'r') as stream:\n",
    "    dconf = yaml.full_load(stream)\n",
    "\n",
    "# open yaml as omegacong\n",
    "mconf = OmegaConf.create(mconf)\n",
    "tconf = OmegaConf.create(tconf)\n",
    "dconf = OmegaConf.create(dconf)\n",
    "\n"
   ]
  },
  {
   "cell_type": "code",
<<<<<<< HEAD
   "execution_count": 4,
=======
   "execution_count": 10,
>>>>>>> 0709bb7810ec93eb7560c1b57b13e6f0ab46e0af
   "metadata": {},
   "outputs": [
    {
     "name": "stdout",
     "output_type": "stream",
     "text": [
      "Loading data from ./data/VisNav_VR_Expt/MedialVRDataset/\n"
     ]
    }
   ],
   "source": [
    "import mat73\n",
    "\n",
    "# data_path = DATA_POINTERS['RESPONSE_PATH']\n",
    "if DATASET in [\"first\", \"visnav\"]:\n",
    "    data_path = \"./data/VisNav_VR_Expt\"\n",
    "elif DATASET == \"medial\":\n",
    "    data_path = \"./data/VisNav_VR_Expt/MedialVRDataset/\"\n",
    "elif DATASET == \"lateral\":\n",
    "    data_path = \"./data/VisNav_VR_Expt/LateralVRDataset\"\n",
    "\n",
    "print(f\"Loading data from {data_path}\")\n",
    "# stimulus = np.load(os.path.join(data_path, \"stimulus.npy\"), allow_pickle=True)\n",
    "# response = np.load(os.path.join(data_path, \"response.npy\"), allow_pickle=True)\n",
    "# trial_data = np.load(os.path.join(data_path, \"trial_data.npy\"), allow_pickle=True)\n",
    "data = mat73.loadmat(os.path.join(data_path, \"experiment_data.mat\"))['neuroformer']\n",
    "\n",
    "# data_response_path = \"/data5/antonis/neuroformer/data/VisNav_VR_Expt/yiyi/experiment_data_selected.mat\"\n",
    "# data_response = scipy.io.loadmat(data_response_path)\n",
    "# neurons_sel1 = \"./data/VisNav_VR_Expt/yiyi/sel1.csv\"\n",
    "# neurons_sel1 = pd.read_csv(neurons_sel1)\n",
    "# neurons_sel1 = np.array(neurons_sel1).flatten()\n"
   ]
  },
  {
   "cell_type": "code",
   "execution_count": 5,
   "metadata": {},
   "outputs": [],
   "source": [
    "if INFERENCE:\n",
    "    window = mconf.window\n",
    "    window_prev = mconf.window_prev\n",
    "    frame_window = mconf.frame_window\n",
    "    window_behavior = mconf.window_behavior if hasattr(mconf, 'window_behavior') else None\n",
    "    dt = mconf.dt\n",
    "    dt_frames = mconf.dt_frames if hasattr(mconf, 'dt_frames') else 0.05\n",
    "    dt_vars = mconf.dt_vars if hasattr(mconf, 'dt_vars') else 0.05\n",
    "    dt_speed = mconf.dt_speed if hasattr(mconf, 'dt_speed') else 0.2\n",
    "    intervals = None\n",
    "else:\n",
    "    window = 0.05\n",
    "    window_prev = 0.25\n",
    "    frame_window = window + window_prev\n",
    "    window_behavior = window\n",
    "    dt = 0.005\n",
    "    dt_frames = 0.05\n",
    "    dt_vars = 0.05\n",
    "    dt_speed = 0.2\n",
    "    intervals = None\n"
   ]
  },
  {
   "cell_type": "code",
   "execution_count": 6,
   "metadata": {},
   "outputs": [
    {
     "name": "stdout",
     "output_type": "stream",
     "text": [
      " // using behavior vars: ['speed'] //\n"
     ]
    }
   ],
   "source": [
    "## choose modalities ##\n",
    "\n",
    "# behavior\n",
    "behavior = BEHAVIOR\n",
    "# behavior_vars = ['t', 'eyerad', 'phi', 'speed', 'th']\n",
    "behavior_vars = ['speed'] if BEHAVIOR_VARS is None else BEHAVIOR_VARS\n",
    "n_behavior = len(behavior_vars)\n",
    "predict_behavior = PREDICT_BEHAVIOR\n",
    "# stimulus\n",
    "visual_stim = VISUAL\n",
    "\n",
    "print(f\" // using behavior vars: {BEHAVIOR_VARS} //\")\n",
    "\n"
   ]
  },
  {
   "cell_type": "code",
   "execution_count": 7,
   "metadata": {},
   "outputs": [
    {
     "name": "stdout",
     "output_type": "stream",
     "text": [
      "dict_keys(['eyerad', 'phi', 'speed', 'spiketimes', 't', 'th', 'trialsummary', 'vid_sm'])\n"
     ]
    }
   ],
   "source": [
    "from neuroformer.SpikeVidUtils import trial_df, get_df_visnav, make_intervals, set_trials\n",
    "\n",
    "stimulus = data['vid_sm']\n",
    "response = data['spiketimes']['spks']\n",
    "trial_data = data['trialsummary']\n",
    "# response = data_response['spiketime_sel2']['spks']\n",
    "\n",
    "print(data.keys())\n",
    "\n",
    "df = get_df_visnav(response, trial_data, dt_vars)\n",
    "# df = df[df['ID'].isin(neurons_sel1)].reset_index(drop=True)\n",
    "\n",
    "if behavior or predict_behavior is True:\n",
    "    df_behavior = pd.DataFrame({k: data[k] for k in behavior_vars + ['t']})\n",
    "    # rename t to time\n",
    "    df_behavior = df_behavior.rename(columns={'t': 'Time'}) if df_behavior is not None else None\n",
    "    df_behavior = set_trials(df_behavior, trial_data) \n",
    "    df_behavior['Interval'] = make_intervals(df_behavior, window)\n",
    "    df_behavior['Interval_2'] = make_intervals(df_behavior, window_prev)\n",
    "\n",
    "    # prepare speed variables\n",
    "    if 'speed' in df_behavior.columns:\n",
    "        df_behavior['speed'] = df_behavior['speed'].apply(lambda x: round_n(x, dt_speed))\n",
    "        dt_range_speed = df_behavior['speed'].min(), df_behavior['speed'].max()\n",
    "        dt_range_speed = np.arange(dt_range_speed[0], dt_range_speed[1] + dt_speed, dt_speed)\n",
    "        n_behavior = len(dt_range_speed)\n",
    "        stoi_speed = { round_n(ch, dt_speed):i for i,ch in enumerate(dt_range_speed) }\n",
    "        itos_speed = { i:round_n(ch, dt_speed) for i,ch in enumerate(dt_range_speed) }\n",
    "    else:\n",
    "        n_behavior = None\n",
    "        stoi_speed = None\n",
    "        itos_speed = None\n",
    "        assert predict_behavior is False\n",
    "\n",
    "    # assert (window_behavior) % dt_vars < 1e-5, \"window + window_prev must be divisible by dt_vars\"\n",
    "    samples_per_behavior = int((window + window_prev) // dt_vars)\n",
    "    behavior_block_size = int((window + window_prev) // dt_vars) * (len(df_behavior.columns) - 1)\n",
    "else:\n",
    "    behavior = False \n",
    "    df_behavior = None\n",
    "    behavior_vars = None\n",
    "    behavior_block_size = 0\n",
    "    samples_per_behavior = 0\n",
    "    stoi_speed = None\n",
    "    itos_speed = None\n",
    "    dt_range_speed = None\n",
    "    n_behavior = None\n"
   ]
  },
  {
   "cell_type": "code",
   "execution_count": 8,
   "metadata": {},
   "outputs": [],
   "source": [
    "from neuroformer.SpikeVidUtils import make_intervals\n",
    "\n",
    "df['Interval'] = make_intervals(df, window)\n",
    "df['real_interval'] = make_intervals(df, 0.05)\n",
    "df['Interval_2'] = make_intervals(df, window_prev)\n",
    "df = df.reset_index(drop=True)\n",
    "\n",
    "max_window = max(window, window_prev)\n",
    "dt_range = math.ceil(max_window / dt) + 1  # add first / last interval for SOS / EOS'\n",
    "n_dt = [round(dt * n, 2) for n in range(dt_range)] + ['EOS'] + ['PAD']\n"
   ]
  },
  {
   "cell_type": "code",
   "execution_count": 9,
   "metadata": {},
   "outputs": [
    {
     "name": "stdout",
     "output_type": "stream",
     "text": [
      "Unique groups: 32679\n",
      "Top 0.05 groups: Interval  Trial\n",
      "1.95      271      124\n",
      "4.80      297      124\n",
      "2.45      295      122\n",
      "3.25      285      121\n",
      "1.40      287      116\n",
      "                  ... \n",
      "2.90      269       32\n",
      "2.95      158       32\n",
      "          259       32\n",
      "          269       32\n",
      "3.00      232       32\n",
      "Length: 1633, dtype: int64\n",
      "Mean groups: 15.3122800575293\n"
     ]
    }
   ],
   "source": [
    "var_group = 'Interval'\n",
    "groups = df.groupby([var_group, 'Trial']).size()\n",
    "n_unique = len(groups)\n",
    "top_p = 0.05\n",
    "top_k_groups = groups.nlargest(int(top_p * n_unique))\n",
    "mean_groups = groups.mean()\n",
    "\n",
    "print(f\"Unique groups: {n_unique}\")\n",
    "print(f\"Top {top_p} groups: {top_k_groups}\")\n",
    "print(f\"Mean groups: {mean_groups}\")\n"
   ]
  },
  {
   "cell_type": "code",
   "execution_count": 10,
   "metadata": {},
   "outputs": [
    {
     "name": "stdout",
     "output_type": "stream",
     "text": [
      "Unique groups: 6649\n",
      "Top 0.2 groups: Interval_2  Trial\n",
      "5.00        150      383\n",
      "1.50        81       344\n",
      "14.00       296      336\n",
      "13.75       296      335\n",
      "5.00        297      328\n",
      "                    ... \n",
      "3.25        237       98\n",
      "3.50        84        98\n",
      "            199       98\n",
      "3.75        143       98\n",
      "            146       98\n",
      "Length: 1329, dtype: int64\n",
      "Mean groups: 75.25793352383818\n"
     ]
    }
   ],
   "source": [
    "var_group = 'Interval_2'\n",
    "groups = df.groupby([var_group, 'Trial']).size()\n",
    "n_unique = len(groups)\n",
    "top_p = 0.2\n",
    "top_k_groups = groups.nlargest(int(top_p * n_unique))\n",
    "mean_groups = groups.mean()\n",
    "\n",
    "print(f\"Unique groups: {n_unique}\")\n",
    "print(f\"Top {top_p} groups: {top_k_groups}\")\n",
    "print(f\"Mean groups: {mean_groups}\")\n"
   ]
  },
  {
   "cell_type": "code",
   "execution_count": 11,
   "metadata": {},
   "outputs": [],
   "source": [
    "from neuroformer.SpikeVidUtils import SpikeTimeVidData2\n",
    "\n",
    "## resnet3d feats\n",
    "n_frames = round(frame_window * 1/dt_frames)\n",
    "kernel_size = (n_frames, 5, 5)\n",
    "n_embd = 256\n",
    "n_embd_frames = 64\n",
    "frame_feats = stimulus\n",
    "frame_block_size = ((n_frames // kernel_size[0] * 30 * 100) // (n_embd_frames))\n",
    "frame_feats = torch.tensor(stimulus, dtype=torch.float32)\n",
    "conv_layer = True\n",
    "\n",
    "prev_id_block_size = 300\n",
    "id_block_size = 100   #\n",
    "block_size = frame_block_size + id_block_size + prev_id_block_size\n",
    "frame_memory = frame_window // dt_frames\n",
    "window = window\n",
    "\n",
    "neurons = sorted(list(set(df['ID'])))\n",
    "id_stoi = { ch:i for i,ch in enumerate(neurons) }\n",
    "id_itos = { i:ch for i,ch in enumerate(neurons) }\n",
    "\n",
    "neurons = sorted(list(set(df['ID'].unique())))\n",
    "trial_tokens = [f\"Trial {n}\" for n in df['Trial'].unique()]\n",
    "feat_encodings = neurons + ['SOS'] + ['EOS'] + ['PAD']  # + pixels \n",
    "stoi = { ch:i for i,ch in enumerate(feat_encodings) }\n",
    "itos = { i:ch for i,ch in enumerate(feat_encodings) }\n",
    "stoi_dt = { ch:i for i,ch in enumerate(n_dt) }\n",
    "itos_dt = { i:ch for i,ch in enumerate(n_dt) }\n",
    "\n",
    "\n",
    "\n"
   ]
  },
  {
   "cell_type": "code",
   "execution_count": 12,
   "metadata": {},
   "outputs": [],
   "source": [
    "import random\n",
    "\n",
    "r_split = 0.8\n",
    "all_trials = sorted(df['Trial'].unique())\n",
    "train_trials = random.sample(all_trials, int(len(all_trials) * r_split))\n",
    "\n",
    "train_data = df[df['Trial'].isin(train_trials)]\n",
    "test_data = df[~df['Trial'].isin(train_trials)]\n",
    "\n"
   ]
  },
  {
   "cell_type": "code",
   "execution_count": 34,
   "metadata": {},
   "outputs": [
    {
     "name": "stdout",
     "output_type": "stream",
     "text": [
      "Population Size:  1908\n",
      "ID Population Size:  1908\n",
      "DT Population Size:  28\n",
      "train: 24717, test: 24717\n"
     ]
    }
   ],
   "source": [
    "from neuroformer.SpikeVidUtils import SpikeTimeVidData2\n",
    "\n",
    "\n",
    "train_dataset = SpikeTimeVidData2(train_data, None, block_size, id_block_size, frame_block_size, prev_id_block_size, \n",
    "                                  window, dt, frame_memory, stoi, itos, neurons, stoi_dt, itos_dt, frame_feats,\n",
    "                                  pred=False, window_prev=window_prev, frame_window=frame_window,\n",
    "                                  dt_frames=dt_frames, intervals=None, dataset='visnav',\n",
    "                                  behavior=df_behavior, behavior_vars=behavior_vars, dt_vars=dt_vars,\n",
    "                                  behavior_block_size=behavior_block_size, samples_per_behavior=samples_per_behavior,\n",
    "                                  window_behavior=window_behavior, predict_behavior=predict_behavior,\n",
    "                                  stoi_speed=stoi_speed, itos_speed=itos_speed, dt_speed=dt_speed)\n",
    "\n",
    "# update_object(train_dataset, dconf)\n",
    "train_dataset = train_dataset.copy(train_data)\n",
    "test_dataset = train_dataset.copy(train_data)\n",
    "\n",
    "# test_dataset = SpikeTimeVidData2(test_data, None, block_size, id_block_size, frame_block_size, prev_id_block_size, \n",
    "#                                   window, dt, frame_memory, stoi, itos, neurons, stoi_dt, itos_dt, frame_feats,\n",
    "#                                   pred=False, window_prev=window_prev, frame_window=frame_window,\n",
    "#                                   dt_frames=dt_frames, intervals=None, dataset='visnav',\n",
    "#                                   behavior=df_behavior, behavior_vars=behavior_vars, dt_vars=dt_vars,\n",
    "#                                   behavior_block_size=behavior_block_size, samples_per_behavior=samples_per_behavior,\n",
    "#                                   window_behavior=window_behavior, predict_behavior=predict_behavior,\n",
    "#                                   stoi_speed=stoi_speed, itos_speed=itos_speed, dt_speed=dt_speed)\n",
    "# update_object(test_dataset, dconf)\n",
    "# test_dataset = test_dataset.copy(test_data)\n",
    "\n",
    "print(f'train: {len(train_dataset)}, test: {len(test_dataset)}')\n",
    "\n"
   ]
  },
  {
   "cell_type": "code",
   "execution_count": 35,
   "metadata": {},
   "outputs": [
    {
     "data": {
      "text/plain": [
       "True"
      ]
     },
     "execution_count": 35,
     "metadata": {},
     "output_type": "execute_result"
    }
   ],
   "source": [
    "train_dataset.predict_behavior"
   ]
  },
  {
   "cell_type": "code",
   "execution_count": 36,
   "metadata": {},
   "outputs": [],
   "source": [
    "loader = DataLoader(train_dataset, batch_size=2, shuffle=True, num_workers=4, pin_memory=True)\n",
    "iterable = iter(loader)"
   ]
  },
  {
   "cell_type": "code",
   "execution_count": 37,
   "metadata": {},
   "outputs": [
    {
     "name": "stdout",
     "output_type": "stream",
     "text": [
      "id_prev torch.Size([2, 300])\n",
      "dt_prev torch.Size([2, 300])\n",
      "pad_prev torch.Size([2])\n",
      "id torch.Size([2, 100])\n",
      "dt torch.Size([2, 100])\n",
      "pad torch.Size([2])\n",
      "interval torch.Size([2])\n",
      "trial torch.Size([2])\n",
      "frames torch.Size([2, 1, 4, 30, 100])\n",
      "cid torch.Size([2, 2])\n",
      "pid torch.Size([2, 2])\n",
      "f_idx torch.Size([2, 2])\n",
      "y: id, torch.Size([2, 100])\n",
      "y: dt, torch.Size([2, 100])\n",
      "y: behavior, torch.Size([2, 1])\n",
      "y: behavior_dt, torch.Size([2])\n"
     ]
    }
   ],
   "source": [
    "x, y = next(iterable)\n",
    "# print(x['behavior'].shape, x['behavior_dt'].shape)\n",
    "for k in x.keys():\n",
    "    print(k, x[k].shape)\n",
    "for k in y.keys():\n",
    "    print(f\"y: {k}, {y[k].shape}\")\n"
   ]
  },
  {
   "cell_type": "code",
   "execution_count": 38,
   "metadata": {},
   "outputs": [
    {
     "name": "stdout",
     "output_type": "stream",
     "text": [
      "256 53\n"
     ]
    },
    {
     "name": "stderr",
     "output_type": "stream",
     "text": [
      "05/04/2023 17:41:21 - INFO - neuroformer.model_neuroformer -   number of parameters: 3.895680e+07\n"
     ]
    },
    {
     "name": "stdout",
     "output_type": "stream",
     "text": [
      "// -- Resuming model -- //\n"
     ]
    },
    {
     "ename": "RuntimeError",
     "evalue": "Error(s) in loading state_dict for GPT:\n\tsize mismatch for tok_emb.weight: copying a param with shape torch.Size([2204, 256]) from checkpoint, the shape in current model is torch.Size([1908, 256]).\n\tsize mismatch for head_id.weight: copying a param with shape torch.Size([2204, 256]) from checkpoint, the shape in current model is torch.Size([1908, 256]).",
     "output_type": "error",
     "traceback": [
      "\u001b[0;31m---------------------------------------------------------------------------\u001b[0m",
      "\u001b[0;31mRuntimeError\u001b[0m                              Traceback (most recent call last)",
      "\u001b[0;32m/tmp/ipykernel_1173381/113370576.py\u001b[0m in \u001b[0;36m<module>\u001b[0;34m\u001b[0m\n\u001b[1;32m     65\u001b[0m \u001b[0;32mif\u001b[0m \u001b[0mRESUME\u001b[0m\u001b[0;34m:\u001b[0m\u001b[0;34m\u001b[0m\u001b[0;34m\u001b[0m\u001b[0m\n\u001b[1;32m     66\u001b[0m     \u001b[0mprint\u001b[0m\u001b[0;34m(\u001b[0m\u001b[0;34mf\"// -- Resuming model -- //\"\u001b[0m\u001b[0;34m)\u001b[0m\u001b[0;34m\u001b[0m\u001b[0;34m\u001b[0m\u001b[0m\n\u001b[0;32m---> 67\u001b[0;31m     \u001b[0mmodel\u001b[0m\u001b[0;34m.\u001b[0m\u001b[0mload_state_dict\u001b[0m\u001b[0;34m(\u001b[0m\u001b[0mtorch\u001b[0m\u001b[0;34m.\u001b[0m\u001b[0mload\u001b[0m\u001b[0;34m(\u001b[0m\u001b[0mRESUME\u001b[0m\u001b[0;34m)\u001b[0m\u001b[0;34m,\u001b[0m \u001b[0mstrict\u001b[0m\u001b[0;34m=\u001b[0m\u001b[0;32mTrue\u001b[0m\u001b[0;34m)\u001b[0m\u001b[0;34m\u001b[0m\u001b[0;34m\u001b[0m\u001b[0m\n\u001b[0m\u001b[1;32m     68\u001b[0m \u001b[0;34m\u001b[0m\u001b[0m\n\u001b[1;32m     69\u001b[0m \u001b[0mtitle\u001b[0m \u001b[0;34m=\u001b[0m  \u001b[0;34mf'second/RESUME{RESUME != None}_paststate{PAST_STATE}_method_behavior_{behavior}_{behavior_vars}_predictbehavior{PREDICT_BEHAVIOR}_visual{VISUAL}_contrastive{model_conf.contrastive}_{model_conf.contrastive_vars}'\u001b[0m\u001b[0;34m\u001b[0m\u001b[0;34m\u001b[0m\u001b[0m\n",
      "\u001b[0;32m~/.conda/envs/neuroformer/lib/python3.9/site-packages/torch/nn/modules/module.py\u001b[0m in \u001b[0;36mload_state_dict\u001b[0;34m(self, state_dict, strict)\u001b[0m\n\u001b[1;32m   1665\u001b[0m \u001b[0;34m\u001b[0m\u001b[0m\n\u001b[1;32m   1666\u001b[0m         \u001b[0;32mif\u001b[0m \u001b[0mlen\u001b[0m\u001b[0;34m(\u001b[0m\u001b[0merror_msgs\u001b[0m\u001b[0;34m)\u001b[0m \u001b[0;34m>\u001b[0m \u001b[0;36m0\u001b[0m\u001b[0;34m:\u001b[0m\u001b[0;34m\u001b[0m\u001b[0;34m\u001b[0m\u001b[0m\n\u001b[0;32m-> 1667\u001b[0;31m             raise RuntimeError('Error(s) in loading state_dict for {}:\\n\\t{}'.format(\n\u001b[0m\u001b[1;32m   1668\u001b[0m                                self.__class__.__name__, \"\\n\\t\".join(error_msgs)))\n\u001b[1;32m   1669\u001b[0m         \u001b[0;32mreturn\u001b[0m \u001b[0m_IncompatibleKeys\u001b[0m\u001b[0;34m(\u001b[0m\u001b[0mmissing_keys\u001b[0m\u001b[0;34m,\u001b[0m \u001b[0munexpected_keys\u001b[0m\u001b[0;34m)\u001b[0m\u001b[0;34m\u001b[0m\u001b[0;34m\u001b[0m\u001b[0m\n",
      "\u001b[0;31mRuntimeError\u001b[0m: Error(s) in loading state_dict for GPT:\n\tsize mismatch for tok_emb.weight: copying a param with shape torch.Size([2204, 256]) from checkpoint, the shape in current model is torch.Size([1908, 256]).\n\tsize mismatch for head_id.weight: copying a param with shape torch.Size([2204, 256]) from checkpoint, the shape in current model is torch.Size([1908, 256])."
     ]
    }
   ],
   "source": [
    "layers = (mconf.n_state_layers, mconf.n_state_history_layers, mconf.n_stimulus_layers)   \n",
    "max_epochs = 2500\n",
    "batch_size = round((32 * 7))\n",
    "shuffle = True\n",
    "\n",
    "model_conf = GPTConfig(train_dataset.population_size, block_size,    # frame_block_size\n",
    "                        id_vocab_size=train_dataset.id_population_size,\n",
    "                        frame_block_size=frame_block_size,\n",
    "                        id_block_size=id_block_size,  # frame_block_size\n",
    "                        prev_id_block_size=prev_id_block_size,\n",
    "                        behavior_block_size=behavior_block_size,\n",
    "                        sparse_mask=False, p_sparse=None, \n",
    "                        sparse_topk_frame=None, sparse_topk_id=None, sparse_topk_prev_id=None,\n",
    "                        n_dt=len(n_dt),\n",
    "                        class_weights=None,\n",
    "                        pretrain=False,\n",
    "                        n_state_layers=mconf.n_state_layers, n_state_history_layers=mconf.n_state_history_layers,\n",
    "                        n_stimulus_layers=mconf.n_stimulus_layers, self_att_layers=mconf.self_att_layers,\n",
    "                        n_behavior_layers=mconf.n_behavior_layers, predict_behavior=predict_behavior, n_behavior=n_behavior,\n",
    "                        n_head=mconf.n_head, n_embd=mconf.n_embd, \n",
    "                        contrastive=mconf.contrastive, clip_emb=mconf.clip_emb, clip_temp=mconf.clip_temp, clip_loss=False,\n",
    "                        conv_layer=conv_layer, kernel_size=kernel_size,\n",
    "                        temp_emb=mconf.temp_emb, pos_emb=False, wave_emb=True,\n",
    "                        id_drop=0.35, im_drop=0.35, b_drop=0.45,\n",
    "                        window=window, window_prev=window_prev, frame_window=frame_window, dt=dt,\n",
    "                        neurons=neurons, stoi_dt=stoi_dt, itos_dt=itos_dt, n_embd_frames=n_embd_frames,\n",
    "                        ignore_index_id=stoi['PAD'], ignore_index_dt=stoi_dt['PAD'])  # 0.35\n",
    "\n",
    "# update_object(model_conf, mconf)\n",
    "model_conf.contrastive_vars = ['id', 'frames']\n",
    "\n",
    "if INFERENCE or MCONF is not None:\n",
    "    update_object(model_conf, mconf)\n",
    "\n",
    "if not INFERENCE:\n",
    "\n",
    "    if BEHAVIOR and not PREDICT_BEHAVIOR:\n",
    "        model_conf.contrastive_vars += ['behavior_mean']\n",
    "        \n",
    "    if PREDICT_BEHAVIOR is True:\n",
    "        print(f\"// Predict behavior: n_behavior_layers = 0 //\")\n",
    "        model_conf.n_behavior_layers = 0\n",
    "\n",
    "    if PAST_STATE is False:\n",
    "        print(f\"// -- No past state, layers=0 -- //\")\n",
    "        model_conf.n_state_history_layers = 0\n",
    "\n",
    "    if CONTRASTIVE is True:\n",
    "        print(f\"// -- contrastive objective -- //\")\n",
    "        model_conf.contrastive = True\n",
    "    else:\n",
    "        print(f\"// -- NOOO cross entropy objective -- //\")\n",
    "        model_conf.contrastive = False\n",
    "\n",
    "    if VISUAL is False:\n",
    "        print(f\"// -- No visual, layers=0 -- //\")\n",
    "        model_conf.n_stimulus_layers = 0\n",
    "\n",
    "    if MCONF is not None:\n",
    "        print(f\"// -- updating model conf -- //\")\n",
    "        update_object(model_conf, mconf)\n",
    "\n",
    "model = GPT(model_conf)\n",
    "\n",
    "if RESUME:\n",
    "    print(f\"// -- Resuming model -- //\")\n",
    "    model.load_state_dict(torch.load(RESUME), strict=True)\n",
    "\n",
    "title =  f'second/RESUME{RESUME != None}_paststate{PAST_STATE}_method_behavior_{behavior}_{behavior_vars}_predictbehavior{PREDICT_BEHAVIOR}_visual{VISUAL}_contrastive{model_conf.contrastive}_{model_conf.contrastive_vars}'\n",
    "# model_path = f\"\"\"./models/tensorboard/visnav_medial/{title}/sparse_f:{mconf.sparse_topk_frame}_id:{mconf.sparse_topk_id}/w:{window}_wp:{window_prev}/{6}_Cont:{mconf.contrastive}_window:{window}_f_window:{frame_window}_df:{dt}_blocksize:{id_block_size}_conv_{conv_layer}_shuffle:{shuffle}_batch:{batch_size}_sparse_({mconf.sparse_topk_frame}_{mconf.sparse_topk_id})_blocksz{block_size}_pos_emb:{mconf.pos_emb}_temp_emb:{mconf.temp_emb}_drop:{mconf.id_drop}_dt:{shuffle}_2.0_{max(stoi_dt.values())}_max{dt}_{layers}_{mconf.n_head}_{mconf.n_embd}.pt\"\"\"\"\n",
    "model_path = f\"\"\"./models/tensorboard/visnav_{DATASET}/behavior_pred_exp/classification/{title}/sparse_f:{mconf.sparse_topk_frame}_id:{mconf.sparse_topk_id}/w:{window}_wp:{window_prev}/{6}_Cont:{mconf.contrastive}_window:{window}_f_window:{frame_window}_df:{dt}_blocksize:{id_block_size}_conv_{conv_layer}_shuffle:{shuffle}_batch:{batch_size}_sparse_({mconf.sparse_topk_frame}_{mconf.sparse_topk_id})_blocksz{block_size}_pos_emb:{mconf.pos_emb}_temp_emb:{mconf.temp_emb}_drop:{mconf.id_drop}_dt:{shuffle}_2.0_{max(stoi_dt.values())}_max{dt}_{layers}_{mconf.n_head}_{mconf.n_embd}.pt\"\"\"\n",
    "\n",
    "# # %%\n",
    "# model.cpu()\n",
    "# preds, features, loss = model(x, y)\n",
    "# for key in loss.keys():\n",
    "#     print(key, loss[key])\n"
   ]
  },
  {
   "cell_type": "code",
   "execution_count": null,
   "metadata": {},
   "outputs": [
    {
     "name": "stdout",
     "output_type": "stream",
     "text": [
      "DIST: False\n",
      "Loading model from ./models/visnav/behavior_pred_exp/classification/window:0.05_prev:0.25/sparse_f:None_id:None/w:0.05_wp:0.25/6_Cont:False_window:0.05_f_window:0.2_df:0.005_blocksize:100_conv_True_shuffle:True_batch:224_sparse_(None_None)_blocksz446_pos_emb:False_temp_emb:True_drop:0.35_dt:True_2.0_52_max0.005_(8, 8, 8)_8_256.pt\n"
     ]
    }
   ],
   "source": [
    "\n",
    "print(F\"DIST: {DIST}\")\n",
    "tconf = TrainerConfig(max_epochs=max_epochs, batch_size=batch_size, learning_rate=2e-4, \n",
    "                    num_workers=4, lr_decay=True, patience=3, warmup_tokens=8e7, \n",
    "                    decay_weights=True, weight_decay=1.0, shuffle=shuffle,\n",
    "                    final_tokens=len(train_dataset)*(id_block_size) * (max_epochs),\n",
    "                    clip_norm=1.0, grad_norm_clip=1.0,\n",
    "                    dataset='higher_order', mode='predict',\n",
    "                    block_size=train_dataset.block_size,\n",
    "                    id_block_size=train_dataset.id_block_size,\n",
    "                    show_grads=False, plot_raster=False,\n",
    "                    ckpt_path=model_path, no_pbar=False, \n",
    "                    dist=DIST, save_every=50)\n",
    "\n",
    "if not INFERENCE:\n",
    "    # trainer = Trainer(model, train_dataset, test_dataset, tconf, model_conf)\n",
    "    # if DOWNSTREAM:\n",
    "    #     mconf.__setattr__('freeze_model', FREEZE_MODEL)\n",
    "    #     trainer.config.__setattr__('warmup_tokens', 100)\n",
    "    #     N_CLASSES = 2\n",
    "    #     classifier = ClassifierWrapper(model, mconf, N_CLASSES)\n",
    "    #     train_model = classifier\n",
    "\n",
    "    # else:\n",
    "    #     train_model = model\n",
    "    train_model = model\n",
    "    trainer = Trainer(train_model, train_dataset, test_dataset, tconf, model_conf)\n",
    "    trainer.train()\n",
    "else:\n",
    "    model_path = glob.glob(os.path.join(base_path, '**.pt'), recursive=True)[0]\n",
    "    print(f\"Loading model from {model_path}\")\n",
    "    model.load_state_dict(torch.load(model_path), strict=True)\n",
    "\n",
    "# loader = DataLoader(train_dataset, batch_size=2, shuffle=False, num_workers=4, pin_memory=True)\n",
    "# iterable = iter(loader)\n",
    "# x, y = next(iterable)\n"
   ]
  },
  {
   "cell_type": "code",
   "execution_count": null,
   "metadata": {},
   "outputs": [],
   "source": [
    "preds, features, loss = model(x, y)"
   ]
  },
  {
   "cell_type": "code",
   "execution_count": null,
   "metadata": {},
   "outputs": [
    {
     "name": "stdout",
     "output_type": "stream",
     "text": [
      "-- Trial: 112 --\n"
     ]
    },
    {
     "name": "stderr",
     "output_type": "stream",
     "text": [
      "len pred: 1121, len true: 2959: 100%|██████████| 238/238 [01:48<00:00,  2.20it/s]\n"
     ]
    },
    {
     "name": "stdout",
     "output_type": "stream",
     "text": [
      "pred: (1115, 5), true: (2959, 2)\n",
      "-- Trial: 92 --\n"
     ]
    },
    {
     "name": "stderr",
     "output_type": "stream",
     "text": [
      "len pred: 432, len true: 1052: 100%|██████████| 84/84 [00:41<00:00,  2.02it/s]\n"
     ]
    },
    {
     "name": "stdout",
     "output_type": "stream",
     "text": [
      "pred: (428, 5), true: (1052, 2)\n",
      "-- No. 0 Trial --\n",
      "-- No. 1 Trial --\n",
      "defaultdict(<class 'list'>, {'precision': 0.00027262813522355503, 'recall': 0.0003816793893129771, 'F1': 0.0003180661577608142})\n",
      "len predL: 1543, len true: 3862\n"
     ]
    }
   ],
   "source": [
    "from neuroformer.utils import predict_raster_recursive_time_auto, process_predictions\n",
    "\n",
    "PARALLEL = False\n",
    "df_pred_path = None\n",
    "\n",
    "results_dict = dict()\n",
    "df_pred = None if df_pred_path is None else pd.read_csv(df_pred_path)\n",
    "df_true = None\n",
    "\n",
    "top_p = 0.75\n",
    "top_p_t = 0.75\n",
    "temp = 1.25\n",
    "temp_t = 1.25\n",
    "\n",
    "test_trials = test_data['Trial'].unique()\n",
    "# pick 8 trials at random from test\n",
    "trials = np.random.choice(test_trials, 2, replace=False)\n",
    "\n",
    "if df_pred_path is None:\n",
    "    from joblib import Parallel, delayed\n",
    "    # Define a function to process each trial\n",
    "    def process_trial(model, train_dataset, df, stoi, itos_dt, itos, window, window_prev, top_p, top_p_t, temp, temp_t, trial):\n",
    "        print(f\"-- Trial: {trial} --\")\n",
    "        df_trial = df[df['Trial'] == trial]\n",
    "        trial_dataset = train_dataset.copy(df_trial)\n",
    "        results_trial = predict_raster_recursive_time_auto(model, trial_dataset, window, window_prev, stoi, itos_dt, itos=itos, \n",
    "                                                        sample=True, top_p=top_p, top_p_t=top_p_t, temp=temp, temp_t=temp_t, \n",
    "                                                        frame_end=0, get_dt=True, gpu=False, pred_dt=True, plot_probs=False)\n",
    "        df_trial_pred, df_trial_true = process_predictions(results_trial, stoi, itos, window)\n",
    "        print(f\"pred: {df_trial_pred.shape}, true: {df_trial_true.shape}\" )\n",
    "        return df_trial_pred, df_trial_true\n",
    "\n",
    "    if PARALLEL:\n",
    "        # Process each trial in parallel\n",
    "        results = Parallel(n_jobs=-1)(delayed(process_trial)(model, train_dataset, df, stoi, itos_dt, \n",
    "                                                            itos, window, window_prev, top_p, top_p_t, \n",
    "                                                            temp, temp_t, trial) for trial in trials)\n",
    "    else:\n",
    "        # Process each trial sequentially\n",
    "        results = []\n",
    "        for trial in trials:\n",
    "            results.append(process_trial(model, train_dataset, df, stoi, itos_dt, \n",
    "                                            itos, window, window_prev, top_p, top_p_t, \n",
    "                                            temp, temp_t, trial))\n",
    "    # Combine the results from each trial\n",
    "    for n, (df_trial_pred, df_trial_true) in enumerate(results):   \n",
    "        print(f\"-- No. {n} Trial --\")\n",
    "        if df_pred is None:\n",
    "            df_pred = df_trial_pred\n",
    "            df_true = df_trial_true\n",
    "        else:\n",
    "            df_pred = pd.concat([df_pred, df_trial_pred])\n",
    "            df_true = pd.concat([df_true, df_trial_true])\n",
    "\n",
    "\n",
    "from neuroformer.analysis import compute_scores\n",
    "df_true = df[df['Trial'].isin(trials)]\n",
    "scores = compute_scores(df_true, df_pred)\n",
    "print(scores)\n",
    "print(f\"len predL: {len(df_pred)}, len true: {len(df_true)}\")\n",
    "\n",
    "dir_name = os.path.dirname(model_path)\n",
    "model_name = os.path.basename(model_path)\n",
    "df_pred.to_csv(os.path.join(dir_name, F'df_pred_.csv'))\n"
   ]
  },
  {
   "cell_type": "code",
   "execution_count": null,
   "metadata": {},
   "outputs": [],
   "source": [
    "from analysis import get_rates_trial, calc_corr_psth\n",
    "\n",
    "df_1 = df[df['Trial'].isin(trials)]\n",
    "df_pred_full = df_pred\n",
    "\n",
    "window_pred = 1\n",
    "window_pred = window if window_pred is None else window_pred\n",
    "df_pred_full = set_intervals(df_pred_full, window, window_prev, window_pred)\n",
    "df_1 = set_intervals(df_1, window, window_prev, window_pred)\n",
    "\n",
    "intervals = np.array(sorted(set(df['Interval'].unique()) & set(df['Interval'].unique())))\n",
    "labels = np.array([round(window_pred + window_pred*n, 2) for n in range(0, int(max(df_pred_full['Interval']) / window_pred))])\n",
    "ids = sorted(set(df['ID'].unique()) & set(df['ID'].unique()))\n",
    "\n",
    "rates_pred = get_rates_trial(df_pred_full, labels)\n",
    "rates_1 = get_rates_trial(df_1, labels)\n",
    "\n",
    "top_corr_pred = calc_corr_psth(rates_pred, rates_1)\n"
   ]
  },
  {
   "cell_type": "code",
   "execution_count": null,
   "metadata": {},
   "outputs": [
    {
     "name": "stdout",
     "output_type": "stream",
     "text": [
      "len_pred: 1543, len_true: 3862\n",
      "pred: defaultdict(<class 'list'>, {'precision': 0.06004687917508124, 'recall': 0.028266964334228546, 'F1': 0.037760645926595254})\n",
      "999\n"
     ]
    },
    {
     "data": {
      "image/png": "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",
      "text/plain": [
       "<Figure size 720x720 with 1 Axes>"
      ]
     },
     "metadata": {},
     "output_type": "display_data"
    },
    {
     "data": {
      "image/png": "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",
      "text/plain": [
       "<Figure size 2160x1440 with 1 Axes>"
      ]
     },
     "metadata": {
      "needs_background": "light"
     },
     "output_type": "display_data"
    },
    {
     "name": "stdout",
     "output_type": "stream",
     "text": [
      "model: first/RESUMETrue_paststateTrue_method_behavior_False_['speed']_predictbehaviorTrue_visualTrue_contrastiveFalse_['id', 'frames']\n"
     ]
    }
   ],
   "source": [
    "\"\"\"\n",
    "\n",
    "Evaluate results\n",
    "\n",
    "\"\"\"\n",
    "\n",
    "from neuroformer.visualize import *\n",
    "from neuroformer.analysis import get_accuracy\n",
    "\n",
    "\n",
    "len_pred, len_true = len(df_pred_full), len(df_1)\n",
    "print(f\"len_pred: {len_pred}, len_true: {len_true}\")\n",
    "\n",
    "accuracy = get_accuracy(df_pred, df_1)\n",
    "pred_scores = compute_scores(df_1, df_pred_full)\n",
    "\n",
    "print(f\"pred: {pred_scores}\")\n",
    "\n",
    "n_bins = 30\n",
    "set_plot_white()\n",
    "plt.figure(figsize=(10, 10), facecolor='white')\n",
    "plt.title(f'PSTH Correlations (V1 + AL) {title}', fontsize=25)\n",
    "plt.ylabel('Count (n)', fontsize=25)\n",
    "plt.xlabel('Pearson r', fontsize=25)\n",
    "# plt.hist(top_corr_real_2, label='real - real3', alpha=0.6)\n",
    "plt.hist(top_corr_pred, label='real - simulated', alpha=0.6, bins=30)\n",
    "plt.legend(fontsize=20)\n",
    "\n",
    "dir_name = os.path.dirname(model_path)\n",
    "model_name = os.path.basename(model_path)\n",
    "\n",
    "top_p = 0\n",
    "save_title = f'_top_p{top_p}'\n",
    "plt.savefig(os.path.join(dir_name, F'psth_corr_{save_title}_.svg'))\n",
    "df_pred.to_csv(os.path.join(dir_name, F'df_pred_{save_title}_.csv'))\n",
    "\n",
    "plot_distribution(df_1, df_pred, save_path=os.path.join(dir_name, F'psth_dist_.svg'))\n",
    "# save scores to json}}\n",
    "with open(os.path.join(dir_name, F'scores_{save_title}_.json'), 'w') as fp:\n",
    "    json.dump(pred_scores, fp)\n",
    "\n",
    "\n",
    "total_scores = dict()\n",
    "total_scores['pred'] = pred_scores\n",
    "\n",
    "print(f\"model: {title}\")\n",
    "\n",
    "\n",
    "\n"
   ]
  },
  {
   "cell_type": "code",
   "execution_count": 39,
   "metadata": {},
   "outputs": [],
   "source": [
    "iterable = iter(test_dataset)\n"
   ]
  },
  {
   "cell_type": "code",
   "execution_count": 45,
   "metadata": {},
   "outputs": [
    {
     "ename": "KeyboardInterrupt",
     "evalue": "",
     "output_type": "error",
     "traceback": [
      "\u001b[0;31m---------------------------------------------------------------------------\u001b[0m",
      "\u001b[0;31mKeyboardInterrupt\u001b[0m                         Traceback (most recent call last)",
      "\u001b[0;32m/tmp/ipykernel_1173381/2685754107.py\u001b[0m in \u001b[0;36m<module>\u001b[0;34m\u001b[0m\n\u001b[1;32m      5\u001b[0m \u001b[0mT\u001b[0m \u001b[0;34m=\u001b[0m \u001b[0mlen\u001b[0m\u001b[0;34m(\u001b[0m\u001b[0mx\u001b[0m\u001b[0;34m[\u001b[0m\u001b[0;34m'id'\u001b[0m\u001b[0;34m]\u001b[0m\u001b[0;34m)\u001b[0m\u001b[0;34m\u001b[0m\u001b[0;34m\u001b[0m\u001b[0m\n\u001b[1;32m      6\u001b[0m \u001b[0mP\u001b[0m \u001b[0;34m=\u001b[0m \u001b[0mx\u001b[0m\u001b[0;34m[\u001b[0m\u001b[0;34m'pad'\u001b[0m\u001b[0;34m]\u001b[0m \u001b[0;34m-\u001b[0m \u001b[0;36m1\u001b[0m\u001b[0;34m\u001b[0m\u001b[0;34m\u001b[0m\u001b[0m\n\u001b[0;32m----> 7\u001b[0;31m \u001b[0mT_prev\u001b[0m \u001b[0;34m=\u001b[0m \u001b[0mlen\u001b[0m\u001b[0;34m(\u001b[0m\u001b[0mx\u001b[0m\u001b[0;34m[\u001b[0m\u001b[0;34m'id_prev'\u001b[0m\u001b[0;34m]\u001b[0m\u001b[0;34m)\u001b[0m\u001b[0;34m\u001b[0m\u001b[0;34m\u001b[0m\u001b[0m\n\u001b[0m\u001b[1;32m      8\u001b[0m \u001b[0mP_prev\u001b[0m \u001b[0;34m=\u001b[0m \u001b[0mx\u001b[0m\u001b[0;34m[\u001b[0m\u001b[0;34m'pad_prev'\u001b[0m\u001b[0;34m]\u001b[0m \u001b[0;34m-\u001b[0m \u001b[0;36m4\u001b[0m\u001b[0;34m\u001b[0m\u001b[0;34m\u001b[0m\u001b[0m\n\u001b[1;32m      9\u001b[0m \u001b[0;34m\u001b[0m\u001b[0m\n",
      "\u001b[0;32m/tmp/ipykernel_1173381/2685754107.py\u001b[0m in \u001b[0;36m<module>\u001b[0;34m\u001b[0m\n\u001b[1;32m      5\u001b[0m \u001b[0mT\u001b[0m \u001b[0;34m=\u001b[0m \u001b[0mlen\u001b[0m\u001b[0;34m(\u001b[0m\u001b[0mx\u001b[0m\u001b[0;34m[\u001b[0m\u001b[0;34m'id'\u001b[0m\u001b[0;34m]\u001b[0m\u001b[0;34m)\u001b[0m\u001b[0;34m\u001b[0m\u001b[0;34m\u001b[0m\u001b[0m\n\u001b[1;32m      6\u001b[0m \u001b[0mP\u001b[0m \u001b[0;34m=\u001b[0m \u001b[0mx\u001b[0m\u001b[0;34m[\u001b[0m\u001b[0;34m'pad'\u001b[0m\u001b[0;34m]\u001b[0m \u001b[0;34m-\u001b[0m \u001b[0;36m1\u001b[0m\u001b[0;34m\u001b[0m\u001b[0;34m\u001b[0m\u001b[0m\n\u001b[0;32m----> 7\u001b[0;31m \u001b[0mT_prev\u001b[0m \u001b[0;34m=\u001b[0m \u001b[0mlen\u001b[0m\u001b[0;34m(\u001b[0m\u001b[0mx\u001b[0m\u001b[0;34m[\u001b[0m\u001b[0;34m'id_prev'\u001b[0m\u001b[0;34m]\u001b[0m\u001b[0;34m)\u001b[0m\u001b[0;34m\u001b[0m\u001b[0;34m\u001b[0m\u001b[0m\n\u001b[0m\u001b[1;32m      8\u001b[0m \u001b[0mP_prev\u001b[0m \u001b[0;34m=\u001b[0m \u001b[0mx\u001b[0m\u001b[0;34m[\u001b[0m\u001b[0;34m'pad_prev'\u001b[0m\u001b[0;34m]\u001b[0m \u001b[0;34m-\u001b[0m \u001b[0;36m4\u001b[0m\u001b[0;34m\u001b[0m\u001b[0;34m\u001b[0m\u001b[0m\n\u001b[1;32m      9\u001b[0m \u001b[0;34m\u001b[0m\u001b[0m\n",
      "\u001b[0;32m_pydevd_bundle/pydevd_cython.pyx\u001b[0m in \u001b[0;36m_pydevd_bundle.pydevd_cython.SafeCallWrapper.__call__\u001b[0;34m()\u001b[0m\n",
      "\u001b[0;32m_pydevd_bundle/pydevd_cython.pyx\u001b[0m in \u001b[0;36m_pydevd_bundle.pydevd_cython.PyDBFrame.trace_dispatch\u001b[0;34m()\u001b[0m\n",
      "\u001b[0;32m_pydevd_bundle/pydevd_cython.pyx\u001b[0m in \u001b[0;36m_pydevd_bundle.pydevd_cython.PyDBFrame.trace_dispatch\u001b[0;34m()\u001b[0m\n",
      "\u001b[0;32m_pydevd_bundle/pydevd_cython.pyx\u001b[0m in \u001b[0;36m_pydevd_bundle.pydevd_cython.PyDBFrame.trace_dispatch\u001b[0;34m()\u001b[0m\n",
      "\u001b[0;32m_pydevd_bundle/pydevd_cython.pyx\u001b[0m in \u001b[0;36m_pydevd_bundle.pydevd_cython.PyDBFrame.do_wait_suspend\u001b[0;34m()\u001b[0m\n",
      "\u001b[0;32m~/.conda/envs/neuroformer/lib/python3.9/site-packages/debugpy/_vendored/pydevd/pydevd.py\u001b[0m in \u001b[0;36mdo_wait_suspend\u001b[0;34m(self, thread, frame, event, arg, exception_type)\u001b[0m\n\u001b[1;32m   1947\u001b[0m \u001b[0;34m\u001b[0m\u001b[0m\n\u001b[1;32m   1948\u001b[0m             \u001b[0;32mwith\u001b[0m \u001b[0mself\u001b[0m\u001b[0;34m.\u001b[0m\u001b[0m_threads_suspended_single_notification\u001b[0m\u001b[0;34m.\u001b[0m\u001b[0mnotify_thread_suspended\u001b[0m\u001b[0;34m(\u001b[0m\u001b[0mthread_id\u001b[0m\u001b[0;34m,\u001b[0m \u001b[0mstop_reason\u001b[0m\u001b[0;34m)\u001b[0m\u001b[0;34m:\u001b[0m\u001b[0;34m\u001b[0m\u001b[0;34m\u001b[0m\u001b[0m\n\u001b[0;32m-> 1949\u001b[0;31m                 \u001b[0mkeep_suspended\u001b[0m \u001b[0;34m=\u001b[0m \u001b[0mself\u001b[0m\u001b[0;34m.\u001b[0m\u001b[0m_do_wait_suspend\u001b[0m\u001b[0;34m(\u001b[0m\u001b[0mthread\u001b[0m\u001b[0;34m,\u001b[0m \u001b[0mframe\u001b[0m\u001b[0;34m,\u001b[0m \u001b[0mevent\u001b[0m\u001b[0;34m,\u001b[0m \u001b[0marg\u001b[0m\u001b[0;34m,\u001b[0m \u001b[0msuspend_type\u001b[0m\u001b[0;34m,\u001b[0m \u001b[0mfrom_this_thread\u001b[0m\u001b[0;34m,\u001b[0m \u001b[0mframes_tracker\u001b[0m\u001b[0;34m)\u001b[0m\u001b[0;34m\u001b[0m\u001b[0;34m\u001b[0m\u001b[0m\n\u001b[0m\u001b[1;32m   1950\u001b[0m \u001b[0;34m\u001b[0m\u001b[0m\n\u001b[1;32m   1951\u001b[0m         \u001b[0mframes_list\u001b[0m \u001b[0;34m=\u001b[0m \u001b[0;32mNone\u001b[0m\u001b[0;34m\u001b[0m\u001b[0;34m\u001b[0m\u001b[0m\n",
      "\u001b[0;32m~/.conda/envs/neuroformer/lib/python3.9/site-packages/debugpy/_vendored/pydevd/pydevd.py\u001b[0m in \u001b[0;36m_do_wait_suspend\u001b[0;34m(self, thread, frame, event, arg, suspend_type, from_this_thread, frames_tracker)\u001b[0m\n\u001b[1;32m   1982\u001b[0m \u001b[0;34m\u001b[0m\u001b[0m\n\u001b[1;32m   1983\u001b[0m             \u001b[0mself\u001b[0m\u001b[0;34m.\u001b[0m\u001b[0mprocess_internal_commands\u001b[0m\u001b[0;34m(\u001b[0m\u001b[0;34m)\u001b[0m\u001b[0;34m\u001b[0m\u001b[0;34m\u001b[0m\u001b[0m\n\u001b[0;32m-> 1984\u001b[0;31m             \u001b[0mtime\u001b[0m\u001b[0;34m.\u001b[0m\u001b[0msleep\u001b[0m\u001b[0;34m(\u001b[0m\u001b[0;36m0.01\u001b[0m\u001b[0;34m)\u001b[0m\u001b[0;34m\u001b[0m\u001b[0;34m\u001b[0m\u001b[0m\n\u001b[0m\u001b[1;32m   1985\u001b[0m \u001b[0;34m\u001b[0m\u001b[0m\n\u001b[1;32m   1986\u001b[0m         \u001b[0mself\u001b[0m\u001b[0;34m.\u001b[0m\u001b[0mcancel_async_evaluation\u001b[0m\u001b[0;34m(\u001b[0m\u001b[0mget_current_thread_id\u001b[0m\u001b[0;34m(\u001b[0m\u001b[0mthread\u001b[0m\u001b[0;34m)\u001b[0m\u001b[0;34m,\u001b[0m \u001b[0mstr\u001b[0m\u001b[0;34m(\u001b[0m\u001b[0mid\u001b[0m\u001b[0;34m(\u001b[0m\u001b[0mframe\u001b[0m\u001b[0;34m)\u001b[0m\u001b[0;34m)\u001b[0m\u001b[0;34m)\u001b[0m\u001b[0;34m\u001b[0m\u001b[0;34m\u001b[0m\u001b[0m\n",
      "\u001b[0;31mKeyboardInterrupt\u001b[0m: "
     ]
    }
   ],
   "source": [
    "# while x['trial'] < 2:\n",
    "\n",
    "x, y = next(iterable)\n",
    "\n",
    "T = len(x['id'])\n",
    "P = x['pad'] - 1\n",
    "T_prev = len(x['id_prev'])\n",
    "P_prev = x['pad_prev'] - 4\n",
    "\n",
    "iv = float(x['interval'])\n",
    "\n",
    "xid = x['id'][: T - P]\n",
    "xid = [itos[int(i)] for i in xid]\n",
    "\n",
    "xid_prev = x['id_prev'][: T_prev - P_prev]\n",
    "xid_prev = [itos[int(i)] for i in xid_prev]\n",
    "\n",
    "print(f\"iv: {iv}, ix+window: {iv + window} pid: {x['pid']} cid: {x['cid']}\")\n",
    "print(f\"x: {xid}\")\n",
    "print(f\"xid_prev: {xid_prev}\")\n",
    "\n",
    "if 'behavior' in y:\n",
    "    t_var = 'Interval' # 'Interval'\n",
    "    tdiff = 0\n",
    "    int_var = 'cid'\n",
    "    y_behavior = y['behavior']\n",
    "    y_behavior = [itos_speed[int(i)] for i in y_behavior]\n",
    "    print(f\"y_behavior: {y_behavior}\")\n",
    "    true_behavior = print(df_behavior[(df_behavior[t_var] > round(float(x[int_var][0]), 2) - tdiff) & (df_behavior[t_var] <= round(float(x[int_var][1]), 2)) & (df_behavior['Trial'] == int(x['trial']))])\n",
    "    print(f\"true_behavior: {true_behavior}\")\n",
    "\n",
    "tdiff = 0\n",
    "t_var = 'Time' # 'Interval'\n",
    "int_var = 'cid'\n",
    "# df[(df[t_var] >= iv - tdiff) & (df[t_var] <= iv + (window + tdiff)) & (df['Trial'] == int(x['trial']))]\n",
    "# df[(df[t_var] >= float(x[int_var][0]) - tdiff) & (df[t_var] <= float(x[int_var][1] + tdiff)) & (df['Trial'] == int(x['trial']))]\n",
    "df[(df[t_var] > float(x[int_var][0]) - tdiff) & (df[t_var] <= float(x['cid'][1] + tdiff)) & (df['Trial'] == int(x['trial']))]\n",
    "\n",
    "t_var = 'Time' # 'Interval'\n",
    "int_var = 'cid'\n",
    "df[(df[t_var] > round(float(x[int_var][0]), 2) - tdiff) & (df[t_var] <= round(float(x[int_var][1]), 2)) & (df['Trial'] == int(x['trial']))]\n",
    "\n",
    "# print(x['behavior'])\n"
   ]
  },
  {
   "cell_type": "code",
   "execution_count": null,
   "metadata": {},
   "outputs": [],
   "source": []
  }
 ],
 "metadata": {
  "kernelspec": {
   "display_name": "neuroformer",
   "language": "python",
   "name": "python3"
  },
  "language_info": {
   "codemirror_mode": {
    "name": "ipython",
    "version": 3
   },
   "file_extension": ".py",
   "mimetype": "text/x-python",
   "name": "python",
   "nbconvert_exporter": "python",
   "pygments_lexer": "ipython3",
   "version": "3.9.15"
  },
  "orig_nbformat": 4
 },
 "nbformat": 4,
 "nbformat_minor": 2
}
